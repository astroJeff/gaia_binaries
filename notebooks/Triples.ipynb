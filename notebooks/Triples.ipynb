{
 "cells": [
  {
   "cell_type": "markdown",
   "metadata": {},
   "source": [
    "# Triples (or higher order) systems in each samples"
   ]
  },
  {
   "cell_type": "code",
   "execution_count": 1,
   "metadata": {
    "collapsed": false
   },
   "outputs": [],
   "source": [
    "import sys\n",
    "sys.path.append('../src')\n",
    "import P_binary\n",
    "import P_random\n",
    "import P_posterior\n",
    "import const as c\n",
    "import time\n",
    "import numpy as np\n",
    "import matplotlib.pyplot as plt\n",
    "from astropy.table import Table\n",
    "import corner\n",
    "import pickle\n",
    "\n",
    "\n",
    "%matplotlib inline"
   ]
  },
  {
   "cell_type": "markdown",
   "metadata": {},
   "source": [
    "### First, NLTT matches"
   ]
  },
  {
   "cell_type": "code",
   "execution_count": 2,
   "metadata": {
    "collapsed": false
   },
   "outputs": [
    {
     "name": "stdout",
     "output_type": "stream",
     "text": [
      "[('NLTT', '<i8'), ('ra', '<f8'), ('dec', '<f8'), ('mu_ra', '<f8'), ('mu_dec', '<f8'), ('mu_ra_err', '<f8'), ('mu_dec_err', '<f8'), ('HIP', '<i8'), ('V', '<f8'), ('B', '<f8'), ('R', '<f8'), ('J', '<f8'), ('H', '<f8'), ('K', '<f8')]\n"
     ]
    }
   ],
   "source": [
    "# Full NLTT Catalog\n",
    "filename = ('../data/rNLTT/catalog_tabs.dat')\n",
    "t_full = Table.read(filename, format='ascii', guess=True)\n",
    "\n",
    "# Change proper motion units from asec/yr to mas/yr\n",
    "t_full['mu_ra'] = 1.0e3*t_full['mu_ra']\n",
    "t_full['mu_dec'] = 1.0e3*t_full['mu_dec']\n",
    "t_full['mu_ra_err'] = 1.0e3*t_full['mu_ra_err']\n",
    "t_full['mu_dec_err'] = 1.0e3*t_full['mu_dec_err']\n",
    "\n",
    "# Select only stars with proper motion uncertainties greater than 0.1 mas/yr - remove junk\n",
    "ids_good = np.intersect1d(np.where(t_full['mu_ra_err'] >= 0.1), np.where(t_full['mu_dec_err'] >= 0.1))\n",
    "t = t_full[ids_good]\n",
    "print t.dtype"
   ]
  },
  {
   "cell_type": "code",
   "execution_count": 3,
   "metadata": {
    "collapsed": false
   },
   "outputs": [
    {
     "name": "stdout",
     "output_type": "stream",
     "text": [
      "[('i_1', '<i4'), ('i_2', '<i4'), ('ID_1', '<i4'), ('ID_2', '<i4'), ('P_random', '<f8'), ('P_binary', '<f8'), ('P_posterior', '<f8')]\n"
     ]
    }
   ],
   "source": [
    "# Now read in matched pairs\n",
    "NLTT_prob = pickle.load( open(\"../data/rNLTT/prob_out.data\", \"rb\"))\n",
    "print NLTT_prob.dtype"
   ]
  },
  {
   "cell_type": "markdown",
   "metadata": {
    "collapsed": true
   },
   "source": [
    "### TGAS matches"
   ]
  },
  {
   "cell_type": "code",
   "execution_count": 4,
   "metadata": {
    "collapsed": false
   },
   "outputs": [
    {
     "name": "stdout",
     "output_type": "stream",
     "text": [
      "../data/TGAS/TgasSource_000-000-000.csv\n"
     ]
    }
   ],
   "source": [
    "# Read in sample from TGAS table\n",
    "dtype = [('ID','<i8'),('tyc','S11'),('hip','<i8'),('ra','<f8'),('dec','<f8'),('mu_ra','<f8'),('mu_dec','<f8'), \\\n",
    "     ('mu_ra_err','<f8'),('mu_dec_err','<f8'),('plx','<f8'),('plx_err','<f8')]\n",
    "\n",
    "tgas_full = np.array([], dtype=dtype)\n",
    "\n",
    "for i in np.arange(1):\n",
    "    if i < 10:\n",
    "        filename = ('../data/TGAS/TgasSource_000-000-00' + str(i) + '.csv')\n",
    "    else:\n",
    "        filename = ('../data/TGAS/TgasSource_000-000-0' + str(i) + '.csv')\n",
    "\n",
    "    print filename\n",
    "    tgas_tmp = Table.read(filename, format='csv', guess=True)\n",
    "    \n",
    "    \n",
    "\n",
    "    tgas = np.zeros(len(tgas_tmp), dtype=dtype)\n",
    "\n",
    "    tgas['ID'] = tgas_tmp['source_id']\n",
    "    tgas['tyc'] = tgas_tmp['tycho2_id']\n",
    "    tgas['hip'] = tgas_tmp['hip']\n",
    "    tgas['ra'] = tgas_tmp['ra']\n",
    "    tgas['dec'] = tgas_tmp['dec']\n",
    "    tgas['mu_ra'] = tgas_tmp['pmra']\n",
    "    tgas['mu_ra_err'] = tgas_tmp['pmra_error']\n",
    "    tgas['mu_dec'] = tgas_tmp['pmdec']\n",
    "    tgas['mu_dec_err'] = tgas_tmp['pmdec_error']\n",
    "    tgas['plx'] = tgas_tmp['parallax']\n",
    "    tgas['plx_err'] = tgas_tmp['parallax_error']\n",
    "\n",
    "    tgas_full = np.append(tgas_full, tgas)\n",
    "\n"
   ]
  },
  {
   "cell_type": "code",
   "execution_count": 5,
   "metadata": {
    "collapsed": false
   },
   "outputs": [
    {
     "name": "stdout",
     "output_type": "stream",
     "text": [
      "134865\n"
     ]
    }
   ],
   "source": [
    "idx_max = len(tgas_full)\n",
    "print idx_max"
   ]
  },
  {
   "cell_type": "code",
   "execution_count": 6,
   "metadata": {
    "collapsed": false
   },
   "outputs": [
    {
     "name": "stdout",
     "output_type": "stream",
     "text": [
      "[('i_1', '<i4'), ('i_2', '<i4'), ('ID_1', '<i4'), ('ID_2', '<i4'), ('P_random', '<f8'), ('P_binary', '<f8'), ('P_posterior', '<f8'), ('theta', '<f8'), ('mu_ra_1', '<f8'), ('mu_dec_1', '<f8'), ('mu_ra_2', '<f8'), ('mu_dec_2', '<f8'), ('plx_1', '<f8'), ('plx_2', '<f8')]\n",
      "2570\n"
     ]
    }
   ],
   "source": [
    "TGAS_prob = pickle.load( open(\"../data/TGAS/TGAS_match_1.p\", \"rb\"))\n",
    "print TGAS_prob.dtype\n",
    "print len(TGAS_prob)"
   ]
  },
  {
   "cell_type": "code",
   "execution_count": 7,
   "metadata": {
    "collapsed": false
   },
   "outputs": [
    {
     "name": "stdout",
     "output_type": "stream",
     "text": [
      "[ (35, 36, 240384, 239616, 1.039850445142101e-14, 0.001913309014934047, 0.9999999910093657, 0.027578937746490933, -45.76365680943734, -46.76110081818987, -46.19526134370247, -47.02319502745229, 7.446147291703792, 7.380755126195536)\n",
      " (59, 60, 116096, 115712, 5.295377167363056e-09, 4.748592669467103e-18, 1.3665046983647355e-15, 0.07598713277074795, 10.81026248051149, 0.8928437516319168, 13.442826338873022, -3.4436208395439167, 3.2168613633458185, 1.7809301030231435)]\n"
     ]
    }
   ],
   "source": [
    "print TGAS_prob[0:2]"
   ]
  },
  {
   "cell_type": "code",
   "execution_count": 11,
   "metadata": {
    "collapsed": false
   },
   "outputs": [],
   "source": [
    "def find_multiples(catalog):\n",
    "    \n",
    "    triple_pairs, quad_pairs, quint_pairs = match_multiple_IDs(catalog)\n",
    "    \n",
    "    triple_angles = get_triple_angles(triple_pairs)\n",
    "    \n",
    "    return triple_pairs, triple_angles, quad_pairs, quint_pairs\n",
    "    \n",
    "    \n",
    "    \n",
    "def match_multiple_IDs(catalog):\n",
    "\n",
    "    dtype_3 = ([('i_1', 'i8'), ('i_2', 'i8'), ('i_3', 'i8')])\n",
    "    dtype_4 = ([('i_1', 'i8'), ('i_2', 'i8'), ('i_3', 'i8'), ('i_4', 'i8')])\n",
    "    dtype_5 = ([('i_1', 'i8'), ('i_2', 'i8'), ('i_3', 'i8'), ('i_4', 'i8'), ('i_5', 'i8')])\n",
    "    triple_pairs = np.array([], dtype=dtype_3)\n",
    "    quad_pairs = np.array([], dtype=dtype_4)\n",
    "    quint_pairs = np.array([], dtype=dtype_5)\n",
    "    \n",
    "    N_triple = 0\n",
    "    for i in np.arange(len(catalog)-1):\n",
    "        \n",
    "        \n",
    "        # Make sure we don't go beyond the bounds of the subset of the TGAS catalog we are testing\n",
    "        if catalog['i_1'][i] > idx_max or catalog['i_2'][i] > idx_max: continue\n",
    "            \n",
    "        # Only select pairs with a posterior probability above 50%\n",
    "        if catalog['P_posterior'][i] < 0.5: continue\n",
    "            \n",
    "        # Check to make sure entry has not already been identified as part of a multiple system\n",
    "        matched = False\n",
    "        for pair in triple_pairs:\n",
    "            if np.any(pair['i_1'] == catalog['i_1'][i]) or \\\n",
    "               np.any(pair['i_2'] == catalog['i_1'][i]) or \\\n",
    "               np.any(pair['i_3'] == catalog['i_1'][i]):\n",
    "                matched = True\n",
    "        for pair in quad_pairs: \n",
    "            if np.any(pair['i_1'] == catalog['i_1'][i]) or \\\n",
    "               np.any(pair['i_2'] == catalog['i_1'][i]) or \\\n",
    "               np.any(pair['i_3'] == catalog['i_1'][i]) or \\\n",
    "               np.any(pair['i_4'] == catalog['i_1'][i]):\n",
    "                matched = True\n",
    "        for pair in quint_pairs: \n",
    "            if np.any(pair['i_1'] == catalog['i_1'][i]) or \\\n",
    "               np.any(pair['i_2'] == catalog['i_1'][i]) or \\\n",
    "               np.any(pair['i_3'] == catalog['i_1'][i]) or \\\n",
    "               np.any(pair['i_4'] == catalog['i_1'][i]) or \\\n",
    "               np.any(pair['i_5'] == catalog['i_1'][i]):\n",
    "                matched = True\n",
    "        if matched: continue\n",
    "            \n",
    "            \n",
    "        \n",
    "        # Look for matching indices\n",
    "        i2 = np.arange(len(catalog) - i - 1) + i + 1\n",
    "        idx = np.array([], dtype='i8')\n",
    "        for j in i2:\n",
    "            \n",
    "            \n",
    "            # Make sure we don't go beyond the bounds of the subset of the TGAS catalog we are testing\n",
    "            if catalog['i_1'][j] > idx_max or catalog['i_2'][j] > idx_max: continue\n",
    "\n",
    "            # Only select pairs with a posterior probability above 50%\n",
    "            if catalog['P_posterior'][j] < 0.5: continue\n",
    "\n",
    "            if catalog['i_1'][j] == catalog['i_1'][i] \\\n",
    "               or catalog['i_1'][j] == catalog['i_2'][i] \\\n",
    "               or catalog['i_2'][j] == catalog['i_1'][i] \\\n",
    "               or catalog['i_2'][j] == catalog['i_2'][i]:\n",
    "                    \n",
    "                        \n",
    "                # Default is to add the entry\n",
    "                match_1 = True\n",
    "                match_2 = True\n",
    "\n",
    "            \n",
    "                if not np.any(idx == catalog['i_1'][i]): idx = np.append(idx, catalog['i_1'][i])\n",
    "                if not np.any(idx == catalog['i_2'][i]): idx = np.append(idx, catalog['i_2'][i])\n",
    "                if not np.any(idx == catalog['i_1'][j]): idx = np.append(idx, catalog['i_1'][j])\n",
    "                if not np.any(idx == catalog['i_2'][j]): idx = np.append(idx, catalog['i_2'][j])\n",
    "                \n",
    "                \n",
    "        if len(idx) == 3:\n",
    "            triple_pairs = np.append(triple_pairs, np.array([(idx[0], idx[1], idx[2])], dtype=dtype_3))\n",
    "                \n",
    "        if len(idx) == 4:\n",
    "            quad_pairs = np.append(quad_pairs, np.array([(idx[0], idx[1], idx[2], idx[3])], dtype=dtype_4))\n",
    "\n",
    "        if len(idx) == 5:\n",
    "            quint_pairs = np.append(quint_pairs, np.array([(idx[0], idx[1], idx[2], idx[3], idx[4])], dtype=dtype_5))\n",
    "\n",
    "            \n",
    "\n",
    "                \n",
    "#                 if triple_pairs.size != 0:\n",
    "                    \n",
    "#                     # Add entry for first match\n",
    "#                     for k in np.arange(len(triple_pairs)):\n",
    "#                         ra1_a = t['ra'][np.where(t['NLTT'] == triple_pairs['ID_1'][k])][0]\n",
    "#                         ra2_a = t['ra'][np.where(t['NLTT'] == triple_pairs['ID_2'][k])][0]\n",
    "#                         ra1_b = t['ra'][np.where(t['NLTT'] == catalog['ID_1'][i])][0]\n",
    "#                         ra2_b = t['ra'][np.where(t['NLTT'] == catalog['ID_2'][i])][0]\n",
    "#                         if ra1_a == ra1_b and ra2_a == ra2_b: match_1 = False\n",
    "\n",
    "\n",
    "\n",
    "#                     # Add entry for second match\n",
    "#                     for k in np.arange(len(triple_pairs)):\n",
    "#                         ra1_a = t['ra'][np.where(t['NLTT'] == triple_pairs['ID_1'][k])][0]\n",
    "#                         ra2_a = t['ra'][np.where(t['NLTT'] == triple_pairs['ID_2'][k])][0]\n",
    "#                         ra1_b = t['ra'][np.where(t['NLTT'] == catalog['ID_1'][j])][0]\n",
    "#                         ra2_b = t['ra'][np.where(t['NLTT'] == catalog['ID_2'][j])][0]\n",
    "#                         if ra1_a == ra1_b and ra2_a == ra2_b: match_2 = False\n",
    "\n",
    "\n",
    "\n",
    "#                 # Add entry for first match\n",
    "#                 if match_1 == True:\n",
    "#                     id1 = np.where(t['NLTT'] == catalog['ID_1'][i])[0]\n",
    "#                     id2 = np.where(t['NLTT'] == catalog['ID_2'][i])[0]\n",
    "#                     theta = P_random.get_theta_proj_degree(t['ra'][id1], t['dec'][id1], t['ra'][id2], t['dec'][id2])[0]\n",
    "#                     print id1, id2, catalog['ID_1'][i], catalog['ID_1'][j], theta\n",
    "#                     match = np.zeros(1, dtype=dtype)\n",
    "#                     match[0] = catalog['ID_1'][i], catalog['ID_2'][i], theta\n",
    "#                     triple_pairs = np.append(triple_pairs, match)\n",
    "                    \n",
    "#                 # Add entry for second match\n",
    "#                 if match_2 == True:\n",
    "#                     id1 = np.where(t['NLTT'] == catalog['ID_1'][j])[0][0]\n",
    "#                     id2 = np.where(t['NLTT'] == catalog['ID_2'][j])[0][0]\n",
    "#                     theta = P_random.get_theta_proj_degree(t['ra'][id1], t['dec'][id1], t['ra'][id2], t['dec'][id2])\n",
    "#                     match = np.zeros(1, dtype=dtype)\n",
    "#                     match[0] = catalog['ID_1'][j], catalog['ID_2'][j], theta\n",
    "#                     triple_pairs = np.append(triple_pairs, match)\n",
    "\n",
    "\n",
    "\n",
    "\n",
    "    return triple_pairs, quad_pairs, quint_pairs\n",
    "\n",
    "\n",
    "\n",
    "def get_triple_angles(triple_pairs):\n",
    "    \n",
    "    dtype_angle_3 = ([('theta_1', 'f8'), ('theta_2', 'f8'), ('theta_3', 'f8')])\n",
    "    triple_angles = np.array([], dtype=dtype_angle_3)\n",
    "    \n",
    "    for idx in triple_pairs:\n",
    "        \n",
    "        angle1 = 3600.0 * P_random.get_theta_proj_degree(tgas_full[idx[0]]['ra'], tgas_full[idx[0]]['dec'], \n",
    "                                                         tgas_full[idx[1]]['ra'], tgas_full[idx[1]]['dec'])\n",
    "        angle2 = 3600.0 * P_random.get_theta_proj_degree(tgas_full[idx[0]]['ra'], tgas_full[idx[0]]['dec'], \n",
    "                                                         tgas_full[idx[2]]['ra'], tgas_full[idx[2]]['dec'])\n",
    "        angle3 = 3600.0 * P_random.get_theta_proj_degree(tgas_full[idx[1]]['ra'], tgas_full[idx[1]]['dec'], \n",
    "                                                         tgas_full[idx[2]]['ra'], tgas_full[idx[2]]['dec'])\n",
    "        \n",
    "        triple_angles = np.append(triple_angles, np.array([(angle1, angle2, angle3)], dtype=dtype_angle_3))\n",
    "        \n",
    "        \n",
    "    return triple_angles"
   ]
  },
  {
   "cell_type": "code",
   "execution_count": 12,
   "metadata": {
    "collapsed": false,
    "scrolled": true
   },
   "outputs": [],
   "source": [
    "triple_pairs, triple_angles, quad_pairs, quint_pairs = find_multiples(TGAS_prob)"
   ]
  },
  {
   "cell_type": "code",
   "execution_count": 10,
   "metadata": {
    "collapsed": false
   },
   "outputs": [
    {
     "data": {
      "image/png": "[encoded data removed]",
      "text/plain": [
       "<matplotlib.figure.Figure at 0x7ff8cf91b290>"
      ]
     },
     "metadata": {},
     "output_type": "display_data"
    }
   ],
   "source": [
    "angle_min = np.zeros(len(triple_angles))\n",
    "angle_max = np.zeros(len(triple_angles))\n",
    "\n",
    "for i, angle in zip(np.arange(len(triple_angles)), triple_angles):\n",
    "    angle_min[i] = np.min([angle['theta_1'], angle['theta_2'], angle['theta_3']])\n",
    "    angle_max[i] = np.max([angle['theta_1'], angle['theta_2'], angle['theta_3']])\n",
    "\n",
    "    \n",
    "plt.scatter(angle_max, angle_min)\n",
    "\n",
    "plt.xlim(0.0, 1400)\n",
    "plt.ylim(0.0, 1400)\n",
    "\n",
    "plt.show()"
   ]
  },
  {
   "cell_type": "code",
   "execution_count": 14,
   "metadata": {
    "collapsed": false
   },
   "outputs": [
    {
     "name": "stdout",
     "output_type": "stream",
     "text": [
      "[(4864, 4865, 4866) (8411, 8448, 8449) (8446, 8447, 8452)\n",
      " (8856, 8862, 9547) (9207, 9208, 9240) (9222, 9534, 9535)\n",
      " (9543, 9551, 9553) (9555, 9557, 9560) (22671, 22673, 22674)\n",
      " (32194, 32196, 32195) (38729, 38782, 38783) (49884, 49885, 49886)]\n",
      "\n",
      "[(8388, 8389, 8390, 8391) (8402, 8403, 8406, 8409) (8450, 8838, 8839, 8841)\n",
      " (8454, 8841, 8838, 8839) (8789, 8790, 8843, 8844)]\n",
      "\n",
      "[(8421, 8422, 8444, 8455, 8423)]\n"
     ]
    }
   ],
   "source": [
    "print triple_pairs\n",
    "print\n",
    "print quad_pairs\n",
    "print\n",
    "print quint_pairs"
   ]
  },
  {
   "cell_type": "code",
   "execution_count": null,
   "metadata": {
    "collapsed": true
   },
   "outputs": [],
   "source": []
  }
 ],
 "metadata": {
  "kernelspec": {
   "display_name": "Python 2",
   "language": "python",
   "name": "python2"
  },
  "language_info": {
   "codemirror_mode": {
    "name": "ipython",
    "version": 2
   },
   "file_extension": ".py",
   "mimetype": "text/x-python",
   "name": "python",
   "nbconvert_exporter": "python",
   "pygments_lexer": "ipython2",
   "version": "2.7.10"
  }
 },
 "nbformat": 4,
 "nbformat_minor": 0
}
