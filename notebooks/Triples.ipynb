{
 "cells": [
  {
   "cell_type": "markdown",
   "metadata": {},
   "source": [
    "# Triples (or higher order) systems in each samples"
   ]
  },
  {
   "cell_type": "code",
   "execution_count": 1,
   "metadata": {
    "collapsed": false
   },
   "outputs": [
    {
     "name": "stderr",
     "output_type": "stream",
     "text": [
      "/Library/Python/2.7/site-packages/IPython/kernel/__init__.py:13: ShimWarning: The `IPython.kernel` package has been deprecated. You should import from ipykernel or jupyter_client instead.\n",
      "  \"You should import from ipykernel or jupyter_client instead.\", ShimWarning)\n"
     ]
    }
   ],
   "source": [
    "import sys\n",
    "sys.path.append('../src')\n",
    "import P_binary\n",
    "import P_random\n",
    "import P_posterior\n",
    "import const as c\n",
    "import time\n",
    "import numpy as np\n",
    "import matplotlib.pyplot as plt\n",
    "from astropy.table import Table\n",
    "import corner\n",
    "import pickle\n",
    "\n",
    "\n",
    "%matplotlib inline"
   ]
  },
  {
   "cell_type": "markdown",
   "metadata": {},
   "source": [
    "### First, NLTT matches"
   ]
  },
  {
   "cell_type": "code",
   "execution_count": 16,
   "metadata": {
    "collapsed": false
   },
   "outputs": [
    {
     "name": "stdout",
     "output_type": "stream",
     "text": [
      "[('NLTT', '<i8'), ('ra', '<f8'), ('dec', '<f8'), ('mu_ra', '<f8'), ('mu_dec', '<f8'), ('mu_ra_err', '<f8'), ('mu_dec_err', '<f8'), ('V', '<f8'), ('B', '<f8'), ('R', '<f8'), ('J', '<f8'), ('H', '<f8'), ('K', '<f8')]\n"
     ]
    }
   ],
   "source": [
    "# Full NLTT Catalog\n",
    "filename = ('../data/rNLTT/catalog_tabs.dat')\n",
    "t_full = Table.read(filename, format='ascii', guess=True)\n",
    "\n",
    "# Change proper motion units from asec/yr to mas/yr\n",
    "t_full['mu_ra'] = 1.0e3*t_full['mu_ra']\n",
    "t_full['mu_dec'] = 1.0e3*t_full['mu_dec']\n",
    "t_full['mu_ra_err'] = 1.0e3*t_full['mu_ra_err']\n",
    "t_full['mu_dec_err'] = 1.0e3*t_full['mu_dec_err']\n",
    "\n",
    "# Select only stars with proper motion uncertainties greater than 0.1 mas/yr - remove junk\n",
    "ids_good = np.intersect1d(np.where(t_full['mu_ra_err'] >= 0.1), np.where(t_full['mu_dec_err'] >= 0.1))\n",
    "t = t_full[ids_good]\n",
    "print t.dtype"
   ]
  },
  {
   "cell_type": "code",
   "execution_count": 5,
   "metadata": {
    "collapsed": false
   },
   "outputs": [
    {
     "name": "stdout",
     "output_type": "stream",
     "text": [
      "[('i_1', '<i4'), ('i_2', '<i4'), ('ID_1', '<i4'), ('ID_2', '<i4'), ('P_random', '<f8'), ('P_binary', '<f8'), ('P_posterior', '<f8')]\n"
     ]
    }
   ],
   "source": [
    "# Now read in matched pairs\n",
    "NLTT_prob = pickle.load( open(\"../data/rNLTT/prob_out.data\", \"rb\"))\n",
    "print NLTT_prob.dtype"
   ]
  },
  {
   "cell_type": "code",
   "execution_count": null,
   "metadata": {
    "collapsed": true
   },
   "outputs": [],
   "source": []
  },
  {
   "cell_type": "code",
   "execution_count": null,
   "metadata": {
    "collapsed": true
   },
   "outputs": [],
   "source": []
  },
  {
   "cell_type": "code",
   "execution_count": 90,
   "metadata": {
    "collapsed": false
   },
   "outputs": [],
   "source": [
    "def find_triples(catalog):\n",
    "    \n",
    "    triple_pairs = match_triple_pairs(catalog)\n",
    "    \n",
    "    print \"\"\n",
    "    print triple_pairs\n",
    "    \n",
    "def match_triple_pairs(catalog):\n",
    "\n",
    "    dtype = ([('ID_1', 'i8'), ('ID_2', 'i8'), ('theta_1', 'f8')])\n",
    "    triple_pairs = np.array([], dtype=dtype)\n",
    "    \n",
    "    N_triple = 0\n",
    "    for i in np.arange(len(catalog)-1):\n",
    "        \n",
    "        i2 = np.arange(len(catalog) - i - 1) + i + 1\n",
    "        for j in i2:\n",
    "            if catalog['ID_1'][j] == catalog['ID_1'][i] \\\n",
    "               or catalog['ID_1'][j] == catalog['ID_2'][i] \\\n",
    "               or catalog['ID_2'][j] == catalog['ID_1'][i] \\\n",
    "               or catalog['ID_2'][j] == catalog['ID_2'][i]:\n",
    "                    \n",
    "                    \n",
    "                # Default is to add the entry\n",
    "                match_1 = True\n",
    "                match_2 = True\n",
    "\n",
    "                \n",
    "                if triple_pairs.size != 0:\n",
    "                    \n",
    "                    # Add entry for first match\n",
    "                    for k in np.arange(len(triple_pairs)):\n",
    "                        ra1_a = t['ra'][np.where(t['NLTT'] == triple_pairs['ID_1'][k])][0]\n",
    "                        ra2_a = t['ra'][np.where(t['NLTT'] == triple_pairs['ID_2'][k])][0]\n",
    "                        ra1_b = t['ra'][np.where(t['NLTT'] == catalog['ID_1'][i])][0]\n",
    "                        ra2_b = t['ra'][np.where(t['NLTT'] == catalog['ID_2'][i])][0]\n",
    "                        if ra1_a == ra1_b and ra2_a == ra2_b: match_1 = False\n",
    "\n",
    "\n",
    "\n",
    "                    # Add entry for second match\n",
    "                    for k in np.arange(len(triple_pairs)):\n",
    "                        ra1_a = t['ra'][np.where(t['NLTT'] == triple_pairs['ID_1'][k])][0]\n",
    "                        ra2_a = t['ra'][np.where(t['NLTT'] == triple_pairs['ID_2'][k])][0]\n",
    "                        ra1_b = t['ra'][np.where(t['NLTT'] == catalog['ID_1'][j])][0]\n",
    "                        ra2_b = t['ra'][np.where(t['NLTT'] == catalog['ID_2'][j])][0]\n",
    "                        if ra1_a == ra1_b and ra2_a == ra2_b: match_2 = False\n",
    "\n",
    "\n",
    "\n",
    "                # Add entry for first match\n",
    "                if match_1 == True:\n",
    "                    id1 = np.where(t['NLTT'] == catalog['ID_1'][i])[0]\n",
    "                    id2 = np.where(t['NLTT'] == catalog['ID_2'][i])[0]\n",
    "                    theta = P_random.get_theta_proj_degree(t['ra'][id1], t['dec'][id1], t['ra'][id2], t['dec'][id2])[0]\n",
    "                    print id1, id2, catalog['ID_1'][i], catalog['ID_1'][j], theta\n",
    "                    match = np.zeros(1, dtype=dtype)\n",
    "                    match[0] = catalog['ID_1'][i], catalog['ID_2'][i], theta\n",
    "                    triple_pairs = np.append(triple_pairs, match)\n",
    "                    \n",
    "                # Add entry for second match\n",
    "                if match_2 == True:\n",
    "                    id1 = np.where(t['NLTT'] == catalog['ID_1'][j])[0][0]\n",
    "                    id2 = np.where(t['NLTT'] == catalog['ID_2'][j])[0][0]\n",
    "                    theta = P_random.get_theta_proj_degree(t['ra'][id1], t['dec'][id1], t['ra'][id2], t['dec'][id2])\n",
    "                    match = np.zeros(1, dtype=dtype)\n",
    "                    match[0] = catalog['ID_1'][j], catalog['ID_2'][j], theta\n",
    "                    triple_pairs = np.append(triple_pairs, match)\n",
    "\n",
    "\n",
    "\n",
    "\n",
    "    return triple_pairs"
   ]
  },
  {
   "cell_type": "code",
   "execution_count": 91,
   "metadata": {
    "collapsed": false
   },
   "outputs": [
    {
     "name": "stdout",
     "output_type": "stream",
     "text": [
      "[2231] [2233] 3478 3478 0.00720520235116\n",
      "[4395] [4399 4400] 6986 6986 0.015684150255\n",
      "[5491] [5492] 8632 8632 0.0138785107953\n",
      "[5559] [5562 5563] 8744 8744 0.000122189732312\n",
      "[5901] [5903 5904] 9303 9303 0.0122428407409\n",
      "[11129] [11130] 17264 17264 0.00352210320707\n",
      "[12237 12238] [12237 12238] 18987 18987 0.0\n",
      "[16890] [16891 16892] 26193 26193 0.00319316090387\n",
      "[18458] [18460 18461] 28714 28714 0.00677687969047\n",
      "[18875] [18877] 29410 29410 0.00958118807652\n",
      "[22329] [22332 22333] 34713 34713 0.0156039305055\n",
      "[26268 26269 26270] [26268 26269 26270] 41899 41899 0.0\n",
      "[29237] [29238] 47260 47260 0.0\n",
      "[29372] [29373 29374] 47506 47506 0.0012534889978\n",
      "[30956 30957] [30956 30957] 50272 50272 0.0\n",
      "[33545] [33551 33552] 54896 54896 0.0240053521383\n",
      "[33762 33763] [33762 33763] 55240 55240 0.0\n",
      "\n",
      "[(3478, 3481, 0.007205202351163697) (3478, 3482, 0.007205202351163697)\n",
      " (3481, 3482, 0.0) (6986, 6991, 0.01568415025504844)\n",
      " (6986, 6991, 0.01568415025504844) (6991, 6991, 0.0)\n",
      " (8632, 8633, 0.013878510795290276) (8632, 8634, 0.015060416137432003)\n",
      " (8633, 8634, 0.0024803173515538313) (8744, 8748, 0.00012218973231239202)\n",
      " (8744, 8748, 0.00012218973231239202) (8748, 8748, 0.0)\n",
      " (9303, 9305, 0.012242840740937164) (9303, 9305, 0.012242840740937164)\n",
      " (9305, 9305, 0.0) (17264, 17265, 0.0035221032070735857)\n",
      " (17264, 17266, 0.01699282204167979) (17265, 17266, 0.013551962241349927)\n",
      " (18987, 18987, 0.0) (18987, 18988, 0.025485283884406903)\n",
      " (26193, 26194, 0.0031931609038710895)\n",
      " (26193, 26194, 0.0031931609038710895) (26194, 26194, 0.0)\n",
      " (28714, 28716, 0.006776879690467933) (28714, 28716, 0.006776879690467933)\n",
      " (28716, 28716, 0.0) (29410, 29413, 0.009581188076518397)\n",
      " (29410, 29414, 0.009581188076518397) (29413, 29414, 0.0)\n",
      " (34713, 34716, 0.01560393050553318) (34713, 34716, 0.01560393050553318)\n",
      " (34716, 34716, 0.0) (41899, 41899, 0.0) (41899, 41899, 0.0)\n",
      " (47260, 47261, 0.0) (47260, 47263, 0.011835261474479341)\n",
      " (47506, 47507, 0.0012534889977971544)\n",
      " (47506, 47507, 0.0012534889977971544) (47507, 47507, 0.0)\n",
      " (50272, 50272, 0.0) (50272, 50273, 0.0028549968480526596)\n",
      " (54896, 54902, 0.024005352138261077) (54896, 54902, 0.024005352138261077)\n",
      " (54902, 54902, 0.0) (55240, 55240, 0.0)\n",
      " (55240, 55241, 0.026023152187383335)]\n"
     ]
    }
   ],
   "source": [
    "find_triples(NLTT_prob)"
   ]
  },
  {
   "cell_type": "code",
   "execution_count": null,
   "metadata": {
    "collapsed": true
   },
   "outputs": [],
   "source": []
  }
 ],
 "metadata": {
  "kernelspec": {
   "display_name": "Python 2",
   "language": "python",
   "name": "python2"
  },
  "language_info": {
   "codemirror_mode": {
    "name": "ipython",
    "version": 2
   },
   "file_extension": ".py",
   "mimetype": "text/x-python",
   "name": "python",
   "nbconvert_exporter": "python",
   "pygments_lexer": "ipython2",
   "version": "2.7.10"
  }
 },
 "nbformat": 4,
 "nbformat_minor": 0
}
