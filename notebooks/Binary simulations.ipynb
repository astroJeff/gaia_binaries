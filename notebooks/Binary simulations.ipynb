{
 "cells": [
  {
   "cell_type": "markdown",
   "metadata": {},
   "source": [
    "# Wide binaries in Gaia"
   ]
  },
  {
   "cell_type": "markdown",
   "metadata": {},
   "source": [
    "## Jeff J. Andrews, Marcel A. Agueros, Julio Chaname"
   ]
  },
  {
   "cell_type": "markdown",
   "metadata": {},
   "source": [
    "Our goal for this notebook is to generate a distribution of random binaries, drawn from carefully chosen input distributions, and determine what Gaia will observe. We focus on the first Gaia data release, comparative with the Tycho-2 sample. \n",
    "\n",
    "In particular, we want to quantitatively determine the quantity $P(\\vec{x}_i | C_2, \\vec{x}_j)$, where $C_2$ denotes the (genuine) binary \"class\" and $\\vec{x}_i$ and $\\vec{x}_j$ are defined as follows:\n",
    "$$ \\vec{x}_j = \\{ \\theta, \\Delta \\mu, \\Delta D\\} $$\n",
    "$$ \\vec{x}_i = \\{ \\alpha, \\delta, \\mu_{\\alpha}, \\mu_{\\delta}, D \\} $$\n",
    "\n",
    "\n",
    "Observables include $M_1$, $M_2$, $\\theta$, and $\\Delta \\mu$."
   ]
  },
  {
   "cell_type": "code",
   "execution_count": null,
   "metadata": {
    "collapsed": true
   },
   "outputs": [],
   "source": []
  }
 ],
 "metadata": {
  "kernelspec": {
   "display_name": "Python 2",
   "language": "python",
   "name": "python2"
  },
  "language_info": {
   "codemirror_mode": {
    "name": "ipython",
    "version": 2
   },
   "file_extension": ".py",
   "mimetype": "text/x-python",
   "name": "python",
   "nbconvert_exporter": "python",
   "pygments_lexer": "ipython2",
   "version": "2.7.10"
  }
 },
 "nbformat": 4,
 "nbformat_minor": 0
}
