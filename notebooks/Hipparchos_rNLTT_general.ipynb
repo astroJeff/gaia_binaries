{
 "cells": [
  {
   "cell_type": "markdown",
   "metadata": {},
   "source": [
    "# Tests on the rNLTT stars with Hipparchos parallaxes"
   ]
  },
  {
   "cell_type": "code",
   "execution_count": 1,
   "metadata": {
    "collapsed": false
   },
   "outputs": [
    {
     "name": "stderr",
     "output_type": "stream",
     "text": [
      "/Library/Python/2.7/site-packages/IPython/kernel/__init__.py:13: ShimWarning: The `IPython.kernel` package has been deprecated. You should import from ipykernel or jupyter_client instead.\n",
      "  \"You should import from ipykernel or jupyter_client instead.\", ShimWarning)\n"
     ]
    }
   ],
   "source": [
    "import os\n",
    "import sys\n",
    "sys.path.append('../src')\n",
    "import P_binary\n",
    "import P_random\n",
    "import P_posterior\n",
    "import const as c\n",
    "import time\n",
    "import numpy as np\n",
    "import matplotlib.pyplot as plt\n",
    "from astropy.table import Table\n",
    "from astropy import units as u\n",
    "import pickle\n",
    "\n",
    "%matplotlib inline"
   ]
  },
  {
   "cell_type": "markdown",
   "metadata": {},
   "source": [
    "### First, read in data from catalogs"
   ]
  },
  {
   "cell_type": "code",
   "execution_count": 2,
   "metadata": {
    "collapsed": false
   },
   "outputs": [],
   "source": [
    "# Read in sample from Tycho-2 table\n",
    "filename = ('../data/rNLTT/catalog_tabs.dat')\n",
    "t_full = Table.read(filename, format='ascii', guess=True)\n",
    "\n",
    "# Change proper motion units from asec/yr to mas/yr\n",
    "t_full['mu_ra'] = 1.0e3*t_full['mu_ra']\n",
    "t_full['mu_dec'] = 1.0e3*t_full['mu_dec']\n",
    "t_full['mu_ra_err'] = 1.0e3*t_full['mu_ra_err']\n",
    "t_full['mu_dec_err'] = 1.0e3*t_full['mu_dec_err']\n",
    "\n",
    "# Select only stars with proper motion uncertainties greater than 1 mas/yr - remove junk\n",
    "ids_good = np.intersect1d(np.where(t_full['mu_ra_err'] >= 0.1), np.where(t_full['mu_dec_err'] >= 0.1))\n",
    "t = t_full[ids_good]"
   ]
  },
  {
   "cell_type": "code",
   "execution_count": 3,
   "metadata": {
    "collapsed": false
   },
   "outputs": [
    {
     "name": "stdout",
     "output_type": "stream",
     "text": [
      "['NLTT', 'ra', 'dec', 'mu_ra', 'mu_dec', 'mu_ra_err', 'mu_dec_err', 'HIP', 'V', 'B', 'R', 'J', 'H', 'K']\n"
     ]
    }
   ],
   "source": [
    "print t.colnames"
   ]
  },
  {
   "cell_type": "code",
   "execution_count": 4,
   "metadata": {
    "collapsed": false
   },
   "outputs": [],
   "source": [
    "# Read in sample from Tycho-2 table\n",
    "filename = ('../data/hipparchos/hip2.dat')\n",
    "readme = ('../data/hipparchos/Readme')\n",
    "hip = Table.read(filename, format='cds', guess=False, readme=readme)"
   ]
  },
  {
   "cell_type": "code",
   "execution_count": 5,
   "metadata": {
    "collapsed": false
   },
   "outputs": [
    {
     "name": "stdout",
     "output_type": "stream",
     "text": [
      "['HIP', 'Sn', 'So', 'Nc', 'RArad', 'DErad', 'Plx', 'pmRA', 'pmDE', 'e_RArad', 'e_DErad', 'e_Plx', 'e_pmRA', 'e_pmDE', 'Ntr', 'F2', 'F1', 'var', 'ic', 'Hpmag', 'e_Hpmag', 'sHp', 'VA', 'B-V', 'e_B-V', 'V-I']\n"
     ]
    }
   ],
   "source": [
    "print hip.colnames"
   ]
  },
  {
   "cell_type": "code",
   "execution_count": 6,
   "metadata": {
    "collapsed": false
   },
   "outputs": [
    {
     "name": "stdout",
     "output_type": "stream",
     "text": [
      "['NLTT-A', 'NLTT-B', 'RAdegA', 'DEdegA', 'RAdegB', 'DEdegB', 'pmRA-A', 'pmDE-A', 'pmRA-B', 'pmDE-B', 'VmagA', '(V-J)A', 'VmagB', '(V-J)B', 'SC-A', 'SC-B', 'CCode', 'Delpm', 'DelSep', 'PosAng', 'Bin', 'Allen']\n"
     ]
    }
   ],
   "source": [
    "# Read in pairs identified by Chaname & Gould\n",
    "\n",
    "filename_CG = ('../data/rNLTT/Chaname_Gould_pairs.dat')\n",
    "CG_pairs = Table.read(filename_CG, format='cds')\n",
    "CG_pairs = CG_pairs[0:-1]  # Because the last line is blank\n",
    "print CG_pairs.colnames"
   ]
  },
  {
   "cell_type": "code",
   "execution_count": 7,
   "metadata": {
    "collapsed": false
   },
   "outputs": [
    {
     "name": "stdout",
     "output_type": "stream",
     "text": [
      "CG04 pairs with independent Hipparchos IDs (and CCode 1-3): 44\n"
     ]
    }
   ],
   "source": [
    "idx = np.array([], dtype='i8')\n",
    "for i in np.arange(len(CG_pairs)):\n",
    "    id1 = np.where(CG_pairs['NLTT-A'][i] == t_full['NLTT'])[0]\n",
    "    id2 = np.where(CG_pairs['NLTT-B'][i] == t_full['NLTT'])[0]\n",
    "    \n",
    "    if len(id1) != 0 and len(id2) != 0 and id1[0] != id2[0] and CG_pairs['CCode'][i]<4:\n",
    "        if t_full['HIP'][id1[0]] != t_full['HIP'][id2[0]] and t_full['HIP'][id1[0]] != 0 and t_full['HIP'][id2[0]] != 0:\n",
    "            idx = np.append(idx, i)\n",
    "\n",
    "CG_pairs_hip = CG_pairs[idx]\n",
    "\n",
    "print \"CG04 pairs with independent Hipparchos IDs (and CCode 1-3):\", len(CG_pairs_hip)"
   ]
  },
  {
   "cell_type": "markdown",
   "metadata": {},
   "source": [
    "### Play with Hipparchos data"
   ]
  },
  {
   "cell_type": "code",
   "execution_count": 24,
   "metadata": {
    "collapsed": false
   },
   "outputs": [
    {
     "data": {
      "image/png": "[encoded data removed]",
      "text/plain": [
       "<matplotlib.figure.Figure at 0x10fcc78d0>"
      ]
     },
     "metadata": {},
     "output_type": "display_data"
    }
   ],
   "source": [
    "fig, ax = plt.subplots(1, 2, figsize=(12,4))\n",
    "\n",
    "ax[0].hist(hip['Plx'], histtype='step', color='k', bins=40, range=(-20, 50), normed=True)\n",
    "ax[1].hist(hip['e_Plx'], histtype='step', color='k', bins=40, range=(0, 5))\n",
    "\n",
    "ax[0].set_xlabel('Parallax (mas)')\n",
    "ax[1].set_xlabel('Parallax Error (mas)')\n",
    "\n",
    "plt.show()"
   ]
  },
  {
   "cell_type": "code",
   "execution_count": null,
   "metadata": {
    "collapsed": false
   },
   "outputs": [],
   "source": []
  },
  {
   "cell_type": "markdown",
   "metadata": {},
   "source": [
    "### Now, let's select all rNLTT stars with Hipparchos numbers"
   ]
  },
  {
   "cell_type": "code",
   "execution_count": 8,
   "metadata": {
    "collapsed": false
   },
   "outputs": [],
   "source": [
    "t_hip_tmp = t_full[np.where(t_full['HIP']!=0)[0]]\n",
    "\n",
    "# Only non-repeating entries\n",
    "vals, indices = np.unique(t_hip_tmp['NLTT'], return_index=True)\n",
    "t_hip = t_hip_tmp[indices]\n",
    "\n",
    "\n",
    "dtype = [('ID','i8'),('NLTT','i8'),('ra','f8'),('dec','f8'),('mu_ra','f8'),('mu_dec','f8'), \\\n",
    "         ('mu_ra_err','f8'),('mu_dec_err','f8'),('B','f8'),('V','f8'), \\\n",
    "         ('plx','f8'),('plx_err','f8')]\n",
    "\n",
    "t = np.zeros(len(t_hip), dtype=dtype)\n",
    "t['ID'] = t_hip['HIP']\n",
    "t['NLTT'] = t_hip['NLTT']\n",
    "t['ra'] = t_hip['ra']\n",
    "t['dec'] = t_hip['dec']\n",
    "t['mu_ra'] = t_hip['mu_ra']\n",
    "t['mu_dec'] = t_hip['mu_dec']\n",
    "t['mu_ra_err'] = t_hip['mu_ra_err']\n",
    "t['mu_dec_err'] = t_hip['mu_dec_err']\n",
    "t['B'] = t_hip['B']\n",
    "t['V'] = t_hip['V']\n",
    "\n",
    "# Get parallaxes, by first finding indices matching two catalogs\n",
    "idx = np.zeros(len(t_hip), dtype='i8')\n",
    "for i in np.arange(len(t_hip)):\n",
    "    idx[i] =int(np.where(t_hip[i]['HIP'] == hip['HIP'])[0][0])\n",
    "    \n",
    "t['plx'] = hip['Plx'][idx]\n",
    "t['plx_err'] = hip['e_Plx'][idx]"
   ]
  },
  {
   "cell_type": "code",
   "execution_count": 9,
   "metadata": {
    "collapsed": false
   },
   "outputs": [
    {
     "name": "stdout",
     "output_type": "stream",
     "text": [
      "36085 8288\n"
     ]
    }
   ],
   "source": [
    "print len(t_full), len(t)"
   ]
  },
  {
   "cell_type": "markdown",
   "metadata": {},
   "source": [
    "### The stellar position probability"
   ]
  },
  {
   "cell_type": "code",
   "execution_count": 22,
   "metadata": {
    "collapsed": false
   },
   "outputs": [
    {
     "data": {
      "image/png": "[encoded data removed]",
      "text/plain": [
       "<matplotlib.figure.Figure at 0x10fcd1050>"
      ]
     },
     "metadata": {},
     "output_type": "display_data"
    }
   ],
   "source": [
    "fig, ax = plt.subplots(1, 2, figsize=(12,4))\n",
    "\n",
    "nbins = 30\n",
    "xmin, xmax = 0.0, 360.0\n",
    "ymin, ymax = -90.0, 90.0\n",
    "\n",
    "xbins = np.linspace(xmin, xmax, nbins)\n",
    "ybins = np.linspace(ymin, ymax, nbins)\n",
    "X, Y = np.meshgrid(xbins, ybins)\n",
    "grid = np.array([X.flatten(), Y.flatten()]).T\n",
    "\n",
    "pdf, xedges, yedges = np.histogram2d(t['ra'], \n",
    "                                     t['dec'], \n",
    "                                     normed=True,\n",
    "                                     bins=[xbins,ybins])\n",
    "\n",
    "im = ax[0].pcolormesh(xbins, ybins, pdf.T, cmap='Blues')\n",
    "fig.colorbar(im, ax=ax[0])\n",
    "\n",
    "\n",
    "P_random.pos_kde = None\n",
    "Z = P_random.get_sigma_pos(X.flatten(), Y.flatten(), catalog=t, method='kde')\n",
    "\n",
    "# im = ax[1].tricontourf(X.flatten(), Y.flatten(), Z, cmap='Blues', extend='max')\n",
    "# fig.colorbar(im, ax=ax[1])\n",
    "\n",
    "plt.show()"
   ]
  },
  {
   "cell_type": "code",
   "execution_count": null,
   "metadata": {
    "collapsed": true
   },
   "outputs": [],
   "source": []
  }
 ],
 "metadata": {
  "kernelspec": {
   "display_name": "Python 2",
   "language": "python",
   "name": "python2"
  },
  "language_info": {
   "codemirror_mode": {
    "name": "ipython",
    "version": 2
   },
   "file_extension": ".py",
   "mimetype": "text/x-python",
   "name": "python",
   "nbconvert_exporter": "python",
   "pygments_lexer": "ipython2",
   "version": "2.7.10"
  }
 },
 "nbformat": 4,
 "nbformat_minor": 0
}
