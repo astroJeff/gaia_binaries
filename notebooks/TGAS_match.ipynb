{
 "cells": [
  {
   "cell_type": "markdown",
   "metadata": {},
   "source": [
    "# Match stars in the Tycho-2 - Gaia catalog (TGAS)"
   ]
  },
  {
   "cell_type": "code",
   "execution_count": 1,
   "metadata": {
    "collapsed": false
   },
   "outputs": [
    {
     "name": "stderr",
     "output_type": "stream",
     "text": [
      "/Library/Python/2.7/site-packages/IPython/kernel/__init__.py:13: ShimWarning: The `IPython.kernel` package has been deprecated. You should import from ipykernel or jupyter_client instead.\n",
      "  \"You should import from ipykernel or jupyter_client instead.\", ShimWarning)\n"
     ]
    }
   ],
   "source": [
    "import numpy as np\n",
    "import matplotlib.pyplot as plt\n",
    "from astropy.table import Table\n",
    "from scipy.stats import gaussian_kde\n",
    "from sklearn.neighbors import KernelDensity\n",
    "import sys\n",
    "sys.path.append('../src')\n",
    "import P_posterior\n",
    "import P_random\n",
    "import P_binary\n",
    "import parallax\n",
    "import const as c\n",
    "import corner\n",
    "import time\n",
    "\n",
    "%matplotlib inline"
   ]
  },
  {
   "cell_type": "code",
   "execution_count": 2,
   "metadata": {
    "collapsed": false
   },
   "outputs": [
    {
     "name": "stdout",
     "output_type": "stream",
     "text": [
      "../data/TGAS/TgasSource_000-000-000.csv\n"
     ]
    }
   ],
   "source": [
    "# Read in sample from TGAS table\n",
    "dtype = [('ID','<i8'),('tyc','S11'),('hip','<i8'),('ra','<f8'),('dec','<f8'),('mu_ra','<f8'),('mu_dec','<f8'), \\\n",
    "     ('mu_ra_err','<f8'),('mu_dec_err','<f8'),('plx','<f8'),('plx_err','<f8')]\n",
    "\n",
    "tgas_full = np.array([], dtype=dtype)\n",
    "\n",
    "for i in np.arange(1):\n",
    "# for i in np.arange(16):\n",
    "    if i < 10:\n",
    "        filename = ('../data/TGAS/TgasSource_000-000-00' + str(i) + '.csv')\n",
    "    else:\n",
    "        filename = ('../data/TGAS/TgasSource_000-000-0' + str(i) + '.csv')\n",
    "\n",
    "    print filename\n",
    "    tgas_tmp = Table.read(filename, format='csv', guess=True)\n",
    "    \n",
    "    \n",
    "\n",
    "    tgas = np.zeros(len(tgas_tmp), dtype=dtype)\n",
    "\n",
    "    tgas['ID'] = tgas_tmp['source_id']\n",
    "    tgas['tyc'] = tgas_tmp['tycho2_id']\n",
    "    tgas['hip'] = tgas_tmp['hip']\n",
    "    tgas['ra'] = tgas_tmp['ra']\n",
    "    tgas['dec'] = tgas_tmp['dec']\n",
    "    tgas['mu_ra'] = tgas_tmp['pmra']\n",
    "    tgas['mu_ra_err'] = tgas_tmp['pmra_error']\n",
    "    tgas['mu_dec'] = tgas_tmp['pmdec']\n",
    "    tgas['mu_dec_err'] = tgas_tmp['pmdec_error']\n",
    "    tgas['plx'] = tgas_tmp['parallax']\n",
    "    tgas['plx_err'] = tgas_tmp['parallax_error']\n",
    "\n",
    "    tgas_full = np.append(tgas_full, tgas)\n"
   ]
  },
  {
   "cell_type": "code",
   "execution_count": 3,
   "metadata": {
    "collapsed": false
   },
   "outputs": [
    {
     "name": "stdout",
     "output_type": "stream",
     "text": [
      "Generating binaries...\n",
      "We are testing 134865 stars...\n",
      "0 5.21287894249\n",
      "35 36 308619170261760 310337157179392 99.2841758874 -45.7636568094 -46.7611008182 -46.1952613437 -47.0231950275 7.4461472917 0.279143460565 7.3807551262 0.246510391489 [  2.64987265e-14] 0.0139886959221 [ 1.]\n",
      "175 176 1546634903990400 1546703623466880 45.2817044324 2.16609986604 2.90213482357 1.28192397349 1.97058807669 3.01585800067 0.313284968383 2.93998384394 0.280044745396 [  2.10270853e-10] 0.108233770029 [ 1.]\n",
      "542 543 4724017349108352 4725151220474240 29.522942124 191.467160277 -54.583233661 191.755142734 -53.9041465115 9.67859004668 0.267282258081 9.63499697051 0.256941623841 [  2.22248541e-15] 0.0376654992396 [ 1.]\n",
      "756 757 6835010954922624 6835560710735104 201.632191409 0.208769779756 -5.34515754861 5.80745587441 -6.71508426827 4.3986982552 0.328682746636 4.83147604356 0.535386360718 [  3.46951495e-09] 2.25105468044e-05 [ 0.99969184]\n",
      "836 840 7396242921395072 7415965411215104 477.242575127 4.84487388443 -9.75287662361 4.96054835776 -11.6615007407 4.47937737429 0.554719407812 2.78823005107 0.547983377708 [  3.67237354e-09] 5.90932034511e-10 [ 0.07446521]\n",
      "850 851 7488292660462464 7488327020200576 29.3525247473 12.4073397048 -16.4828811583 11.0438688514 -15.7392919498 2.50632916053 0.333616563916 2.49095487624 0.311813517768 [  2.20673783e-10] 0.0506177578269 [ 0.99999999]\n",
      "857 858 7545604704054272 7546085741009536 238.636926355 6.60473037494 -4.91871123785 6.48447994322 -5.11474614758 4.34420607867 0.257314587737 3.51713631219 0.256773154646 [  2.03393433e-10] 0.00426201233762 [ 0.9999999]\n",
      "860 861 7575291518000256 7575532036168448 80.9074647874 -3.75236265229 4.29771969623 -6.88727523481 0.0851014875608 12.416045951 0.263768518115 11.9395337813 0.385944041591 [  3.25473909e-13] 1.0635928166e-08 [ 0.9999388]\n",
      "1000 134.98961401\n",
      "Elapsed time: 134.99007082 seconds\n"
     ]
    },
    {
     "data": {
      "text/plain": [
       "array([ (35, 36, 240384, 239616, 2.6498726540479147e-14, 0.013988695922124537, 0.9999999999962114, 0.027578937746490933, -45.76365680943734, -46.76110081818987, -46.19526134370247, -47.02319502745229, 7.446147291703792, 7.380755126195536),\n",
       "       (175, 176, 831616, 831360, 2.1027085279940419e-10, 0.10823377002853568, 0.9999999961145057, 0.01257825123123483, 2.1660998660370616, 2.90213482357139, 1.281923973489211, 1.970588076690517, 3.015858000666596, 2.939983843939636),\n",
       "       (542, 543, 107136, 106880, 2.2224854071306376e-15, 0.0376654992396026, 0.9999999999998819, 0.008200817256653966, 191.4671602774555, -54.58323366104249, 191.75514273434845, -53.90414651145955, 9.678590046676089, 9.63499697051337),\n",
       "       (756, 757, 68224, 66816, 3.469514954992256e-09, 2.2510546804351455e-05, 0.9996918381580848, 0.05600894205816707, 0.2087697797561241, -5.345157548608781, 5.807455874414577, -6.715084268271088, 4.398698255202207, 4.831476043564361),\n",
       "       (836, 840, 37760, 34560, 3.6723735416689133e-09, 5.909320345113056e-10, 0.07446521283631116, 0.13256738197981904, 4.844873884434719, -9.752876623608227, 4.9605483577578795, -11.661500740663797, 4.479377374290507, 2.7882300510726354),\n",
       "       (850, 851, 17280, 17024, 2.206737826550619e-10, 0.050617757826850414, 0.9999999912807762, 0.008153479096469783, 12.407339704800169, -16.482881158260874, 11.043868851350922, -15.73929194978286, 2.5063291605298663, 2.4909548762427556),\n",
       "       (857, 858, 11264, 629376, 2.033934327019874e-10, 0.0042620123376177045, 0.9999999045552208, 0.06628803509868843, 6.6047303749420045, -4.918711237853449, 6.4844799432208795, -5.1147461475809, 4.344206078667398, 3.5171363121851305),\n",
       "       (860, 861, 7296, 6912, 3.2547390852629725e-13, 1.0635928165973478e-08, 0.9999388010176874, 0.022474295774287004, -3.752362652288661, 4.2977196962275315, -6.887275234808378, 0.08510148756078831, 12.4160459510056, 11.939533781328192)], \n",
       "      dtype=[('i_1', '<i4'), ('i_2', '<i4'), ('ID_1', '<i4'), ('ID_2', '<i4'), ('P_random', '<f8'), ('P_binary', '<f8'), ('P_posterior', '<f8'), ('theta', '<f8'), ('mu_ra_1', '<f8'), ('mu_dec_1', '<f8'), ('mu_ra_2', '<f8'), ('mu_dec_2', '<f8'), ('plx_1', '<f8'), ('plx_2', '<f8')])"
      ]
     },
     "execution_count": 3,
     "metadata": {},
     "output_type": "execute_result"
    }
   ],
   "source": [
    "P_posterior.match_binaries(tgas_full, subsample=1000)"
   ]
  },
  {
   "cell_type": "code",
   "execution_count": null,
   "metadata": {
    "collapsed": true
   },
   "outputs": [],
   "source": []
  },
  {
   "cell_type": "code",
   "execution_count": null,
   "metadata": {
    "collapsed": true
   },
   "outputs": [],
   "source": []
  },
  {
   "cell_type": "code",
   "execution_count": null,
   "metadata": {
    "collapsed": false
   },
   "outputs": [],
   "source": []
  },
  {
   "cell_type": "code",
   "execution_count": null,
   "metadata": {
    "collapsed": true
   },
   "outputs": [],
   "source": []
  },
  {
   "cell_type": "code",
   "execution_count": null,
   "metadata": {
    "collapsed": false
   },
   "outputs": [],
   "source": []
  },
  {
   "cell_type": "code",
   "execution_count": 19,
   "metadata": {
    "collapsed": true
   },
   "outputs": [],
   "source": []
  },
  {
   "cell_type": "code",
   "execution_count": null,
   "metadata": {
    "collapsed": true
   },
   "outputs": [],
   "source": []
  }
 ],
 "metadata": {
  "kernelspec": {
   "display_name": "Python 2",
   "language": "python",
   "name": "python2"
  },
  "language_info": {
   "codemirror_mode": {
    "name": "ipython",
    "version": 2
   },
   "file_extension": ".py",
   "mimetype": "text/x-python",
   "name": "python",
   "nbconvert_exporter": "python",
   "pygments_lexer": "ipython2",
   "version": "2.7.10"
  }
 },
 "nbformat": 4,
 "nbformat_minor": 0
}
