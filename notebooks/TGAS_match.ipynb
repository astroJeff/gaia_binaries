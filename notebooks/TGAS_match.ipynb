{
 "cells": [
  {
   "cell_type": "markdown",
   "metadata": {},
   "source": [
    "# Match stars in the Tycho-2 - Gaia catalog (TGAS)"
   ]
  },
  {
   "cell_type": "code",
   "execution_count": 16,
   "metadata": {
    "collapsed": true
   },
   "outputs": [],
   "source": [
    "import numpy as np\n",
    "import matplotlib.pyplot as plt\n",
    "from astropy.table import Table\n",
    "from scipy.stats import gaussian_kde\n",
    "import sys\n",
    "sys.path.append('../src')\n",
    "import P_posterior\n",
    "import P_random\n",
    "import parallax\n",
    "import const as c\n",
    "\n",
    "%matplotlib inline"
   ]
  },
  {
   "cell_type": "code",
   "execution_count": 2,
   "metadata": {
    "collapsed": false
   },
   "outputs": [
    {
     "name": "stdout",
     "output_type": "stream",
     "text": [
      "../data/TGAS/TgasSource_000-000-000.csv\n",
      "../data/TGAS/TgasSource_000-000-001.csv\n",
      "../data/TGAS/TgasSource_000-000-002.csv\n",
      "../data/TGAS/TgasSource_000-000-003.csv\n",
      "../data/TGAS/TgasSource_000-000-004.csv\n",
      "../data/TGAS/TgasSource_000-000-005.csv\n",
      "../data/TGAS/TgasSource_000-000-006.csv\n",
      "../data/TGAS/TgasSource_000-000-007.csv\n",
      "../data/TGAS/TgasSource_000-000-008.csv\n",
      "../data/TGAS/TgasSource_000-000-009.csv\n",
      "../data/TGAS/TgasSource_000-000-010.csv\n",
      "../data/TGAS/TgasSource_000-000-011.csv\n",
      "../data/TGAS/TgasSource_000-000-012.csv\n",
      "../data/TGAS/TgasSource_000-000-013.csv\n",
      "../data/TGAS/TgasSource_000-000-014.csv\n",
      "../data/TGAS/TgasSource_000-000-015.csv\n"
     ]
    }
   ],
   "source": [
    "# Read in sample from TGAS table\n",
    "dtype = [('ID','<i8'),('tyc','S11'),('hip','<i8'),('ra','<f8'),('dec','<f8'),('mu_ra','<f8'),('mu_dec','<f8'), \\\n",
    "     ('mu_ra_err','<f8'),('mu_dec_err','<f8'),('plx','<f8'),('plx_err','<f8')]\n",
    "\n",
    "tgas_full = np.array([], dtype=dtype)\n",
    "\n",
    "for i in np.arange(16):\n",
    "    if i < 10:\n",
    "        filename = ('../data/TGAS/TgasSource_000-000-00' + str(i) + '.csv')\n",
    "    else:\n",
    "        filename = ('../data/TGAS/TgasSource_000-000-0' + str(i) + '.csv')\n",
    "\n",
    "    print filename\n",
    "    tgas_tmp = Table.read(filename, format='csv', guess=True)\n",
    "    \n",
    "    \n",
    "\n",
    "    tgas = np.zeros(len(tgas_tmp), dtype=dtype)\n",
    "\n",
    "    tgas['ID'] = tgas_tmp['source_id']\n",
    "    tgas['tyc'] = tgas_tmp['tycho2_id']\n",
    "    tgas['hip'] = tgas_tmp['hip']\n",
    "    tgas['ra'] = tgas_tmp['ra']\n",
    "    tgas['dec'] = tgas_tmp['dec']\n",
    "    tgas['mu_ra'] = tgas_tmp['pmra']\n",
    "    tgas['mu_ra_err'] = tgas_tmp['pmra_error']\n",
    "    tgas['mu_dec'] = tgas_tmp['pmdec']\n",
    "    tgas['mu_dec_err'] = tgas_tmp['pmdec_error']\n",
    "    tgas['plx'] = tgas_tmp['parallax']\n",
    "    tgas['plx_err'] = tgas_tmp['parallax_error']\n",
    "\n",
    "    tgas_full = np.append(tgas_full, tgas)\n"
   ]
  },
  {
   "cell_type": "code",
   "execution_count": 3,
   "metadata": {
    "collapsed": false
   },
   "outputs": [
    {
     "name": "stdout",
     "output_type": "stream",
     "text": [
      "Generating binaries...\n",
      "We are testing 2057050 stars...\n",
      "0 0.44843506813\n",
      "6 8 16733192740608 26834955821312 529.109158988 24.5272373779 -3.35035516625 26.3080093459 9.19540541533 5.69820458536 0.263677270261 6.20249216692 0.247252651832 [  7.78546163e-11] 7.69001891434e-10 [ 0.83161311]\n"
     ]
    },
    {
     "ename": "KeyboardInterrupt",
     "evalue": "",
     "output_type": "error",
     "traceback": [
      "\u001b[1;31m---------------------------------------------------------------------------\u001b[0m",
      "\u001b[1;31mKeyboardInterrupt\u001b[0m                         Traceback (most recent call last)",
      "\u001b[1;32m<ipython-input-3-ae8d43b4ed23>\u001b[0m in \u001b[0;36m<module>\u001b[1;34m()\u001b[0m\n\u001b[1;32m----> 1\u001b[1;33m \u001b[0mP_posterior\u001b[0m\u001b[1;33m.\u001b[0m\u001b[0mmatch_binaries\u001b[0m\u001b[1;33m(\u001b[0m\u001b[0mtgas_full\u001b[0m\u001b[1;33m,\u001b[0m \u001b[0msubsample\u001b[0m\u001b[1;33m=\u001b[0m\u001b[1;36m1000\u001b[0m\u001b[1;33m)\u001b[0m\u001b[1;33m\u001b[0m\u001b[0m\n\u001b[0m",
      "\u001b[1;32m/home/andrews/Research/gaia_binaries/src/P_posterior.py\u001b[0m in \u001b[0;36mmatch_binaries\u001b[1;34m(t, subsample)\u001b[0m\n\u001b[0;32m    124\u001b[0m \u001b[1;33m\u001b[0m\u001b[0m\n\u001b[0;32m    125\u001b[0m             \u001b[1;31m# Calculate the posterior probability\u001b[0m\u001b[1;33m\u001b[0m\u001b[1;33m\u001b[0m\u001b[0m\n\u001b[1;32m--> 126\u001b[1;33m             \u001b[0mprob_posterior\u001b[0m\u001b[1;33m,\u001b[0m \u001b[0mprob_random\u001b[0m\u001b[1;33m,\u001b[0m \u001b[0mprob_binary\u001b[0m \u001b[1;33m=\u001b[0m \u001b[0mcalc_P_posterior\u001b[0m\u001b[1;33m(\u001b[0m\u001b[0mstar1\u001b[0m\u001b[1;33m,\u001b[0m \u001b[0mstar2\u001b[0m\u001b[1;33m,\u001b[0m \u001b[0mpos_density\u001b[0m\u001b[1;33m,\u001b[0m \u001b[0mpm_density\u001b[0m\u001b[1;33m,\u001b[0m \u001b[0mi\u001b[0m\u001b[1;33m,\u001b[0m \u001b[0mj\u001b[0m\u001b[1;33m,\u001b[0m \u001b[0mt\u001b[0m\u001b[1;33m)\u001b[0m\u001b[1;33m\u001b[0m\u001b[0m\n\u001b[0m\u001b[0;32m    127\u001b[0m \u001b[1;33m\u001b[0m\u001b[0m\n\u001b[0;32m    128\u001b[0m \u001b[1;33m\u001b[0m\u001b[0m\n",
      "\u001b[1;32m/home/andrews/Research/gaia_binaries/src/P_posterior.py\u001b[0m in \u001b[0;36mcalc_P_posterior\u001b[1;34m(star1, star2, pos_density, pm_density, id1, id2, t)\u001b[0m\n\u001b[0;32m    202\u001b[0m \u001b[1;33m\u001b[0m\u001b[0m\n\u001b[0;32m    203\u001b[0m     \u001b[1;31m# Parallax prior -> Lenz-Kelker bias goes here. For now, assume flat prior\u001b[0m\u001b[1;33m\u001b[0m\u001b[1;33m\u001b[0m\u001b[0m\n\u001b[1;32m--> 204\u001b[1;33m     \u001b[0mprob_plx_prior\u001b[0m \u001b[1;33m=\u001b[0m \u001b[0mparallax\u001b[0m\u001b[1;33m.\u001b[0m\u001b[0mget_plx_prior\u001b[0m\u001b[1;33m(\u001b[0m\u001b[0mplx_sample\u001b[0m\u001b[1;33m)\u001b[0m\u001b[1;33m\u001b[0m\u001b[0m\n\u001b[0m\u001b[0;32m    205\u001b[0m \u001b[1;33m\u001b[0m\u001b[0m\n\u001b[0;32m    206\u001b[0m     \u001b[1;31m# Monte Carlo integral\u001b[0m\u001b[1;33m\u001b[0m\u001b[1;33m\u001b[0m\u001b[0m\n",
      "\u001b[1;32m/home/andrews/Research/gaia_binaries/src/parallax.pyc\u001b[0m in \u001b[0;36mget_plx_prior\u001b[1;34m(plx)\u001b[0m\n\u001b[0;32m     42\u001b[0m         \u001b[1;32mreturn\u001b[0m\u001b[1;33m\u001b[0m\u001b[0m\n\u001b[0;32m     43\u001b[0m \u001b[1;33m\u001b[0m\u001b[0m\n\u001b[1;32m---> 44\u001b[1;33m     \u001b[1;32mreturn\u001b[0m \u001b[0mplx_kde\u001b[0m\u001b[1;33m.\u001b[0m\u001b[0mevaluate\u001b[0m\u001b[1;33m(\u001b[0m\u001b[1;33m(\u001b[0m\u001b[0mplx\u001b[0m\u001b[1;33m)\u001b[0m\u001b[1;33m)\u001b[0m\u001b[1;33m\u001b[0m\u001b[0m\n\u001b[0m",
      "\u001b[1;32m/usr/local/lib/python2.7/dist-packages/scipy/stats/kde.pyc\u001b[0m in \u001b[0;36mevaluate\u001b[1;34m(self, points)\u001b[0m\n\u001b[0;32m    219\u001b[0m                 \u001b[0mtdiff\u001b[0m \u001b[1;33m=\u001b[0m \u001b[0mdot\u001b[0m\u001b[1;33m(\u001b[0m\u001b[0mself\u001b[0m\u001b[1;33m.\u001b[0m\u001b[0minv_cov\u001b[0m\u001b[1;33m,\u001b[0m \u001b[0mdiff\u001b[0m\u001b[1;33m)\u001b[0m\u001b[1;33m\u001b[0m\u001b[0m\n\u001b[0;32m    220\u001b[0m                 \u001b[0menergy\u001b[0m \u001b[1;33m=\u001b[0m \u001b[0msum\u001b[0m\u001b[1;33m(\u001b[0m\u001b[0mdiff\u001b[0m \u001b[1;33m*\u001b[0m \u001b[0mtdiff\u001b[0m\u001b[1;33m,\u001b[0m \u001b[0maxis\u001b[0m\u001b[1;33m=\u001b[0m\u001b[1;36m0\u001b[0m\u001b[1;33m)\u001b[0m \u001b[1;33m/\u001b[0m \u001b[1;36m2.0\u001b[0m\u001b[1;33m\u001b[0m\u001b[0m\n\u001b[1;32m--> 221\u001b[1;33m                 \u001b[0mresult\u001b[0m\u001b[1;33m[\u001b[0m\u001b[0mi\u001b[0m\u001b[1;33m]\u001b[0m \u001b[1;33m=\u001b[0m \u001b[0msum\u001b[0m\u001b[1;33m(\u001b[0m\u001b[0mexp\u001b[0m\u001b[1;33m(\u001b[0m\u001b[1;33m-\u001b[0m\u001b[0menergy\u001b[0m\u001b[1;33m)\u001b[0m\u001b[1;33m,\u001b[0m \u001b[0maxis\u001b[0m\u001b[1;33m=\u001b[0m\u001b[1;36m0\u001b[0m\u001b[1;33m)\u001b[0m\u001b[1;33m\u001b[0m\u001b[0m\n\u001b[0m\u001b[0;32m    222\u001b[0m \u001b[1;33m\u001b[0m\u001b[0m\n\u001b[0;32m    223\u001b[0m         \u001b[0mresult\u001b[0m \u001b[1;33m=\u001b[0m \u001b[0mresult\u001b[0m \u001b[1;33m/\u001b[0m \u001b[0mself\u001b[0m\u001b[1;33m.\u001b[0m\u001b[0m_norm_factor\u001b[0m\u001b[1;33m\u001b[0m\u001b[0m\n",
      "\u001b[1;31mKeyboardInterrupt\u001b[0m: "
     ]
    }
   ],
   "source": [
    "P_posterior.match_binaries(tgas_full, subsample=1000)"
   ]
  },
  {
   "cell_type": "code",
   "execution_count": 42,
   "metadata": {
    "collapsed": false
   },
   "outputs": [
    {
     "data": {
      "image/png": "[encoded data removed]",
      "text/plain": [
       "<matplotlib.figure.Figure at 0x7f2f1812f7d0>"
      ]
     },
     "metadata": {},
     "output_type": "display_data"
    }
   ],
   "source": [
    "ra_1, dec_1 = 45.152, 0.189\n",
    "ra_2, dec_2 = 45.010, 0.243\n",
    "mu_ra_1, mu_ra_err_1, mu_dec_1, mu_dec_err_1 = 24.527, 1.177, -3.350, 0.707\n",
    "mu_ra_2, mu_ra_err_2, mu_dec_2, mu_dec_err_2 = 26.308, 2.034, 9.195, 1.028\n",
    "plx_1, plx_err_1 = 5.698, 0.263\n",
    "plx_2, plx_err_2 = 6.202, 0.247\n",
    "\n",
    "\n",
    "# Theta\n",
    "theta = P_random.get_theta_proj_degree(ra_1, dec_1, ra_2, dec_2)\n",
    "\n",
    "\n",
    "\n",
    "# Proper motion\n",
    "delta_mu_ra_err = np.sqrt(mu_ra_err_1**2 + mu_ra_err_2**2)\n",
    "delta_mu_dec_err = np.sqrt(mu_dec_err_1**2 + mu_dec_err_2**2)\n",
    "\n",
    "delta_mu_ra_sample = np.random.normal(loc=(mu_ra_1-mu_ra_2), scale=delta_mu_ra_err, size=10000)\n",
    "delta_mu_dec_sample = np.random.normal(loc=(mu_dec_1-mu_dec_2), scale=delta_mu_dec_err, size=10000)\n",
    "\n",
    "delta_mu_sample = np.sqrt(delta_mu_ra_sample**2 + delta_mu_dec_sample**2)\n",
    "\n",
    "#plt.hist(delta_mu_sample, histtype='step', color='k', bins=30)\n",
    "\n",
    "\n",
    "\n",
    "\n",
    "\n",
    "# Parallax\n",
    "plx_sample_1 = np.random.normal(loc=plx_1, scale=plx_err_1, size=10000)\n",
    "plx_sample_2 = np.random.normal(loc=plx_2, scale=plx_err_2, size=10000)\n",
    "\n",
    "#plt.hist(plx_sample_1, histtype='step', color='r', bins=50, range=(4.0, 8.0))\n",
    "#plt.hist(plx_sample_2, histtype='step', color='b', bins=50, range=(4.0, 8.0))\n",
    "#plt.hist(1.0e3/plx_sample_1, histtype='step', color='r', bins=50)\n",
    "#plt.hist(1.0e3/plx_sample_2, histtype='step', color='b', bins=50)\n",
    "\n",
    "\n",
    "# Deprojected quantities\n",
    "dist_sample = 1.0e3 / plx_sample_1\n",
    "delta_v_trans = (delta_mu_sample/1.0e3/3600.0*np.pi/180.0) * dist_sample * (c.pc_to_cm/1.0e5) / (c.yr_to_sec)\n",
    "proj_sep = (theta*np.pi/180.0) * dist_sample * (c.pc_to_cm / c.Rsun_to_cm)\n",
    "\n",
    "#plt.hist(delta_v_trans, histtype='step', color='r', bins=50)\n",
    "#plt.hist(proj_sep/215., histtype='step', color='r', bins=50)\n",
    "\n",
    "\n",
    "\n",
    "# Jacobians\n",
    "jacob_dV_dmu = (1.0e3/plx_sample_1) * (c.pc_to_cm/1.0e5) * (1.0 / ((180.0/np.pi)*3600.0*1.0e3)) * (1.0 / c.yr_to_sec)\n",
    "jacob_ds_dtheta = (1.0e3/plx_sample_1) * (np.pi/180.0) * (c.pc_to_cm / c.Rsun_to_cm)\n",
    "#plt.hist(jacob_dV_dmu, histtype='step', color='k', bins=50)\n",
    "plt.hist(jacob_ds_dtheta, histtype='step', color='k', bins=50)\n",
    "\n",
    "\n",
    "\n",
    "plt.show()"
   ]
  },
  {
   "cell_type": "code",
   "execution_count": 69,
   "metadata": {
    "collapsed": true
   },
   "outputs": [],
   "source": [
    "P_binary.generate_binary_set(num_sys=100000)"
   ]
  },
  {
   "cell_type": "code",
   "execution_count": 72,
   "metadata": {
    "collapsed": false
   },
   "outputs": [
    {
     "data": {
      "image/png": "[encoded data removed]",
      "text/plain": [
       "<matplotlib.figure.Figure at 0x7f2f184d1e90>"
      ]
     },
     "metadata": {},
     "output_type": "display_data"
    }
   ],
   "source": [
    "fig, ax = plt.subplots(1,3, figsize=(12, 4))\n",
    "\n",
    "\n",
    "nbins = 100\n",
    "xmin, xmax = 0.0, 5.0e6\n",
    "ymin, ymax = 0.0, 10.0\n",
    "\n",
    "\n",
    "\n",
    "proj_sep_test = np.linspace(xmin, xmax, nbins)\n",
    "delta_v_trans_test = np.linspace(ymin, ymax, nbins)\n",
    "X, Y = np.meshgrid(proj_sep_test, delta_v_trans_test)\n",
    "\n",
    "\n",
    "\n",
    "\n",
    "# Binary probability plot - Scott (default)\n",
    "Z = P_binary.get_P_binary(X.flatten(), Y.flatten())\n",
    "ax[0].tricontourf(X.flatten(), Y.flatten(), Z, cmap='Blues', extend='max')\n",
    "\n",
    "\n",
    "\n",
    "\n",
    "# Binary probability plot - Silverman\n",
    "P_binary.binary_kde.set_bandwidth(bw_method='silverman')\n",
    "Z = P_binary.get_P_binary(X.flatten(), Y.flatten())\n",
    "ax[1].tricontourf(X.flatten(), Y.flatten(), Z, cmap='Blues', extend='max')\n",
    "\n",
    "\n",
    "\n",
    "\n",
    "# Binary probability plot - Const\n",
    "P_binary.binary_kde.set_bandwidth(bw_method=P_binary.binary_kde.factor / 3.)\n",
    "Z = P_binary.get_P_binary(X.flatten(), Y.flatten())\n",
    "ax[2].tricontourf(X.flatten(), Y.flatten(), Z, cmap='Blues', extend='max')\n",
    "\n",
    "\n",
    "\n",
    "plt.show()"
   ]
  },
  {
   "cell_type": "code",
   "execution_count": 71,
   "metadata": {
    "collapsed": false
   },
   "outputs": [
    {
     "data": {
      "image/png": "[encoded data removed]",
      "text/plain": [
       "<matplotlib.figure.Figure at 0x7f2f1881c710>"
      ]
     },
     "metadata": {},
     "output_type": "display_data"
    }
   ],
   "source": [
    "range=[(0.0, 5.0e6),(0.0, 10.0)]\n",
    "corner.hist2d(P_binary.binary_set['proj_sep'], P_binary.binary_set['delta_v_trans'], range=range)\n",
    "\n",
    "plt.show()"
   ]
  },
  {
   "cell_type": "code",
   "execution_count": 66,
   "metadata": {
    "collapsed": true
   },
   "outputs": [],
   "source": [
    "corner.hist2d?"
   ]
  },
  {
   "cell_type": "code",
   "execution_count": null,
   "metadata": {
    "collapsed": true
   },
   "outputs": [],
   "source": []
  }
 ],
 "metadata": {
  "kernelspec": {
   "display_name": "Python 2",
   "language": "python",
   "name": "python2"
  },
  "language_info": {
   "codemirror_mode": {
    "name": "ipython",
    "version": 2
   },
   "file_extension": ".py",
   "mimetype": "text/x-python",
   "name": "python",
   "nbconvert_exporter": "python",
   "pygments_lexer": "ipython2",
   "version": "2.7.10"
  }
 },
 "nbformat": 4,
 "nbformat_minor": 0
}
