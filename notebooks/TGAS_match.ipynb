{
 "cells": [
  {
   "cell_type": "markdown",
   "metadata": {},
   "source": [
    "# Match stars in the Tycho-2 - Gaia catalog (TGAS)"
   ]
  },
  {
   "cell_type": "code",
   "execution_count": 4,
   "metadata": {
    "collapsed": false
   },
   "outputs": [],
   "source": [
    "import numpy as np\n",
    "import matplotlib.pyplot as plt\n",
    "from astropy.table import Table\n",
    "from scipy.stats import gaussian_kde\n",
    "from sklearn.neighbors import KernelDensity\n",
    "import sys\n",
    "sys.path.append('../src')\n",
    "import P_posterior\n",
    "import P_random\n",
    "import P_binary\n",
    "import parallax\n",
    "import const as c\n",
    "import corner\n",
    "import time\n",
    "import pickle\n",
    "\n",
    "%matplotlib inline"
   ]
  },
  {
   "cell_type": "code",
   "execution_count": 3,
   "metadata": {
    "collapsed": false
   },
   "outputs": [
    {
     "name": "stdout",
     "output_type": "stream",
     "text": [
      "../data/TGAS/TgasSource_000-000-000.csv\n",
      "../data/TGAS/TgasSource_000-000-001.csv\n",
      "../data/TGAS/TgasSource_000-000-002.csv\n",
      "../data/TGAS/TgasSource_000-000-003.csv\n",
      "../data/TGAS/TgasSource_000-000-004.csv\n",
      "../data/TGAS/TgasSource_000-000-005.csv\n",
      "../data/TGAS/TgasSource_000-000-006.csv\n",
      "../data/TGAS/TgasSource_000-000-007.csv\n",
      "../data/TGAS/TgasSource_000-000-008.csv\n",
      "../data/TGAS/TgasSource_000-000-009.csv\n",
      "../data/TGAS/TgasSource_000-000-010.csv\n",
      "../data/TGAS/TgasSource_000-000-011.csv\n",
      "../data/TGAS/TgasSource_000-000-012.csv\n",
      "../data/TGAS/TgasSource_000-000-013.csv\n",
      "../data/TGAS/TgasSource_000-000-014.csv\n",
      "../data/TGAS/TgasSource_000-000-015.csv\n"
     ]
    }
   ],
   "source": [
    "# Read in sample from TGAS table\n",
    "dtype = [('ID','<i8'),('tyc','S11'),('hip','<i8'),('ra','<f8'),('dec','<f8'),('mu_ra','<f8'),('mu_dec','<f8'), \\\n",
    "     ('mu_ra_err','<f8'),('mu_dec_err','<f8'),('plx','<f8'),('plx_err','<f8')]\n",
    "\n",
    "tgas_full = np.array([], dtype=dtype)\n",
    "\n",
    "#for i in np.arange(1):\n",
    "for i in np.arange(16):\n",
    "    if i < 10:\n",
    "        filename = ('../data/TGAS/TgasSource_000-000-00' + str(i) + '.csv')\n",
    "    else:\n",
    "        filename = ('../data/TGAS/TgasSource_000-000-0' + str(i) + '.csv')\n",
    "\n",
    "    print filename\n",
    "    tgas_tmp = Table.read(filename, format='csv', guess=True)\n",
    "    \n",
    "    \n",
    "\n",
    "    tgas = np.zeros(len(tgas_tmp), dtype=dtype)\n",
    "\n",
    "    tgas['ID'] = tgas_tmp['source_id']\n",
    "    tgas['tyc'] = tgas_tmp['tycho2_id']\n",
    "    tgas['hip'] = tgas_tmp['hip']\n",
    "    tgas['ra'] = tgas_tmp['ra']\n",
    "    tgas['dec'] = tgas_tmp['dec']\n",
    "    tgas['mu_ra'] = tgas_tmp['pmra']\n",
    "    tgas['mu_ra_err'] = tgas_tmp['pmra_error']\n",
    "    tgas['mu_dec'] = tgas_tmp['pmdec']\n",
    "    tgas['mu_dec_err'] = tgas_tmp['pmdec_error']\n",
    "    tgas['plx'] = tgas_tmp['parallax']\n",
    "    tgas['plx_err'] = tgas_tmp['parallax_error']\n",
    "\n",
    "    tgas_full = np.append(tgas_full, tgas)\n"
   ]
  },
  {
   "cell_type": "code",
   "execution_count": 62,
   "metadata": {
    "collapsed": false
   },
   "outputs": [
    {
     "name": "stdout",
     "output_type": "stream",
     "text": [
      "222 256 1230\n",
      "1708\n"
     ]
    }
   ],
   "source": [
    "pairs1 = pickle.load(open('../data/TGAS/TGAS_match_78.p', 'rb'))\n",
    "pairs2 = pickle.load(open('../data/TGAS/TGAS_match_77.p', 'rb'))\n",
    "pairs3 = pickle.load(open('../data/TGAS/TGAS_match_55.p', 'rb'))\n",
    "pairs4 = pickle.load(open('../data/TGAS/TGAS_match_61.p', 'rb'))\n",
    "\n",
    "pairs_all = np.array([], dtype=pairs1.dtype)\n",
    "\n",
    "pairs_all = np.append(pairs_all, pairs1)\n",
    "pairs_all = np.append(pairs_all, pairs2)\n",
    "pairs_all = np.append(pairs_all, pairs3)\n",
    "\n",
    "print len(pairs1), len(pairs2), len(pairs3)\n",
    "print len(pairs_all)"
   ]
  },
  {
   "cell_type": "code",
   "execution_count": 63,
   "metadata": {
    "collapsed": false
   },
   "outputs": [
    {
     "data": {
      "image/png": "[encoded data removed]",
      "text/plain": [
       "<matplotlib.figure.Figure at 0x7fd565904c90>"
      ]
     },
     "metadata": {},
     "output_type": "display_data"
    }
   ],
   "source": [
    "plt.scatter(tgas_full['ra'][pairs1['i_1']], tgas_full['dec'][pairs1['i_1']], color='b')\n",
    "plt.scatter(tgas_full['ra'][pairs2['i_1']], tgas_full['dec'][pairs2['i_1']], color='k')\n",
    "plt.scatter(tgas_full['ra'][pairs3['i_1']], tgas_full['dec'][pairs3['i_1']], color='g')\n",
    "plt.scatter(tgas_full['ra'][pairs4['i_1']], tgas_full['dec'][pairs4['i_1']], color='r')\n",
    "\n",
    "plt.xlim(0,360)\n",
    "plt.ylim(-90,90)\n",
    "\n",
    "plt.show()"
   ]
  },
  {
   "cell_type": "code",
   "execution_count": 69,
   "metadata": {
    "collapsed": false,
    "scrolled": true
   },
   "outputs": [],
   "source": [
    "dtype = [('TYC_1','S11'),('TYC_2','S11'),('ra_1','<f8'),('dec_1','<f8'),('ra_2','<f8'),('dec_2','<f8'),('P_posterior','<f8')]\n",
    "pairs_out = np.zeros(len(pairs_all), dtype=dtype)\n",
    "\n",
    "\n",
    "for i, pair in zip(np.arange(len(pairs_all)), pairs_all):\n",
    "\n",
    "    pairs_out[i]['TYC_1'] = tgas_full['tyc'][pair['i_1']]\n",
    "    pairs_out[i]['TYC_2'] = tgas_full['tyc'][pair['i_2']]\n",
    "    pairs_out[i]['ra_1'] = tgas_full['ra'][pair['i_1']]\n",
    "    pairs_out[i]['dec_1'] = tgas_full['dec'][pair['i_1']]\n",
    "    pairs_out[i]['ra_2'] = tgas_full['ra'][pair['i_2']]\n",
    "    pairs_out[i]['dec_2'] = tgas_full['dec'][pair['i_2']]\n",
    "    pairs_out[i]['P_posterior'] = pair['P_posterior']\n"
   ]
  },
  {
   "cell_type": "code",
   "execution_count": 81,
   "metadata": {
    "collapsed": false
   },
   "outputs": [],
   "source": [
    "# Save sample pairs to file\n",
    "\n",
    "pairs_out_good = pairs_out[np.where(pairs_out['P_posterior']>0.01)]\n",
    "\n",
    "header = \"TYC_1 TYC_2 ra_1 dec_1 ra_2 dec_2 P_posterior\"\n",
    "fmt = '%s %s %f %f %f %f %f'\n",
    "np.savetxt('pairs_sample.txt', pairs_out_good, fmt=fmt, header=header)"
   ]
  },
  {
   "cell_type": "code",
   "execution_count": null,
   "metadata": {
    "collapsed": true
   },
   "outputs": [],
   "source": []
  },
  {
   "cell_type": "code",
   "execution_count": null,
   "metadata": {
    "collapsed": false
   },
   "outputs": [],
   "source": []
  },
  {
   "cell_type": "code",
   "execution_count": 19,
   "metadata": {
    "collapsed": true
   },
   "outputs": [],
   "source": []
  },
  {
   "cell_type": "code",
   "execution_count": null,
   "metadata": {
    "collapsed": true
   },
   "outputs": [],
   "source": []
  }
 ],
 "metadata": {
  "kernelspec": {
   "display_name": "Python 2",
   "language": "python",
   "name": "python2"
  },
  "language_info": {
   "codemirror_mode": {
    "name": "ipython",
    "version": 2
   },
   "file_extension": ".py",
   "mimetype": "text/x-python",
   "name": "python",
   "nbconvert_exporter": "python",
   "pygments_lexer": "ipython2",
   "version": "2.7.12"
  }
 },
 "nbformat": 4,
 "nbformat_minor": 0
}
