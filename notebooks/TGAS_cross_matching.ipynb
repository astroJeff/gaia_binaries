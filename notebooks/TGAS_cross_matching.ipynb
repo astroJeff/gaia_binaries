{
 "cells": [
  {
   "cell_type": "code",
   "execution_count": 1,
   "metadata": {
    "collapsed": false
   },
   "outputs": [
    {
     "name": "stderr",
     "output_type": "stream",
     "text": [
      "/Library/Python/2.7/site-packages/IPython/kernel/__init__.py:13: ShimWarning: The `IPython.kernel` package has been deprecated. You should import from ipykernel or jupyter_client instead.\n",
      "  \"You should import from ipykernel or jupyter_client instead.\", ShimWarning)\n"
     ]
    }
   ],
   "source": [
    "import numpy as np\n",
    "import matplotlib.pyplot as plt\n",
    "from astropy.table import Table\n",
    "import time\n",
    "\n",
    "%matplotlib inline"
   ]
  },
  {
   "cell_type": "code",
   "execution_count": 69,
   "metadata": {
    "collapsed": false
   },
   "outputs": [
    {
     "name": "stdout",
     "output_type": "stream",
     "text": [
      "../data/TGAS/TgasSource_000-000-000.csv\n"
     ]
    }
   ],
   "source": [
    "# Read in sample from TGAS table\n",
    "dtype = [('source_id','<i8'),('tyc','S11'),('hip','<i8'),\n",
    "         ('ra','<f8'),('dec','<f8'),\n",
    "         ('mu_ra','<f8'),('mu_dec','<f8'), ('mu_ra_err','<f8'),('mu_dec_err','<f8'),\n",
    "         ('plx','<f8'),('plx_err','<f8'),\n",
    "         ('gaia_g_flux','<f8'), ('gaia_g_flux_error','<f8')\n",
    "        ]\n",
    "\n",
    "tgas_full = np.array([], dtype=dtype)\n",
    "\n",
    "for i in np.arange(1):\n",
    "    if i < 10:\n",
    "        filename = ('../data/TGAS/TgasSource_000-000-00' + str(i) + '.csv')\n",
    "    else:\n",
    "        filename = ('../data/TGAS/TgasSource_000-000-0' + str(i) + '.csv')\n",
    "\n",
    "    print filename\n",
    "    tgas_tmp = Table.read(filename, format='csv', guess=True)\n",
    "    \n",
    "    \n",
    "\n",
    "    tgas = np.zeros(len(tgas_tmp), dtype=dtype)\n",
    "\n",
    "    tgas['source_id'] = tgas_tmp['source_id']\n",
    "    tgas['tyc'] = tgas_tmp['tycho2_id']\n",
    "    tgas['hip'] = tgas_tmp['hip']\n",
    "    tgas['ra'] = tgas_tmp['ra']\n",
    "    tgas['dec'] = tgas_tmp['dec']\n",
    "    tgas['mu_ra'] = tgas_tmp['pmra']\n",
    "    tgas['mu_ra_err'] = tgas_tmp['pmra_error']\n",
    "    tgas['mu_dec'] = tgas_tmp['pmdec']\n",
    "    tgas['mu_dec_err'] = tgas_tmp['pmdec_error']\n",
    "    tgas['plx'] = tgas_tmp['parallax']\n",
    "    tgas['plx_err'] = tgas_tmp['parallax_error']\n",
    "    tgas['gaia_g_flux'] = tgas_tmp['phot_g_mean_flux']\n",
    "    tgas['gaia_g_flux_error'] = tgas_tmp['phot_g_mean_flux_error']\n",
    "    \n",
    "    tgas_full = np.append(tgas_full, tgas)"
   ]
  },
  {
   "cell_type": "markdown",
   "metadata": {},
   "source": [
    "### Load the URAT and 2MASS catalogs"
   ]
  },
  {
   "cell_type": "code",
   "execution_count": 5,
   "metadata": {
    "collapsed": false
   },
   "outputs": [
    {
     "name": "stderr",
     "output_type": "stream",
     "text": [
      "WARNING: W50: ../data/TGAS/TGAS_URAT.vot:31:0: W50: Invalid unit string 'Angle[arcsec]' [astropy.io.votable.exceptions]\n",
      "WARNING:astropy:W50: ../data/TGAS/TGAS_URAT.vot:31:0: W50: Invalid unit string 'Angle[arcsec]'\n",
      "WARNING: W50: ../data/TGAS/TGAS_URAT.vot:37:0: W50: Invalid unit string 'Angle[deg]' [astropy.io.votable.exceptions]\n",
      "WARNING:astropy:W50: ../data/TGAS/TGAS_URAT.vot:37:0: W50: Invalid unit string 'Angle[deg]'\n",
      "WARNING: W50: ../data/TGAS/TGAS_URAT.vot:40:0: W50: Invalid unit string 'Angle[deg]' [astropy.io.votable.exceptions]\n",
      "WARNING:astropy:W50: ../data/TGAS/TGAS_URAT.vot:40:0: W50: Invalid unit string 'Angle[deg]'\n",
      "WARNING: W50: ../data/TGAS/TGAS_URAT.vot:43:0: W50: Invalid unit string 'Magnitude[mag]' [astropy.io.votable.exceptions]\n",
      "WARNING:astropy:W50: ../data/TGAS/TGAS_URAT.vot:43:0: W50: Invalid unit string 'Magnitude[mag]'\n",
      "WARNING: W50: ../data/TGAS/TGAS_URAT.vot:46:0: W50: Invalid unit string 'Magnitude[mag]' [astropy.io.votable.exceptions]\n",
      "WARNING:astropy:W50: ../data/TGAS/TGAS_URAT.vot:46:0: W50: Invalid unit string 'Magnitude[mag]'\n",
      "WARNING: W50: ../data/TGAS/TGAS_URAT.vot:49:0: W50: Invalid unit string 'Magnitude[mag]' [astropy.io.votable.exceptions]\n",
      "WARNING:astropy:W50: ../data/TGAS/TGAS_URAT.vot:49:0: W50: Invalid unit string 'Magnitude[mag]'\n",
      "WARNING: W50: ../data/TGAS/TGAS_URAT.vot:52:0: W50: Invalid unit string 'Magnitude[mag]' [astropy.io.votable.exceptions]\n",
      "WARNING:astropy:W50: ../data/TGAS/TGAS_URAT.vot:52:0: W50: Invalid unit string 'Magnitude[mag]'\n",
      "WARNING: W50: ../data/TGAS/TGAS_URAT.vot:55:0: W50: Invalid unit string 'Magnitude[mag]' [astropy.io.votable.exceptions]\n",
      "WARNING:astropy:W50: ../data/TGAS/TGAS_URAT.vot:55:0: W50: Invalid unit string 'Magnitude[mag]'\n",
      "WARNING: W50: ../data/TGAS/TGAS_URAT.vot:58:0: W50: Invalid unit string 'Magnitude[mag]' [astropy.io.votable.exceptions]\n",
      "WARNING:astropy:W50: ../data/TGAS/TGAS_URAT.vot:58:0: W50: Invalid unit string 'Magnitude[mag]'\n",
      "WARNING: W50: ../data/TGAS/TGAS_URAT.vot:61:0: W50: Invalid unit string 'Magnitude[mag]' (suppressing further warnings of this type...) [astropy.io.votable.exceptions]\n",
      "WARNING:astropy:W50: ../data/TGAS/TGAS_URAT.vot:61:0: W50: Invalid unit string 'Magnitude[mag]' (suppressing further warnings of this type...)\n"
     ]
    }
   ],
   "source": [
    "filename = ('../data/TGAS/TGAS_URAT.vot')\n",
    "\n",
    "URAT = Table.read(filename, format='votable')"
   ]
  },
  {
   "cell_type": "code",
   "execution_count": 50,
   "metadata": {
    "collapsed": false
   },
   "outputs": [
    {
     "name": "stderr",
     "output_type": "stream",
     "text": [
      "WARNING: W50: ../data/TGAS/TGAS_2MASS.vot:25:0: W50: Invalid unit string 'Angle[arcsec]' [astropy.io.votable.exceptions]\n",
      "WARNING:astropy:W50: ../data/TGAS/TGAS_2MASS.vot:25:0: W50: Invalid unit string 'Angle[arcsec]'\n",
      "WARNING: W50: ../data/TGAS/TGAS_2MASS.vot:31:0: W50: Invalid unit string 'Angle[deg]' [astropy.io.votable.exceptions]\n",
      "WARNING:astropy:W50: ../data/TGAS/TGAS_2MASS.vot:31:0: W50: Invalid unit string 'Angle[deg]'\n",
      "WARNING: W50: ../data/TGAS/TGAS_2MASS.vot:34:0: W50: Invalid unit string 'Angle[deg]' [astropy.io.votable.exceptions]\n",
      "WARNING:astropy:W50: ../data/TGAS/TGAS_2MASS.vot:34:0: W50: Invalid unit string 'Angle[deg]'\n",
      "WARNING: W50: ../data/TGAS/TGAS_2MASS.vot:37:0: W50: Invalid unit string 'Magnitude[mag]' [astropy.io.votable.exceptions]\n",
      "WARNING:astropy:W50: ../data/TGAS/TGAS_2MASS.vot:37:0: W50: Invalid unit string 'Magnitude[mag]'\n",
      "WARNING: W50: ../data/TGAS/TGAS_2MASS.vot:40:0: W50: Invalid unit string 'Magnitude[mag]' [astropy.io.votable.exceptions]\n",
      "WARNING:astropy:W50: ../data/TGAS/TGAS_2MASS.vot:40:0: W50: Invalid unit string 'Magnitude[mag]'\n",
      "WARNING: W50: ../data/TGAS/TGAS_2MASS.vot:43:0: W50: Invalid unit string 'Magnitude[mag]' [astropy.io.votable.exceptions]\n",
      "WARNING:astropy:W50: ../data/TGAS/TGAS_2MASS.vot:43:0: W50: Invalid unit string 'Magnitude[mag]'\n",
      "WARNING: W50: ../data/TGAS/TGAS_2MASS.vot:46:0: W50: Invalid unit string 'Magnitude[mag]' [astropy.io.votable.exceptions]\n",
      "WARNING:astropy:W50: ../data/TGAS/TGAS_2MASS.vot:46:0: W50: Invalid unit string 'Magnitude[mag]'\n",
      "WARNING: W50: ../data/TGAS/TGAS_2MASS.vot:49:0: W50: Invalid unit string 'Magnitude[mag]' [astropy.io.votable.exceptions]\n",
      "WARNING:astropy:W50: ../data/TGAS/TGAS_2MASS.vot:49:0: W50: Invalid unit string 'Magnitude[mag]'\n",
      "WARNING: W50: ../data/TGAS/TGAS_2MASS.vot:52:0: W50: Invalid unit string 'Magnitude[mag]' [astropy.io.votable.exceptions]\n",
      "WARNING:astropy:W50: ../data/TGAS/TGAS_2MASS.vot:52:0: W50: Invalid unit string 'Magnitude[mag]'\n"
     ]
    }
   ],
   "source": [
    "filename = ('../data/TGAS/TGAS_2MASS.vot')\n",
    "\n",
    "TWO_MASS = Table.read(filename, format='votable')"
   ]
  },
  {
   "cell_type": "code",
   "execution_count": 74,
   "metadata": {
    "collapsed": false
   },
   "outputs": [
    {
     "name": "stderr",
     "output_type": "stream",
     "text": [
      "WARNING: W50: ../data/TGAS/TGAS_ppmxl.vot:24:0: W50: Invalid unit string 'Angle[arcsec]' [astropy.io.votable.exceptions]\n",
      "WARNING:astropy:W50: ../data/TGAS/TGAS_ppmxl.vot:24:0: W50: Invalid unit string 'Angle[arcsec]'\n",
      "WARNING: W50: ../data/TGAS/TGAS_ppmxl.vot:30:0: W50: Invalid unit string 'Angle[deg]' [astropy.io.votable.exceptions]\n",
      "WARNING:astropy:W50: ../data/TGAS/TGAS_ppmxl.vot:30:0: W50: Invalid unit string 'Angle[deg]'\n",
      "WARNING: W50: ../data/TGAS/TGAS_ppmxl.vot:33:0: W50: Invalid unit string 'Angle[deg]' [astropy.io.votable.exceptions]\n",
      "WARNING:astropy:W50: ../data/TGAS/TGAS_ppmxl.vot:33:0: W50: Invalid unit string 'Angle[deg]'\n",
      "WARNING: W50: ../data/TGAS/TGAS_ppmxl.vot:36:0: W50: Invalid unit string 'Magnitude[mag]' [astropy.io.votable.exceptions]\n",
      "WARNING:astropy:W50: ../data/TGAS/TGAS_ppmxl.vot:36:0: W50: Invalid unit string 'Magnitude[mag]'\n",
      "WARNING: W50: ../data/TGAS/TGAS_ppmxl.vot:39:0: W50: Invalid unit string 'Magnitude[mag]' [astropy.io.votable.exceptions]\n",
      "WARNING:astropy:W50: ../data/TGAS/TGAS_ppmxl.vot:39:0: W50: Invalid unit string 'Magnitude[mag]'\n",
      "WARNING: W50: ../data/TGAS/TGAS_ppmxl.vot:42:0: W50: Invalid unit string 'Magnitude[mag]' [astropy.io.votable.exceptions]\n",
      "WARNING:astropy:W50: ../data/TGAS/TGAS_ppmxl.vot:42:0: W50: Invalid unit string 'Magnitude[mag]'\n",
      "WARNING: W50: ../data/TGAS/TGAS_ppmxl.vot:45:0: W50: Invalid unit string 'Magnitude[mag]' [astropy.io.votable.exceptions]\n",
      "WARNING:astropy:W50: ../data/TGAS/TGAS_ppmxl.vot:45:0: W50: Invalid unit string 'Magnitude[mag]'\n",
      "WARNING: W50: ../data/TGAS/TGAS_ppmxl.vot:48:0: W50: Invalid unit string 'Magnitude[mag]' [astropy.io.votable.exceptions]\n",
      "WARNING:astropy:W50: ../data/TGAS/TGAS_ppmxl.vot:48:0: W50: Invalid unit string 'Magnitude[mag]'\n"
     ]
    }
   ],
   "source": [
    "filename = ('../data/TGAS/TGAS_ppmxl.vot')\n",
    "\n",
    "ppmxl = Table.read(filename, format='votable')"
   ]
  },
  {
   "cell_type": "code",
   "execution_count": 90,
   "metadata": {
    "collapsed": false
   },
   "outputs": [
    {
     "name": "stdout",
     "output_type": "stream",
     "text": [
      "0\n"
     ]
    }
   ],
   "source": [
    "# Read in sample from TGAS table\n",
    "dtype = [('source_id','<i8'),('tyc','S11'),('hip','<i8'),\n",
    "         ('ra','<f8'),('dec','<f8'),\n",
    "         ('mu_ra','<f8'),('mu_dec','<f8'), ('mu_ra_err','<f8'),('mu_dec_err','<f8'),\n",
    "         ('plx','<f8'),('plx_err','<f8'),\n",
    "         ('gaia_g_flux','<f8'), ('gaia_g_flux_error','<f8'),\n",
    "         ('URAT_id','<i8'), ('URAT_angle_dist','<f8'),\n",
    "         ('URAT_ra','<f8'), ('URAT_dec','<f8'),\n",
    "         ('URAT_f_mag','<f8'), ('URAT_f_mag_error','<f8'),\n",
    "         ('URAT_b_mag','<f8'), ('URAT_b_mag_error','<f8'),\n",
    "         ('URAT_v_mag','<f8'), ('URAT_v_mag_error','<f8'),\n",
    "         ('URAT_g_mag','<f8'), ('URAT_g_mag_error','<f8'),\n",
    "         ('URAT_r_mag','<f8'), ('URAT_r_mag_error','<f8'),\n",
    "         ('URAT_i_mag','<f8'), ('URAT_i_mag_error','<f8'),\n",
    "         ('TMASS_id','<i8'), ('TMASS_angle_dist','<f8'),\n",
    "         ('TMASS_ra','<f8'), ('TMASS_dec','<f8'),\n",
    "         ('TMASS_j_mag','<f8'), ('TMASS_j_mag_error','<f8'),\n",
    "         ('TMASS_h_mag','<f8'), ('TMASS_h_mag_error','<f8'),         \n",
    "         ('TMASS_ks_mag','<f8'), ('TMASS_ks_mag_error','<f8'),\n",
    "         ('ppmxl_id','<i8'), ('ppmxl_angle_dist','<f8'),\n",
    "         ('ppmxl_ra','<f8'), ('ppmxl_dec','<f8'),\n",
    "         ('ppmxl_b1_mag','<f8'), ('ppmxl_b2_mag','<f8'),\n",
    "         ('ppmxl_r1_mag','<f8'), ('ppmxl_i_mag','<f8')\n",
    "        ]\n",
    "\n",
    "\n",
    "\n",
    "num = len(tgas_full)\n",
    "num = 100\n",
    "\n",
    "tgas_full_combined = np.zeros(num, dtype=dtype)\n",
    "\n",
    "    \n",
    "for i in np.arange(num):\n",
    "\n",
    "    if i%1000 == 0: print i\n",
    "    \n",
    "    \n",
    "    idx1 = np.where(tgas_full[i]['source_id'] == URAT['source_id'])\n",
    "    idx2 = np.where(tgas_full[i]['source_id'] == TWO_MASS['source_id'])\n",
    "    idx3 = np.where(tgas_full[i]['source_id'] == ppmxl['source_id'])\n",
    "\n",
    "    \n",
    "    tgas_full_combined[i]['source_id'] = tgas_full[i]['source_id']\n",
    "    tgas_full_combined[i]['tyc'] = tgas_full[i]['tyc']\n",
    "    tgas_full_combined[i]['hip'] = tgas_full[i]['hip']\n",
    "    tgas_full_combined[i]['ra'] = tgas_full[i]['ra']\n",
    "    tgas_full_combined[i]['dec'] = tgas_full[i]['dec']\n",
    "    tgas_full_combined[i]['mu_ra'] = tgas_full[i]['mu_ra']\n",
    "    tgas_full_combined[i]['mu_ra_err'] = tgas_full[i]['mu_ra_err']\n",
    "    tgas_full_combined[i]['mu_dec'] = tgas_full[i]['mu_dec']\n",
    "    tgas_full_combined[i]['mu_dec_err'] = tgas_full[i]['mu_dec_err']\n",
    "    tgas_full_combined[i]['plx'] = tgas_full[i]['plx']\n",
    "    tgas_full_combined[i]['plx_err'] = tgas_full[i]['plx_err']\n",
    "    tgas_full_combined[i]['gaia_g_flux'] = tgas_full[i]['gaia_g_flux']\n",
    "    tgas_full_combined[i]['gaia_g_flux_error'] = tgas_full[i]['gaia_g_flux_error']\n",
    "\n",
    "    \n",
    "\n",
    "    \n",
    "    if len(idx1[0] > 0):\n",
    "        tgas_full_combined[i]['URAT_id'] = URAT[idx1]['urat1_oid']\n",
    "        tgas_full_combined[i]['URAT_angle_dist'] = URAT[idx1]['angular_distance']\n",
    "        tgas_full_combined[i]['URAT_ra'] = URAT[idx1]['ra']\n",
    "        tgas_full_combined[i]['URAT_dec'] = URAT[idx1]['dec']\n",
    "        tgas_full_combined[i]['URAT_f_mag'] = URAT[idx1]['f_mag']\n",
    "        tgas_full_combined[i]['URAT_f_mag_error'] = URAT[idx1]['f_mag_error']\n",
    "        tgas_full_combined[i]['URAT_b_mag'] = URAT[idx1]['b_mag']\n",
    "        tgas_full_combined[i]['URAT_b_mag_error'] = URAT[idx1]['b_mag_error']\n",
    "        tgas_full_combined[i]['URAT_v_mag'] = URAT[idx1]['v_mag']\n",
    "        tgas_full_combined[i]['URAT_v_mag_error'] = URAT[idx1]['v_mag_error']\n",
    "        tgas_full_combined[i]['URAT_g_mag'] = URAT[idx1]['g_mag']\n",
    "        tgas_full_combined[i]['URAT_g_mag_error'] = URAT[idx1]['g_mag_error']\n",
    "        tgas_full_combined[i]['URAT_r_mag'] = URAT[idx1]['r_mag']\n",
    "        tgas_full_combined[i]['URAT_r_mag_error'] = URAT[idx1]['r_mag_error']\n",
    "        tgas_full_combined[i]['URAT_i_mag'] = URAT[idx1]['i_mag']\n",
    "        tgas_full_combined[i]['URAT_i_mag_error'] = URAT[idx1]['i_mag_error']\n",
    "        \n",
    "        \n",
    "    if len(idx2[0] > 0):\n",
    "        tgas_full_combined[i]['TMASS_id'] = TWO_MASS[idx2]['tmass_oid']\n",
    "        tgas_full_combined[i]['TMASS_angle_dist'] = TWO_MASS[idx2]['angular_distance']\n",
    "        tgas_full_combined[i]['TMASS_ra'] = TWO_MASS[idx2]['ra']\n",
    "        tgas_full_combined[i]['TMASS_dec'] = TWO_MASS[idx2]['dec']\n",
    "        tgas_full_combined[i]['TMASS_j_mag'] = TWO_MASS[idx2]['j_m']\n",
    "        tgas_full_combined[i]['TMASS_j_mag_error'] = TWO_MASS[idx2]['j_msigcom']\n",
    "        tgas_full_combined[i]['TMASS_h_mag'] = TWO_MASS[idx2]['h_m']\n",
    "        tgas_full_combined[i]['TMASS_h_mag_error'] = TWO_MASS[idx2]['h_msigcom']\n",
    "        tgas_full_combined[i]['TMASS_ks_mag'] = TWO_MASS[idx2]['ks_m']\n",
    "        tgas_full_combined[i]['TMASS_ks_mag_error'] = TWO_MASS[idx2]['ks_msigcom']\n",
    "        \n",
    "    if len(idx3[0] > 0):\n",
    "        tgas_full_combined[i]['ppmxl_id'] = ppmxl[idx3]['ppmxl_oid']\n",
    "        tgas_full_combined[i]['ppmxl_angle_dist'] = ppmxl[idx3]['angular_distance']\n",
    "        tgas_full_combined[i]['ppmxl_ra'] = ppmxl[idx3]['ra']\n",
    "        tgas_full_combined[i]['ppmxl_dec'] = ppmxl[idx3]['dec']\n",
    "        tgas_full_combined[i]['ppmxl_b1_mag'] = ppmxl[idx3]['b1mag']\n",
    "        tgas_full_combined[i]['ppmxl_b2_mag'] = ppmxl[idx3]['b2mag']\n",
    "        tgas_full_combined[i]['ppmxl_r1_mag'] = ppmxl[idx3]['r1mag']\n",
    "        tgas_full_combined[i]['ppmxl_i_mag'] = ppmxl[idx3]['imag']"
   ]
  },
  {
   "cell_type": "code",
   "execution_count": 58,
   "metadata": {
    "collapsed": false
   },
   "outputs": [],
   "source": [
    "np.save('../data/TGAS/TGAS_combined', tgas_full_combined)"
   ]
  },
  {
   "cell_type": "code",
   "execution_count": null,
   "metadata": {
    "collapsed": true
   },
   "outputs": [],
   "source": []
  }
 ],
 "metadata": {
  "kernelspec": {
   "display_name": "Python 2",
   "language": "python",
   "name": "python2"
  },
  "language_info": {
   "codemirror_mode": {
    "name": "ipython",
    "version": 2
   },
   "file_extension": ".py",
   "mimetype": "text/x-python",
   "name": "python",
   "nbconvert_exporter": "python",
   "pygments_lexer": "ipython2",
   "version": "2.7.10"
  }
 },
 "nbformat": 4,
 "nbformat_minor": 0
}
