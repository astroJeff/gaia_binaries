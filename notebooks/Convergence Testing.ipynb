{
 "cells": [
  {
   "cell_type": "code",
   "execution_count": 18,
   "metadata": {
    "collapsed": false
   },
   "outputs": [],
   "source": [
    "import sys\n",
    "sys.path.append('../src')\n",
    "import P_binary\n",
    "import P_random\n",
    "import P_posterior\n",
    "import const as c\n",
    "import time\n",
    "import numpy as np\n",
    "import matplotlib.pyplot as plt\n",
    "from astropy.table import Table\n",
    "from numpy.random import normal\n",
    "\n",
    "%matplotlib inline"
   ]
  },
  {
   "cell_type": "markdown",
   "metadata": {},
   "source": [
    "### Load NLTT Catalog"
   ]
  },
  {
   "cell_type": "code",
   "execution_count": 2,
   "metadata": {
    "collapsed": false
   },
   "outputs": [],
   "source": [
    "# Read in sample from Tycho-2 table\n",
    "filename = ('../data/rNLTT/catalog_tabs.dat')\n",
    "t_full = Table.read(filename, format='ascii', guess=True)\n",
    "\n",
    "# Change proper motion units from asec/yr to mas/yr\n",
    "t_full['mu_ra'] = 1.0e3*t_full['mu_ra']\n",
    "t_full['mu_dec'] = 1.0e3*t_full['mu_dec']\n",
    "t_full['mu_ra_err'] = 1.0e3*t_full['mu_ra_err']\n",
    "t_full['mu_dec_err'] = 1.0e3*t_full['mu_dec_err']\n",
    "\n",
    "# Select only stars with proper motion uncertainties greater than 1 mas/yr - remove junk\n",
    "ids_good = np.union1d( np.where(t_full['mu_ra_err'] > 1.0)[0], \\\n",
    "                      np.where(t_full['mu_dec_err'] > 1.0)[0] )\n",
    "t = t_full[ids_good]"
   ]
  },
  {
   "cell_type": "markdown",
   "metadata": {},
   "source": [
    "### Load Chaname & Gould (2004) catalog"
   ]
  },
  {
   "cell_type": "code",
   "execution_count": 3,
   "metadata": {
    "collapsed": true
   },
   "outputs": [],
   "source": [
    "# Read in pairs identified by Chaname & Gould\n",
    "\n",
    "filename_CG = ('../data/rNLTT/Chaname_Gould_pairs.dat')\n",
    "CG_pairs = Table.read(filename_CG, format='cds')\n",
    "CG_pairs = CG_pairs[0:-1]  # Because the last line is blank"
   ]
  },
  {
   "cell_type": "markdown",
   "metadata": {},
   "source": [
    "### Let's pick one pair and test"
   ]
  },
  {
   "cell_type": "code",
   "execution_count": 63,
   "metadata": {
    "collapsed": false
   },
   "outputs": [],
   "source": [
    "id1 = 1012.\n",
    "id2 = 1018.\n",
    "\n",
    "i = np.argmin(np.abs(id1 - t['NLTT']))\n",
    "j = np.argmin(np.abs(id2 - t['NLTT']))\n",
    "\n",
    "star1 = t['ra'][i], t['dec'][i], t['mu_ra'][i], t['mu_dec'][i], \\\n",
    "        t['mu_ra_err'][i], t['mu_dec_err'][i]\n",
    "star2 = t['ra'][j], t['dec'][j], t['mu_ra'][j], t['mu_dec'][j], \\\n",
    "        t['mu_ra_err'][j], t['mu_dec_err'][j]"
   ]
  },
  {
   "cell_type": "code",
   "execution_count": 66,
   "metadata": {
    "collapsed": false
   },
   "outputs": [],
   "source": [
    "pos_density = P_random.get_sigma_pos(star1[0], star1[1], catalog=t, method='kde')\n",
    "pm_density = P_random.get_sigma_mu(star1[2], star1[3], catalog=t, method='kde')\n",
    "\n",
    "delta_pm_ra_err = np.sqrt(star1[4]**2 + star2[4]**2)\n",
    "delta_pm_dec_err = np.sqrt(star1[5]**2 + star2[5]**2)\n",
    "\n",
    "\n",
    "prob_post = np.array([])\n",
    "prob_pos = np.array([])\n",
    "prob_mu = np.array([])\n",
    "num_samples = 10**np.linspace(1, 5, 25)\n",
    "for n in num_samples:\n",
    "\n",
    "    P_post, P_pos, P_mu = P_random.get_P_random_alignment(star1[0], star1[1], star2[0], star2[1],\n",
    "                                    star1[2], star1[3], star2[2], star2[3],\n",
    "                                    delta_mu_ra_err=delta_pm_ra_err, delta_mu_dec_err=delta_pm_dec_err,\n",
    "                                    pos_density=pos_density, pm_density=pm_density,\n",
    "                                    nsamples=n, catalog=t)\n",
    "    \n",
    "    \n",
    "    prob_post = np.append(prob_post, P_post)\n",
    "    prob_pos = np.append(prob_pos, P_pos)\n",
    "    prob_mu = np.append(prob_mu, P_mu)\n",
    "\n",
    "    \n"
   ]
  },
  {
   "cell_type": "code",
   "execution_count": 17,
   "metadata": {
    "collapsed": false
   },
   "outputs": [],
   "source": [
    "P_binary.generate_binary_set(num_sys=100000, dist=100.0)"
   ]
  },
  {
   "cell_type": "code",
   "execution_count": 69,
   "metadata": {
    "collapsed": false
   },
   "outputs": [
    {
     "name": "stderr",
     "output_type": "stream",
     "text": [
      "/Library/Python/2.7/site-packages/ipykernel/__main__.py:8: DeprecationWarning: using a non-integer number instead of an integer will result in an error in the future\n",
      "/Library/Python/2.7/site-packages/ipykernel/__main__.py:9: DeprecationWarning: using a non-integer number instead of an integer will result in an error in the future\n"
     ]
    }
   ],
   "source": [
    "theta = P_random.get_theta_proj_degree(t['ra'][i], t['dec'][i], t['ra'][j], t['dec'][j])\n",
    "\n",
    "\n",
    "prob_bin = np.array([])\n",
    "num_samples = 10**np.linspace(1, 5, 2)\n",
    "for n in num_samples:\n",
    "\n",
    "    delta_mu_ra_sample = normal(loc=(t['mu_ra'][i] - t['mu_ra'][j]), \\\n",
    "                                scale=delta_pm_ra_err, \\\n",
    "                                size=n)\n",
    "    delta_mu_dec_sample = normal(loc=(t['mu_dec'][i] - t['mu_dec'][j]), \\\n",
    "                                 scale=delta_pm_dec_err, \\\n",
    "                                 size=n)\n",
    "    delta_mu_sample = np.sqrt(delta_mu_ra_sample**2 + delta_mu_dec_sample**2)\n",
    "\n",
    "    # Monte Carlo integrate observational uncertainties on delta mu\n",
    "    prob_tmp = P_binary.get_P_binary(theta * 3600.0, delta_mu_sample)\n",
    "    prob_bin = np.append(prob_bin, 1.0/n * np.sum(prob_tmp))\n",
    "    "
   ]
  },
  {
   "cell_type": "code",
   "execution_count": 67,
   "metadata": {
    "collapsed": false
   },
   "outputs": [
    {
     "data": {
      "image/png": "[encoded data removed]",
      "text/plain": [
       "<matplotlib.figure.Figure at 0x11acf9a10>"
      ]
     },
     "metadata": {},
     "output_type": "display_data"
    }
   ],
   "source": [
    "fig, ax = plt.subplots(2,1, figsize=(6,6))\n",
    "\n",
    "\n",
    "ax[0].plot(num_samples, prob_post)\n",
    "ax[1].plot(num_samples, prob_bin)\n",
    "\n",
    "ax[0].set_xscale('log')\n",
    "ax[1].set_xscale('log')\n",
    "    \n",
    "plt.show()"
   ]
  },
  {
   "cell_type": "code",
   "execution_count": null,
   "metadata": {
    "collapsed": true
   },
   "outputs": [],
   "source": []
  }
 ],
 "metadata": {
  "kernelspec": {
   "display_name": "Python 2",
   "language": "python",
   "name": "python2"
  },
  "language_info": {
   "codemirror_mode": {
    "name": "ipython",
    "version": 2
   },
   "file_extension": ".py",
   "mimetype": "text/x-python",
   "name": "python",
   "nbconvert_exporter": "python",
   "pygments_lexer": "ipython2",
   "version": "2.7.10"
  }
 },
 "nbformat": 4,
 "nbformat_minor": 0
}
