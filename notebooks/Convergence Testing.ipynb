{
 "cells": [
  {
   "cell_type": "code",
   "execution_count": 1,
   "metadata": {
    "collapsed": false
   },
   "outputs": [],
   "source": [
    "import sys\n",
    "sys.path.append('../src')\n",
    "import P_binary\n",
    "import P_random\n",
    "import P_posterior\n",
    "import const as c\n",
    "import time\n",
    "import numpy as np\n",
    "import matplotlib.pyplot as plt\n",
    "from astropy.table import Table\n",
    "from numpy.random import normal\n",
    "\n",
    "%matplotlib inline"
   ]
  },
  {
   "cell_type": "markdown",
   "metadata": {},
   "source": [
    "### Load NLTT Catalog"
   ]
  },
  {
   "cell_type": "code",
   "execution_count": 2,
   "metadata": {
    "collapsed": false
   },
   "outputs": [],
   "source": [
    "# Read in sample from Tycho-2 table\n",
    "filename = ('../data/rNLTT/catalog_tabs.dat')\n",
    "t_full = Table.read(filename, format='ascii', guess=True)\n",
    "\n",
    "# Change proper motion units from asec/yr to mas/yr\n",
    "t_full['mu_ra'] = 1.0e3*t_full['mu_ra']\n",
    "t_full['mu_dec'] = 1.0e3*t_full['mu_dec']\n",
    "t_full['mu_ra_err'] = 1.0e3*t_full['mu_ra_err']\n",
    "t_full['mu_dec_err'] = 1.0e3*t_full['mu_dec_err']\n",
    "\n",
    "# Select only stars with proper motion uncertainties greater than 1 mas/yr - remove junk\n",
    "ids_good = np.union1d( np.where(t_full['mu_ra_err'] > 1.0)[0], \\\n",
    "                      np.where(t_full['mu_dec_err'] > 1.0)[0] )\n",
    "t = t_full[ids_good]"
   ]
  },
  {
   "cell_type": "markdown",
   "metadata": {},
   "source": [
    "### Load Chaname & Gould (2004) catalog"
   ]
  },
  {
   "cell_type": "code",
   "execution_count": 3,
   "metadata": {
    "collapsed": true
   },
   "outputs": [],
   "source": [
    "# Read in pairs identified by Chaname & Gould\n",
    "\n",
    "filename_CG = ('../data/rNLTT/Chaname_Gould_pairs.dat')\n",
    "CG_pairs = Table.read(filename_CG, format='cds')\n",
    "CG_pairs = CG_pairs[0:-1]  # Because the last line is blank"
   ]
  },
  {
   "cell_type": "markdown",
   "metadata": {},
   "source": [
    "### Let's pick one pair and test"
   ]
  },
  {
   "cell_type": "code",
   "execution_count": 4,
   "metadata": {
    "collapsed": false
   },
   "outputs": [],
   "source": [
    "id1 = 1012.\n",
    "id2 = 1018.\n",
    "\n",
    "i = np.argmin(np.abs(id1 - t['NLTT']))\n",
    "j = np.argmin(np.abs(id2 - t['NLTT']))\n",
    "\n",
    "star1 = t['ra'][i], t['dec'][i], t['mu_ra'][i], t['mu_dec'][i], \\\n",
    "        t['mu_ra_err'][i], t['mu_dec_err'][i]\n",
    "star2 = t['ra'][j], t['dec'][j], t['mu_ra'][j], t['mu_dec'][j], \\\n",
    "        t['mu_ra_err'][j], t['mu_dec_err'][j]"
   ]
  },
  {
   "cell_type": "code",
   "execution_count": 5,
   "metadata": {
    "collapsed": false
   },
   "outputs": [
    {
     "name": "stderr",
     "output_type": "stream",
     "text": [
      "../src/P_random.py:304: VisibleDeprecationWarning: using a non-integer number instead of an integer will result in an error in the future\n",
      "  delta_mu_ra = normal(loc=(mu_ra1-mu_ra2), scale=delta_mu_ra_err, size=nsamples)\n",
      "../src/P_random.py:305: VisibleDeprecationWarning: using a non-integer number instead of an integer will result in an error in the future\n",
      "  delta_mu_dec = normal(loc=(mu_dec1-mu_dec2), scale=delta_mu_dec_err, size=nsamples)\n"
     ]
    }
   ],
   "source": [
    "pos_density = P_random.get_sigma_pos(star1[0], star1[1], catalog=t, method='kde')\n",
    "pm_density = P_random.get_sigma_mu(star1[2], star1[3], catalog=t, method='kde')\n",
    "\n",
    "delta_pm_ra_err = np.sqrt(star1[4]**2 + star2[4]**2)\n",
    "delta_pm_dec_err = np.sqrt(star1[5]**2 + star2[5]**2)\n",
    "\n",
    "\n",
    "prob_post = np.array([])\n",
    "prob_pos = np.array([])\n",
    "prob_mu = np.array([])\n",
    "num_samples = 10**np.linspace(1, 5, 25)\n",
    "for n in num_samples:\n",
    "\n",
    "    P_post, P_pos, P_mu = P_random.get_P_random_alignment(star1[0], star1[1], star2[0], star2[1],\n",
    "                                    star1[2], star1[3], star2[2], star2[3],\n",
    "                                    delta_mu_ra_err=delta_pm_ra_err, delta_mu_dec_err=delta_pm_dec_err,\n",
    "                                    pos_density=pos_density, pm_density=pm_density,\n",
    "                                    nsamples=n, catalog=t)\n",
    "    \n",
    "    \n",
    "    prob_post = np.append(prob_post, P_post)\n",
    "    prob_pos = np.append(prob_pos, P_pos)\n",
    "    prob_mu = np.append(prob_mu, P_mu)\n",
    "\n",
    "    \n"
   ]
  },
  {
   "cell_type": "code",
   "execution_count": 7,
   "metadata": {
    "collapsed": false
   },
   "outputs": [],
   "source": [
    "P_binary.generate_binary_set(num_sys=100000)"
   ]
  },
  {
   "cell_type": "code",
   "execution_count": 8,
   "metadata": {
    "collapsed": false
   },
   "outputs": [
    {
     "name": "stderr",
     "output_type": "stream",
     "text": [
      "/usr/local/lib/python2.7/dist-packages/ipykernel/__main__.py:8: VisibleDeprecationWarning: using a non-integer number instead of an integer will result in an error in the future\n",
      "/usr/local/lib/python2.7/dist-packages/ipykernel/__main__.py:9: VisibleDeprecationWarning: using a non-integer number instead of an integer will result in an error in the future\n"
     ]
    },
    {
     "ename": "KeyboardInterrupt",
     "evalue": "",
     "output_type": "error",
     "traceback": [
      "\u001b[1;31m---------------------------------------------------------------------------\u001b[0m",
      "\u001b[1;31mKeyboardInterrupt\u001b[0m                         Traceback (most recent call last)",
      "\u001b[1;32m<ipython-input-8-dbd76cb5c3d4>\u001b[0m in \u001b[0;36m<module>\u001b[1;34m()\u001b[0m\n\u001b[0;32m     11\u001b[0m \u001b[1;33m\u001b[0m\u001b[0m\n\u001b[0;32m     12\u001b[0m     \u001b[1;31m# Monte Carlo integrate observational uncertainties on delta mu\u001b[0m\u001b[1;33m\u001b[0m\u001b[1;33m\u001b[0m\u001b[0m\n\u001b[1;32m---> 13\u001b[1;33m     \u001b[0mprob_tmp\u001b[0m \u001b[1;33m=\u001b[0m \u001b[0mP_binary\u001b[0m\u001b[1;33m.\u001b[0m\u001b[0mget_P_binary\u001b[0m\u001b[1;33m(\u001b[0m\u001b[0mtheta\u001b[0m \u001b[1;33m*\u001b[0m \u001b[1;36m3600.0\u001b[0m\u001b[1;33m,\u001b[0m \u001b[0mdelta_mu_sample\u001b[0m\u001b[1;33m)\u001b[0m\u001b[1;33m\u001b[0m\u001b[0m\n\u001b[0m\u001b[0;32m     14\u001b[0m     \u001b[0mprob_bin\u001b[0m \u001b[1;33m=\u001b[0m \u001b[0mnp\u001b[0m\u001b[1;33m.\u001b[0m\u001b[0mappend\u001b[0m\u001b[1;33m(\u001b[0m\u001b[0mprob_bin\u001b[0m\u001b[1;33m,\u001b[0m \u001b[1;36m1.0\u001b[0m\u001b[1;33m/\u001b[0m\u001b[0mn\u001b[0m \u001b[1;33m*\u001b[0m \u001b[0mnp\u001b[0m\u001b[1;33m.\u001b[0m\u001b[0msum\u001b[0m\u001b[1;33m(\u001b[0m\u001b[0mprob_tmp\u001b[0m\u001b[1;33m)\u001b[0m\u001b[1;33m)\u001b[0m\u001b[1;33m\u001b[0m\u001b[0m\n\u001b[0;32m     15\u001b[0m \u001b[1;33m\u001b[0m\u001b[0m\n",
      "\u001b[1;32m/home/andrews/Research/gaia_binaries/src/P_binary.pyc\u001b[0m in \u001b[0;36mget_P_binary\u001b[1;34m(proj_sep, delta_v_trans, num_sys, method)\u001b[0m\n\u001b[0;32m    339\u001b[0m         \u001b[1;32melif\u001b[0m \u001b[0misinstance\u001b[0m\u001b[1;33m(\u001b[0m\u001b[0mdelta_v_trans\u001b[0m\u001b[1;33m,\u001b[0m \u001b[0mnp\u001b[0m\u001b[1;33m.\u001b[0m\u001b[0mndarray\u001b[0m\u001b[1;33m)\u001b[0m\u001b[1;33m:\u001b[0m\u001b[1;33m\u001b[0m\u001b[0m\n\u001b[0;32m    340\u001b[0m             \u001b[0mvalues\u001b[0m \u001b[1;33m=\u001b[0m \u001b[0mnp\u001b[0m\u001b[1;33m.\u001b[0m\u001b[0mvstack\u001b[0m\u001b[1;33m(\u001b[0m\u001b[1;33m[\u001b[0m\u001b[0mproj_sep\u001b[0m\u001b[1;33m*\u001b[0m\u001b[0mnp\u001b[0m\u001b[1;33m.\u001b[0m\u001b[0mones\u001b[0m\u001b[1;33m(\u001b[0m\u001b[0mlen\u001b[0m\u001b[1;33m(\u001b[0m\u001b[0mdelta_v_trans\u001b[0m\u001b[1;33m)\u001b[0m\u001b[1;33m)\u001b[0m\u001b[1;33m,\u001b[0m \u001b[0mdelta_v_trans\u001b[0m\u001b[1;33m]\u001b[0m\u001b[1;33m)\u001b[0m\u001b[1;33m\u001b[0m\u001b[0m\n\u001b[1;32m--> 341\u001b[1;33m             \u001b[0mprob_binary\u001b[0m \u001b[1;33m=\u001b[0m \u001b[0mbinary_kde\u001b[0m\u001b[1;33m.\u001b[0m\u001b[0mevaluate\u001b[0m\u001b[1;33m(\u001b[0m\u001b[0mvalues\u001b[0m\u001b[1;33m)\u001b[0m\u001b[1;33m\u001b[0m\u001b[0m\n\u001b[0m\u001b[0;32m    342\u001b[0m         \u001b[1;32melse\u001b[0m\u001b[1;33m:\u001b[0m\u001b[1;33m\u001b[0m\u001b[0m\n\u001b[0;32m    343\u001b[0m             \u001b[0mprob_binary\u001b[0m \u001b[1;33m=\u001b[0m \u001b[0mbinary_kde\u001b[0m\u001b[1;33m.\u001b[0m\u001b[0mevaluate\u001b[0m\u001b[1;33m(\u001b[0m\u001b[1;33m[\u001b[0m\u001b[0mproj_sep\u001b[0m\u001b[1;33m,\u001b[0m \u001b[0mdelta_v_trans\u001b[0m\u001b[1;33m]\u001b[0m\u001b[1;33m)\u001b[0m\u001b[1;33m\u001b[0m\u001b[0m\n",
      "\u001b[1;32m/usr/local/lib/python2.7/dist-packages/scipy/stats/kde.pyc\u001b[0m in \u001b[0;36mevaluate\u001b[1;34m(self, points)\u001b[0m\n\u001b[0;32m    212\u001b[0m                 \u001b[0mtdiff\u001b[0m \u001b[1;33m=\u001b[0m \u001b[0mdot\u001b[0m\u001b[1;33m(\u001b[0m\u001b[0mself\u001b[0m\u001b[1;33m.\u001b[0m\u001b[0minv_cov\u001b[0m\u001b[1;33m,\u001b[0m \u001b[0mdiff\u001b[0m\u001b[1;33m)\u001b[0m\u001b[1;33m\u001b[0m\u001b[0m\n\u001b[0;32m    213\u001b[0m                 \u001b[0menergy\u001b[0m \u001b[1;33m=\u001b[0m \u001b[0msum\u001b[0m\u001b[1;33m(\u001b[0m\u001b[0mdiff\u001b[0m\u001b[1;33m*\u001b[0m\u001b[0mtdiff\u001b[0m\u001b[1;33m,\u001b[0m\u001b[0maxis\u001b[0m\u001b[1;33m=\u001b[0m\u001b[1;36m0\u001b[0m\u001b[1;33m)\u001b[0m \u001b[1;33m/\u001b[0m \u001b[1;36m2.0\u001b[0m\u001b[1;33m\u001b[0m\u001b[0m\n\u001b[1;32m--> 214\u001b[1;33m                 \u001b[0mresult\u001b[0m \u001b[1;33m=\u001b[0m \u001b[0mresult\u001b[0m \u001b[1;33m+\u001b[0m \u001b[0mexp\u001b[0m\u001b[1;33m(\u001b[0m\u001b[1;33m-\u001b[0m\u001b[0menergy\u001b[0m\u001b[1;33m)\u001b[0m\u001b[1;33m\u001b[0m\u001b[0m\n\u001b[0m\u001b[0;32m    215\u001b[0m         \u001b[1;32melse\u001b[0m\u001b[1;33m:\u001b[0m\u001b[1;33m\u001b[0m\u001b[0m\n\u001b[0;32m    216\u001b[0m             \u001b[1;31m# loop over points\u001b[0m\u001b[1;33m\u001b[0m\u001b[1;33m\u001b[0m\u001b[0m\n",
      "\u001b[1;31mKeyboardInterrupt\u001b[0m: "
     ]
    }
   ],
   "source": [
    "theta = P_random.get_theta_proj_degree(t['ra'][i], t['dec'][i], t['ra'][j], t['dec'][j])\n",
    "\n",
    "\n",
    "prob_bin = np.array([])\n",
    "num_samples = 10**np.linspace(1, 5, 2)\n",
    "for n in num_samples:\n",
    "\n",
    "    delta_mu_ra_sample = normal(loc=(t['mu_ra'][i] - t['mu_ra'][j]), \\\n",
    "                                scale=delta_pm_ra_err, \\\n",
    "                                size=n)\n",
    "    delta_mu_dec_sample = normal(loc=(t['mu_dec'][i] - t['mu_dec'][j]), \\\n",
    "                                 scale=delta_pm_dec_err, \\\n",
    "                                 size=n)\n",
    "    delta_mu_sample = np.sqrt(delta_mu_ra_sample**2 + delta_mu_dec_sample**2)\n",
    "\n",
    "    # Monte Carlo integrate observational uncertainties on delta mu\n",
    "    prob_tmp = P_binary.get_P_binary(theta * 3600.0, delta_mu_sample)\n",
    "    prob_bin = np.append(prob_bin, 1.0/n * np.sum(prob_tmp))\n",
    "    "
   ]
  },
  {
   "cell_type": "code",
   "execution_count": 67,
   "metadata": {
    "collapsed": false
   },
   "outputs": [
    {
     "data": {
      "image/png": "[encoded data removed]",
      "text/plain": [
       "<matplotlib.figure.Figure at 0x11acf9a10>"
      ]
     },
     "metadata": {},
     "output_type": "display_data"
    }
   ],
   "source": [
    "fig, ax = plt.subplots(2,1, figsize=(6,6))\n",
    "\n",
    "\n",
    "ax[0].plot(num_samples, prob_post)\n",
    "ax[1].plot(num_samples, prob_bin)\n",
    "\n",
    "ax[0].set_xscale('log')\n",
    "ax[1].set_xscale('log')\n",
    "    \n",
    "plt.show()"
   ]
  },
  {
   "cell_type": "markdown",
   "metadata": {
    "collapsed": true
   },
   "source": [
    "### Now, let's test the convergence of get_P_random_alignment"
   ]
  },
  {
   "cell_type": "code",
   "execution_count": 17,
   "metadata": {
    "collapsed": false
   },
   "outputs": [
    {
     "data": {
      "image/png": "[encoded data removed]",
      "text/plain": [
       "<matplotlib.figure.Figure at 0x7f733403a450>"
      ]
     },
     "metadata": {},
     "output_type": "display_data"
    }
   ],
   "source": [
    "delta_mu_ra_err = np.sqrt(star1[4]**2 + star2[4]**2)\n",
    "delta_mu_dec_err = np.sqrt(star1[5]**2 + star2[5]**2)\n",
    "    \n",
    "\n",
    "num_samples = 10**np.linspace(1, 5, 100)\n",
    "prob_random_out = np.array([])\n",
    "for n in num_samples:\n",
    "\n",
    "    prob_random, prob_pos, prob_mu = P_random.get_P_random_alignment(star1[0], star1[1], star2[0], star2[1],\n",
    "                                      star1[2], star1[3], star2[2], star2[3],\n",
    "                                      delta_mu_ra_err=delta_mu_ra_err, delta_mu_dec_err=delta_mu_dec_err,\n",
    "                                      nsamples=n,\n",
    "                                      catalog=t)\n",
    "    \n",
    "    prob_random_out = np.append(prob_random_out, prob_random)\n",
    "    \n",
    "    \n",
    "fig, ax = plt.subplots(2,1, figsize=(6,6))\n",
    "    \n",
    "ax[0].plot(num_samples, prob_random_out, color='k')\n",
    "ax[0].set_xscale('log')\n",
    "\n",
    "ax[1].plot(num_samples, (prob_random_out-prob_random_out[-1])/prob_random_out[-1], color='k')\n",
    "ax[1].set_xscale('log')\n",
    "\n",
    "plt.show()"
   ]
  },
  {
   "cell_type": "markdown",
   "metadata": {
    "collapsed": true
   },
   "source": [
    "### Let's perform convergence on the full posterior on one particular sample"
   ]
  },
  {
   "cell_type": "code",
   "execution_count": 2,
   "metadata": {
    "collapsed": false
   },
   "outputs": [
    {
     "name": "stdout",
     "output_type": "stream",
     "text": [
      "../data/TGAS/TgasSource_000-000-000.csv\n",
      "../data/TGAS/TgasSource_000-000-001.csv\n",
      "../data/TGAS/TgasSource_000-000-002.csv\n",
      "../data/TGAS/TgasSource_000-000-003.csv\n",
      "../data/TGAS/TgasSource_000-000-004.csv\n",
      "../data/TGAS/TgasSource_000-000-005.csv\n",
      "../data/TGAS/TgasSource_000-000-006.csv\n",
      "../data/TGAS/TgasSource_000-000-007.csv\n",
      "../data/TGAS/TgasSource_000-000-008.csv\n",
      "../data/TGAS/TgasSource_000-000-009.csv\n",
      "../data/TGAS/TgasSource_000-000-010.csv\n",
      "../data/TGAS/TgasSource_000-000-011.csv\n",
      "../data/TGAS/TgasSource_000-000-012.csv\n",
      "../data/TGAS/TgasSource_000-000-013.csv\n",
      "../data/TGAS/TgasSource_000-000-014.csv\n",
      "../data/TGAS/TgasSource_000-000-015.csv\n"
     ]
    }
   ],
   "source": [
    "# First we load the catalog\n",
    "# Read in sample from TGAS table\n",
    "dtype = [('ID','<i8'),('tyc','S11'),('hip','<i8'),('ra','<f8'),('dec','<f8'),('mu_ra','<f8'),('mu_dec','<f8'), \\\n",
    "     ('mu_ra_err','<f8'),('mu_dec_err','<f8'),('plx','<f8'),('plx_err','<f8'),('d_Q','<f8'),('noise','<f8')]\n",
    "\n",
    "tgas_full = np.array([], dtype=dtype)\n",
    "\n",
    "for i in np.arange(16):\n",
    "    if i < 10:\n",
    "        filename = ('../data/TGAS/TgasSource_000-000-00' + str(i) + '.csv')\n",
    "    else:\n",
    "        filename = ('../data/TGAS/TgasSource_000-000-0' + str(i) + '.csv')\n",
    "\n",
    "    print filename\n",
    "    tgas_tmp = Table.read(filename, format='csv', guess=True)\n",
    "\n",
    "\n",
    "\n",
    "    tgas = np.zeros(len(tgas_tmp), dtype=dtype)\n",
    "                                                  # Gaia units\n",
    "    tgas['ID'] = tgas_tmp['source_id']\n",
    "    tgas['tyc'] = tgas_tmp['tycho2_id']\n",
    "    tgas['hip'] = tgas_tmp['hip']\n",
    "    tgas['ra'] = tgas_tmp['ra']                   # degrees\n",
    "    tgas['dec'] = tgas_tmp['dec']                 # degrees\n",
    "    tgas['mu_ra'] = tgas_tmp['pmra']              # mas/yr\n",
    "    tgas['mu_ra_err'] = tgas_tmp['pmra_error']    # mas/yr\n",
    "    tgas['mu_dec'] = tgas_tmp['pmdec']            # mas/yr\n",
    "    tgas['mu_dec_err'] = tgas_tmp['pmdec_error']  # mas/yr\n",
    "    tgas['plx'] = tgas_tmp['parallax']            # mas\n",
    "    tgas['plx_err'] = tgas_tmp['parallax_error']  # mas\n",
    "    tgas['d_Q'] = tgas_tmp['astrometric_delta_q']\n",
    "    tgas['noise'] = tgas_tmp['astrometric_excess_noise_sig']\n",
    "\n",
    "    tgas_full = np.append(tgas_full, tgas)"
   ]
  },
  {
   "cell_type": "markdown",
   "metadata": {},
   "source": [
    "### First, let's show convergence on the integral for the normalization constant"
   ]
  },
  {
   "cell_type": "code",
   "execution_count": 5,
   "metadata": {
    "collapsed": false
   },
   "outputs": [
    {
     "data": {
      "image/png": "[encoded data removed]",
      "text/plain": [
       "<matplotlib.figure.Figure at 0x7fdd900920d0>"
      ]
     },
     "metadata": {},
     "output_type": "display_data"
    }
   ],
   "source": [
    "ntot = 50\n",
    "num_samples = (10**np.linspace(1, 6, ntot)).astype('i8')\n",
    "const_norm = np.zeros(ntot)\n",
    "\n",
    "for i, n in zip(np.arange(ntot), num_samples):\n",
    "    P_random.set_prior_normalization(tgas_full, num_sys=n)\n",
    "    \n",
    "    const_norm[i] = P_random.C1_prior_norm\n",
    "    \n",
    "plt.plot(num_samples, const_norm, color='k')\n",
    "plt.xscale('log')\n",
    "\n",
    "plt.show()"
   ]
  },
  {
   "cell_type": "markdown",
   "metadata": {},
   "source": [
    "### Now, let's show convergence of probabilities as a function of random draws for Monte Carlo integration"
   ]
  },
  {
   "cell_type": "code",
   "execution_count": 16,
   "metadata": {
    "collapsed": false
   },
   "outputs": [
    {
     "name": "stdout",
     "output_type": "stream",
     "text": [
      "Generating binaries...\n",
      "Done generating binaries\n",
      "Calculating normalization for random alignment prior...\n",
      "Done setting prior.\n",
      "We are testing 2057050 stars...\n",
      "Elapsed time: 2.28462314606 seconds\n",
      "Generating binaries...\n",
      "Done generating binaries\n",
      "Calculating normalization for random alignment prior...\n",
      "Done setting prior.\n",
      "We are testing 2057050 stars...\n",
      "Elapsed time: 2.45246505737 seconds\n",
      "Generating binaries...\n",
      "Done generating binaries\n",
      "Calculating normalization for random alignment prior...\n",
      "Done setting prior.\n",
      "We are testing 2057050 stars...\n",
      "Elapsed time: 2.84337091446 seconds\n",
      "Generating binaries...\n",
      "Done generating binaries\n",
      "Calculating normalization for random alignment prior...\n",
      "Done setting prior.\n",
      "We are testing 2057050 stars...\n",
      "50007 50008 241194746185660544 241194746185661952 30.5089382703 -0.0847370074823 -5.00820833566 0.73817781164 -6.59565508119 1.62887967183 0.224643229387 1.21301046194 0.343632579799 3.6562466983e-09 0.00390921425038 0.469943671752\n",
      "Elapsed time: 3.1096739769 seconds\n",
      "Generating binaries...\n",
      "Done generating binaries\n",
      "Calculating normalization for random alignment prior...\n",
      "Done setting prior.\n",
      "We are testing 2057050 stars...\n",
      "50007 50008 241194746185660544 241194746185661952 30.5089382703 -0.0847370074823 -5.00820833566 0.73817781164 -6.59565508119 1.62887967183 0.224643229387 1.21301046194 0.343632579799 4.88358421709e-09 0.00804657697055 0.501970595482\n",
      "Elapsed time: 3.57951498032 seconds\n",
      "Generating binaries...\n",
      "Done generating binaries\n",
      "Calculating normalization for random alignment prior...\n",
      "Done setting prior.\n",
      "We are testing 2057050 stars...\n",
      "50007 50008 241194746185660544 241194746185661952 30.5089382703 -0.0847370074823 -5.00820833566 0.73817781164 -6.59565508119 1.62887967183 0.224643229387 1.21301046194 0.343632579799 6.26830069526e-10 3.27924949675e-05 0.204219915436\n",
      "Elapsed time: 4.41599202156 seconds\n",
      "Generating binaries...\n",
      "Done generating binaries\n",
      "Calculating normalization for random alignment prior...\n",
      "Done setting prior.\n",
      "We are testing 2057050 stars...\n",
      "50007 50008 241194746185660544 241194746185661952 30.5089382703 -0.0847370074823 -5.00820833566 0.73817781164 -6.59565508119 1.62887967183 0.224643229387 1.21301046194 0.343632579799 3.88703936393e-09 0.00207603370409 0.303704213856\n",
      "Elapsed time: 6.12860107422 seconds\n",
      "Generating binaries...\n",
      "Done generating binaries\n",
      "Calculating normalization for random alignment prior...\n",
      "Done setting prior.\n",
      "We are testing 2057050 stars...\n",
      "50007 50008 241194746185660544 241194746185661952 30.5089382703 -0.0847370074823 -5.00820833566 0.73817781164 -6.59565508119 1.62887967183 0.224643229387 1.21301046194 0.343632579799 3.07566098247e-09 9.23537892329e-05 0.0286610452617\n",
      "Elapsed time: 7.24204993248 seconds\n",
      "Generating binaries...\n",
      "Done generating binaries\n",
      "Calculating normalization for random alignment prior...\n",
      "Done setting prior.\n",
      "We are testing 2057050 stars...\n",
      "50007 50008 241194746185660544 241194746185661952 30.5089382703 -0.0847370074823 -5.00820833566 0.73817781164 -6.59565508119 1.62887967183 0.224643229387 1.21301046194 0.343632579799 5.37076939868e-09 0.00199945542661 0.167328939495\n",
      "Elapsed time: 9.58538603783 seconds\n",
      "Generating binaries...\n",
      "Done generating binaries\n",
      "Calculating normalization for random alignment prior...\n",
      "Done setting prior.\n",
      "We are testing 2057050 stars...\n",
      "50007 50008 241194746185660544 241194746185661952 30.5089382703 -0.0847370074823 -5.00820833566 0.73817781164 -6.59565508119 1.62887967183 0.224643229387 1.21301046194 0.343632579799 2.46499685278e-09 0.00891709937793 0.816177055122\n",
      "Elapsed time: 12.965433836 seconds\n",
      "Generating binaries...\n",
      "Done generating binaries\n",
      "Calculating normalization for random alignment prior...\n",
      "Done setting prior.\n",
      "We are testing 2057050 stars...\n",
      "50007 50008 241194746185660544 241194746185661952 30.5089382703 -0.0847370074823 -5.00820833566 0.73817781164 -6.59565508119 1.62887967183 0.224643229387 1.21301046194 0.343632579799 5.08640590927e-09 0.00106345680273 0.102411387635\n",
      "Elapsed time: 18.6233241558 seconds\n",
      "Generating binaries...\n",
      "Done generating binaries\n",
      "Calculating normalization for random alignment prior...\n",
      "Done setting prior.\n",
      "We are testing 2057050 stars...\n",
      "50007 50008 241194746185660544 241194746185661952 30.5089382703 -0.0847370074823 -5.00820833566 0.73817781164 -6.59565508119 1.62887967183 0.224643229387 1.21301046194 0.343632579799 4.88974446904e-09 0.00228314647488 0.221624923839\n",
      "Elapsed time: 26.1795730591 seconds\n",
      "Generating binaries...\n",
      "Done generating binaries\n",
      "Calculating normalization for random alignment prior...\n",
      "Done setting prior.\n",
      "We are testing 2057050 stars...\n",
      "50007 50008 241194746185660544 241194746185661952 30.5089382703 -0.0847370074823 -5.00820833566 0.73817781164 -6.59565508119 1.62887967183 0.224643229387 1.21301046194 0.343632579799 3.03113165416e-09 0.00261673935163 0.459129933525\n",
      "Elapsed time: 35.1062259674 seconds\n",
      "Generating binaries...\n",
      "Done generating binaries\n",
      "Calculating normalization for random alignment prior...\n",
      "Done setting prior.\n",
      "We are testing 2057050 stars...\n",
      "50007 50008 241194746185660544 241194746185661952 30.5089382703 -0.0847370074823 -5.00820833566 0.73817781164 -6.59565508119 1.62887967183 0.224643229387 1.21301046194 0.343632579799 6.45250487901e-09 0.00434986690166 0.230559560081\n",
      "Elapsed time: 50.111082077 seconds\n",
      "Generating binaries...\n",
      "Done generating binaries\n",
      "Calculating normalization for random alignment prior...\n",
      "Done setting prior.\n",
      "We are testing 2057050 stars...\n",
      "50007 50008 241194746185660544 241194746185661952 30.5089382703 -0.0847370074823 -5.00820833566 0.73817781164 -6.59565508119 1.62887967183 0.224643229387 1.21301046194 0.343632579799 2.91657465581e-09 0.00811028886891 0.733033105217\n",
      "Elapsed time: 71.3540580273 seconds\n",
      "Generating binaries...\n",
      "Done generating binaries\n",
      "Calculating normalization for random alignment prior...\n",
      "Done setting prior.\n",
      "We are testing 2057050 stars...\n",
      "50007 50008 241194746185660544 241194746185661952 30.5089382703 -0.0847370074823 -5.00820833566 0.73817781164 -6.59565508119 1.62887967183 0.224643229387 1.21301046194 0.343632579799 4.15733400779e-09 0.00872467793927 0.594341531298\n",
      "Elapsed time: 102.673563004 seconds\n",
      "Generating binaries...\n",
      "Done generating binaries\n",
      "Calculating normalization for random alignment prior...\n",
      "Done setting prior.\n",
      "We are testing 2057050 stars...\n",
      "50007 50008 241194746185660544 241194746185661952 30.5089382703 -0.0847370074823 -5.00820833566 0.73817781164 -6.59565508119 1.62887967183 0.224643229387 1.21301046194 0.343632579799 2.32376971196e-09 0.00572504664642 0.751122155717\n",
      "Elapsed time: 146.489568949 seconds\n",
      "Generating binaries...\n",
      "Done generating binaries\n",
      "Calculating normalization for random alignment prior...\n",
      "Done setting prior.\n",
      "We are testing 2057050 stars...\n",
      "50007 50008 241194746185660544 241194746185661952 30.5089382703 -0.0847370074823 -5.00820833566 0.73817781164 -6.59565508119 1.62887967183 0.224643229387 1.21301046194 0.343632579799 2.37097217658e-09 0.00877531214835 0.81852511739\n",
      "Elapsed time: 209.360169888 seconds\n",
      "Generating binaries...\n",
      "Done generating binaries\n",
      "Calculating normalization for random alignment prior...\n",
      "Done setting prior.\n",
      "We are testing 2057050 stars...\n",
      "50007 50008 241194746185660544 241194746185661952 30.5089382703 -0.0847370074823 -5.00820833566 0.73817781164 -6.59565508119 1.62887967183 0.224643229387 1.21301046194 0.343632579799 4.31544234228e-09 0.00843191684174 0.578699979637\n",
      "Elapsed time: 301.563971043 seconds\n",
      "Generating binaries...\n",
      "Done generating binaries\n",
      "Calculating normalization for random alignment prior...\n",
      "Done setting prior.\n",
      "We are testing 2057050 stars...\n",
      "50007 50008 241194746185660544 241194746185661952 30.5089382703 -0.0847370074823 -5.00820833566 0.73817781164 -6.59565508119 1.62887967183 0.224643229387 1.21301046194 0.343632579799 1.87178069628e-09 0.00573681748374 0.833940338476\n",
      "Elapsed time: 430.794703007 seconds\n"
     ]
    }
   ],
   "source": [
    "import types\n",
    "\n",
    "ntot = 20\n",
    "num_samples = (10**np.linspace(2, 5, ntot)).astype('i8')\n",
    "prob_posterior = np.zeros(ntot)\n",
    "prob_binary = np.zeros(ntot)\n",
    "prob_random = np.zeros(ntot)\n",
    "\n",
    "\n",
    "for i, n in zip(np.arange(ntot), num_samples):\n",
    "    prob_out = P_posterior.match_binaries(tgas_full, sys_start=50007, subsample=1, \n",
    "                                          size_integrate_full=n, size_integrate_plx=n)\n",
    "    \n",
    "    if prob_out.shape == (0,): continue\n",
    "        \n",
    "    prob_posterior[i] = prob_out['P_posterior'][0]\n",
    "    prob_binary[i] = prob_out['P_binary'][0]\n",
    "    prob_random[i] = prob_out['P_random'][0]"
   ]
  },
  {
   "cell_type": "code",
   "execution_count": 18,
   "metadata": {
    "collapsed": false
   },
   "outputs": [
    {
     "data": {
      "image/png": "[encoded data removed]",
      "text/plain": [
       "<matplotlib.figure.Figure at 0x7f587bf41ed0>"
      ]
     },
     "metadata": {},
     "output_type": "display_data"
    }
   ],
   "source": [
    "fig, ax = plt.subplots(1, 3, figsize=(12,4))\n",
    "\n",
    "ax[0].plot(num_samples, prob_binary, color='r')\n",
    "ax[1].plot(num_samples, prob_random, color='b')\n",
    "ax[2].plot(num_samples, prob_posterior, color='k')\n",
    "\n",
    "for a in ax:\n",
    "    a.set_xscale('log')\n",
    "    a.set_yscale('log')\n",
    "\n",
    "ax[0].set_ylim(1.0e-5, 2.0e-2)\n",
    "ax[1].set_ylim(1.0e-10, 2.0e-8)\n",
    "ax[2].set_ylim(1.0e-2, 2.0)\n",
    "\n",
    "plt.show()"
   ]
  },
  {
   "cell_type": "code",
   "execution_count": null,
   "metadata": {
    "collapsed": true
   },
   "outputs": [],
   "source": []
  }
 ],
 "metadata": {
  "kernelspec": {
   "display_name": "Python 2",
   "language": "python",
   "name": "python2"
  },
  "language_info": {
   "codemirror_mode": {
    "name": "ipython",
    "version": 2
   },
   "file_extension": ".py",
   "mimetype": "text/x-python",
   "name": "python",
   "nbconvert_exporter": "python",
   "pygments_lexer": "ipython2",
   "version": "2.7.10"
  }
 },
 "nbformat": 4,
 "nbformat_minor": 0
}
