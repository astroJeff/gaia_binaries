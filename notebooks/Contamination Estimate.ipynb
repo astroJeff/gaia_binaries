{
 "cells": [
  {
   "cell_type": "code",
   "execution_count": 38,
   "metadata": {
    "collapsed": false
   },
   "outputs": [],
   "source": [
    "import numpy as np\n",
    "import matplotlib.pyplot as plt\n",
    "from matplotlib import font_manager\n",
    "\n",
    "%matplotlib inline"
   ]
  },
  {
   "cell_type": "code",
   "execution_count": 2,
   "metadata": {
    "collapsed": false
   },
   "outputs": [
    {
     "ename": "OSError",
     "evalue": "../data/RAVE/FINAL_RAVE_GAIA_ID.dat not found.",
     "output_type": "error",
     "traceback": [
      "\u001b[0;31m---------------------------------------------------------------------------\u001b[0m",
      "\u001b[0;31mOSError\u001b[0m                                   Traceback (most recent call last)",
      "\u001b[0;32m<ipython-input-2-f0575b893def>\u001b[0m in \u001b[0;36m<module>\u001b[0;34m()\u001b[0m\n\u001b[0;32m----> 1\u001b[0;31m \u001b[0mRAVE\u001b[0m \u001b[0;34m=\u001b[0m \u001b[0mnp\u001b[0m\u001b[0;34m.\u001b[0m\u001b[0mgenfromtxt\u001b[0m\u001b[0;34m(\u001b[0m\u001b[0;34m\"../data/RAVE/FINAL_RAVE_GAIA_ID.dat\"\u001b[0m\u001b[0;34m,\u001b[0m \u001b[0mnames\u001b[0m\u001b[0;34m=\u001b[0m\u001b[0;32mTrue\u001b[0m\u001b[0;34m)\u001b[0m\u001b[0;34m\u001b[0m\u001b[0m\n\u001b[0m\u001b[1;32m      2\u001b[0m \u001b[0;34m\u001b[0m\u001b[0m\n\u001b[1;32m      3\u001b[0m \u001b[0mlog_flat\u001b[0m \u001b[0;34m=\u001b[0m \u001b[0mnp\u001b[0m\u001b[0;34m.\u001b[0m\u001b[0mgenfromtxt\u001b[0m\u001b[0;34m(\u001b[0m\u001b[0;34m\"../data/TGAS/gaia_wide_binaries_TGAS_plx_exponential_cleaned.txt\"\u001b[0m\u001b[0;34m,\u001b[0m \u001b[0mnames\u001b[0m\u001b[0;34m=\u001b[0m\u001b[0;32mTrue\u001b[0m\u001b[0;34m)\u001b[0m\u001b[0;34m\u001b[0m\u001b[0m\n\u001b[1;32m      4\u001b[0m \u001b[0mpower_law\u001b[0m \u001b[0;34m=\u001b[0m \u001b[0mnp\u001b[0m\u001b[0;34m.\u001b[0m\u001b[0mgenfromtxt\u001b[0m\u001b[0;34m(\u001b[0m\u001b[0;34m\"../data/TGAS/gaia_wide_binaries_TGAS_plx_exponential_a_power_law_cleaned.txt\"\u001b[0m\u001b[0;34m,\u001b[0m \u001b[0mnames\u001b[0m\u001b[0;34m=\u001b[0m\u001b[0;32mTrue\u001b[0m\u001b[0;34m)\u001b[0m\u001b[0;34m\u001b[0m\u001b[0m\n",
      "\u001b[0;32m/Users/jeffandrews/anaconda3/lib/python3.5/site-packages/numpy/lib/npyio.py\u001b[0m in \u001b[0;36mgenfromtxt\u001b[0;34m(fname, dtype, comments, delimiter, skip_header, skip_footer, converters, missing_values, filling_values, usecols, names, excludelist, deletechars, replace_space, autostrip, case_sensitive, defaultfmt, unpack, usemask, loose, invalid_raise, max_rows)\u001b[0m\n\u001b[1;32m   1451\u001b[0m                 \u001b[0mfhd\u001b[0m \u001b[0;34m=\u001b[0m \u001b[0miter\u001b[0m\u001b[0;34m(\u001b[0m\u001b[0mnp\u001b[0m\u001b[0;34m.\u001b[0m\u001b[0mlib\u001b[0m\u001b[0;34m.\u001b[0m\u001b[0m_datasource\u001b[0m\u001b[0;34m.\u001b[0m\u001b[0mopen\u001b[0m\u001b[0;34m(\u001b[0m\u001b[0mfname\u001b[0m\u001b[0;34m,\u001b[0m \u001b[0;34m'rbU'\u001b[0m\u001b[0;34m)\u001b[0m\u001b[0;34m)\u001b[0m\u001b[0;34m\u001b[0m\u001b[0m\n\u001b[1;32m   1452\u001b[0m             \u001b[0;32melse\u001b[0m\u001b[0;34m:\u001b[0m\u001b[0;34m\u001b[0m\u001b[0m\n\u001b[0;32m-> 1453\u001b[0;31m                 \u001b[0mfhd\u001b[0m \u001b[0;34m=\u001b[0m \u001b[0miter\u001b[0m\u001b[0;34m(\u001b[0m\u001b[0mnp\u001b[0m\u001b[0;34m.\u001b[0m\u001b[0mlib\u001b[0m\u001b[0;34m.\u001b[0m\u001b[0m_datasource\u001b[0m\u001b[0;34m.\u001b[0m\u001b[0mopen\u001b[0m\u001b[0;34m(\u001b[0m\u001b[0mfname\u001b[0m\u001b[0;34m,\u001b[0m \u001b[0;34m'rb'\u001b[0m\u001b[0;34m)\u001b[0m\u001b[0;34m)\u001b[0m\u001b[0;34m\u001b[0m\u001b[0m\n\u001b[0m\u001b[1;32m   1454\u001b[0m             \u001b[0mown_fhd\u001b[0m \u001b[0;34m=\u001b[0m \u001b[0;32mTrue\u001b[0m\u001b[0;34m\u001b[0m\u001b[0m\n\u001b[1;32m   1455\u001b[0m         \u001b[0;32melse\u001b[0m\u001b[0;34m:\u001b[0m\u001b[0;34m\u001b[0m\u001b[0m\n",
      "\u001b[0;32m/Users/jeffandrews/anaconda3/lib/python3.5/site-packages/numpy/lib/_datasource.py\u001b[0m in \u001b[0;36mopen\u001b[0;34m(path, mode, destpath)\u001b[0m\n\u001b[1;32m    149\u001b[0m \u001b[0;34m\u001b[0m\u001b[0m\n\u001b[1;32m    150\u001b[0m     \u001b[0mds\u001b[0m \u001b[0;34m=\u001b[0m \u001b[0mDataSource\u001b[0m\u001b[0;34m(\u001b[0m\u001b[0mdestpath\u001b[0m\u001b[0;34m)\u001b[0m\u001b[0;34m\u001b[0m\u001b[0m\n\u001b[0;32m--> 151\u001b[0;31m     \u001b[0;32mreturn\u001b[0m \u001b[0mds\u001b[0m\u001b[0;34m.\u001b[0m\u001b[0mopen\u001b[0m\u001b[0;34m(\u001b[0m\u001b[0mpath\u001b[0m\u001b[0;34m,\u001b[0m \u001b[0mmode\u001b[0m\u001b[0;34m)\u001b[0m\u001b[0;34m\u001b[0m\u001b[0m\n\u001b[0m\u001b[1;32m    152\u001b[0m \u001b[0;34m\u001b[0m\u001b[0m\n\u001b[1;32m    153\u001b[0m \u001b[0;34m\u001b[0m\u001b[0m\n",
      "\u001b[0;32m/Users/jeffandrews/anaconda3/lib/python3.5/site-packages/numpy/lib/_datasource.py\u001b[0m in \u001b[0;36mopen\u001b[0;34m(self, path, mode)\u001b[0m\n\u001b[1;32m    499\u001b[0m             \u001b[0;32mreturn\u001b[0m \u001b[0m_file_openers\u001b[0m\u001b[0;34m[\u001b[0m\u001b[0mext\u001b[0m\u001b[0;34m]\u001b[0m\u001b[0;34m(\u001b[0m\u001b[0mfound\u001b[0m\u001b[0;34m,\u001b[0m \u001b[0mmode\u001b[0m\u001b[0;34m=\u001b[0m\u001b[0mmode\u001b[0m\u001b[0;34m)\u001b[0m\u001b[0;34m\u001b[0m\u001b[0m\n\u001b[1;32m    500\u001b[0m         \u001b[0;32melse\u001b[0m\u001b[0;34m:\u001b[0m\u001b[0;34m\u001b[0m\u001b[0m\n\u001b[0;32m--> 501\u001b[0;31m             \u001b[0;32mraise\u001b[0m \u001b[0mIOError\u001b[0m\u001b[0;34m(\u001b[0m\u001b[0;34m\"%s not found.\"\u001b[0m \u001b[0;34m%\u001b[0m \u001b[0mpath\u001b[0m\u001b[0;34m)\u001b[0m\u001b[0;34m\u001b[0m\u001b[0m\n\u001b[0m\u001b[1;32m    502\u001b[0m \u001b[0;34m\u001b[0m\u001b[0m\n\u001b[1;32m    503\u001b[0m \u001b[0;34m\u001b[0m\u001b[0m\n",
      "\u001b[0;31mOSError\u001b[0m: ../data/RAVE/FINAL_RAVE_GAIA_ID.dat not found."
     ]
    }
   ],
   "source": [
    "RAVE = np.genfromtxt(\"../data/RAVE/FINAL_RAVE_GAIA_ID.dat\", names=True)\n",
    "\n",
    "log_flat = np.genfromtxt(\"../data/TGAS/gaia_wide_binaries_TGAS_plx_exponential_cleaned.txt\", names=True)\n",
    "power_law = np.genfromtxt(\"../data/TGAS/gaia_wide_binaries_TGAS_plx_exponential_a_power_law_cleaned.txt\", names=True)"
   ]
  },
  {
   "cell_type": "code",
   "execution_count": 8,
   "metadata": {
    "collapsed": true
   },
   "outputs": [],
   "source": [
    "log_flat_good = log_flat[log_flat['P_posterior'] > 0.99]\n",
    "power_law_good = power_law[power_law['P_posterior'] > 0.99]"
   ]
  },
  {
   "cell_type": "code",
   "execution_count": null,
   "metadata": {
    "collapsed": false
   },
   "outputs": [],
   "source": []
  },
  {
   "cell_type": "code",
   "execution_count": 135,
   "metadata": {
    "collapsed": false
   },
   "outputs": [],
   "source": [
    "RAVE_ID = RAVE['Source'].astype('float64')\n",
    "\n",
    "\n",
    "def get_ids(catalog):\n",
    "    \n",
    "    idx_rave_1 = []\n",
    "    idx_rave_2 = []\n",
    "    idx_catalog = []\n",
    "    \n",
    "    for i, obj in enumerate(catalog):\n",
    "\n",
    "        idx_tmp_1 = np.array([])\n",
    "        idx_tmp_2 = np.array([])\n",
    "\n",
    "        idx_tmp_1 = np.where(RAVE_ID == obj['source_ID_1'])[0]\n",
    "        idx_tmp_2 = np.where(RAVE_ID == obj['source_ID_2'])[0]\n",
    "\n",
    "        # To get rid of NaNs\n",
    "        idx_tmp = []\n",
    "        for j in idx_tmp_1:\n",
    "            if not np.isnan(RAVE[j]['SNR_K']) and np.any(RAVE[j]['Source'] != RAVE[idx_tmp_2]['Source']):\n",
    "                idx_tmp.append(j)\n",
    "        idx_tmp_1 = idx_tmp\n",
    "\n",
    "        idx_tmp = []\n",
    "        for j in idx_tmp_2:\n",
    "            if not np.isnan(RAVE[j]['SNR_K']):\n",
    "                idx_tmp.append(j)\n",
    "        idx_tmp_2 = idx_tmp\n",
    "                \n",
    "        \n",
    "        if len(idx_tmp_1) == 0 or len(idx_tmp_2) == 0:\n",
    "            continue\n",
    "\n",
    "            \n",
    "        if len(idx_tmp_1) == 1:\n",
    "            idx_rave_1.append(idx_tmp_1[0])\n",
    "        else:\n",
    "            idx_rave_1.append(idx_tmp_1[np.argmax(RAVE[idx_tmp_1]['SNR_K'])])\n",
    "\n",
    "        if len(idx_tmp_2) == 1:\n",
    "            idx_rave_2.append(idx_tmp_2[0])\n",
    "        else:\n",
    "            idx_rave_2.append(idx_tmp_2[np.argmax(RAVE[idx_tmp_2]['SNR_K'])])\n",
    "\n",
    "        idx_catalog.append(i)\n",
    "            \n",
    "    return idx_rave_1, idx_rave_2, idx_catalog                    \n"
   ]
  },
  {
   "cell_type": "code",
   "execution_count": 136,
   "metadata": {
    "collapsed": false
   },
   "outputs": [
    {
     "name": "stdout",
     "output_type": "stream",
     "text": [
      "522\n",
      "791\n"
     ]
    }
   ],
   "source": [
    "idx_power_law_1, idx_power_law_2, idx_power_law = get_ids(power_law)\n",
    "idx_log_flat_1, idx_log_flat_2, idx_log_flat = get_ids(log_flat)\n",
    "\n",
    "print(len(idx_power_law_1))\n",
    "print(len(idx_log_flat_1))"
   ]
  },
  {
   "cell_type": "code",
   "execution_count": 88,
   "metadata": {
    "collapsed": false
   },
   "outputs": [
    {
     "name": "stdout",
     "output_type": "stream",
     "text": [
      "561\n",
      "805\n"
     ]
    },
    {
     "name": "stderr",
     "output_type": "stream",
     "text": [
      "/usr/local/lib/python3.5/dist-packages/ipykernel/__main__.py:1: VisibleDeprecationWarning: boolean index did not match indexed array along dimension 0; dimension is 210368 but corresponding boolean dimension is 561\n",
      "  if __name__ == '__main__':\n",
      "/usr/local/lib/python3.5/dist-packages/ipykernel/__main__.py:2: VisibleDeprecationWarning: boolean index did not match indexed array along dimension 0; dimension is 210368 but corresponding boolean dimension is 805\n",
      "  from ipykernel import kernelapp as app\n"
     ]
    }
   ],
   "source": [
    "print(len(RAVE[RAVE['SNR_K'][idx_power_law_1] > 20]))\n",
    "print(len(RAVE[RAVE['SNR_K'][idx_log_flat_1] > 20]))\n",
    "\n",
    "# plt.hist(RAVE['SNR_K'][idx_power_law_1], bins=40)\n",
    "\n",
    "# plt.show()"
   ]
  },
  {
   "cell_type": "code",
   "execution_count": 150,
   "metadata": {
    "collapsed": false
   },
   "outputs": [
    {
     "data": {
      "image/png": "[encoded data removed]",
      "text/plain": [
       "<matplotlib.figure.Figure at 0x7fb143b135c0>"
      ]
     },
     "metadata": {},
     "output_type": "display_data"
    }
   ],
   "source": [
    "fig, ax = plt.subplots(1, 2, figsize=(8,3))\n",
    "\n",
    "idx_cat = power_law['P_posterior'][idx_power_law] > 0.99\n",
    "\n",
    "\n",
    "# RV difference\n",
    "delta_RV = RAVE['HRV'][idx_power_law_1][idx_cat] - RAVE['HRV'][idx_power_law_2][idx_cat]\n",
    "delta_RV_err = np.sqrt(RAVE['eHRV'][idx_power_law_1][idx_cat]**2 + RAVE['eHRV'][idx_power_law_2][idx_cat]**2)\n",
    "delta_RV_sigma = (RAVE['HRV'][idx_power_law_1][idx_cat] - RAVE['HRV'][idx_power_law_2][idx_cat]) / delta_RV_err\n",
    "proj_sep = power_law['proj_sep'][idx_power_law][idx_cat]\n",
    "\n",
    "idx_in_3sigma = delta_RV_sigma < 3.0\n",
    "idx_out_3sigma = abs(delta_RV_sigma) >= 3.0\n",
    "\n",
    "\n",
    "ax[0].scatter(np.log10(proj_sep[idx_in_3sigma]), delta_RV_sigma[idx_in_3sigma], marker='.', color='b')\n",
    "ax[0].scatter(np.log10(proj_sep[idx_out_3sigma]), delta_RV_sigma[idx_out_3sigma], marker='.', color='orange')\n",
    "\n",
    "ax[0].axhline(-3.0, color='k')\n",
    "ax[0].axhline(3.0, color='k')\n",
    "\n",
    "ax[0].set_xlim(2.2,6)\n",
    "ax[0].set_ylim(-20,20)\n",
    "\n",
    "ax[0].set_xlabel(r\"${\\rm Log}\\ s ({\\rm AU})$\")\n",
    "ax[0].set_ylabel(r\"$\\Delta\\ {\\rm RV} / \\sigma_{\\Delta {\\rm RV}}$\")\n",
    "\n",
    "\n",
    "\n",
    "# Histograms\n",
    "bins = np.linspace(2.2, 6.0, 20)\n",
    "\n",
    "ax[1].hist(np.log10(proj_sep[idx_in_3sigma]), bins=bins, color='b')\n",
    "ax[1].hist(np.log10(proj_sep[idx_out_3sigma]), bins=bins, color='orange')\n",
    "\n",
    "ax[1].set_xlim(2.2,6)\n",
    "\n",
    "ax[1].set_xlabel(r\"${\\rm Log}\\ s ({\\rm AU})$\")\n",
    "ax[1].set_ylabel(r\"$N$\")\n",
    "\n",
    "plt.savefig(\"../figures/RAVE_compare.pdf\")\n",
    "\n",
    "plt.show()"
   ]
  },
  {
   "cell_type": "code",
   "execution_count": 138,
   "metadata": {
    "collapsed": false
   },
   "outputs": [
    {
     "data": {
      "image/png": "[encoded data removed]",
      "text/plain": [
       "<matplotlib.figure.Figure at 0x7fb143ac0588>"
      ]
     },
     "metadata": {},
     "output_type": "display_data"
    }
   ],
   "source": [
    "\n",
    "bins = np.linspace(2.5, 5.5, 20)\n",
    "\n",
    "plt.hist(np.log10(proj_sep[idx_in_3sigma]), bins=bins)\n",
    "plt.hist(np.log10(proj_sep[idx_out_3sigma]), bins=bins)\n",
    "\n",
    "plt.show()"
   ]
  },
  {
   "cell_type": "code",
   "execution_count": 139,
   "metadata": {
    "collapsed": false
   },
   "outputs": [
    {
     "name": "stdout",
     "output_type": "stream",
     "text": [
      "184\n",
      "16\n"
     ]
    }
   ],
   "source": [
    "print(len(proj_sep[idx_in_3sigma]))\n",
    "print(len(proj_sep[idx_out_3sigma]))"
   ]
  },
  {
   "cell_type": "code",
   "execution_count": 140,
   "metadata": {
    "collapsed": false
   },
   "outputs": [
    {
     "name": "stdout",
     "output_type": "stream",
     "text": [
      "[]\n"
     ]
    }
   ],
   "source": [
    "idx_same = np.where(RAVE['HRV'][idx_power_law_1][idx_cat] == RAVE['HRV'][idx_power_law_2][idx_cat])[0]\n",
    "\n",
    "print(RAVE['Source'][idx_power_law_1][idx_cat][idx_same] - RAVE['Source'][idx_power_law_2][idx_cat][idx_same])"
   ]
  },
  {
   "cell_type": "code",
   "execution_count": 12,
   "metadata": {
    "collapsed": true
   },
   "outputs": [],
   "source": [
    "rave_log_flat = np.genfromtxt(\"../data/RAVE/match3.xy_mu_plx_JHKBV.RVs_only.prior_flat.dat.txt\", names=True)\n",
    "rave_power_law = np.genfromtxt(\"../data/RAVE/match3.xy_mu_plx_JHKBV.RVs_only.prior_2.dat.txt\", names=True)\n",
    "\n",
    "rave_log_flat_good = rave_log_flat[rave_log_flat['col1'] > 0.99]\n",
    "rave_power_law_good = rave_power_law[rave_power_law['col1'] > 0.99]"
   ]
  },
  {
   "cell_type": "code",
   "execution_count": 40,
   "metadata": {
    "collapsed": false
   },
   "outputs": [],
   "source": [
    "fontProperties = {'family':'serif', 'serif':['Times New Roman'], 'weight':'normal', 'size':12}\n",
    "ticks_font = font_manager.FontProperties(family='Times New Roman', style='normal', \\\n",
    "                                         weight='normal', stretch='normal', size=10)\n",
    "plt.rc('font', **fontProperties)\n"
   ]
  },
  {
   "cell_type": "code",
   "execution_count": null,
   "metadata": {
    "collapsed": false
   },
   "outputs": [],
   "source": []
  },
  {
   "cell_type": "code",
   "execution_count": 60,
   "metadata": {
    "collapsed": false
   },
   "outputs": [
    {
     "data": {
      "image/png": "[encoded data removed]",
      "text/plain": [
       "<matplotlib.figure.Figure at 0x1100bd6a0>"
      ]
     },
     "metadata": {},
     "output_type": "display_data"
    }
   ],
   "source": [
    "fig, ax = plt.subplots(2, 2, figsize=(8,7))\n",
    "\n",
    "\n",
    "xmin, xmax = 2.0, 6.0\n",
    "\n",
    "############# Log flat ##############\n",
    "\n",
    "proj_sep = rave_log_flat_good['col4']\n",
    "delta_RV = rave_log_flat_good['HRV_1'] - rave_log_flat_good['HRV_2']\n",
    "delta_RV_err = np.sqrt(rave_log_flat_good['eHRV_1']**2 + rave_log_flat_good['eHRV_2']**2)\n",
    "\n",
    "# Separate into good and bad\n",
    "idx_in_3sigma = abs(delta_RV/delta_RV_err) < 3.0\n",
    "idx_out_3sigma = abs(delta_RV/delta_RV_err) >= 3.0\n",
    "\n",
    "\n",
    "# Lines\n",
    "ax[0,0].axhline(-3.0, color='k', linestyle='-')\n",
    "ax[0,0].axhline(3.0, color='k', linestyle='-')\n",
    "ax[0,0].axvline(4.5, color='k', alpha=0.3, linewidth=3)\n",
    "\n",
    "# Scatter plot\n",
    "ax[0,0].scatter(np.log10(proj_sep[idx_in_3sigma]), delta_RV[idx_in_3sigma]/delta_RV_err[idx_in_3sigma], \n",
    "                marker='.', color='b', label=str(len(proj_sep[idx_in_3sigma])))\n",
    "ax[0,0].scatter(np.log10(proj_sep[idx_out_3sigma]), delta_RV[idx_out_3sigma]/delta_RV_err[idx_out_3sigma], \n",
    "                marker='.', color='orange', label=str(len(proj_sep[idx_out_3sigma])))\n",
    "\n",
    "ax[0,0].set_ylim(-30,30)\n",
    "ax[0,0].set_xlim(xmin, xmax)\n",
    "ax[0,0].set_xticks(np.linspace(xmin,xmax,5))\n",
    "\n",
    "ax[0,0].set_xlabel(r\"${\\rm Log}\\ s ({\\rm AU})$\")\n",
    "ax[0,0].set_ylabel(r\"$\\Delta\\ {\\rm RV} / \\sigma_{\\Delta {\\rm RV}}$\")\n",
    "\n",
    "ax[0,0].text(2.3, 20., \"Log Flat Prior\")\n",
    "# ax[0,0].legend(loc=3)\n",
    "\n",
    "\n",
    "# Histogram\n",
    "bins = np.linspace(xmin, xmax, 20)\n",
    "ax[0,1].hist(np.log10(proj_sep[idx_in_3sigma]), histtype='step', color='b', bins=bins, linewidth=2.0)\n",
    "ax[0,1].hist(np.log10(proj_sep[idx_out_3sigma]), histtype='step', color='orange', bins=bins, linewidth=2.0)\n",
    "\n",
    "ax[0,1].set_xlabel(r\"${\\rm Log}\\ s ({\\rm AU})$\")\n",
    "ax[0,1].set_ylabel(r\"$N$\")\n",
    "ax[0,1].set_xticks(np.linspace(xmin,xmax,5))\n",
    "ax[0,1].set_yticks(np.linspace(0,40,5))\n",
    "ax[0,1].set_ylim(0, 42)\n",
    "\n",
    "\n",
    "\n",
    "\n",
    "\n",
    "############# Power law ##############\n",
    "\n",
    "proj_sep = rave_power_law_good['col4']\n",
    "delta_RV = rave_power_law_good['HRV_1'] - rave_power_law_good['HRV_2']\n",
    "delta_RV_err = np.sqrt(rave_power_law_good['eHRV_1']**2 + rave_power_law_good['eHRV_2']**2)\n",
    "\n",
    "# Separate into good and bad\n",
    "idx_in_3sigma = abs(delta_RV/delta_RV_err) < 3.0\n",
    "idx_out_3sigma = abs(delta_RV/delta_RV_err) >= 3.0\n",
    "\n",
    "# Lines\n",
    "ax[1,0].axhline(-3.0, color='k', linestyle='-')\n",
    "ax[1,0].axhline(3.0, color='k', linestyle='-')\n",
    "ax[1,0].axvline(4.5, color='k', alpha=0.3, linewidth=3)\n",
    "\n",
    "# Scatter plot\n",
    "ax[1,0].scatter(np.log10(proj_sep[idx_in_3sigma]), delta_RV[idx_in_3sigma]/delta_RV_err[idx_in_3sigma], \n",
    "                marker='.', color='b', label=str(len(proj_sep[idx_in_3sigma])))\n",
    "ax[1,0].scatter(np.log10(proj_sep[idx_out_3sigma]), delta_RV[idx_out_3sigma]/delta_RV_err[idx_out_3sigma], \n",
    "                marker='.', color='orange', label=str(len(proj_sep[idx_out_3sigma])))\n",
    "\n",
    "ax[1,0].set_ylim(-30,30)\n",
    "ax[1,0].set_xlim(xmin, xmax)\n",
    "ax[1,0].set_xticks(np.linspace(xmin,xmax,5))\n",
    "\n",
    "ax[1,0].set_xlabel(r\"${\\rm Log}\\ s ({\\rm AU})$\")\n",
    "ax[1,0].set_ylabel(r\"$\\Delta\\ {\\rm RV} / \\sigma_{\\Delta {\\rm RV}}$\")\n",
    "\n",
    "ax[1,0].text(2.3, 20., \"Power Law Prior\")\n",
    "# ax[1,0].legend(loc=3)\n",
    "\n",
    "# Histogram\n",
    "bins = np.linspace(xmin, xmax, 20)\n",
    "ax[1,1].hist(np.log10(proj_sep[idx_in_3sigma]), histtype='step', color='b', bins=bins, linewidth=2.0)\n",
    "ax[1,1].hist(np.log10(proj_sep[idx_out_3sigma]), histtype='step', color='orange', bins=bins, linewidth=2.0)\n",
    "\n",
    "ax[1,1].set_xlabel(r\"${\\rm Log}\\ s ({\\rm AU})$\")\n",
    "ax[1,1].set_ylabel(r\"$N$\")\n",
    "ax[1,1].set_xticks(np.linspace(xmin,xmax,5))\n",
    "ax[1,1].set_yticks(np.linspace(0,40,5))\n",
    "ax[1,1].set_ylim(0, 42)\n",
    "\n",
    "\n",
    "\n",
    "plt.tight_layout()\n",
    "plt.savefig(\"../figures/RV_contamination.pdf\")\n",
    "# plt.show()"
   ]
  },
  {
   "cell_type": "markdown",
   "metadata": {},
   "source": [
    "### Now, let's estimate the contamination"
   ]
  },
  {
   "cell_type": "code",
   "execution_count": 69,
   "metadata": {
    "collapsed": false
   },
   "outputs": [
    {
     "name": "stdout",
     "output_type": "stream",
     "text": [
      "Contamination Estimate:\n",
      "Log Flat: 77 292 0.2636986301369863\n",
      "Log Flat within 10^4.5 AU: 33 215 0.15348837209302327\n",
      "\n",
      "Contamination Estimate:\n",
      "Power Law: 51 245 0.20816326530612245\n",
      "Power Law within 10^4.5 AU: 31 208 0.14903846153846154\n"
     ]
    }
   ],
   "source": [
    "############# Log flat ##############\n",
    "proj_sep = rave_log_flat_good['col4']\n",
    "delta_RV = rave_log_flat_good['HRV_1'] - rave_log_flat_good['HRV_2']\n",
    "delta_RV_err = np.sqrt(rave_log_flat_good['eHRV_1']**2 + rave_log_flat_good['eHRV_2']**2)\n",
    "\n",
    "# Separate into good and bad\n",
    "idx_in_3sigma = abs(delta_RV/delta_RV_err) < 3.0\n",
    "idx_out_3sigma = abs(delta_RV/delta_RV_err) >= 3.0\n",
    "\n",
    "\n",
    "N_contaminants = len(delta_RV[idx_out_3sigma])\n",
    "print(\"Contamination Estimate:\")\n",
    "print(\"Log Flat:\", N_contaminants, len(delta_RV), N_contaminants/float(len(delta_RV)))\n",
    "\n",
    "idx_in_3sigma = np.intersect1d(np.where(idx_in_3sigma)[0], np.where(np.log10(proj_sep)<4.5)[0])\n",
    "idx_out_3sigma = np.intersect1d(np.where(idx_out_3sigma)[0], np.where(np.log10(proj_sep)<4.5)[0])\n",
    "# idx_in_3sigma = np.intersect1d(np.where(idx_in_3sigma)[0], np.where(proj_sep<5.0e4)[0])\n",
    "# idx_out_3sigma = np.intersect1d(np.where(idx_out_3sigma)[0], np.where(proj_sep<5.0e4)[0])\n",
    "N_contaminants = len(delta_RV[idx_out_3sigma])\n",
    "N_total = len(delta_RV[np.log10(proj_sep)<4.5])\n",
    "# print(N_total)\n",
    "# N_total = len(delta_RV[proj_sep<5.0e4])\n",
    "print(\"Log Flat within 10^4.5 AU:\", N_contaminants, N_total, N_contaminants/float(N_total))\n",
    "print(\"\")\n",
    "\n",
    "\n",
    "\n",
    "\n",
    "############# Power law ##############\n",
    "\n",
    "proj_sep = rave_power_law_good['col4']\n",
    "delta_RV = rave_power_law_good['HRV_1'] - rave_power_law_good['HRV_2']\n",
    "delta_RV_err = np.sqrt(rave_power_law_good['eHRV_1']**2 + rave_power_law_good['eHRV_2']**2)\n",
    "\n",
    "# Separate into good and bad\n",
    "idx_in_3sigma = abs(delta_RV/delta_RV_err) < 3.0\n",
    "idx_out_3sigma = abs(delta_RV/delta_RV_err) >= 3.0\n",
    "\n",
    "\n",
    "N_contaminants = len(delta_RV[idx_out_3sigma])\n",
    "print(\"Contamination Estimate:\")\n",
    "print(\"Power Law:\", N_contaminants, len(delta_RV), N_contaminants/float(len(delta_RV)))\n",
    "\n",
    "idx_in_3sigma = np.intersect1d(np.where(idx_in_3sigma)[0], np.where(np.log10(proj_sep)<4.5)[0])\n",
    "idx_out_3sigma = np.intersect1d(np.where(idx_out_3sigma)[0], np.where(np.log10(proj_sep)<4.5)[0])\n",
    "N_contaminants = len(delta_RV[idx_out_3sigma])\n",
    "N_total = len(delta_RV[np.log10(proj_sep)<4.5])\n",
    "print(\"Power Law within 10^4.5 AU:\", N_contaminants, N_total, N_contaminants/float(N_total))\n"
   ]
  },
  {
   "cell_type": "code",
   "execution_count": null,
   "metadata": {
    "collapsed": false
   },
   "outputs": [],
   "source": []
  },
  {
   "cell_type": "code",
   "execution_count": null,
   "metadata": {
    "collapsed": true
   },
   "outputs": [],
   "source": []
  }
 ],
 "metadata": {
  "anaconda-cloud": {},
  "kernelspec": {
   "display_name": "Python [default]",
   "language": "python",
   "name": "python3"
  },
  "language_info": {
   "codemirror_mode": {
    "name": "ipython",
    "version": 3
   },
   "file_extension": ".py",
   "mimetype": "text/x-python",
   "name": "python",
   "nbconvert_exporter": "python",
   "pygments_lexer": "ipython3",
   "version": "3.5.2"
  }
 },
 "nbformat": 4,
 "nbformat_minor": 2
}
