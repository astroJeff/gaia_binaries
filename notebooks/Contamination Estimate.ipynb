{
 "cells": [
  {
   "cell_type": "code",
   "execution_count": 1,
   "metadata": {
    "collapsed": true
   },
   "outputs": [],
   "source": [
    "import numpy as np\n",
    "import matplotlib.pyplot as plt\n",
    "\n",
    "%matplotlib inline"
   ]
  },
  {
   "cell_type": "code",
   "execution_count": 7,
   "metadata": {
    "collapsed": true
   },
   "outputs": [],
   "source": [
    "RAVE = np.genfromtxt(\"../data/RAVE/FINAL_RAVE_GAIA_ID.dat\", names=True)\n",
    "\n",
    "log_flat = np.genfromtxt(\"../data/TGAS/gaia_wide_binaries_TGAS_plx_exponential_cleaned.txt\", names=True)\n",
    "power_law = np.genfromtxt(\"../data/TGAS/gaia_wide_binaries_TGAS_plx_exponential_a_power_law_cleaned.txt\", names=True)"
   ]
  },
  {
   "cell_type": "code",
   "execution_count": 8,
   "metadata": {
    "collapsed": true
   },
   "outputs": [],
   "source": [
    "log_flat_good = log_flat[log_flat['P_posterior'] > 0.99]\n",
    "power_law_good = power_law[power_law['P_posterior'] > 0.99]"
   ]
  },
  {
   "cell_type": "code",
   "execution_count": null,
   "metadata": {
    "collapsed": false
   },
   "outputs": [],
   "source": []
  },
  {
   "cell_type": "code",
   "execution_count": 135,
   "metadata": {
    "collapsed": false
   },
   "outputs": [],
   "source": [
    "RAVE_ID = RAVE['Source'].astype('float64')\n",
    "\n",
    "\n",
    "def get_ids(catalog):\n",
    "    \n",
    "    idx_rave_1 = []\n",
    "    idx_rave_2 = []\n",
    "    idx_catalog = []\n",
    "    \n",
    "    for i, obj in enumerate(catalog):\n",
    "\n",
    "        idx_tmp_1 = np.array([])\n",
    "        idx_tmp_2 = np.array([])\n",
    "\n",
    "        idx_tmp_1 = np.where(RAVE_ID == obj['source_ID_1'])[0]\n",
    "        idx_tmp_2 = np.where(RAVE_ID == obj['source_ID_2'])[0]\n",
    "\n",
    "        # To get rid of NaNs\n",
    "        idx_tmp = []\n",
    "        for j in idx_tmp_1:\n",
    "            if not np.isnan(RAVE[j]['SNR_K']) and np.any(RAVE[j]['Source'] != RAVE[idx_tmp_2]['Source']):\n",
    "                idx_tmp.append(j)\n",
    "        idx_tmp_1 = idx_tmp\n",
    "\n",
    "        idx_tmp = []\n",
    "        for j in idx_tmp_2:\n",
    "            if not np.isnan(RAVE[j]['SNR_K']):\n",
    "                idx_tmp.append(j)\n",
    "        idx_tmp_2 = idx_tmp\n",
    "                \n",
    "        \n",
    "        if len(idx_tmp_1) == 0 or len(idx_tmp_2) == 0:\n",
    "            continue\n",
    "\n",
    "            \n",
    "        if len(idx_tmp_1) == 1:\n",
    "            idx_rave_1.append(idx_tmp_1[0])\n",
    "        else:\n",
    "            idx_rave_1.append(idx_tmp_1[np.argmax(RAVE[idx_tmp_1]['SNR_K'])])\n",
    "\n",
    "        if len(idx_tmp_2) == 1:\n",
    "            idx_rave_2.append(idx_tmp_2[0])\n",
    "        else:\n",
    "            idx_rave_2.append(idx_tmp_2[np.argmax(RAVE[idx_tmp_2]['SNR_K'])])\n",
    "\n",
    "        idx_catalog.append(i)\n",
    "            \n",
    "    return idx_rave_1, idx_rave_2, idx_catalog                    \n"
   ]
  },
  {
   "cell_type": "code",
   "execution_count": 136,
   "metadata": {
    "collapsed": false
   },
   "outputs": [
    {
     "name": "stdout",
     "output_type": "stream",
     "text": [
      "522\n",
      "791\n"
     ]
    }
   ],
   "source": [
    "idx_power_law_1, idx_power_law_2, idx_power_law = get_ids(power_law)\n",
    "idx_log_flat_1, idx_log_flat_2, idx_log_flat = get_ids(log_flat)\n",
    "\n",
    "print(len(idx_power_law_1))\n",
    "print(len(idx_log_flat_1))"
   ]
  },
  {
   "cell_type": "code",
   "execution_count": 88,
   "metadata": {
    "collapsed": false
   },
   "outputs": [
    {
     "name": "stdout",
     "output_type": "stream",
     "text": [
      "561\n",
      "805\n"
     ]
    },
    {
     "name": "stderr",
     "output_type": "stream",
     "text": [
      "/usr/local/lib/python3.5/dist-packages/ipykernel/__main__.py:1: VisibleDeprecationWarning: boolean index did not match indexed array along dimension 0; dimension is 210368 but corresponding boolean dimension is 561\n",
      "  if __name__ == '__main__':\n",
      "/usr/local/lib/python3.5/dist-packages/ipykernel/__main__.py:2: VisibleDeprecationWarning: boolean index did not match indexed array along dimension 0; dimension is 210368 but corresponding boolean dimension is 805\n",
      "  from ipykernel import kernelapp as app\n"
     ]
    }
   ],
   "source": [
    "print(len(RAVE[RAVE['SNR_K'][idx_power_law_1] > 20]))\n",
    "print(len(RAVE[RAVE['SNR_K'][idx_log_flat_1] > 20]))\n",
    "\n",
    "# plt.hist(RAVE['SNR_K'][idx_power_law_1], bins=40)\n",
    "\n",
    "# plt.show()"
   ]
  },
  {
   "cell_type": "code",
   "execution_count": 150,
   "metadata": {
    "collapsed": false
   },
   "outputs": [
    {
     "data": {
      "image/png": "[encoded data removed]",
      "text/plain": [
       "<matplotlib.figure.Figure at 0x7fb143b135c0>"
      ]
     },
     "metadata": {},
     "output_type": "display_data"
    }
   ],
   "source": [
    "fig, ax = plt.subplots(1, 2, figsize=(8,3))\n",
    "\n",
    "idx_cat = power_law['P_posterior'][idx_power_law] > 0.99\n",
    "\n",
    "\n",
    "# RV difference\n",
    "delta_RV = RAVE['HRV'][idx_power_law_1][idx_cat] - RAVE['HRV'][idx_power_law_2][idx_cat]\n",
    "delta_RV_err = np.sqrt(RAVE['eHRV'][idx_power_law_1][idx_cat]**2 + RAVE['eHRV'][idx_power_law_2][idx_cat]**2)\n",
    "delta_RV_sigma = (RAVE['HRV'][idx_power_law_1][idx_cat] - RAVE['HRV'][idx_power_law_2][idx_cat]) / delta_RV_err\n",
    "proj_sep = power_law['proj_sep'][idx_power_law][idx_cat]\n",
    "\n",
    "idx_in_3sigma = delta_RV_sigma < 3.0\n",
    "idx_out_3sigma = abs(delta_RV_sigma) >= 3.0\n",
    "\n",
    "\n",
    "ax[0].scatter(np.log10(proj_sep[idx_in_3sigma]), delta_RV_sigma[idx_in_3sigma], marker='.', color='b')\n",
    "ax[0].scatter(np.log10(proj_sep[idx_out_3sigma]), delta_RV_sigma[idx_out_3sigma], marker='.', color='orange')\n",
    "\n",
    "ax[0].axhline(-3.0, color='k')\n",
    "ax[0].axhline(3.0, color='k')\n",
    "\n",
    "ax[0].set_xlim(2.2,6)\n",
    "ax[0].set_ylim(-20,20)\n",
    "\n",
    "ax[0].set_xlabel(r\"${\\rm Log}\\ s ({\\rm AU})$\")\n",
    "ax[0].set_ylabel(r\"$\\Delta\\ {\\rm RV} / \\sigma_{\\Delta {\\rm RV}}$\")\n",
    "\n",
    "\n",
    "\n",
    "# Histograms\n",
    "bins = np.linspace(2.2, 6.0, 20)\n",
    "\n",
    "ax[1].hist(np.log10(proj_sep[idx_in_3sigma]), bins=bins, color='b')\n",
    "ax[1].hist(np.log10(proj_sep[idx_out_3sigma]), bins=bins, color='orange')\n",
    "\n",
    "ax[1].set_xlim(2.2,6)\n",
    "\n",
    "ax[1].set_xlabel(r\"${\\rm Log}\\ s ({\\rm AU})$\")\n",
    "ax[1].set_ylabel(r\"$N$\")\n",
    "\n",
    "plt.savefig(\"../figures/RAVE_compare.pdf\")\n",
    "\n",
    "plt.show()"
   ]
  },
  {
   "cell_type": "code",
   "execution_count": 138,
   "metadata": {
    "collapsed": false
   },
   "outputs": [
    {
     "data": {
      "image/png": "[encoded data removed]",
      "text/plain": [
       "<matplotlib.figure.Figure at 0x7fb143ac0588>"
      ]
     },
     "metadata": {},
     "output_type": "display_data"
    }
   ],
   "source": [
    "\n",
    "bins = np.linspace(2.5, 5.5, 20)\n",
    "\n",
    "plt.hist(np.log10(proj_sep[idx_in_3sigma]), bins=bins)\n",
    "plt.hist(np.log10(proj_sep[idx_out_3sigma]), bins=bins)\n",
    "\n",
    "plt.show()"
   ]
  },
  {
   "cell_type": "code",
   "execution_count": 139,
   "metadata": {
    "collapsed": false
   },
   "outputs": [
    {
     "name": "stdout",
     "output_type": "stream",
     "text": [
      "184\n",
      "16\n"
     ]
    }
   ],
   "source": [
    "print(len(proj_sep[idx_in_3sigma]))\n",
    "print(len(proj_sep[idx_out_3sigma]))"
   ]
  },
  {
   "cell_type": "code",
   "execution_count": 140,
   "metadata": {
    "collapsed": false
   },
   "outputs": [
    {
     "name": "stdout",
     "output_type": "stream",
     "text": [
      "[]\n"
     ]
    }
   ],
   "source": [
    "idx_same = np.where(RAVE['HRV'][idx_power_law_1][idx_cat] == RAVE['HRV'][idx_power_law_2][idx_cat])[0]\n",
    "\n",
    "print(RAVE['Source'][idx_power_law_1][idx_cat][idx_same] - RAVE['Source'][idx_power_law_2][idx_cat][idx_same])"
   ]
  },
  {
   "cell_type": "code",
   "execution_count": null,
   "metadata": {
    "collapsed": true
   },
   "outputs": [],
   "source": []
  }
 ],
 "metadata": {
  "kernelspec": {
   "display_name": "Python 3",
   "language": "python",
   "name": "python3"
  },
  "language_info": {
   "codemirror_mode": {
    "name": "ipython",
    "version": 3
   },
   "file_extension": ".py",
   "mimetype": "text/x-python",
   "name": "python",
   "nbconvert_exporter": "python",
   "pygments_lexer": "ipython3",
   "version": "3.5.2"
  }
 },
 "nbformat": 4,
 "nbformat_minor": 2
}
