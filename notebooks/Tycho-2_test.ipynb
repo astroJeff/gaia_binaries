{
 "cells": [
  {
   "cell_type": "code",
   "execution_count": 78,
   "metadata": {
    "collapsed": false
   },
   "outputs": [],
   "source": [
    "import sys\n",
    "sys.path.append('../src')\n",
    "import numpy as np\n",
    "from numpy.random import normal, multivariate_normal\n",
    "import P_binary\n",
    "import P_random\n",
    "from astropy.table import Table\n",
    "import pickle\n",
    "import time"
   ]
  },
  {
   "cell_type": "code",
   "execution_count": null,
   "metadata": {
    "collapsed": true
   },
   "outputs": [],
   "source": []
  },
  {
   "cell_type": "code",
   "execution_count": 2,
   "metadata": {
    "collapsed": false
   },
   "outputs": [
    {
     "name": "stdout",
     "output_type": "stream",
     "text": [
      "Opening Tycho-2 catalog...\n",
      "...finished reading data.\n"
     ]
    }
   ],
   "source": [
    "print \"Opening Tycho-2 catalog...\"\n",
    "# Read in sample from Tycho-2 table\n",
    "filename = ('../data/tycho-2/tyc2.dat')\n",
    "readme = ('../data/tycho-2/ReadMe')\n",
    "tycho_full = Table.read(filename, format='cds', guess=False, readme=readme)\n",
    "print \"...finished reading data.\"\n",
    "\n",
    "\n",
    "# Create the clean tycho-2 catalog\n",
    "dtype = [('ID','i8'),('ra','f8'),('dec','f8'),('mu_ra','f8'),('mu_dec','f8'), \\\n",
    "         ('mu_ra_err','f8'),('mu_dec_err','f8'),('Bmag','f8'),('Vmag','f8')]\n",
    "\n",
    "ids = np.intersect1d(np.where(tycho_full['q_pmRA'] >= 0.1), np.where(tycho_full['q_pmDE'] >= 0.1))\n",
    "\n",
    "t = np.zeros(len(ids), dtype=dtype)\n",
    "t['ID'] = tycho_full['TYC1'][ids]*100000 + tycho_full['TYC2'][ids]\n",
    "t['ra'] = tycho_full['RAmdeg'][ids]\n",
    "t['dec'] = tycho_full['DEmdeg'][ids]\n",
    "t['mu_ra'] = tycho_full['pmRA'][ids]\n",
    "t['mu_dec'] = tycho_full['pmDE'][ids]\n",
    "t['mu_ra_err'] = tycho_full['e_pmRA'][ids]\n",
    "t['mu_dec_err'] = tycho_full['e_pmDE'][ids]\n",
    "t['Bmag'] = tycho_full['BTmag'][ids]\n",
    "t['Vmag'] = tycho_full['VTmag'][ids]\n"
   ]
  },
  {
   "cell_type": "code",
   "execution_count": null,
   "metadata": {
    "collapsed": true
   },
   "outputs": [],
   "source": []
  },
  {
   "cell_type": "code",
   "execution_count": 3,
   "metadata": {
    "collapsed": false
   },
   "outputs": [
    {
     "name": "stdout",
     "output_type": "stream",
     "text": [
      "Generating binaries...\n"
     ]
    }
   ],
   "source": [
    "# Generate simulated binaries\n",
    "print \"Generating binaries...\"\n",
    "P_binary.generate_binary_set(num_sys=100000)"
   ]
  },
  {
   "cell_type": "code",
   "execution_count": null,
   "metadata": {
    "collapsed": true
   },
   "outputs": [],
   "source": []
  },
  {
   "cell_type": "code",
   "execution_count": 4,
   "metadata": {
    "collapsed": true
   },
   "outputs": [],
   "source": [
    "# Generate random alignment KDEs using first entry as a test position\n",
    "pos_density = P_random.get_sigma_pos(t['ra'][0], t['dec'][0], catalog=t, method='kde')\n",
    "pm_density = P_random.get_sigma_mu(t['mu_ra'][0], t['mu_dec'][0], catalog=t, method='kde')"
   ]
  },
  {
   "cell_type": "code",
   "execution_count": null,
   "metadata": {
    "collapsed": true
   },
   "outputs": [],
   "source": []
  },
  {
   "cell_type": "code",
   "execution_count": 5,
   "metadata": {
    "collapsed": true
   },
   "outputs": [],
   "source": [
    "def get_ang_sep(ra1, dec1, ra2, dec2):\n",
    "    rad_dec1 = np.pi/180.0 * dec1\n",
    "    rad_dec2 = np.pi/180.0 * dec2\n",
    "    return np.sqrt( (ra1-ra2)**2 * np.cos(rad_dec1) * np.cos(rad_dec2) + (dec1-dec2)**2 )"
   ]
  },
  {
   "cell_type": "code",
   "execution_count": null,
   "metadata": {
    "collapsed": true
   },
   "outputs": [],
   "source": []
  },
  {
   "cell_type": "code",
   "execution_count": 83,
   "metadata": {
    "collapsed": false,
    "scrolled": false
   },
   "outputs": [
    {
     "name": "stdout",
     "output_type": "stream",
     "text": [
      "We are testing 81227 stars...\n",
      "0\n"
     ]
    },
    {
     "ename": "KeyboardInterrupt",
     "evalue": "",
     "output_type": "error",
     "traceback": [
      "\u001b[0;31m---------------------------------------------------------------------------\u001b[0m",
      "\u001b[0;31mKeyboardInterrupt\u001b[0m                         Traceback (most recent call last)",
      "\u001b[0;32m<ipython-input-83-c74962f7eac3>\u001b[0m in \u001b[0;36m<module>\u001b[0;34m()\u001b[0m\n\u001b[1;32m     79\u001b[0m \u001b[0;34m\u001b[0m\u001b[0m\n\u001b[1;32m     80\u001b[0m \u001b[0;34m\u001b[0m\u001b[0m\n\u001b[0;32m---> 81\u001b[0;31m         \u001b[0mprob_tmp\u001b[0m \u001b[0;34m=\u001b[0m \u001b[0mP_binary\u001b[0m\u001b[0;34m.\u001b[0m\u001b[0mget_P_binary\u001b[0m\u001b[0;34m(\u001b[0m\u001b[0mtheta_match\u001b[0m \u001b[0;34m*\u001b[0m \u001b[0;36m3600.0\u001b[0m\u001b[0;34m,\u001b[0m \u001b[0mdelta_mu_sample\u001b[0m\u001b[0;34m)\u001b[0m\u001b[0;34m\u001b[0m\u001b[0m\n\u001b[0m\u001b[1;32m     82\u001b[0m         \u001b[0mprob_binary\u001b[0m \u001b[0;34m=\u001b[0m \u001b[0;36m1.0\u001b[0m\u001b[0;34m/\u001b[0m\u001b[0msize_integrate_full\u001b[0m \u001b[0;34m*\u001b[0m \u001b[0mnp\u001b[0m\u001b[0;34m.\u001b[0m\u001b[0msum\u001b[0m\u001b[0;34m(\u001b[0m\u001b[0mprob_tmp\u001b[0m\u001b[0;34m)\u001b[0m\u001b[0;34m\u001b[0m\u001b[0m\n\u001b[1;32m     83\u001b[0m \u001b[0;34m\u001b[0m\u001b[0m\n",
      "\u001b[0;32m/Users/jeffandrews/Research/gaia_binaries/src/P_binary.py\u001b[0m in \u001b[0;36mget_P_binary\u001b[0;34m(theta, delta_mu, dist, num_sys, method)\u001b[0m\n\u001b[1;32m    341\u001b[0m         \u001b[0;32melif\u001b[0m \u001b[0misinstance\u001b[0m\u001b[0;34m(\u001b[0m\u001b[0mdelta_mu\u001b[0m\u001b[0;34m,\u001b[0m \u001b[0mnp\u001b[0m\u001b[0;34m.\u001b[0m\u001b[0mndarray\u001b[0m\u001b[0;34m)\u001b[0m\u001b[0;34m:\u001b[0m\u001b[0;34m\u001b[0m\u001b[0m\n\u001b[1;32m    342\u001b[0m             \u001b[0mvalues\u001b[0m \u001b[0;34m=\u001b[0m \u001b[0mnp\u001b[0m\u001b[0;34m.\u001b[0m\u001b[0mvstack\u001b[0m\u001b[0;34m(\u001b[0m\u001b[0;34m[\u001b[0m\u001b[0mtheta\u001b[0m\u001b[0;34m*\u001b[0m\u001b[0mnp\u001b[0m\u001b[0;34m.\u001b[0m\u001b[0mones\u001b[0m\u001b[0;34m(\u001b[0m\u001b[0mlen\u001b[0m\u001b[0;34m(\u001b[0m\u001b[0mdelta_mu\u001b[0m\u001b[0;34m)\u001b[0m\u001b[0;34m)\u001b[0m\u001b[0;34m,\u001b[0m \u001b[0mdelta_mu\u001b[0m\u001b[0;34m]\u001b[0m\u001b[0;34m)\u001b[0m\u001b[0;34m\u001b[0m\u001b[0m\n\u001b[0;32m--> 343\u001b[0;31m             \u001b[0mprob_binary\u001b[0m \u001b[0;34m=\u001b[0m \u001b[0mbinary_kde\u001b[0m\u001b[0;34m.\u001b[0m\u001b[0mevaluate\u001b[0m\u001b[0;34m(\u001b[0m\u001b[0mvalues\u001b[0m\u001b[0;34m)\u001b[0m\u001b[0;34m\u001b[0m\u001b[0m\n\u001b[0m\u001b[1;32m    344\u001b[0m         \u001b[0;32melse\u001b[0m\u001b[0;34m:\u001b[0m\u001b[0;34m\u001b[0m\u001b[0m\n\u001b[1;32m    345\u001b[0m             \u001b[0mprob_binary\u001b[0m \u001b[0;34m=\u001b[0m \u001b[0mbinary_kde\u001b[0m\u001b[0;34m.\u001b[0m\u001b[0mevaluate\u001b[0m\u001b[0;34m(\u001b[0m\u001b[0;34m[\u001b[0m\u001b[0mtheta\u001b[0m\u001b[0;34m,\u001b[0m \u001b[0mdelta_mu\u001b[0m\u001b[0;34m]\u001b[0m\u001b[0;34m)\u001b[0m\u001b[0;34m\u001b[0m\u001b[0m\n",
      "\u001b[0;32m/Library/Python/2.7/site-packages/scipy/stats/kde.pyc\u001b[0m in \u001b[0;36mevaluate\u001b[0;34m(self, points)\u001b[0m\n\u001b[1;32m    219\u001b[0m                 \u001b[0mtdiff\u001b[0m \u001b[0;34m=\u001b[0m \u001b[0mdot\u001b[0m\u001b[0;34m(\u001b[0m\u001b[0mself\u001b[0m\u001b[0;34m.\u001b[0m\u001b[0minv_cov\u001b[0m\u001b[0;34m,\u001b[0m \u001b[0mdiff\u001b[0m\u001b[0;34m)\u001b[0m\u001b[0;34m\u001b[0m\u001b[0m\n\u001b[1;32m    220\u001b[0m                 \u001b[0menergy\u001b[0m \u001b[0;34m=\u001b[0m \u001b[0msum\u001b[0m\u001b[0;34m(\u001b[0m\u001b[0mdiff\u001b[0m \u001b[0;34m*\u001b[0m \u001b[0mtdiff\u001b[0m\u001b[0;34m,\u001b[0m \u001b[0maxis\u001b[0m\u001b[0;34m=\u001b[0m\u001b[0;36m0\u001b[0m\u001b[0;34m)\u001b[0m \u001b[0;34m/\u001b[0m \u001b[0;36m2.0\u001b[0m\u001b[0;34m\u001b[0m\u001b[0m\n\u001b[0;32m--> 221\u001b[0;31m                 \u001b[0mresult\u001b[0m\u001b[0;34m[\u001b[0m\u001b[0mi\u001b[0m\u001b[0;34m]\u001b[0m \u001b[0;34m=\u001b[0m \u001b[0msum\u001b[0m\u001b[0;34m(\u001b[0m\u001b[0mexp\u001b[0m\u001b[0;34m(\u001b[0m\u001b[0;34m-\u001b[0m\u001b[0menergy\u001b[0m\u001b[0;34m)\u001b[0m\u001b[0;34m,\u001b[0m \u001b[0maxis\u001b[0m\u001b[0;34m=\u001b[0m\u001b[0;36m0\u001b[0m\u001b[0;34m)\u001b[0m\u001b[0;34m\u001b[0m\u001b[0m\n\u001b[0m\u001b[1;32m    222\u001b[0m \u001b[0;34m\u001b[0m\u001b[0m\n\u001b[1;32m    223\u001b[0m         \u001b[0mresult\u001b[0m \u001b[0;34m=\u001b[0m \u001b[0mresult\u001b[0m \u001b[0;34m/\u001b[0m \u001b[0mself\u001b[0m\u001b[0;34m.\u001b[0m\u001b[0m_norm_factor\u001b[0m\u001b[0;34m\u001b[0m\u001b[0m\n",
      "\u001b[0;31mKeyboardInterrupt\u001b[0m: "
     ]
    }
   ],
   "source": [
    "size_integrate = 10  # Number of samples for delta mu integration\n",
    "size_integrate_full = 10000\n",
    "f_bin = 0.5  # binary fraction\n",
    "\n",
    "start = time.time()\n",
    "\n",
    "# Now, let's calculate the probabilities\n",
    "length = len(t)\n",
    "print \"We are testing\", length, \"stars...\"\n",
    "\n",
    "dtype = [('i_1','i4'),('i_2','i4'),('ID_1','i4'),('ID_2','i4'),('P_random','f8'),('P_binary','f8'),('P_posterior','f8')]\n",
    "prob_out = np.array([], dtype=dtype)\n",
    "\n",
    "\n",
    "for i in np.arange(length):\n",
    "    \n",
    "    if i%1000 == 0: print i\n",
    "    # print i\n",
    "        \n",
    "    # Get ids of all stars within 1 degree\n",
    "    i_star2 = np.arange(length - i - 1) + i + 1\n",
    "    theta = get_ang_sep(t['ra'][i], t['dec'][i], t['ra'][i_star2], t['dec'][i_star2])\n",
    "    ids_good = i_star2[np.where(theta < 1.0)[0]]\n",
    "    \n",
    "    \n",
    "#     print np.where(theta < 1.0)[0]\n",
    "#     print i_star2[np.where(theta < 1.0)[0]][0], ids_good[0]\n",
    "#     print t['ra'][i], t['dec'][i], t['ra'][ids_good[0]], t['dec'][ids_good[0]], theta[ids_good[0]-i-1]\n",
    "#     If a repeated entry, move on to the next one\n",
    "#     if np.any(t['ID'][i] == t['ID'][ids_good]): continue\n",
    "    \n",
    "\n",
    "    \n",
    "\n",
    "#     print i, t['ID'][i], len(ids_good), np.min(theta)*3600.0, t['ra'][i], t['dec'][i], t['ra'][np.argmin(theta)+i+1], t['dec'][np.argmin(theta)+i+1]\n",
    "#     tmp_i = ids_good[np.argmin(theta[ids_good])] \n",
    "#     print i, tmp_i, t['ID'][tmp_i], t['ra'][tmp_i], t['dec'][tmp_i]\n",
    "    \n",
    "    \n",
    "    # Move on if no matches within 1 degree\n",
    "    if len(ids_good) == 0: continue\n",
    "    \n",
    "    delta_mu_ra_err = np.sqrt(t['mu_ra_err'][i]**2 + t['mu_ra_err'][ids_good]**2)\n",
    "    delta_mu_dec_err = np.sqrt(t['mu_dec_err'][i]**2 + t['mu_dec_err'][ids_good]**2)\n",
    "\n",
    "    \n",
    "    delta_mu_ra_sample = multivariate_normal(mean=(t['mu_ra'][i] - t['mu_ra'][ids_good]), \\\n",
    "                                             cov=np.diag(delta_mu_ra_err), \\\n",
    "                                             size=size_integrate)\n",
    "    delta_mu_dec_sample = multivariate_normal(mean=(t['mu_dec'][i] - t['mu_dec'][ids_good]), \\\n",
    "                                              cov=np.diag(delta_mu_dec_err), \\\n",
    "                                              size=size_integrate)\n",
    "    delta_mu_sample = np.sqrt(delta_mu_ra_sample**2 + delta_mu_dec_sample**2)\n",
    "    \n",
    "    \n",
    "    prob_tmp = P_binary.get_P_binary(np.repeat(theta[ids_good-i-1], size_integrate) * 3600.0, np.ravel(delta_mu_sample.T))\n",
    "    prob_binary = 1.0/size_integrate * np.sum(prob_tmp.reshape((len(ids_good), size_integrate)), axis=1)    \n",
    "    \n",
    "    ids_good_binary = np.where(prob_binary > 0.0)[0]\n",
    "    if len(ids_good_binary) == 0: continue\n",
    "    ids_good_binary_all = ids_good[ids_good_binary]\n",
    "    \n",
    "    # for j in ids_good_binary_all:\n",
    "    for k in np.arange(len(ids_good_binary_all)):\n",
    "        j = ids_good_binary_all[k]\n",
    "\n",
    "    \n",
    "        # Star arrays\n",
    "        star1 = t['ra'][i], t['dec'][i], t['mu_ra'][i], t['mu_dec'][i], t['mu_ra_err'][i], t['mu_dec_err'][i]\n",
    "        star2 = t['ra'][j], t['dec'][j], t['mu_ra'][j], t['mu_dec'][j], t['mu_ra_err'][j], t['mu_dec_err'][j]\n",
    "        theta_match = get_ang_sep(t['ra'][i], t['dec'][i], t['ra'][j], t['dec'][j])\n",
    "\n",
    "        \n",
    "        # Proper motion uncertainties\n",
    "        delta_mu_ra_err = np.sqrt(t['mu_ra_err'][i]**2 + t['mu_ra_err'][j]**2)\n",
    "        delta_mu_dec_err = np.sqrt(t['mu_dec_err'][i]**2 + t['mu_dec_err'][j]**2)\n",
    "\n",
    "        \n",
    "        # Recalculate binary probabilities\n",
    "        delta_mu_ra_sample = normal(loc=(t['mu_ra'][i] - t['mu_ra'][j]), \\\n",
    "                                                 scale=delta_mu_ra_err, \\\n",
    "                                                 size=size_integrate_full)\n",
    "        delta_mu_dec_sample = normal(loc=(t['mu_dec'][i] - t['mu_dec'][j]), \\\n",
    "                                                  scale=delta_mu_dec_err, \\\n",
    "                                                  size=size_integrate_full)\n",
    "        delta_mu_sample = np.sqrt(delta_mu_ra_sample**2 + delta_mu_dec_sample**2)\n",
    "\n",
    "\n",
    "        prob_tmp = P_binary.get_P_binary(theta_match * 3600.0, delta_mu_sample)\n",
    "        prob_binary = 1.0/size_integrate_full * np.sum(prob_tmp)    \n",
    "\n",
    "\n",
    "        \n",
    "        \n",
    "        # Random Alignment densities\n",
    "        pos_density = P_random.get_sigma_pos(t['ra'][i], t['dec'][i], catalog=t, method='kde')\n",
    "        pm_density = P_random.get_sigma_mu(t['mu_ra'][i], t['mu_dec'][i], catalog=t, method='kde')\n",
    "\n",
    "\n",
    "        # Calculate random alignment probabilities\n",
    "        prob_random, prob_pos, prob_mu = P_random.get_P_random_alignment(star1[0], star1[1], star2[0], star2[1],\n",
    "                                          star1[2], star1[3], star2[2], star2[3],\n",
    "                                          delta_mu_ra_err=delta_mu_ra_err, delta_mu_dec_err=delta_mu_dec_err,\n",
    "                                          pos_density=pos_density, pm_density=pm_density,\n",
    "                                          catalog=t)\n",
    "        \n",
    "        \n",
    "        # Save those pairs with posterior probabilities above 50% \n",
    "        prob_posterior = f_bin * prob_binary / (prob_random + f_bin * prob_binary)\n",
    "        \n",
    "#         print \"Potential match. i:\", i, \"j:\", j, \"P(binary):\", prob_binary[ids_good_binary[k]], \"P(random):\", prob_random, \\\n",
    "#                 \"P(posterior):\", prob_posterior\n",
    "        print \"Potential match. i:\", i, \"j:\", j, \"P(binary):\", prob_binary, \"P(random):\", prob_random, \\\n",
    "                \"P(posterior):\", prob_posterior\n",
    "\n",
    "        \n",
    "        if prob_posterior > 0.5:\n",
    "            prob_temp = np.zeros(1, dtype=dtype)\n",
    "            prob_temp[0] = i, j, t['ID'][i], t['ID'][j], prob_random, prob_binary, prob_posterior\n",
    "            prob_out = np.append(prob_out, prob_temp)\n",
    "#             prob_out = np.append(prob_out, [i, j, t['ID'][i], t['ID'][j], prob_random, prob_binary[ids_good_binary[k]], prob_posterior])\n",
    "\n",
    "\n",
    "print \"Elapsed time:\", time.time() - start, \"seconds\"\n"
   ]
  },
  {
   "cell_type": "markdown",
   "metadata": {},
   "source": [
    "N=10, t=50 \n",
    "\n",
    "N=20, t=93\n"
   ]
  },
  {
   "cell_type": "code",
   "execution_count": 81,
   "metadata": {
    "collapsed": false
   },
   "outputs": [
    {
     "name": "stdout",
     "output_type": "stream",
     "text": [
      "[(13, 14, 59800815, 59800815, 0.0, 0.010827243613101764, 1.0)]\n"
     ]
    }
   ],
   "source": [
    "print prob_out\n"
   ]
  },
  {
   "cell_type": "code",
   "execution_count": null,
   "metadata": {
    "collapsed": true
   },
   "outputs": [],
   "source": []
  }
 ],
 "metadata": {
  "kernelspec": {
   "display_name": "Python 2",
   "language": "python",
   "name": "python2"
  },
  "language_info": {
   "codemirror_mode": {
    "name": "ipython",
    "version": 2
   },
   "file_extension": ".py",
   "mimetype": "text/x-python",
   "name": "python",
   "nbconvert_exporter": "python",
   "pygments_lexer": "ipython2",
   "version": "2.7.10"
  }
 },
 "nbformat": 4,
 "nbformat_minor": 0
}
