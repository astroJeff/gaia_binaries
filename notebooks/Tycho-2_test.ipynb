{
 "cells": [
  {
   "cell_type": "code",
   "execution_count": 1,
   "metadata": {
    "collapsed": false
   },
   "outputs": [
    {
     "name": "stderr",
     "output_type": "stream",
     "text": [
      "/Library/Python/2.7/site-packages/IPython/kernel/__init__.py:13: ShimWarning: The `IPython.kernel` package has been deprecated. You should import from ipykernel or jupyter_client instead.\n",
      "  \"You should import from ipykernel or jupyter_client instead.\", ShimWarning)\n"
     ]
    }
   ],
   "source": [
    "import matplotlib.pyplot as plt\n",
    "import sys\n",
    "sys.path.append('../src')\n",
    "import numpy as np\n",
    "from numpy.random import normal, multivariate_normal\n",
    "import P_binary\n",
    "import P_random\n",
    "import P_posterior\n",
    "from astropy.table import Table\n",
    "import pickle\n",
    "import time\n",
    "import corner\n",
    "\n",
    "%matplotlib inline"
   ]
  },
  {
   "cell_type": "code",
   "execution_count": null,
   "metadata": {
    "collapsed": true
   },
   "outputs": [],
   "source": []
  },
  {
   "cell_type": "code",
   "execution_count": 2,
   "metadata": {
    "collapsed": false
   },
   "outputs": [
    {
     "name": "stdout",
     "output_type": "stream",
     "text": [
      "Opening Tycho-2 catalog...\n",
      "...finished reading data.\n"
     ]
    }
   ],
   "source": [
    "print \"Opening Tycho-2 catalog...\"\n",
    "# Read in sample from Tycho-2 table\n",
    "filename = ('../data/tycho-2/tyc2.dat')\n",
    "readme = ('../data/tycho-2/ReadMe')\n",
    "tycho_full = Table.read(filename, format='cds', guess=False, readme=readme)\n",
    "print \"...finished reading data.\"\n",
    "\n",
    "\n",
    "# Create the clean tycho-2 catalog\n",
    "dtype = [('ID','i8'),('ra','f8'),('dec','f8'),('mu_ra','f8'),('mu_dec','f8'), \\\n",
    "         ('mu_ra_err','f8'),('mu_dec_err','f8'),('Bmag','f8'),('Vmag','f8')]\n",
    "\n",
    "ids = np.intersect1d(np.where(tycho_full['q_pmRA'] >= 0.1), np.where(tycho_full['q_pmDE'] >= 0.1))\n",
    "\n",
    "t = np.zeros(len(ids), dtype=dtype)\n",
    "t['ID'] = tycho_full['TYC1'][ids]*100000 + tycho_full['TYC2'][ids]\n",
    "t['ra'] = tycho_full['RAmdeg'][ids]\n",
    "t['dec'] = tycho_full['DEmdeg'][ids]\n",
    "t['mu_ra'] = tycho_full['pmRA'][ids]\n",
    "t['mu_dec'] = tycho_full['pmDE'][ids]\n",
    "t['mu_ra_err'] = tycho_full['e_pmRA'][ids]\n",
    "t['mu_dec_err'] = tycho_full['e_pmDE'][ids]\n",
    "t['Bmag'] = tycho_full['BTmag'][ids]\n",
    "t['Vmag'] = tycho_full['VTmag'][ids]\n"
   ]
  },
  {
   "cell_type": "code",
   "execution_count": null,
   "metadata": {
    "collapsed": true
   },
   "outputs": [],
   "source": []
  },
  {
   "cell_type": "code",
   "execution_count": 3,
   "metadata": {
    "collapsed": false
   },
   "outputs": [
    {
     "name": "stdout",
     "output_type": "stream",
     "text": [
      "Generating binaries...\n"
     ]
    }
   ],
   "source": [
    "# Generate simulated binaries\n",
    "print \"Generating binaries...\"\n",
    "P_binary.generate_binary_set(num_sys=100000)"
   ]
  },
  {
   "cell_type": "code",
   "execution_count": null,
   "metadata": {
    "collapsed": true
   },
   "outputs": [],
   "source": []
  },
  {
   "cell_type": "code",
   "execution_count": 4,
   "metadata": {
    "collapsed": true
   },
   "outputs": [],
   "source": [
    "# Generate random alignment KDEs using first entry as a test position\n",
    "pos_density = P_random.get_sigma_pos(t['ra'][0], t['dec'][0], catalog=t, method='kde')\n",
    "pm_density = P_random.get_sigma_mu(t['mu_ra'][0], t['mu_dec'][0], catalog=t, method='kde')"
   ]
  },
  {
   "cell_type": "code",
   "execution_count": null,
   "metadata": {
    "collapsed": true
   },
   "outputs": [],
   "source": []
  },
  {
   "cell_type": "code",
   "execution_count": 5,
   "metadata": {
    "collapsed": true
   },
   "outputs": [],
   "source": [
    "def get_ang_sep(ra1, dec1, ra2, dec2):\n",
    "    rad_dec1 = np.pi/180.0 * dec1\n",
    "    rad_dec2 = np.pi/180.0 * dec2\n",
    "    return np.sqrt( (ra1-ra2)**2 * np.cos(rad_dec1) * np.cos(rad_dec2) + (dec1-dec2)**2 )"
   ]
  },
  {
   "cell_type": "code",
   "execution_count": null,
   "metadata": {
    "collapsed": true
   },
   "outputs": [],
   "source": []
  },
  {
   "cell_type": "code",
   "execution_count": 25,
   "metadata": {
    "collapsed": false,
    "scrolled": false
   },
   "outputs": [
    {
     "name": "stdout",
     "output_type": "stream",
     "text": [
      "We are testing 81227 stars...\n",
      "0\n",
      "1\n",
      "2\n",
      "3\n",
      "4\n",
      "5\n",
      "6\n",
      "7\n",
      "8\n",
      "9\n",
      "10\n",
      "Elapsed time: 20.9698770046 seconds\n"
     ]
    }
   ],
   "source": [
    "size_integrate = 10  # Number of samples for delta mu integration\n",
    "size_integrate_full = 10000\n",
    "f_bin = 0.5  # binary fraction\n",
    "\n",
    "start = time.time()\n",
    "\n",
    "# Now, let's calculate the probabilities\n",
    "length = len(t)\n",
    "print \"We are testing\", length, \"stars...\"\n",
    "\n",
    "dtype = [('i_1','i4'),('i_2','i4'),('ID_1','i4'),('ID_2','i4'),('P_random','f8'),('P_binary','f8'),('P_posterior','f8')]\n",
    "prob_out = np.array([], dtype=dtype)\n",
    "\n",
    "\n",
    "for i in np.arange(length):\n",
    "    \n",
    "    # if i%1000 == 0: print i\n",
    "    print i\n",
    "    \n",
    "    if i%10 == 0 and i != 0: break\n",
    "    \n",
    "    # Get ids of all stars within 1 degree\n",
    "    i_star2 = np.arange(length - i - 1) + i + 1\n",
    "    theta = get_ang_sep(t['ra'][i], t['dec'][i], t['ra'][i_star2], t['dec'][i_star2])\n",
    "    ids_good = i_star2[np.where(theta < 1.0)[0]]\n",
    "    \n",
    "    \n",
    "#     print np.where(theta < 1.0)[0]\n",
    "#     print i_star2[np.where(theta < 1.0)[0]][0], ids_good[0]\n",
    "#     print t['ra'][i], t['dec'][i], t['ra'][ids_good[0]], t['dec'][ids_good[0]], theta[ids_good[0]-i-1]\n",
    "#     If a repeated entry, move on to the next one\n",
    "#     if np.any(t['ID'][i] == t['ID'][ids_good]): continue\n",
    "    \n",
    "\n",
    "    \n",
    "\n",
    "#     print i, t['ID'][i], len(ids_good), np.min(theta)*3600.0, t['ra'][i], t['dec'][i], t['ra'][np.argmin(theta)+i+1], t['dec'][np.argmin(theta)+i+1]\n",
    "#     tmp_i = ids_good[np.argmin(theta[ids_good])] \n",
    "#     print i, tmp_i, t['ID'][tmp_i], t['ra'][tmp_i], t['dec'][tmp_i]\n",
    "    \n",
    "    \n",
    "    # Move on if no matches within 1 degree\n",
    "    if len(ids_good) == 0: continue\n",
    "    \n",
    "    delta_mu_ra_err = np.sqrt(t['mu_ra_err'][i]**2 + t['mu_ra_err'][ids_good]**2)\n",
    "    delta_mu_dec_err = np.sqrt(t['mu_dec_err'][i]**2 + t['mu_dec_err'][ids_good]**2)\n",
    "\n",
    "    \n",
    "    delta_mu_ra_sample = multivariate_normal(mean=(t['mu_ra'][i] - t['mu_ra'][ids_good]), \\\n",
    "                                             cov=np.diag(delta_mu_ra_err), \\\n",
    "                                             size=size_integrate)\n",
    "    delta_mu_dec_sample = multivariate_normal(mean=(t['mu_dec'][i] - t['mu_dec'][ids_good]), \\\n",
    "                                              cov=np.diag(delta_mu_dec_err), \\\n",
    "                                              size=size_integrate)\n",
    "    delta_mu_sample = np.sqrt(delta_mu_ra_sample**2 + delta_mu_dec_sample**2)\n",
    "    \n",
    "    \n",
    "    prob_tmp = P_binary.get_P_binary(np.repeat(theta[ids_good-i-1], size_integrate) * 3600.0, np.ravel(delta_mu_sample.T))\n",
    "    prob_binary = 1.0/size_integrate * np.sum(prob_tmp.reshape((len(ids_good), size_integrate)), axis=1)    \n",
    "    \n",
    "    ids_good_binary = np.where(prob_binary > 0.0)[0]\n",
    "    if len(ids_good_binary) == 0: continue\n",
    "    ids_good_binary_all = ids_good[ids_good_binary]\n",
    "    \n",
    "    # for j in ids_good_binary_all:\n",
    "    for k in np.arange(len(ids_good_binary_all)):\n",
    "        j = ids_good_binary_all[k]\n",
    "\n",
    "    \n",
    "        # Star arrays\n",
    "        star1 = t['ra'][i], t['dec'][i], t['mu_ra'][i], t['mu_dec'][i], t['mu_ra_err'][i], t['mu_dec_err'][i]\n",
    "        star2 = t['ra'][j], t['dec'][j], t['mu_ra'][j], t['mu_dec'][j], t['mu_ra_err'][j], t['mu_dec_err'][j]\n",
    "        theta_match = get_ang_sep(t['ra'][i], t['dec'][i], t['ra'][j], t['dec'][j])\n",
    "\n",
    "        \n",
    "        # Proper motion uncertainties\n",
    "        delta_mu_ra_err = np.sqrt(t['mu_ra_err'][i]**2 + t['mu_ra_err'][j]**2)\n",
    "        delta_mu_dec_err = np.sqrt(t['mu_dec_err'][i]**2 + t['mu_dec_err'][j]**2)\n",
    "\n",
    "        \n",
    "        # Recalculate binary probabilities\n",
    "        delta_mu_ra_sample = normal(loc=(t['mu_ra'][i] - t['mu_ra'][j]), \\\n",
    "                                                 scale=delta_mu_ra_err, \\\n",
    "                                                 size=size_integrate_full)\n",
    "        delta_mu_dec_sample = normal(loc=(t['mu_dec'][i] - t['mu_dec'][j]), \\\n",
    "                                                  scale=delta_mu_dec_err, \\\n",
    "                                                  size=size_integrate_full)\n",
    "        delta_mu_sample = np.sqrt(delta_mu_ra_sample**2 + delta_mu_dec_sample**2)\n",
    "\n",
    "\n",
    "        prob_tmp = P_binary.get_P_binary(theta_match * 3600.0, delta_mu_sample)\n",
    "        prob_binary = 1.0/size_integrate_full * np.sum(prob_tmp)    \n",
    "\n",
    "\n",
    "        \n",
    "        \n",
    "        # Random Alignment densities\n",
    "        pos_density = P_random.get_sigma_pos(t['ra'][i], t['dec'][i], catalog=t, method='kde')\n",
    "        pm_density = P_random.get_sigma_mu(t['mu_ra'][i], t['mu_dec'][i], catalog=t, method='kde')\n",
    "\n",
    "\n",
    "        # Calculate random alignment probabilities\n",
    "        prob_random, prob_pos, prob_mu = P_random.get_P_random_alignment(star1[0], star1[1], star2[0], star2[1],\n",
    "                                          star1[2], star1[3], star2[2], star2[3],\n",
    "                                          delta_mu_ra_err=delta_mu_ra_err, delta_mu_dec_err=delta_mu_dec_err,\n",
    "                                          pos_density=pos_density, pm_density=pm_density,\n",
    "                                          catalog=t)\n",
    "        \n",
    "        \n",
    "        # Save those pairs with posterior probabilities above 50% \n",
    "        prob_posterior = f_bin * prob_binary / (prob_random + f_bin * prob_binary)\n",
    "        \n",
    "#         print \"Potential match. i:\", i, \"j:\", j, \"P(binary):\", prob_binary, \"P(random):\", prob_random, \\\n",
    "#                 \"P(posterior):\", prob_posterior\n",
    "\n",
    "        \n",
    "        if prob_posterior > 0.5:\n",
    "            prob_temp = np.zeros(1, dtype=dtype)\n",
    "            prob_temp[0] = i, j, t['ID'][i], t['ID'][j], prob_random, prob_binary, prob_posterior\n",
    "            prob_out = np.append(prob_out, prob_temp)\n",
    "#             prob_out = np.append(prob_out, [i, j, t['ID'][i], t['ID'][j], prob_random, prob_binary[ids_good_binary[k]], prob_posterior])\n",
    "\n",
    "\n",
    "print \"Elapsed time:\", time.time() - start, \"seconds\"\n"
   ]
  },
  {
   "cell_type": "markdown",
   "metadata": {},
   "source": [
    "N=10, t=50 \n",
    "\n",
    "N=20, t=93\n"
   ]
  },
  {
   "cell_type": "code",
   "execution_count": 21,
   "metadata": {
    "collapsed": false
   },
   "outputs": [],
   "source": [
    "#prob_out_1e4 = np.copy(prob_out)\n",
    "#prob_out_1e2 = np.copy(prob_out)\n",
    "#prob_out_1e4_search_1e3 = np.copy(prob_out)"
   ]
  },
  {
   "cell_type": "code",
   "execution_count": 23,
   "metadata": {
    "collapsed": false
   },
   "outputs": [
    {
     "name": "stdout",
     "output_type": "stream",
     "text": [
      "[(125, 126, 59900221, 59900221, 0.0, 0.009558548856604702, 1.0)\n",
      " (140, 159, 59900358, 59900533, 1.0855301086723091e-07, 5.963374627884822e-05, 0.9963725492054128)\n",
      " (158, 178, 59900529, 59900658, 1.0753379189858272e-07, 0.0001339282973019614, 0.9983967333458473)\n",
      " (252, 258, 59901256, 59901320, 3.8133382668938285e-07, 0.0002889615378477001, 0.9973676080945334)\n",
      " (262, 263, 59901370, 59901370, 0.0, 0.012640045240578322, 1.0)\n",
      " (268, 403, 60000030, 60001277, 5.392902765890516e-07, 0.00011785352806822845, 0.9909311239354923)\n",
      " (508, 608, 60100782, 60101632, 3.4909497910905736e-07, 1.2710614115488268e-06, 0.6454541208211805)\n",
      " (517, 609, 60100858, 60101636, 2.846984423120852e-11, 0.002039865787840874, 0.9999999720865522)\n",
      " (839, 843, 60301073, 60301115, 6.195901700846085e-10, 8.750315133078704e-07, 0.9985858475592624)]\n",
      "[(13, 14, 59800815, 59800815, 0.0, 0.010727719087005644, 1.0)\n",
      " (125, 126, 59900221, 59900221, 0.0, 0.009952905739464404, 1.0)\n",
      " (140, 159, 59900358, 59900533, 1.0496665195449366e-07, 4.8615946483978745e-05, 0.9957003682305164)\n",
      " (158, 178, 59900529, 59900658, 1.1764133263120346e-07, 0.0001419598148497458, 0.9983453531846442)]\n"
     ]
    }
   ],
   "source": [
    "print prob_out_1e2[1:10]\n",
    "\n",
    "print prob_out_1e4_search_1e3"
   ]
  },
  {
   "cell_type": "code",
   "execution_count": 19,
   "metadata": {
    "collapsed": false
   },
   "outputs": [
    {
     "name": "stdout",
     "output_type": "stream",
     "text": [
      "59800815 59800815 59800815 59800815 0.0107439097976 0.0 1.0\n",
      "59900221 59900221 59900221 59900221 0.00994921000906 0.0 1.0\n",
      "59900358 59900533 59900358 59900533 4.9332596876e-05 1.07827177029e-07 0.995647588992\n",
      "59900529 59900658 59900529 59900658 0.000133465203866 1.17160172613e-07 0.998247410777\n",
      "59901256 59901320 59901256 59901320 0.000210867766719 4.07698539028e-07 0.996148030559\n",
      "59901370 59901370 59901370 59901370 0.0126386522762 0.0 1.0\n",
      "60000030 60001277 60000030 60001277 0.000158832260181 5.82068330294e-07 0.992723982017\n",
      "60100782 60101632 60000030 60001503 2.67008881664e-06 1.02149474461e-06 0.566527573564\n",
      "60100858 60101636 60100782 60101632 9.76988632331e-07 2.88469452764e-07 0.628722130556\n",
      "60301073 60301115 60100858 60101636 0.00208681180847 3.06137371495e-11 0.99999997066\n",
      "60500534 60500534 60301073 60301115 1.04215417801e-06 5.67509679553e-10 0.998912075998\n",
      "60700370 60700370 60500534 60500534 0.00955221939316 0.0 1.0\n",
      "60800231 60800299 60700370 60700370 0.00752726410052 0.0 1.0\n",
      "60800938 60800938 60800231 60800299 0.00251232735712 7.74727199328e-08 0.999938329739\n",
      "60900299 60900299 60800938 60800938 0.0113442217974 0.0 1.0\n",
      "61000538 61000872 60900299 60900299 0.0115323428769 0.0 1.0\n",
      "61000638 61000890 61000538 61000872 0.000120332633405 5.93838440559e-10 0.999990130149\n",
      "61001566 61001566 61000638 61000890 0.000620263455436 2.94804472401e-07 0.999050324499\n",
      "61100220 61100610 61001566 61001566 0.0116948567243 0.0 1.0\n",
      "61300223 61300251 61100220 61100610 9.97680736185e-06 5.65152231903e-09 0.99886835005\n",
      "61300554 61300554 61300223 61300251 8.79666664002e-05 2.48025009245e-09 0.999943612499\n",
      "61300968 61300975 61300554 61300554 0.00924992768546 0.0 1.0\n",
      "61301248 61301249 61300968 61300975 6.82176111921e-05 4.55863021908e-07 0.986811300668\n",
      "61400123 61400123 61301248 61301249 6.37503527676e-05 6.36550696168e-11 0.999998002993\n",
      "61400393 61400393 61400123 61400123 0.00842567063946 0.0 1.0\n",
      "61400516 61401404 61400393 61400393 0.00281796356567 3.50054002914e-09 0.99999751556\n",
      "61400955 61401092 61400516 61401404 5.42175559203e-05 3.07023476025e-10 0.999988674517\n",
      "61600598 61600746 61400955 61401092 1.72655598798e-05 2.53641237395e-07 0.971457436877\n",
      "61600891 61600893 61600598 61600746 5.52877318868e-05 6.94813302797e-09 0.999748718681\n",
      "61700942 61700942 61600891 61600893 0.000189880449997 1.40105070769e-10 0.999998524283\n",
      "61700978 61701023 61700942 61700942 0.00645695906452 1.55004278778e-08 0.999995198869\n",
      "61800557 61800586 61700978 61701023 0.000125383264817 5.10505635654e-08 0.999186350326\n",
      "61900367 61900559 61800557 61800586 3.79355589493e-05 4.02640586573e-09 0.999787768972\n",
      "62000733 62001358 62000733 62001358 0.00169324170099 7.19243479457e-08 0.999915052602\n",
      "62000926 62000985 62000926 62000985 0.000525821663753 5.64444990244e-09 0.999978531395\n",
      "62100864 62100864 62100864 62100864 0.00999941251618 0.0 1.0\n",
      "62200474 62200474 62200474 62200474 0.00944509440959 0.0 1.0\n",
      "62201312 62201312 62201312 62201312 0.00218662494672 3.83050324771e-11 0.999999964964\n",
      "62301024 62301232 62301024 62301232 1.34187937531e-05 2.68372175884e-07 0.961538971286\n",
      "62400321 62400321 62400321 62400321 0.0113295490424 0.0 1.0\n",
      "62400345 62401017 62400345 62401017 1.67755638496e-05 3.25200077329e-07 0.962676374489\n",
      "62400954 62400998 62400531 62400607 1.79090533864e-06 5.60941145265e-07 0.614842400697\n",
      "62600838 62601010 62400954 62400998 0.000728868906491 4.25976267405e-11 0.999999883113\n",
      "62600958 62600958 62600838 62601010 8.82345289891e-05 3.08255031469e-09 0.999930133135\n",
      "62701377 62701378 62600958 62600958 0.0114527116393 0.0 1.0\n",
      "63000265 63000418 62701377 62701378 5.55523738439e-07 9.60418081057e-08 0.743068851562\n",
      "63001121 63001171 63000265 63000418 0.000659962526312 6.42666218105e-10 0.99999805242\n",
      "63100093 63100093 63001121 63001171 1.99983197006e-06 5.7355144732e-07 0.635485657009\n"
     ]
    }
   ],
   "source": [
    "for i in np.arange(len(prob_out_1e2)):\n",
    "    print prob_out_1e2['ID_1'][i], prob_out_1e2['ID_2'][i], prob_out_1e4['ID_1'][i], prob_out_1e4['ID_2'][i], \\\n",
    "        prob_out_1e4['P_binary'][i], prob_out_1e4['P_random'][i], prob_out_1e4['P_posterior'][i]"
   ]
  },
  {
   "cell_type": "code",
   "execution_count": null,
   "metadata": {
    "collapsed": true
   },
   "outputs": [],
   "source": []
  },
  {
   "cell_type": "code",
   "execution_count": 27,
   "metadata": {
    "collapsed": false
   },
   "outputs": [
    {
     "name": "stdout",
     "output_type": "stream",
     "text": [
      "Opening Tycho-2 catalog...\n",
      "...finished reading data.\n"
     ]
    }
   ],
   "source": [
    "print \"Opening Tycho-2 catalog...\"\n",
    "# Read in sample from Tycho-2 table\n",
    "filename = ('../data/tycho-2/tyc2_full.dat')\n",
    "readme = ('../data/tycho-2/ReadMe_full')\n",
    "tycho_full = Table.read(filename, format='cds', guess=False, readme=readme)\n",
    "print \"...finished reading data.\"\n",
    "\n",
    "\n",
    "# Create the clean tycho-2 catalog\n",
    "dtype = [('ID','i8'),('ra','f8'),('dec','f8'),('mu_ra','f8'),('mu_dec','f8'), \\\n",
    "         ('mu_ra_err','f8'),('mu_dec_err','f8'),('Bmag','f8'),('Vmag','f8')]\n",
    "\n",
    "ids = np.intersect1d(np.where(tycho_full['q_pmRA'] >= 0.1), np.where(tycho_full['q_pmDE'] >= 0.1))\n",
    "\n",
    "t = np.zeros(len(ids), dtype=dtype)\n",
    "t['ID'] = tycho_full['TYC1'][ids]*100000 + tycho_full['TYC2'][ids]\n",
    "t['ra'] = tycho_full['RAmdeg'][ids]\n",
    "t['dec'] = tycho_full['DEmdeg'][ids]\n",
    "t['mu_ra'] = tycho_full['pmRA'][ids]\n",
    "t['mu_dec'] = tycho_full['pmDE'][ids]\n",
    "t['mu_ra_err'] = tycho_full['e_pmRA'][ids]\n",
    "t['mu_dec_err'] = tycho_full['e_pmDE'][ids]\n",
    "t['Bmag'] = tycho_full['BTmag'][ids]\n",
    "t['Vmag'] = tycho_full['VTmag'][ids]\n",
    "\n"
   ]
  },
  {
   "cell_type": "code",
   "execution_count": null,
   "metadata": {
    "collapsed": false
   },
   "outputs": [],
   "source": []
  },
  {
   "cell_type": "code",
   "execution_count": 31,
   "metadata": {
    "collapsed": true
   },
   "outputs": [],
   "source": [
    "# Reset KDEs\n",
    "P_random.pos_kde = None\n",
    "P_random.mu_kde = None\n",
    "\n",
    "# Generate random alignment KDEs using first entry as a test position\n",
    "pos_density = P_random.get_sigma_pos(t['ra'][0], t['dec'][0], catalog=t, method='kde')\n",
    "pm_density = P_random.get_sigma_mu(t['mu_ra'][0], t['mu_dec'][0], catalog=t, method='kde')"
   ]
  },
  {
   "cell_type": "code",
   "execution_count": null,
   "metadata": {
    "collapsed": true
   },
   "outputs": [],
   "source": []
  },
  {
   "cell_type": "code",
   "execution_count": 38,
   "metadata": {
    "collapsed": false
   },
   "outputs": [
    {
     "name": "stdout",
     "output_type": "stream",
     "text": [
      "We are testing 2056166 stars...\n",
      "0\n",
      "1\n",
      "2\n",
      "3\n",
      "4\n",
      "5\n",
      "6\n",
      "7\n",
      "8\n",
      "9\n",
      "10\n",
      "Elapsed time: 54.2265079021 seconds\n"
     ]
    }
   ],
   "source": [
    "size_integrate = 10  # Number of samples for delta mu integration\n",
    "size_integrate_full = 10000\n",
    "f_bin = 0.5  # binary fraction\n",
    "\n",
    "start = time.time()\n",
    "\n",
    "# Now, let's calculate the probabilities\n",
    "length = len(t)\n",
    "print \"We are testing\", length, \"stars...\"\n",
    "\n",
    "dtype = [('i_1','i4'),('i_2','i4'),('ID_1','i4'),('ID_2','i4'),('P_random','f8'),('P_binary','f8'),('P_posterior','f8')]\n",
    "prob_out = np.array([], dtype=dtype)\n",
    "\n",
    "\n",
    "for i in np.arange(length):\n",
    "    \n",
    "    # if i%1000 == 0: print i\n",
    "    print i\n",
    "    \n",
    "    if i == 10: break\n",
    "    \n",
    "    # Get ids of all stars within 1 degree\n",
    "    i_star2 = np.arange(length - i - 1) + i + 1\n",
    "    theta = get_ang_sep(t['ra'][i], t['dec'][i], t['ra'][i_star2], t['dec'][i_star2])\n",
    "    ids_good = i_star2[np.where(theta < 1.0)[0]]\n",
    "    \n",
    "    \n",
    "#     print np.where(theta < 1.0)[0]\n",
    "#     print i_star2[np.where(theta < 1.0)[0]][0], ids_good[0]\n",
    "#     print t['ra'][i], t['dec'][i], t['ra'][ids_good[0]], t['dec'][ids_good[0]], theta[ids_good[0]-i-1]\n",
    "#     If a repeated entry, move on to the next one\n",
    "#     if np.any(t['ID'][i] == t['ID'][ids_good]): continue\n",
    "    \n",
    "\n",
    "    \n",
    "\n",
    "#     print i, t['ID'][i], len(ids_good), np.min(theta)*3600.0, t['ra'][i], t['dec'][i], t['ra'][np.argmin(theta)+i+1], t['dec'][np.argmin(theta)+i+1]\n",
    "#     tmp_i = ids_good[np.argmin(theta[ids_good])] \n",
    "#     print i, tmp_i, t['ID'][tmp_i], t['ra'][tmp_i], t['dec'][tmp_i]\n",
    "    \n",
    "    \n",
    "    # Move on if no matches within 1 degree\n",
    "    if len(ids_good) == 0: continue\n",
    "    \n",
    "    delta_mu_ra_err = np.sqrt(t['mu_ra_err'][i]**2 + t['mu_ra_err'][ids_good]**2)\n",
    "    delta_mu_dec_err = np.sqrt(t['mu_dec_err'][i]**2 + t['mu_dec_err'][ids_good]**2)\n",
    "\n",
    "    \n",
    "    delta_mu_ra_sample = multivariate_normal(mean=(t['mu_ra'][i] - t['mu_ra'][ids_good]), \\\n",
    "                                             cov=np.diag(delta_mu_ra_err), \\\n",
    "                                             size=size_integrate)\n",
    "    delta_mu_dec_sample = multivariate_normal(mean=(t['mu_dec'][i] - t['mu_dec'][ids_good]), \\\n",
    "                                              cov=np.diag(delta_mu_dec_err), \\\n",
    "                                              size=size_integrate)\n",
    "    delta_mu_sample = np.sqrt(delta_mu_ra_sample**2 + delta_mu_dec_sample**2)\n",
    "    \n",
    "    \n",
    "    prob_tmp = P_binary.get_P_binary(np.repeat(theta[ids_good-i-1], size_integrate) * 3600.0, np.ravel(delta_mu_sample.T))\n",
    "    prob_binary = 1.0/size_integrate * np.sum(prob_tmp.reshape((len(ids_good), size_integrate)), axis=1)    \n",
    "    \n",
    "    ids_good_binary = np.where(prob_binary > 0.0)[0]\n",
    "    if len(ids_good_binary) == 0: continue\n",
    "    ids_good_binary_all = ids_good[ids_good_binary]\n",
    "    \n",
    "    # for j in ids_good_binary_all:\n",
    "    for k in np.arange(len(ids_good_binary_all)):\n",
    "        j = ids_good_binary_all[k]\n",
    "\n",
    "    \n",
    "        # Star arrays\n",
    "        star1 = t['ra'][i], t['dec'][i], t['mu_ra'][i], t['mu_dec'][i], t['mu_ra_err'][i], t['mu_dec_err'][i]\n",
    "        star2 = t['ra'][j], t['dec'][j], t['mu_ra'][j], t['mu_dec'][j], t['mu_ra_err'][j], t['mu_dec_err'][j]\n",
    "        theta_match = get_ang_sep(t['ra'][i], t['dec'][i], t['ra'][j], t['dec'][j])\n",
    "\n",
    "        \n",
    "        # Proper motion uncertainties\n",
    "        delta_mu_ra_err = np.sqrt(t['mu_ra_err'][i]**2 + t['mu_ra_err'][j]**2)\n",
    "        delta_mu_dec_err = np.sqrt(t['mu_dec_err'][i]**2 + t['mu_dec_err'][j]**2)\n",
    "\n",
    "        \n",
    "        # Recalculate binary probabilities\n",
    "        delta_mu_ra_sample = normal(loc=(t['mu_ra'][i] - t['mu_ra'][j]), \\\n",
    "                                                 scale=delta_mu_ra_err, \\\n",
    "                                                 size=size_integrate_full)\n",
    "        delta_mu_dec_sample = normal(loc=(t['mu_dec'][i] - t['mu_dec'][j]), \\\n",
    "                                                  scale=delta_mu_dec_err, \\\n",
    "                                                  size=size_integrate_full)\n",
    "        delta_mu_sample = np.sqrt(delta_mu_ra_sample**2 + delta_mu_dec_sample**2)\n",
    "\n",
    "\n",
    "        prob_tmp = P_binary.get_P_binary(theta_match * 3600.0, delta_mu_sample)\n",
    "        prob_binary = 1.0/size_integrate_full * np.sum(prob_tmp)    \n",
    "\n",
    "\n",
    "        \n",
    "        \n",
    "        # Random Alignment densities\n",
    "        pos_density = P_random.get_sigma_pos(t['ra'][i], t['dec'][i], catalog=t, method='kde')\n",
    "        pm_density = P_random.get_sigma_mu(t['mu_ra'][i], t['mu_dec'][i], catalog=t, method='kde')\n",
    "\n",
    "\n",
    "        # Calculate random alignment probabilities\n",
    "        prob_random, prob_pos, prob_mu = P_random.get_P_random_alignment(star1[0], star1[1], star2[0], star2[1],\n",
    "                                          star1[2], star1[3], star2[2], star2[3],\n",
    "                                          delta_mu_ra_err=delta_mu_ra_err, delta_mu_dec_err=delta_mu_dec_err,\n",
    "                                          pos_density=pos_density, pm_density=pm_density,\n",
    "                                          catalog=t)\n",
    "        \n",
    "        \n",
    "        # Save those pairs with posterior probabilities above 50% \n",
    "        prob_posterior = f_bin * prob_binary / (prob_random + f_bin * prob_binary)\n",
    "        \n",
    "#         print \"Potential match. i:\", i, \"j:\", j, \"P(binary):\", prob_binary, \"P(random):\", prob_random, \\\n",
    "#                 \"P(posterior):\", prob_posterior\n",
    "\n",
    "        \n",
    "        if prob_posterior > 0.5:\n",
    "            prob_temp = np.zeros(1, dtype=dtype)\n",
    "            prob_temp[0] = i, j, t['ID'][i], t['ID'][j], prob_random, prob_binary, prob_posterior\n",
    "            prob_out = np.append(prob_out, prob_temp)\n",
    "#             prob_out = np.append(prob_out, [i, j, t['ID'][i], t['ID'][j], prob_random, prob_binary[ids_good_binary[k]], prob_posterior])\n",
    "\n",
    "\n",
    "print \"Elapsed time:\", time.time() - start, \"seconds\"\n",
    "\n"
   ]
  },
  {
   "cell_type": "code",
   "execution_count": null,
   "metadata": {
    "collapsed": true
   },
   "outputs": [],
   "source": []
  },
  {
   "cell_type": "code",
   "execution_count": 54,
   "metadata": {
    "collapsed": false
   },
   "outputs": [
    {
     "data": {
      "image/png": "[encoded data removed]",
      "text/plain": [
       "<matplotlib.figure.Figure at 0x10e7a5950>"
      ]
     },
     "metadata": {},
     "output_type": "display_data"
    }
   ],
   "source": [
    "fig, ax = plt.subplots(2,1, figsize=(6,7))\n",
    "\n",
    "contourf_kwargs = {'bins':80}\n",
    "corner.hist2d(t['ra'], t['dec'], range=[(0,360),(-90,90)], ax=ax[0], plot_datapoints=False, **contourf_kwargs)\n",
    "#plt.scatter(t['ra'], t['dec'], marker='.', alpha=0.1)\n",
    "ax[0].set_xlim(0,360)\n",
    "ax[0].set_ylim(-90,90)\n",
    "ax[0].set_xlabel(r'${\\rm RA\\ (degrees)}$', size=16)\n",
    "ax[0].set_ylabel(r'${\\rm Dec\\ (degrees)}$', size=16)\n",
    "\n",
    "contourf_kwargs = {'bins':80}\n",
    "corner.hist2d(t['mu_ra'], t['mu_dec'], range=[(-50,50),(-50,50)], ax=ax[1], plot_datapoints=False, **contourf_kwargs)\n",
    "ax[1].set_xlabel(r'$\\mu_{\\rm RA}\\ {\\rm (mas/yr)}$', size=16)\n",
    "ax[1].set_ylabel(r'$\\mu_{\\rm Dec}\\ {\\rm (mas/yr)}$', size=16)\n",
    "ax[1].set_xlim(-100,100)\n",
    "ax[1].set_ylim(-100,100)\n",
    "\n",
    "plt.tight_layout()\n",
    "plt.savefig('../figures/tycho-2_pos_mu.pdf')\n",
    "#plt.show()"
   ]
  },
  {
   "cell_type": "code",
   "execution_count": 3,
   "metadata": {
    "collapsed": false
   },
   "outputs": [
    {
     "name": "stdout",
     "output_type": "stream",
     "text": [
      "Generating binaries...\n",
      "We are testing 81227 stars...\n",
      "0 4.66913604736\n",
      "10 29.3583710194\n",
      "20 103.236033916\n",
      "30 122.944215059\n",
      "40 136.557038069\n",
      "50 153.231400967\n"
     ]
    },
    {
     "ename": "KeyboardInterrupt",
     "evalue": "",
     "output_type": "error",
     "traceback": [
      "\u001b[0;31m---------------------------------------------------------------------------\u001b[0m",
      "\u001b[0;31mKeyboardInterrupt\u001b[0m                         Traceback (most recent call last)",
      "\u001b[0;32m<ipython-input-3-1119f23d7ecc>\u001b[0m in \u001b[0;36m<module>\u001b[0;34m()\u001b[0m\n\u001b[1;32m      1\u001b[0m \u001b[0;32mimport\u001b[0m \u001b[0mP_posterior\u001b[0m\u001b[0;34m\u001b[0m\u001b[0m\n\u001b[1;32m      2\u001b[0m \u001b[0;34m\u001b[0m\u001b[0m\n\u001b[0;32m----> 3\u001b[0;31m \u001b[0mp_out\u001b[0m \u001b[0;34m=\u001b[0m \u001b[0mP_posterior\u001b[0m\u001b[0;34m.\u001b[0m\u001b[0mmatch_binaries\u001b[0m\u001b[0;34m(\u001b[0m\u001b[0mt\u001b[0m\u001b[0;34m)\u001b[0m\u001b[0;34m\u001b[0m\u001b[0m\n\u001b[0m",
      "\u001b[0;32m/Users/jeffandrews/Research/gaia_binaries/src/P_posterior.py\u001b[0m in \u001b[0;36mmatch_binaries\u001b[0;34m(t)\u001b[0m\n\u001b[1;32m     80\u001b[0m \u001b[0;34m\u001b[0m\u001b[0m\n\u001b[1;32m     81\u001b[0m         \u001b[0;31m# Monte Carlo integrate observational uncertainties on delta mu\u001b[0m\u001b[0;34m\u001b[0m\u001b[0;34m\u001b[0m\u001b[0m\n\u001b[0;32m---> 82\u001b[0;31m         \u001b[0mprob_tmp\u001b[0m \u001b[0;34m=\u001b[0m \u001b[0mP_binary\u001b[0m\u001b[0;34m.\u001b[0m\u001b[0mget_P_binary\u001b[0m\u001b[0;34m(\u001b[0m\u001b[0mnp\u001b[0m\u001b[0;34m.\u001b[0m\u001b[0mrepeat\u001b[0m\u001b[0;34m(\u001b[0m\u001b[0mtheta\u001b[0m\u001b[0;34m[\u001b[0m\u001b[0mids_good\u001b[0m\u001b[0;34m-\u001b[0m\u001b[0mi\u001b[0m\u001b[0;34m-\u001b[0m\u001b[0;36m1\u001b[0m\u001b[0;34m]\u001b[0m\u001b[0;34m,\u001b[0m \u001b[0msize_integrate\u001b[0m\u001b[0;34m)\u001b[0m \u001b[0;34m*\u001b[0m \u001b[0;36m3600.0\u001b[0m\u001b[0;34m,\u001b[0m \u001b[0mnp\u001b[0m\u001b[0;34m.\u001b[0m\u001b[0mravel\u001b[0m\u001b[0;34m(\u001b[0m\u001b[0mdelta_mu_sample\u001b[0m\u001b[0;34m.\u001b[0m\u001b[0mT\u001b[0m\u001b[0;34m)\u001b[0m\u001b[0;34m)\u001b[0m\u001b[0;34m\u001b[0m\u001b[0m\n\u001b[0m\u001b[1;32m     83\u001b[0m         \u001b[0mprob_binary\u001b[0m \u001b[0;34m=\u001b[0m \u001b[0;36m1.0\u001b[0m\u001b[0;34m/\u001b[0m\u001b[0msize_integrate\u001b[0m \u001b[0;34m*\u001b[0m \u001b[0mnp\u001b[0m\u001b[0;34m.\u001b[0m\u001b[0msum\u001b[0m\u001b[0;34m(\u001b[0m\u001b[0mprob_tmp\u001b[0m\u001b[0;34m.\u001b[0m\u001b[0mreshape\u001b[0m\u001b[0;34m(\u001b[0m\u001b[0;34m(\u001b[0m\u001b[0mlen\u001b[0m\u001b[0;34m(\u001b[0m\u001b[0mids_good\u001b[0m\u001b[0;34m)\u001b[0m\u001b[0;34m,\u001b[0m \u001b[0msize_integrate\u001b[0m\u001b[0;34m)\u001b[0m\u001b[0;34m)\u001b[0m\u001b[0;34m,\u001b[0m \u001b[0maxis\u001b[0m\u001b[0;34m=\u001b[0m\u001b[0;36m1\u001b[0m\u001b[0;34m)\u001b[0m\u001b[0;34m\u001b[0m\u001b[0m\n\u001b[1;32m     84\u001b[0m \u001b[0;34m\u001b[0m\u001b[0m\n",
      "\u001b[0;32m/Users/jeffandrews/Research/gaia_binaries/src/P_binary.pyc\u001b[0m in \u001b[0;36mget_P_binary\u001b[0;34m(theta, delta_mu, dist, num_sys, method)\u001b[0m\n\u001b[1;32m    338\u001b[0m         \u001b[0;32mif\u001b[0m \u001b[0misinstance\u001b[0m\u001b[0;34m(\u001b[0m\u001b[0mdelta_mu\u001b[0m\u001b[0;34m,\u001b[0m \u001b[0mnp\u001b[0m\u001b[0;34m.\u001b[0m\u001b[0mndarray\u001b[0m\u001b[0;34m)\u001b[0m \u001b[0;32mand\u001b[0m \u001b[0misinstance\u001b[0m\u001b[0;34m(\u001b[0m\u001b[0mtheta\u001b[0m\u001b[0;34m,\u001b[0m \u001b[0mnp\u001b[0m\u001b[0;34m.\u001b[0m\u001b[0mndarray\u001b[0m\u001b[0;34m)\u001b[0m\u001b[0;34m:\u001b[0m\u001b[0;34m\u001b[0m\u001b[0m\n\u001b[1;32m    339\u001b[0m             \u001b[0mvalues\u001b[0m \u001b[0;34m=\u001b[0m \u001b[0mnp\u001b[0m\u001b[0;34m.\u001b[0m\u001b[0mvstack\u001b[0m\u001b[0;34m(\u001b[0m\u001b[0;34m[\u001b[0m\u001b[0mtheta\u001b[0m\u001b[0;34m,\u001b[0m \u001b[0mdelta_mu\u001b[0m\u001b[0;34m]\u001b[0m\u001b[0;34m)\u001b[0m\u001b[0;34m\u001b[0m\u001b[0m\n\u001b[0;32m--> 340\u001b[0;31m             \u001b[0mprob_binary\u001b[0m \u001b[0;34m=\u001b[0m \u001b[0mbinary_kde\u001b[0m\u001b[0;34m.\u001b[0m\u001b[0mevaluate\u001b[0m\u001b[0;34m(\u001b[0m\u001b[0mvalues\u001b[0m\u001b[0;34m)\u001b[0m\u001b[0;34m\u001b[0m\u001b[0m\n\u001b[0m\u001b[1;32m    341\u001b[0m         \u001b[0;32melif\u001b[0m \u001b[0misinstance\u001b[0m\u001b[0;34m(\u001b[0m\u001b[0mdelta_mu\u001b[0m\u001b[0;34m,\u001b[0m \u001b[0mnp\u001b[0m\u001b[0;34m.\u001b[0m\u001b[0mndarray\u001b[0m\u001b[0;34m)\u001b[0m\u001b[0;34m:\u001b[0m\u001b[0;34m\u001b[0m\u001b[0m\n\u001b[1;32m    342\u001b[0m             \u001b[0mvalues\u001b[0m \u001b[0;34m=\u001b[0m \u001b[0mnp\u001b[0m\u001b[0;34m.\u001b[0m\u001b[0mvstack\u001b[0m\u001b[0;34m(\u001b[0m\u001b[0;34m[\u001b[0m\u001b[0mtheta\u001b[0m\u001b[0;34m*\u001b[0m\u001b[0mnp\u001b[0m\u001b[0;34m.\u001b[0m\u001b[0mones\u001b[0m\u001b[0;34m(\u001b[0m\u001b[0mlen\u001b[0m\u001b[0;34m(\u001b[0m\u001b[0mdelta_mu\u001b[0m\u001b[0;34m)\u001b[0m\u001b[0;34m)\u001b[0m\u001b[0;34m,\u001b[0m \u001b[0mdelta_mu\u001b[0m\u001b[0;34m]\u001b[0m\u001b[0;34m)\u001b[0m\u001b[0;34m\u001b[0m\u001b[0m\n",
      "\u001b[0;32m/Library/Python/2.7/site-packages/scipy/stats/kde.pyc\u001b[0m in \u001b[0;36mevaluate\u001b[0;34m(self, points)\u001b[0m\n\u001b[1;32m    217\u001b[0m             \u001b[0;32mfor\u001b[0m \u001b[0mi\u001b[0m \u001b[0;32min\u001b[0m \u001b[0mrange\u001b[0m\u001b[0;34m(\u001b[0m\u001b[0mm\u001b[0m\u001b[0;34m)\u001b[0m\u001b[0;34m:\u001b[0m\u001b[0;34m\u001b[0m\u001b[0m\n\u001b[1;32m    218\u001b[0m                 \u001b[0mdiff\u001b[0m \u001b[0;34m=\u001b[0m \u001b[0mself\u001b[0m\u001b[0;34m.\u001b[0m\u001b[0mdataset\u001b[0m \u001b[0;34m-\u001b[0m \u001b[0mpoints\u001b[0m\u001b[0;34m[\u001b[0m\u001b[0;34m:\u001b[0m\u001b[0;34m,\u001b[0m \u001b[0mi\u001b[0m\u001b[0;34m,\u001b[0m \u001b[0mnewaxis\u001b[0m\u001b[0;34m]\u001b[0m\u001b[0;34m\u001b[0m\u001b[0m\n\u001b[0;32m--> 219\u001b[0;31m                 \u001b[0mtdiff\u001b[0m \u001b[0;34m=\u001b[0m \u001b[0mdot\u001b[0m\u001b[0;34m(\u001b[0m\u001b[0mself\u001b[0m\u001b[0;34m.\u001b[0m\u001b[0minv_cov\u001b[0m\u001b[0;34m,\u001b[0m \u001b[0mdiff\u001b[0m\u001b[0;34m)\u001b[0m\u001b[0;34m\u001b[0m\u001b[0m\n\u001b[0m\u001b[1;32m    220\u001b[0m                 \u001b[0menergy\u001b[0m \u001b[0;34m=\u001b[0m \u001b[0msum\u001b[0m\u001b[0;34m(\u001b[0m\u001b[0mdiff\u001b[0m \u001b[0;34m*\u001b[0m \u001b[0mtdiff\u001b[0m\u001b[0;34m,\u001b[0m \u001b[0maxis\u001b[0m\u001b[0;34m=\u001b[0m\u001b[0;36m0\u001b[0m\u001b[0;34m)\u001b[0m \u001b[0;34m/\u001b[0m \u001b[0;36m2.0\u001b[0m\u001b[0;34m\u001b[0m\u001b[0m\n\u001b[1;32m    221\u001b[0m                 \u001b[0mresult\u001b[0m\u001b[0;34m[\u001b[0m\u001b[0mi\u001b[0m\u001b[0;34m]\u001b[0m \u001b[0;34m=\u001b[0m \u001b[0msum\u001b[0m\u001b[0;34m(\u001b[0m\u001b[0mexp\u001b[0m\u001b[0;34m(\u001b[0m\u001b[0;34m-\u001b[0m\u001b[0menergy\u001b[0m\u001b[0;34m)\u001b[0m\u001b[0;34m,\u001b[0m \u001b[0maxis\u001b[0m\u001b[0;34m=\u001b[0m\u001b[0;36m0\u001b[0m\u001b[0;34m)\u001b[0m\u001b[0;34m\u001b[0m\u001b[0m\n",
      "\u001b[0;31mKeyboardInterrupt\u001b[0m: "
     ]
    }
   ],
   "source": [
    "\n",
    "\n",
    "p_out = P_posterior.match_binaries(t)"
   ]
  },
  {
   "cell_type": "code",
   "execution_count": 6,
   "metadata": {
    "collapsed": false
   },
   "outputs": [
    {
     "name": "stdout",
     "output_type": "stream",
     "text": [
      "Opening Tycho-2 catalog...\n",
      "...finished reading data.\n"
     ]
    }
   ],
   "source": [
    "print \"Opening Tycho-2 catalog...\"\n",
    "# Read in sample from Tycho-2 table\n",
    "filename = ('../data/tycho-2/tyc2_00/tyc2.dat')\n",
    "readme = ('../data/tycho-2/ReadMe')\n",
    "tycho_full = Table.read(filename, format='cds', guess=False, readme=readme)\n",
    "print \"...finished reading data.\"\n",
    "\n",
    "\n",
    "# Create the clean tycho-2 catalog\n",
    "dtype = [('ID','i8'),('ra','f8'),('dec','f8'),('mu_ra','f8'),('mu_dec','f8'), \\\n",
    "         ('mu_ra_err','f8'),('mu_dec_err','f8'),('Bmag','f8'),('Vmag','f8')]\n",
    "\n",
    "ids = np.intersect1d(np.where(tycho_full['q_pmRA'] >= 0.1), np.where(tycho_full['q_pmDE'] >= 0.1))\n",
    "\n",
    "t = np.zeros(len(ids), dtype=dtype)\n",
    "t['ID'] = tycho_full['TYC1'][ids]*100000 + tycho_full['TYC2'][ids]\n",
    "t['ra'] = tycho_full['RAmdeg'][ids]\n",
    "t['dec'] = tycho_full['DEmdeg'][ids]\n",
    "t['mu_ra'] = tycho_full['pmRA'][ids]\n",
    "t['mu_dec'] = tycho_full['pmDE'][ids]\n",
    "t['mu_ra_err'] = tycho_full['e_pmRA'][ids]\n",
    "t['mu_dec_err'] = tycho_full['e_pmDE'][ids]\n",
    "t['Bmag'] = tycho_full['BTmag'][ids]\n",
    "t['Vmag'] = tycho_full['VTmag'][ids]\n",
    "\n"
   ]
  },
  {
   "cell_type": "code",
   "execution_count": null,
   "metadata": {
    "collapsed": false
   },
   "outputs": [],
   "source": []
  },
  {
   "cell_type": "code",
   "execution_count": 3,
   "metadata": {
    "collapsed": true
   },
   "outputs": [],
   "source": [
    "# Read in the revised NLTT table\n",
    "filename = ('../data/rNLTT/catalog_tabs.dat')\n",
    "NLTT_full = Table.read(filename, format='ascii', guess=True)\n",
    "\n",
    "# Change proper motion units from asec/yr to mas/yr\n",
    "NLTT_full['mu_ra'] = 1.0e3*NLTT_full['mu_ra']\n",
    "NLTT_full['mu_dec'] = 1.0e3*NLTT_full['mu_dec']\n",
    "NLTT_full['mu_ra_err'] = 1.0e3*NLTT_full['mu_ra_err']\n",
    "NLTT_full['mu_dec_err'] = 1.0e3*NLTT_full['mu_dec_err']\n",
    "\n",
    "# Select only systems with proper motion errors above 0.1 mas/yr\n",
    "ids = np.intersect1d(np.where(NLTT_full['mu_ra_err'] >= 0.1), np.where(NLTT_full['mu_dec_err'] >= 0.1))\n",
    "\n",
    "# Create the clean tycho-2 catalog\n",
    "dtype = [('ID','i8'),('ra','f8'),('dec','f8'),('mu_ra','f8'),('mu_dec','f8'), \\\n",
    "         ('mu_ra_err','f8'),('mu_dec_err','f8'),('B','f8'),('V','f8')]\n",
    "\n",
    "t = np.zeros(len(ids), dtype=dtype)\n",
    "t['ID'] = NLTT_full['NLTT'][ids]\n",
    "t['ra'] = NLTT_full['ra'][ids]\n",
    "t['dec'] = NLTT_full['dec'][ids]\n",
    "t['mu_ra'] = NLTT_full['mu_ra'][ids]\n",
    "t['mu_dec'] = NLTT_full['mu_dec'][ids]\n",
    "t['mu_ra_err'] = NLTT_full['mu_ra_err'][ids]\n",
    "t['mu_dec_err'] = NLTT_full['mu_dec_err'][ids]\n",
    "t['B'] = NLTT_full['B'][ids]\n",
    "t['V'] = NLTT_full['V'][ids]"
   ]
  },
  {
   "cell_type": "code",
   "execution_count": 4,
   "metadata": {
    "collapsed": false
   },
   "outputs": [
    {
     "name": "stdout",
     "output_type": "stream",
     "text": [
      "Generating binaries...\n",
      "We are testing 35882 stars...\n",
      "0 4.88287997246\n",
      "10 6.46197509766\n",
      "20 8.16448807716\n",
      "30 9.91909599304\n",
      "40 11.2673909664\n",
      "44 45 77 77 [  1.95317624e-13] 0.0140880308933 [ 1.]\n",
      "50 44.9666409492\n",
      "50 52 84 86 [  1.41998612e-10] 5.96316216026e-05 [ 0.99999524]\n",
      "60 89.0379910469\n",
      "70 90.4046990871\n",
      "80 92.0078499317\n",
      "90 93.313131094\n",
      "99 100 158 159 [ 0.] 0.00583996933504 [ 1.]\n",
      "100 133.400747061\n"
     ]
    },
    {
     "ename": "KeyboardInterrupt",
     "evalue": "",
     "output_type": "error",
     "traceback": [
      "\u001b[0;31m---------------------------------------------------------------------------\u001b[0m",
      "\u001b[0;31mKeyboardInterrupt\u001b[0m                         Traceback (most recent call last)",
      "\u001b[0;32m<ipython-input-4-d59ba29598bc>\u001b[0m in \u001b[0;36m<module>\u001b[0;34m()\u001b[0m\n\u001b[0;32m----> 1\u001b[0;31m \u001b[0mp_out\u001b[0m \u001b[0;34m=\u001b[0m \u001b[0mP_posterior\u001b[0m\u001b[0;34m.\u001b[0m\u001b[0mmatch_binaries\u001b[0m\u001b[0;34m(\u001b[0m\u001b[0mt\u001b[0m\u001b[0;34m)\u001b[0m\u001b[0;34m\u001b[0m\u001b[0m\n\u001b[0m",
      "\u001b[0;32m/Users/jeffandrews/Research/gaia_binaries/src/P_posterior.py\u001b[0m in \u001b[0;36mmatch_binaries\u001b[0;34m(t)\u001b[0m\n\u001b[1;32m    118\u001b[0m \u001b[0;34m\u001b[0m\u001b[0m\n\u001b[1;32m    119\u001b[0m \u001b[0;34m\u001b[0m\u001b[0m\n\u001b[0;32m--> 120\u001b[0;31m             \u001b[0mprob_tmp\u001b[0m \u001b[0;34m=\u001b[0m \u001b[0mP_binary\u001b[0m\u001b[0;34m.\u001b[0m\u001b[0mget_P_binary\u001b[0m\u001b[0;34m(\u001b[0m\u001b[0mtheta_match\u001b[0m \u001b[0;34m*\u001b[0m \u001b[0;36m3600.0\u001b[0m\u001b[0;34m,\u001b[0m \u001b[0mdelta_mu_sample\u001b[0m\u001b[0;34m)\u001b[0m\u001b[0;34m\u001b[0m\u001b[0m\n\u001b[0m\u001b[1;32m    121\u001b[0m             \u001b[0mprob_binary\u001b[0m \u001b[0;34m=\u001b[0m \u001b[0;36m1.0\u001b[0m\u001b[0;34m/\u001b[0m\u001b[0msize_integrate_full\u001b[0m \u001b[0;34m*\u001b[0m \u001b[0mnp\u001b[0m\u001b[0;34m.\u001b[0m\u001b[0msum\u001b[0m\u001b[0;34m(\u001b[0m\u001b[0mprob_tmp\u001b[0m\u001b[0;34m)\u001b[0m\u001b[0;34m\u001b[0m\u001b[0m\n\u001b[1;32m    122\u001b[0m \u001b[0;34m\u001b[0m\u001b[0m\n",
      "\u001b[0;32m/Users/jeffandrews/Research/gaia_binaries/src/P_binary.pyc\u001b[0m in \u001b[0;36mget_P_binary\u001b[0;34m(theta, delta_mu, dist, num_sys, method)\u001b[0m\n\u001b[1;32m    341\u001b[0m         \u001b[0;32melif\u001b[0m \u001b[0misinstance\u001b[0m\u001b[0;34m(\u001b[0m\u001b[0mdelta_mu\u001b[0m\u001b[0;34m,\u001b[0m \u001b[0mnp\u001b[0m\u001b[0;34m.\u001b[0m\u001b[0mndarray\u001b[0m\u001b[0;34m)\u001b[0m\u001b[0;34m:\u001b[0m\u001b[0;34m\u001b[0m\u001b[0m\n\u001b[1;32m    342\u001b[0m             \u001b[0mvalues\u001b[0m \u001b[0;34m=\u001b[0m \u001b[0mnp\u001b[0m\u001b[0;34m.\u001b[0m\u001b[0mvstack\u001b[0m\u001b[0;34m(\u001b[0m\u001b[0;34m[\u001b[0m\u001b[0mtheta\u001b[0m\u001b[0;34m*\u001b[0m\u001b[0mnp\u001b[0m\u001b[0;34m.\u001b[0m\u001b[0mones\u001b[0m\u001b[0;34m(\u001b[0m\u001b[0mlen\u001b[0m\u001b[0;34m(\u001b[0m\u001b[0mdelta_mu\u001b[0m\u001b[0;34m)\u001b[0m\u001b[0;34m)\u001b[0m\u001b[0;34m,\u001b[0m \u001b[0mdelta_mu\u001b[0m\u001b[0;34m]\u001b[0m\u001b[0;34m)\u001b[0m\u001b[0;34m\u001b[0m\u001b[0m\n\u001b[0;32m--> 343\u001b[0;31m             \u001b[0mprob_binary\u001b[0m \u001b[0;34m=\u001b[0m \u001b[0mbinary_kde\u001b[0m\u001b[0;34m.\u001b[0m\u001b[0mevaluate\u001b[0m\u001b[0;34m(\u001b[0m\u001b[0mvalues\u001b[0m\u001b[0;34m)\u001b[0m\u001b[0;34m\u001b[0m\u001b[0m\n\u001b[0m\u001b[1;32m    344\u001b[0m         \u001b[0;32melse\u001b[0m\u001b[0;34m:\u001b[0m\u001b[0;34m\u001b[0m\u001b[0m\n\u001b[1;32m    345\u001b[0m             \u001b[0mprob_binary\u001b[0m \u001b[0;34m=\u001b[0m \u001b[0mbinary_kde\u001b[0m\u001b[0;34m.\u001b[0m\u001b[0mevaluate\u001b[0m\u001b[0;34m(\u001b[0m\u001b[0;34m[\u001b[0m\u001b[0mtheta\u001b[0m\u001b[0;34m,\u001b[0m \u001b[0mdelta_mu\u001b[0m\u001b[0;34m]\u001b[0m\u001b[0;34m)\u001b[0m\u001b[0;34m\u001b[0m\u001b[0m\n",
      "\u001b[0;32m/Library/Python/2.7/site-packages/scipy/stats/kde.pyc\u001b[0m in \u001b[0;36mevaluate\u001b[0;34m(self, points)\u001b[0m\n\u001b[1;32m    219\u001b[0m                 \u001b[0mtdiff\u001b[0m \u001b[0;34m=\u001b[0m \u001b[0mdot\u001b[0m\u001b[0;34m(\u001b[0m\u001b[0mself\u001b[0m\u001b[0;34m.\u001b[0m\u001b[0minv_cov\u001b[0m\u001b[0;34m,\u001b[0m \u001b[0mdiff\u001b[0m\u001b[0;34m)\u001b[0m\u001b[0;34m\u001b[0m\u001b[0m\n\u001b[1;32m    220\u001b[0m                 \u001b[0menergy\u001b[0m \u001b[0;34m=\u001b[0m \u001b[0msum\u001b[0m\u001b[0;34m(\u001b[0m\u001b[0mdiff\u001b[0m \u001b[0;34m*\u001b[0m \u001b[0mtdiff\u001b[0m\u001b[0;34m,\u001b[0m \u001b[0maxis\u001b[0m\u001b[0;34m=\u001b[0m\u001b[0;36m0\u001b[0m\u001b[0;34m)\u001b[0m \u001b[0;34m/\u001b[0m \u001b[0;36m2.0\u001b[0m\u001b[0;34m\u001b[0m\u001b[0m\n\u001b[0;32m--> 221\u001b[0;31m                 \u001b[0mresult\u001b[0m\u001b[0;34m[\u001b[0m\u001b[0mi\u001b[0m\u001b[0;34m]\u001b[0m \u001b[0;34m=\u001b[0m \u001b[0msum\u001b[0m\u001b[0;34m(\u001b[0m\u001b[0mexp\u001b[0m\u001b[0;34m(\u001b[0m\u001b[0;34m-\u001b[0m\u001b[0menergy\u001b[0m\u001b[0;34m)\u001b[0m\u001b[0;34m,\u001b[0m \u001b[0maxis\u001b[0m\u001b[0;34m=\u001b[0m\u001b[0;36m0\u001b[0m\u001b[0;34m)\u001b[0m\u001b[0;34m\u001b[0m\u001b[0m\n\u001b[0m\u001b[1;32m    222\u001b[0m \u001b[0;34m\u001b[0m\u001b[0m\n\u001b[1;32m    223\u001b[0m         \u001b[0mresult\u001b[0m \u001b[0;34m=\u001b[0m \u001b[0mresult\u001b[0m \u001b[0;34m/\u001b[0m \u001b[0mself\u001b[0m\u001b[0;34m.\u001b[0m\u001b[0m_norm_factor\u001b[0m\u001b[0;34m\u001b[0m\u001b[0m\n",
      "\u001b[0;31mKeyboardInterrupt\u001b[0m: "
     ]
    }
   ],
   "source": [
    "p_out = P_posterior.match_binaries(t)"
   ]
  },
  {
   "cell_type": "code",
   "execution_count": 13,
   "metadata": {
    "collapsed": false
   },
   "outputs": [
    {
     "name": "stdout",
     "output_type": "stream",
     "text": [
      "['NLTT', 'ra', 'dec', 'mu_ra', 'mu_dec', 'mu_ra_err', 'mu_dec_err', 'V', 'B', 'R', 'J', 'H', 'K']\n"
     ]
    }
   ],
   "source": [
    "print t.colnames"
   ]
  },
  {
   "cell_type": "code",
   "execution_count": null,
   "metadata": {
    "collapsed": true
   },
   "outputs": [],
   "source": []
  }
 ],
 "metadata": {
  "kernelspec": {
   "display_name": "Python 2",
   "language": "python",
   "name": "python2"
  },
  "language_info": {
   "codemirror_mode": {
    "name": "ipython",
    "version": 2
   },
   "file_extension": ".py",
   "mimetype": "text/x-python",
   "name": "python",
   "nbconvert_exporter": "python",
   "pygments_lexer": "ipython2",
   "version": "2.7.10"
  }
 },
 "nbformat": 4,
 "nbformat_minor": 0
}
