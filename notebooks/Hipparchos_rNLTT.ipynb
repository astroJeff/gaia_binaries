{
 "cells": [
  {
   "cell_type": "markdown",
   "metadata": {},
   "source": [
    "# Test our algorithm on rNLTT stars with Hipparchos parallaxes"
   ]
  },
  {
   "cell_type": "code",
   "execution_count": 1,
   "metadata": {
    "collapsed": false
   },
   "outputs": [
    {
     "name": "stderr",
     "output_type": "stream",
     "text": [
      "/Library/Python/2.7/site-packages/IPython/kernel/__init__.py:13: ShimWarning: The `IPython.kernel` package has been deprecated. You should import from ipykernel or jupyter_client instead.\n",
      "  \"You should import from ipykernel or jupyter_client instead.\", ShimWarning)\n"
     ]
    }
   ],
   "source": [
    "import os\n",
    "import sys\n",
    "sys.path.append('../src')\n",
    "import P_binary\n",
    "import P_random\n",
    "import P_posterior\n",
    "import const as c\n",
    "import time\n",
    "import numpy as np\n",
    "import matplotlib.pyplot as plt\n",
    "from astropy.table import Table\n",
    "from astropy import units as u\n",
    "import pickle\n",
    "\n",
    "%matplotlib inline"
   ]
  },
  {
   "cell_type": "markdown",
   "metadata": {},
   "source": [
    "### First, read in data from catalogs"
   ]
  },
  {
   "cell_type": "code",
   "execution_count": 88,
   "metadata": {
    "collapsed": true
   },
   "outputs": [],
   "source": [
    "# Read in sample from Tycho-2 table\n",
    "filename = ('../data/rNLTT/catalog_tabs.dat')\n",
    "t_full = Table.read(filename, format='ascii', guess=True)\n",
    "\n",
    "# Change proper motion units from asec/yr to mas/yr\n",
    "t_full['mu_ra'] = 1.0e3*t_full['mu_ra']\n",
    "t_full['mu_dec'] = 1.0e3*t_full['mu_dec']\n",
    "t_full['mu_ra_err'] = 1.0e3*t_full['mu_ra_err']\n",
    "t_full['mu_dec_err'] = 1.0e3*t_full['mu_dec_err']\n",
    "\n",
    "# Select only stars with proper motion uncertainties greater than 1 mas/yr - remove junk\n",
    "ids_good = np.intersect1d(np.where(t_full['mu_ra_err'] >= 0.1), np.where(t_full['mu_dec_err'] >= 0.1))\n",
    "t = t_full[ids_good]"
   ]
  },
  {
   "cell_type": "code",
   "execution_count": 89,
   "metadata": {
    "collapsed": false
   },
   "outputs": [
    {
     "name": "stdout",
     "output_type": "stream",
     "text": [
      "['NLTT', 'ra', 'dec', 'mu_ra', 'mu_dec', 'mu_ra_err', 'mu_dec_err', 'HIP', 'V', 'B', 'R', 'J', 'H', 'K']\n"
     ]
    }
   ],
   "source": [
    "print t.colnames"
   ]
  },
  {
   "cell_type": "code",
   "execution_count": 4,
   "metadata": {
    "collapsed": false
   },
   "outputs": [],
   "source": [
    "# Read in sample from Tycho-2 table\n",
    "filename = ('../data/hipparchos/hip2.dat')\n",
    "readme = ('../data/hipparchos/Readme')\n",
    "hip = Table.read(filename, format='cds', guess=False, readme=readme)"
   ]
  },
  {
   "cell_type": "code",
   "execution_count": 5,
   "metadata": {
    "collapsed": false
   },
   "outputs": [
    {
     "name": "stdout",
     "output_type": "stream",
     "text": [
      "['HIP', 'Sn', 'So', 'Nc', 'RArad', 'DErad', 'Plx', 'pmRA', 'pmDE', 'e_RArad', 'e_DErad', 'e_Plx', 'e_pmRA', 'e_pmDE', 'Ntr', 'F2', 'F1', 'var', 'ic', 'Hpmag', 'e_Hpmag', 'sHp', 'VA', 'B-V', 'e_B-V', 'V-I']\n"
     ]
    }
   ],
   "source": [
    "print hip.colnames"
   ]
  },
  {
   "cell_type": "code",
   "execution_count": 6,
   "metadata": {
    "collapsed": false
   },
   "outputs": [
    {
     "name": "stdout",
     "output_type": "stream",
     "text": [
      "['NLTT-A', 'NLTT-B', 'RAdegA', 'DEdegA', 'RAdegB', 'DEdegB', 'pmRA-A', 'pmDE-A', 'pmRA-B', 'pmDE-B', 'VmagA', '(V-J)A', 'VmagB', '(V-J)B', 'SC-A', 'SC-B', 'CCode', 'Delpm', 'DelSep', 'PosAng', 'Bin', 'Allen']\n"
     ]
    }
   ],
   "source": [
    "# Read in pairs identified by Chaname & Gould\n",
    "\n",
    "filename_CG = ('../data/rNLTT/Chaname_Gould_pairs.dat')\n",
    "CG_pairs = Table.read(filename_CG, format='cds')\n",
    "CG_pairs = CG_pairs[0:-1]  # Because the last line is blank\n",
    "print CG_pairs.colnames"
   ]
  },
  {
   "cell_type": "code",
   "execution_count": 7,
   "metadata": {
    "collapsed": false
   },
   "outputs": [
    {
     "name": "stdout",
     "output_type": "stream",
     "text": [
      "CG04 pairs with independent Hipparchos IDs (and CCode 1-3): 44\n"
     ]
    }
   ],
   "source": [
    "idx = np.array([], dtype='i8')\n",
    "for i in np.arange(len(CG_pairs)):\n",
    "    id1 = np.where(CG_pairs['NLTT-A'][i] == t_full['NLTT'])[0]\n",
    "    id2 = np.where(CG_pairs['NLTT-B'][i] == t_full['NLTT'])[0]\n",
    "    \n",
    "    if len(id1) != 0 and len(id2) != 0 and id1[0] != id2[0] and CG_pairs['CCode'][i]<4:\n",
    "        if t_full['HIP'][id1[0]] != t_full['HIP'][id2[0]] and t_full['HIP'][id1[0]] != 0 and t_full['HIP'][id2[0]] != 0:\n",
    "            idx = np.append(idx, i)\n",
    "\n",
    "CG_pairs_hip = CG_pairs[idx]\n",
    "\n",
    "print \"CG04 pairs with independent Hipparchos IDs (and CCode 1-3):\", len(CG_pairs_hip)"
   ]
  },
  {
   "cell_type": "markdown",
   "metadata": {},
   "source": [
    "### Play with Hipparchos data"
   ]
  },
  {
   "cell_type": "code",
   "execution_count": 34,
   "metadata": {
    "collapsed": false
   },
   "outputs": [
    {
     "data": {
      "image/png": "[encoded data removed]",
      "text/plain": [
       "<matplotlib.figure.Figure at 0x128da73d0>"
      ]
     },
     "metadata": {},
     "output_type": "display_data"
    }
   ],
   "source": [
    "fig, ax = plt.subplots(1, 2, figsize=(12,4))\n",
    "\n",
    "ax[0].hist(hip['Plx'], histtype='step', color='k', bins=40, range=(-20, 50))\n",
    "ax[1].hist(hip['e_Plx'], histtype='step', color='k', bins=40, range=(0, 5))\n",
    "\n",
    "ax[0].set_xlabel('Parallax (mas)')\n",
    "ax[1].set_xlabel('Parallax Error (mas)')\n",
    "\n",
    "plt.show()"
   ]
  },
  {
   "cell_type": "code",
   "execution_count": 39,
   "metadata": {
    "collapsed": true
   },
   "outputs": [],
   "source": [
    "from scipy.integrate import quad\n",
    "from scipy.optimize import minimize\n",
    "\n",
    "upper = 10000.0"
   ]
  },
  {
   "cell_type": "code",
   "execution_count": 101,
   "metadata": {
    "collapsed": false
   },
   "outputs": [
    {
     "data": {
      "image/png": "[encoded data removed]",
      "text/plain": [
       "<matplotlib.figure.Figure at 0x10a3d9190>"
      ]
     },
     "metadata": {},
     "output_type": "display_data"
    }
   ],
   "source": [
    "def get_integrand(x, y, gamma, sigma):\n",
    "    return np.power(x, -(gamma+1.0)) * np.exp(-0.5*((y-x)/sigma)**2)\n",
    "\n",
    "\n",
    "sigma = 1.5\n",
    "gamma, L, U = 1.5,  3.0, 100.0 # 0.12\n",
    "\n",
    "x = np.linspace(-10.0, 50.0, 100)\n",
    "integral = np.zeros(len(x))\n",
    "coeff = 1.0/np.sqrt(2.0*np.pi)/sigma * gamma / (L**(-gamma) - U**(-gamma))\n",
    "for i in np.arange(len(x)):\n",
    "    args = x[i], gamma, 1.0\n",
    "    sol = quad(get_integrand, L, U, args=args)\n",
    "    integral[i] = sol[0]\n",
    "    \n",
    "    # print i, x[i], integral[i]\n",
    "    \n",
    "plt.plot(x, coeff*integral, color='k')\n",
    "\n",
    "\n",
    "\n",
    "plt.hist(hip['Plx'], histtype='step', color='k', bins=40, range=(-20, 50), normed=True)\n",
    "\n",
    "plt.ylim(0.0, 0.15)\n",
    "plt.show()"
   ]
  },
  {
   "cell_type": "code",
   "execution_count": 62,
   "metadata": {
    "collapsed": true
   },
   "outputs": [],
   "source": [
    "def ln_posterior_minimize(x, data, sigma):\n",
    "    N = len(data)\n",
    "    \n",
    "    gamma, L = x\n",
    "\n",
    "    if L<0.0 or L > 5.0:\n",
    "        return np.inf\n",
    "    if gamma<0.01 or gamma>10.0:\n",
    "        return np.inf\n",
    "\n",
    "    ll = ln_likelihood(x, data, sigma)\n",
    "\n",
    "    return -ll"
   ]
  },
  {
   "cell_type": "code",
   "execution_count": 63,
   "metadata": {
    "collapsed": false
   },
   "outputs": [],
   "source": [
    "def ln_likelihood(x, data, sigma):\n",
    "\n",
    "    gamma, L = x\n",
    "\n",
    "    N = len(data)\n",
    "\n",
    "\n",
    "    integral = np.zeros(N)\n",
    "\n",
    "    ran_indices = np.arange(N)\n",
    "#    ran_indices = np.random.randint(len(data), size=N)\n",
    "\n",
    "\n",
    "    for j in np.arange(N):\n",
    "        i = ran_indices[j]\n",
    "        args = data[i], gamma, sigma[i]\n",
    "        \n",
    "        # If integration range is negative\n",
    "        if max(L, data[i]-3.0*sigma[i]) > min(upper, data[i]+3.0*sigma[i]): \n",
    "            print \"Inf:\", i, L, data[i]-3.0*sigma[i], upper, data[i]+3.0*sigma[i]\n",
    "            return -np.inf\n",
    "\n",
    "        sol = quad(get_integrand, max(L, data[i]-3.0*sigma[i]), min(upper, data[i]+3.0*sigma[i]), \\\n",
    "                   args=args, epsrel=1.0e-1, epsabs=1.0e-1)\n",
    "        integral[j] = sol[0]\n",
    "        \n",
    "        # For very small (or negative) integrals, set to a small, near-zero value\n",
    "        if integral[j] <=0.0 or np.isnan(integral[j]): integral[j]=1.0e-100\n",
    "\n",
    "        \n",
    "            \n",
    "    ln_likelihood = - N/2.0 * np.log(2.0*np.pi) \\\n",
    "                        + N * np.log(gamma) \\\n",
    "                        - N * np.log(np.power(L, -gamma) - np.power(upper, -gamma)) \\\n",
    "                        + np.sum(np.log(integral))\n",
    "\n",
    "    print gamma, L, ln_likelihood\n",
    "                    \n",
    "    return ln_likelihood\n"
   ]
  },
  {
   "cell_type": "code",
   "execution_count": 57,
   "metadata": {
    "collapsed": false
   },
   "outputs": [],
   "source": [
    "# start = time.time()\n",
    "# x = 1.0, 0.10\n",
    "# print ln_posterior_minimize(x, hip['Plx'][hip['Plx']>-2.0], hip['e_Plx'][hip['Plx']>-2.0])\n",
    "# print \"Elapsed time:\", time.time()-start\n"
   ]
  },
  {
   "cell_type": "code",
   "execution_count": 64,
   "metadata": {
    "collapsed": true
   },
   "outputs": [],
   "source": [
    "def run_optimize(plx, sigma, ndim=3):\n",
    "\n",
    "    # Initial Position\n",
    "    p0 = np.array([1.0, 0.1])\n",
    "\n",
    "    args = plx, sigma\n",
    "    res = minimize(ln_posterior_minimize, p0, args=args, method='Nelder-Mead')\n",
    "\n",
    "    return res"
   ]
  },
  {
   "cell_type": "code",
   "execution_count": 65,
   "metadata": {
    "collapsed": false,
    "scrolled": true
   },
   "outputs": [
    {
     "name": "stdout",
     "output_type": "stream",
     "text": [
      "1.0 0.1 -590972.288263\n",
      "1.05 0.1 -604478.14719\n",
      "1.0 0.105 -586538.128962\n",
      "0.95 0.105 -573443.517007\n",
      "0.9 0.1075 -558647.562199\n",
      "Inf: 59202 0.1125 -3.85 10000.0 0.11\n",
      "0.975 0.103125 -581562.600017\n",
      "0.875 0.105625 -553770.669197\n",
      "0.8125 0.1059375 -538073.454624\n",
      "Inf: 59202 0.1103125 -3.85 10000.0 0.11\n",
      "0.915625 0.104921875 -564634.715734\n",
      "0.796875 0.108515625 -532538.606342\n",
      "Inf: 59202 0.1103125 -3.85 10000.0 0.11\n",
      "0.709375 0.106953125 -513182.15993\n",
      "0.6140625 0.1066796875 -492778.073929\n",
      "0.5984375 0.1092578125 -488316.175202\n",
      "Inf: 59202 0.11091796875 -3.85 10000.0 0.11\n",
      "0.415625 0.107421875 -458381.080938\n",
      "0.225 0.106875 -445041.943137\n",
      "0.209375 0.109453125 -444757.684786\n",
      "0.4078125 0.1087109375 -456945.20428\n"
     ]
    },
    {
     "ename": "KeyboardInterrupt",
     "evalue": "",
     "output_type": "error",
     "traceback": [
      "\u001b[0;31m---------------------------------------------------------------------------\u001b[0m",
      "\u001b[0;31mKeyboardInterrupt\u001b[0m                         Traceback (most recent call last)",
      "\u001b[0;32m<ipython-input-65-4fbf2ec4d6c0>\u001b[0m in \u001b[0;36m<module>\u001b[0;34m()\u001b[0m\n\u001b[0;32m----> 1\u001b[0;31m \u001b[0mrun_optimize\u001b[0m\u001b[0;34m(\u001b[0m\u001b[0mhip\u001b[0m\u001b[0;34m[\u001b[0m\u001b[0;34m'Plx'\u001b[0m\u001b[0;34m]\u001b[0m\u001b[0;34m[\u001b[0m\u001b[0mhip\u001b[0m\u001b[0;34m[\u001b[0m\u001b[0;34m'Plx'\u001b[0m\u001b[0;34m]\u001b[0m\u001b[0;34m>\u001b[0m\u001b[0;34m-\u001b[0m\u001b[0;36m2.0\u001b[0m\u001b[0;34m]\u001b[0m\u001b[0;34m,\u001b[0m \u001b[0mhip\u001b[0m\u001b[0;34m[\u001b[0m\u001b[0;34m'e_Plx'\u001b[0m\u001b[0;34m]\u001b[0m\u001b[0;34m[\u001b[0m\u001b[0mhip\u001b[0m\u001b[0;34m[\u001b[0m\u001b[0;34m'Plx'\u001b[0m\u001b[0;34m]\u001b[0m\u001b[0;34m>\u001b[0m\u001b[0;34m-\u001b[0m\u001b[0;36m2.0\u001b[0m\u001b[0;34m]\u001b[0m\u001b[0;34m)\u001b[0m\u001b[0;34m\u001b[0m\u001b[0m\n\u001b[0m",
      "\u001b[0;32m<ipython-input-64-ccb03ea95f54>\u001b[0m in \u001b[0;36mrun_optimize\u001b[0;34m(plx, sigma, ndim)\u001b[0m\n\u001b[1;32m      5\u001b[0m \u001b[0;34m\u001b[0m\u001b[0m\n\u001b[1;32m      6\u001b[0m     \u001b[0margs\u001b[0m \u001b[0;34m=\u001b[0m \u001b[0mplx\u001b[0m\u001b[0;34m,\u001b[0m \u001b[0msigma\u001b[0m\u001b[0;34m\u001b[0m\u001b[0m\n\u001b[0;32m----> 7\u001b[0;31m     \u001b[0mres\u001b[0m \u001b[0;34m=\u001b[0m \u001b[0mminimize\u001b[0m\u001b[0;34m(\u001b[0m\u001b[0mln_posterior_minimize\u001b[0m\u001b[0;34m,\u001b[0m \u001b[0mp0\u001b[0m\u001b[0;34m,\u001b[0m \u001b[0margs\u001b[0m\u001b[0;34m=\u001b[0m\u001b[0margs\u001b[0m\u001b[0;34m,\u001b[0m \u001b[0mmethod\u001b[0m\u001b[0;34m=\u001b[0m\u001b[0;34m'Nelder-Mead'\u001b[0m\u001b[0;34m)\u001b[0m\u001b[0;34m\u001b[0m\u001b[0m\n\u001b[0m\u001b[1;32m      8\u001b[0m \u001b[0;34m\u001b[0m\u001b[0m\n\u001b[1;32m      9\u001b[0m     \u001b[0;32mreturn\u001b[0m \u001b[0mres\u001b[0m\u001b[0;34m\u001b[0m\u001b[0m\n",
      "\u001b[0;32m/Library/Python/2.7/site-packages/scipy/optimize/_minimize.pyc\u001b[0m in \u001b[0;36mminimize\u001b[0;34m(fun, x0, args, method, jac, hess, hessp, bounds, constraints, tol, callback, options)\u001b[0m\n\u001b[1;32m    433\u001b[0m                       callback=callback, **options)\n\u001b[1;32m    434\u001b[0m     \u001b[0;32melif\u001b[0m \u001b[0mmeth\u001b[0m \u001b[0;34m==\u001b[0m \u001b[0;34m'nelder-mead'\u001b[0m\u001b[0;34m:\u001b[0m\u001b[0;34m\u001b[0m\u001b[0m\n\u001b[0;32m--> 435\u001b[0;31m         \u001b[0;32mreturn\u001b[0m \u001b[0m_minimize_neldermead\u001b[0m\u001b[0;34m(\u001b[0m\u001b[0mfun\u001b[0m\u001b[0;34m,\u001b[0m \u001b[0mx0\u001b[0m\u001b[0;34m,\u001b[0m \u001b[0margs\u001b[0m\u001b[0;34m,\u001b[0m \u001b[0mcallback\u001b[0m\u001b[0;34m,\u001b[0m \u001b[0;34m**\u001b[0m\u001b[0moptions\u001b[0m\u001b[0;34m)\u001b[0m\u001b[0;34m\u001b[0m\u001b[0m\n\u001b[0m\u001b[1;32m    436\u001b[0m     \u001b[0;32melif\u001b[0m \u001b[0mmeth\u001b[0m \u001b[0;34m==\u001b[0m \u001b[0;34m'powell'\u001b[0m\u001b[0;34m:\u001b[0m\u001b[0;34m\u001b[0m\u001b[0m\n\u001b[1;32m    437\u001b[0m         \u001b[0;32mreturn\u001b[0m \u001b[0m_minimize_powell\u001b[0m\u001b[0;34m(\u001b[0m\u001b[0mfun\u001b[0m\u001b[0;34m,\u001b[0m \u001b[0mx0\u001b[0m\u001b[0;34m,\u001b[0m \u001b[0margs\u001b[0m\u001b[0;34m,\u001b[0m \u001b[0mcallback\u001b[0m\u001b[0;34m,\u001b[0m \u001b[0;34m**\u001b[0m\u001b[0moptions\u001b[0m\u001b[0;34m)\u001b[0m\u001b[0;34m\u001b[0m\u001b[0m\n",
      "\u001b[0;32m/Library/Python/2.7/site-packages/scipy/optimize/optimize.pyc\u001b[0m in \u001b[0;36m_minimize_neldermead\u001b[0;34m(func, x0, args, callback, xtol, ftol, maxiter, maxfev, disp, return_all, **unknown_options)\u001b[0m\n\u001b[1;32m    465\u001b[0m         \u001b[0mxbar\u001b[0m \u001b[0;34m=\u001b[0m \u001b[0mnumpy\u001b[0m\u001b[0;34m.\u001b[0m\u001b[0madd\u001b[0m\u001b[0;34m.\u001b[0m\u001b[0mreduce\u001b[0m\u001b[0;34m(\u001b[0m\u001b[0msim\u001b[0m\u001b[0;34m[\u001b[0m\u001b[0;34m:\u001b[0m\u001b[0;34m-\u001b[0m\u001b[0;36m1\u001b[0m\u001b[0;34m]\u001b[0m\u001b[0;34m,\u001b[0m \u001b[0;36m0\u001b[0m\u001b[0;34m)\u001b[0m \u001b[0;34m/\u001b[0m \u001b[0mN\u001b[0m\u001b[0;34m\u001b[0m\u001b[0m\n\u001b[1;32m    466\u001b[0m         \u001b[0mxr\u001b[0m \u001b[0;34m=\u001b[0m \u001b[0;34m(\u001b[0m\u001b[0;36m1\u001b[0m \u001b[0;34m+\u001b[0m \u001b[0mrho\u001b[0m\u001b[0;34m)\u001b[0m \u001b[0;34m*\u001b[0m \u001b[0mxbar\u001b[0m \u001b[0;34m-\u001b[0m \u001b[0mrho\u001b[0m \u001b[0;34m*\u001b[0m \u001b[0msim\u001b[0m\u001b[0;34m[\u001b[0m\u001b[0;34m-\u001b[0m\u001b[0;36m1\u001b[0m\u001b[0;34m]\u001b[0m\u001b[0;34m\u001b[0m\u001b[0m\n\u001b[0;32m--> 467\u001b[0;31m         \u001b[0mfxr\u001b[0m \u001b[0;34m=\u001b[0m \u001b[0mfunc\u001b[0m\u001b[0;34m(\u001b[0m\u001b[0mxr\u001b[0m\u001b[0;34m)\u001b[0m\u001b[0;34m\u001b[0m\u001b[0m\n\u001b[0m\u001b[1;32m    468\u001b[0m         \u001b[0mdoshrink\u001b[0m \u001b[0;34m=\u001b[0m \u001b[0;36m0\u001b[0m\u001b[0;34m\u001b[0m\u001b[0m\n\u001b[1;32m    469\u001b[0m \u001b[0;34m\u001b[0m\u001b[0m\n",
      "\u001b[0;32m/Library/Python/2.7/site-packages/scipy/optimize/optimize.pyc\u001b[0m in \u001b[0;36mfunction_wrapper\u001b[0;34m(*wrapper_args)\u001b[0m\n\u001b[1;32m    287\u001b[0m     \u001b[0;32mdef\u001b[0m \u001b[0mfunction_wrapper\u001b[0m\u001b[0;34m(\u001b[0m\u001b[0;34m*\u001b[0m\u001b[0mwrapper_args\u001b[0m\u001b[0;34m)\u001b[0m\u001b[0;34m:\u001b[0m\u001b[0;34m\u001b[0m\u001b[0m\n\u001b[1;32m    288\u001b[0m         \u001b[0mncalls\u001b[0m\u001b[0;34m[\u001b[0m\u001b[0;36m0\u001b[0m\u001b[0;34m]\u001b[0m \u001b[0;34m+=\u001b[0m \u001b[0;36m1\u001b[0m\u001b[0;34m\u001b[0m\u001b[0m\n\u001b[0;32m--> 289\u001b[0;31m         \u001b[0;32mreturn\u001b[0m \u001b[0mfunction\u001b[0m\u001b[0;34m(\u001b[0m\u001b[0;34m*\u001b[0m\u001b[0;34m(\u001b[0m\u001b[0mwrapper_args\u001b[0m \u001b[0;34m+\u001b[0m \u001b[0margs\u001b[0m\u001b[0;34m)\u001b[0m\u001b[0;34m)\u001b[0m\u001b[0;34m\u001b[0m\u001b[0m\n\u001b[0m\u001b[1;32m    290\u001b[0m \u001b[0;34m\u001b[0m\u001b[0m\n\u001b[1;32m    291\u001b[0m     \u001b[0;32mreturn\u001b[0m \u001b[0mncalls\u001b[0m\u001b[0;34m,\u001b[0m \u001b[0mfunction_wrapper\u001b[0m\u001b[0;34m\u001b[0m\u001b[0m\n",
      "\u001b[0;32m<ipython-input-62-75928029dad6>\u001b[0m in \u001b[0;36mln_posterior_minimize\u001b[0;34m(x, data, sigma)\u001b[0m\n\u001b[1;32m      9\u001b[0m         \u001b[0;32mreturn\u001b[0m \u001b[0mnp\u001b[0m\u001b[0;34m.\u001b[0m\u001b[0minf\u001b[0m\u001b[0;34m\u001b[0m\u001b[0m\n\u001b[1;32m     10\u001b[0m \u001b[0;34m\u001b[0m\u001b[0m\n\u001b[0;32m---> 11\u001b[0;31m     \u001b[0mll\u001b[0m \u001b[0;34m=\u001b[0m \u001b[0mln_likelihood\u001b[0m\u001b[0;34m(\u001b[0m\u001b[0mx\u001b[0m\u001b[0;34m,\u001b[0m \u001b[0mdata\u001b[0m\u001b[0;34m,\u001b[0m \u001b[0msigma\u001b[0m\u001b[0;34m)\u001b[0m\u001b[0;34m\u001b[0m\u001b[0m\n\u001b[0m\u001b[1;32m     12\u001b[0m \u001b[0;34m\u001b[0m\u001b[0m\n\u001b[1;32m     13\u001b[0m     \u001b[0;32mreturn\u001b[0m \u001b[0;34m-\u001b[0m\u001b[0mll\u001b[0m\u001b[0;34m\u001b[0m\u001b[0m\n",
      "\u001b[0;32m<ipython-input-63-84414dfec6b8>\u001b[0m in \u001b[0;36mln_likelihood\u001b[0;34m(x, data, sigma)\u001b[0m\n\u001b[1;32m     21\u001b[0m             \u001b[0;32mreturn\u001b[0m \u001b[0;34m-\u001b[0m\u001b[0mnp\u001b[0m\u001b[0;34m.\u001b[0m\u001b[0minf\u001b[0m\u001b[0;34m\u001b[0m\u001b[0m\n\u001b[1;32m     22\u001b[0m \u001b[0;34m\u001b[0m\u001b[0m\n\u001b[0;32m---> 23\u001b[0;31m         \u001b[0msol\u001b[0m \u001b[0;34m=\u001b[0m \u001b[0mquad\u001b[0m\u001b[0;34m(\u001b[0m\u001b[0mget_integrand\u001b[0m\u001b[0;34m,\u001b[0m \u001b[0mmax\u001b[0m\u001b[0;34m(\u001b[0m\u001b[0mL\u001b[0m\u001b[0;34m,\u001b[0m \u001b[0mdata\u001b[0m\u001b[0;34m[\u001b[0m\u001b[0mi\u001b[0m\u001b[0;34m]\u001b[0m\u001b[0;34m-\u001b[0m\u001b[0;36m3.0\u001b[0m\u001b[0;34m*\u001b[0m\u001b[0msigma\u001b[0m\u001b[0;34m[\u001b[0m\u001b[0mi\u001b[0m\u001b[0;34m]\u001b[0m\u001b[0;34m)\u001b[0m\u001b[0;34m,\u001b[0m \u001b[0mmin\u001b[0m\u001b[0;34m(\u001b[0m\u001b[0mupper\u001b[0m\u001b[0;34m,\u001b[0m \u001b[0mdata\u001b[0m\u001b[0;34m[\u001b[0m\u001b[0mi\u001b[0m\u001b[0;34m]\u001b[0m\u001b[0;34m+\u001b[0m\u001b[0;36m3.0\u001b[0m\u001b[0;34m*\u001b[0m\u001b[0msigma\u001b[0m\u001b[0;34m[\u001b[0m\u001b[0mi\u001b[0m\u001b[0;34m]\u001b[0m\u001b[0;34m)\u001b[0m\u001b[0;34m,\u001b[0m                    \u001b[0margs\u001b[0m\u001b[0;34m=\u001b[0m\u001b[0margs\u001b[0m\u001b[0;34m,\u001b[0m \u001b[0mepsrel\u001b[0m\u001b[0;34m=\u001b[0m\u001b[0;36m1.0e-1\u001b[0m\u001b[0;34m,\u001b[0m \u001b[0mepsabs\u001b[0m\u001b[0;34m=\u001b[0m\u001b[0;36m1.0e-1\u001b[0m\u001b[0;34m)\u001b[0m\u001b[0;34m\u001b[0m\u001b[0m\n\u001b[0m\u001b[1;32m     24\u001b[0m         \u001b[0mintegral\u001b[0m\u001b[0;34m[\u001b[0m\u001b[0mj\u001b[0m\u001b[0;34m]\u001b[0m \u001b[0;34m=\u001b[0m \u001b[0msol\u001b[0m\u001b[0;34m[\u001b[0m\u001b[0;36m0\u001b[0m\u001b[0;34m]\u001b[0m\u001b[0;34m\u001b[0m\u001b[0m\n\u001b[1;32m     25\u001b[0m \u001b[0;34m\u001b[0m\u001b[0m\n",
      "\u001b[0;32m/Library/Python/2.7/site-packages/scipy/integrate/quadpack.pyc\u001b[0m in \u001b[0;36mquad\u001b[0;34m(func, a, b, args, full_output, epsabs, epsrel, limit, points, weight, wvar, wopts, maxp1, limlst)\u001b[0m\n\u001b[1;32m    314\u001b[0m     \u001b[0;32mif\u001b[0m \u001b[0;34m(\u001b[0m\u001b[0mweight\u001b[0m \u001b[0;32mis\u001b[0m \u001b[0mNone\u001b[0m\u001b[0;34m)\u001b[0m\u001b[0;34m:\u001b[0m\u001b[0;34m\u001b[0m\u001b[0m\n\u001b[1;32m    315\u001b[0m         retval = _quad(func, a, b, args, full_output, epsabs, epsrel, limit,\n\u001b[0;32m--> 316\u001b[0;31m                        points)\n\u001b[0m\u001b[1;32m    317\u001b[0m     \u001b[0;32melse\u001b[0m\u001b[0;34m:\u001b[0m\u001b[0;34m\u001b[0m\u001b[0m\n\u001b[1;32m    318\u001b[0m         retval = _quad_weight(func, a, b, args, full_output, epsabs, epsrel,\n",
      "\u001b[0;32m/Library/Python/2.7/site-packages/scipy/integrate/quadpack.pyc\u001b[0m in \u001b[0;36m_quad\u001b[0;34m(func, a, b, args, full_output, epsabs, epsrel, limit, points)\u001b[0m\n\u001b[1;32m    379\u001b[0m     \u001b[0;32mif\u001b[0m \u001b[0mpoints\u001b[0m \u001b[0;32mis\u001b[0m \u001b[0mNone\u001b[0m\u001b[0;34m:\u001b[0m\u001b[0;34m\u001b[0m\u001b[0m\n\u001b[1;32m    380\u001b[0m         \u001b[0;32mif\u001b[0m \u001b[0minfbounds\u001b[0m \u001b[0;34m==\u001b[0m \u001b[0;36m0\u001b[0m\u001b[0;34m:\u001b[0m\u001b[0;34m\u001b[0m\u001b[0m\n\u001b[0;32m--> 381\u001b[0;31m             \u001b[0;32mreturn\u001b[0m \u001b[0m_quadpack\u001b[0m\u001b[0;34m.\u001b[0m\u001b[0m_qagse\u001b[0m\u001b[0;34m(\u001b[0m\u001b[0mfunc\u001b[0m\u001b[0;34m,\u001b[0m\u001b[0ma\u001b[0m\u001b[0;34m,\u001b[0m\u001b[0mb\u001b[0m\u001b[0;34m,\u001b[0m\u001b[0margs\u001b[0m\u001b[0;34m,\u001b[0m\u001b[0mfull_output\u001b[0m\u001b[0;34m,\u001b[0m\u001b[0mepsabs\u001b[0m\u001b[0;34m,\u001b[0m\u001b[0mepsrel\u001b[0m\u001b[0;34m,\u001b[0m\u001b[0mlimit\u001b[0m\u001b[0;34m)\u001b[0m\u001b[0;34m\u001b[0m\u001b[0m\n\u001b[0m\u001b[1;32m    382\u001b[0m         \u001b[0;32melse\u001b[0m\u001b[0;34m:\u001b[0m\u001b[0;34m\u001b[0m\u001b[0m\n\u001b[1;32m    383\u001b[0m             \u001b[0;32mreturn\u001b[0m \u001b[0m_quadpack\u001b[0m\u001b[0;34m.\u001b[0m\u001b[0m_qagie\u001b[0m\u001b[0;34m(\u001b[0m\u001b[0mfunc\u001b[0m\u001b[0;34m,\u001b[0m\u001b[0mbound\u001b[0m\u001b[0;34m,\u001b[0m\u001b[0minfbounds\u001b[0m\u001b[0;34m,\u001b[0m\u001b[0margs\u001b[0m\u001b[0;34m,\u001b[0m\u001b[0mfull_output\u001b[0m\u001b[0;34m,\u001b[0m\u001b[0mepsabs\u001b[0m\u001b[0;34m,\u001b[0m\u001b[0mepsrel\u001b[0m\u001b[0;34m,\u001b[0m\u001b[0mlimit\u001b[0m\u001b[0;34m)\u001b[0m\u001b[0;34m\u001b[0m\u001b[0m\n",
      "\u001b[0;32m<ipython-input-18-027594d8017a>\u001b[0m in \u001b[0;36mget_integrand\u001b[0;34m(x, y, gamma, sigma)\u001b[0m\n\u001b[1;32m      1\u001b[0m \u001b[0;32mdef\u001b[0m \u001b[0mget_integrand\u001b[0m\u001b[0;34m(\u001b[0m\u001b[0mx\u001b[0m\u001b[0;34m,\u001b[0m \u001b[0my\u001b[0m\u001b[0;34m,\u001b[0m \u001b[0mgamma\u001b[0m\u001b[0;34m,\u001b[0m \u001b[0msigma\u001b[0m\u001b[0;34m)\u001b[0m\u001b[0;34m:\u001b[0m\u001b[0;34m\u001b[0m\u001b[0m\n\u001b[0;32m----> 2\u001b[0;31m     \u001b[0;32mreturn\u001b[0m \u001b[0mnp\u001b[0m\u001b[0;34m.\u001b[0m\u001b[0mpower\u001b[0m\u001b[0;34m(\u001b[0m\u001b[0mx\u001b[0m\u001b[0;34m,\u001b[0m \u001b[0;34m-\u001b[0m\u001b[0;34m(\u001b[0m\u001b[0mgamma\u001b[0m\u001b[0;34m+\u001b[0m\u001b[0;36m1.0\u001b[0m\u001b[0;34m)\u001b[0m\u001b[0;34m)\u001b[0m \u001b[0;34m*\u001b[0m \u001b[0mnp\u001b[0m\u001b[0;34m.\u001b[0m\u001b[0mexp\u001b[0m\u001b[0;34m(\u001b[0m\u001b[0;34m-\u001b[0m\u001b[0;36m0.5\u001b[0m\u001b[0;34m*\u001b[0m\u001b[0;34m(\u001b[0m\u001b[0;34m(\u001b[0m\u001b[0my\u001b[0m\u001b[0;34m-\u001b[0m\u001b[0mx\u001b[0m\u001b[0;34m)\u001b[0m\u001b[0;34m/\u001b[0m\u001b[0msigma\u001b[0m\u001b[0;34m)\u001b[0m\u001b[0;34m**\u001b[0m\u001b[0;36m2\u001b[0m\u001b[0;34m)\u001b[0m\u001b[0;34m\u001b[0m\u001b[0m\n\u001b[0m\u001b[1;32m      3\u001b[0m \u001b[0;34m\u001b[0m\u001b[0m\n\u001b[1;32m      4\u001b[0m \u001b[0;34m\u001b[0m\u001b[0m\n\u001b[1;32m      5\u001b[0m \u001b[0msigma\u001b[0m\u001b[0;34m,\u001b[0m \u001b[0mgamma\u001b[0m\u001b[0;34m,\u001b[0m \u001b[0mL\u001b[0m\u001b[0;34m,\u001b[0m \u001b[0mU\u001b[0m \u001b[0;34m=\u001b[0m \u001b[0;36m1.0\u001b[0m\u001b[0;34m,\u001b[0m  \u001b[0;36m4.0\u001b[0m\u001b[0;34m,\u001b[0m  \u001b[0;36m0.5\u001b[0m\u001b[0;34m,\u001b[0m \u001b[0;36m100.0\u001b[0m \u001b[0;31m# 0.12\u001b[0m\u001b[0;34m\u001b[0m\u001b[0m\n",
      "\u001b[0;31mKeyboardInterrupt\u001b[0m: "
     ]
    }
   ],
   "source": [
    "run_optimize(hip['Plx'][hip['Plx']>-2.0], hip['e_Plx'][hip['Plx']>-2.0])"
   ]
  },
  {
   "cell_type": "code",
   "execution_count": null,
   "metadata": {
    "collapsed": true
   },
   "outputs": [],
   "source": []
  },
  {
   "cell_type": "markdown",
   "metadata": {},
   "source": [
    "### Now, let's select all rNLTT stars with Hipparchos numbers"
   ]
  },
  {
   "cell_type": "code",
   "execution_count": 93,
   "metadata": {
    "collapsed": false
   },
   "outputs": [],
   "source": [
    "t_hip_tmp = t_full[np.where(t_full['HIP']!=0)[0]]\n",
    "\n",
    "# Only non-repeating entries\n",
    "vals, indices = np.unique(t_hip_tmp['NLTT'], return_index=True)\n",
    "t_hip = t_hip_tmp[indices]\n",
    "\n",
    "\n",
    "dtype = [('ID','i8'),('NLTT','i8'),('ra','f8'),('dec','f8'),('mu_ra','f8'),('mu_dec','f8'), \\\n",
    "         ('mu_ra_err','f8'),('mu_dec_err','f8'),('B','f8'),('V','f8'), \\\n",
    "         ('plx','f8'),('plx_err','f8')]\n",
    "\n",
    "t = np.zeros(len(t_hip), dtype=dtype)\n",
    "t['ID'] = t_hip['HIP']\n",
    "t['NLTT'] = t_hip['NLTT']\n",
    "t['ra'] = t_hip['ra']\n",
    "t['dec'] = t_hip['dec']\n",
    "t['mu_ra'] = t_hip['mu_ra']\n",
    "t['mu_dec'] = t_hip['mu_dec']\n",
    "t['mu_ra_err'] = t_hip['mu_ra_err']\n",
    "t['mu_dec_err'] = t_hip['mu_dec_err']\n",
    "t['B'] = t_hip['B']\n",
    "t['V'] = t_hip['V']\n",
    "\n",
    "# Get parallaxes, by first finding indices matching two catalogs\n",
    "idx = np.zeros(len(t_hip), dtype='i8')\n",
    "for i in np.arange(len(t_hip)):\n",
    "    idx[i] =int(np.where(t_hip[i]['HIP'] == hip['HIP'])[0][0])\n",
    "    \n",
    "t['plx'] = hip['Plx'][idx]\n",
    "t['plx_err'] = hip['e_Plx'][idx]"
   ]
  },
  {
   "cell_type": "code",
   "execution_count": 94,
   "metadata": {
    "collapsed": false
   },
   "outputs": [
    {
     "name": "stdout",
     "output_type": "stream",
     "text": [
      "36085 8288\n"
     ]
    }
   ],
   "source": [
    "print len(t_full), len(t)"
   ]
  },
  {
   "cell_type": "code",
   "execution_count": 9,
   "metadata": {
    "collapsed": false,
    "scrolled": true
   },
   "outputs": [
    {
     "name": "stdout",
     "output_type": "stream",
     "text": [
      "Generating binaries...\n",
      "We are testing 8288 stars...\n",
      "0 5.0724978447\n",
      "428 473 139 172 328.24266543 869.799972 -150.700003 878.700018 -153.899997 88.88 1.42 88.44 1.56 [  8.87762779e-12] 7.70325291622e-09 [ 0.9977004]\n",
      "428 473 139 173 326.443024491 869.799972 -150.700003 878.700018 -153.899997 88.88 1.42 88.44 1.56 [  8.66013407e-12] 7.651427265e-09 [ 0.99774145]\n",
      "473 473 172 173 6.12659491702 878.700018 -153.899997 878.700018 -153.899997 88.44 1.56 88.44 1.56 [  4.47452814e-14] 2.12682291271e-08 [ 0.99999579]\n",
      "493 495 194 195 572.933964896 -149.299994 -150.999993 -145.699993 -145.899996 26.93 0.56 26.92 1.2 [  2.10917536e-09] 1.05033597898e-09 [ 0.19935442]\n",
      "493 495 194 196 575.415643516 -149.299994 -150.999993 -154.100001 -154.499993 26.93 0.56 26.92 1.2 [  1.94213411e-09] 1.0545068576e-09 [ 0.21351587]\n",
      "495 495 195 196 3.52250053297 -145.699993 -145.899996 -154.100001 -154.499993 26.92 1.2 26.92 1.2 [  2.43738610e-11] 2.92223857905e-08 [ 0.99833461]\n",
      "1082 1082 647 648 5.12798528827 -78.5999969 -434.599996 -78.4000009 -430.900007 -2.02 4.33 -2.02 4.33 [  2.18542115e-12] 2.97025934085e-10 [ 0.98549805]\n",
      "1094 1094 663 664 43.9902611467 220.699996 2.60000001 213.400006 1.79999997 10.66 2.26 10.66 2.26 [  1.84715958e-10] 8.57105624927e-10 [ 0.69880097]\n",
      "2292 2350 1551 1594 839.360364503 -110.699996 -222.000003 -108.199999 -224.299997 17.63 0.79 20.03 1.49 [  2.08311186e-09] 8.47824388659e-11 [ 0.01994409]\n",
      "2552 2552 1707 1708 4.66489741991 1741.09995 -246.800005 1704.90003 -314.599991 99.35 2.17 99.35 2.17 [  1.45982849e-13] 9.17385161925e-09 [ 0.99996818]\n",
      "2663 2663 1806 1807 4.94505697545 -61.4 -497.200012 -60.3 -516.799986 30.2 0.77 30.2 0.77 [  6.39950118e-12] 3.28189258596e-08 [ 0.99961016]\n",
      "2844 2844 1944 1945 6.13752806551 176.799998 -387.600005 190.699995 -403.400004 17.31 0.93 17.31 0.93 [  1.29116820e-11] 1.11818296051e-08 [ 0.99769592]\n",
      "2848 2888 1965 1992 329.847729773 385.100007 -129.800007 386.500001 -131.699994 22.61 1.0 22.9 0.48 [  1.07800742e-10] 2.51293776664e-09 [ 0.92098282]\n",
      "3322 3322 2319 2321 21.0678306352 -220.400006 -110.200003 -225.299999 -110.9 16.51 4.56 16.51 4.56 [  7.14477635e-11] 6.40813957688e-09 [ 0.97818734]\n",
      "3588 3588 2529 2530 5.09176868802 287.999988 -110.600002 307.000011 -76.3000026 63.22 0.97 63.22 0.97 [  7.68390906e-11] 2.75003318276e-08 [ 0.99444282]\n",
      "3937 3937 2804 2805 2.0817932128 198.500007 -41.7000018 198.500007 -41.7000018 84.42 4.65 84.42 4.65 [  1.67153286e-11] 8.01339113772e-09 [ 0.99584548]\n",
      "4927 4927 3462 3463 2.75352302733 670.000017 41.4999984 671.800017 44.5000008 61.62 3.3 61.62 3.3 [  2.72181505e-13] 1.10082566492e-08 [ 0.99995055]\n",
      "5110 5110 3597 3598 6.08482157147 8.50000046 -196.400002 6.09999988 -193.900004 37.83 1.44 37.83 1.44 [  2.14014163e-11] 2.65731641219e-08 [ 0.99839184]\n",
      "5842 5896 4206 4258 319.301561462 416.599989 75.9000033 404.900014 108.3 46.2 0.82 47.72 0.41 [  4.88323506e-10] 1.27035879179e-10 [ 0.11510179]\n",
      "5842 5896 4206 4259 314.397641061 416.599989 75.9000033 382.699996 86.4999965 46.2 0.82 47.72 0.41 [  4.76651065e-10] 1.12078583682e-10 [ 0.1052005]\n",
      "5896 5896 4258 4259 5.01672680022 404.900014 108.3 382.699996 86.4999965 47.72 0.41 47.72 0.41 [  6.54312071e-12] 6.14983035077e-08 [ 0.99978725]\n",
      "6772 6804 4853 4873 388.843934117 295.50001 74.1999969 295.399994 74.000001 16.57 0.83 16.18 2.17 [  3.17633750e-10] 5.94156795297e-10 [ 0.48328051]\n",
      "7751 7751 5588 5589 0.0 302.599996 -14.1000003 302.599996 -14.1000003 127.84 2.19 127.84 2.19 [ 0.] 1.47659921262e-08 [ 1.]\n",
      "8067 8069 5738 5740 20.0028367678 252.299994 -3.59999994 275.900006 24.2999997 21.11 3.44 -5.63 14.01 [  5.08479069e-10] 9.83103214131e-11 [ 0.08814947]\n",
      "9275 9275 6637 6638 3.84735686198 254.400015 27.8999992 258.8 26.4999997 32.11 3.32 32.11 3.32 [  2.19898883e-11] 1.1428179443e-08 [ 0.99616639]\n",
      "9243 9247 6664 6665 36.0222839995 137.500003 125.9 137.999997 129.4 7.81 0.59 7.82 0.79 [  3.70187338e-11] 3.57693537361e-09 [ 0.97972117]\n",
      "9769 9774 6986 6991 56.4629409182 414.000005 -58.4000014 414.499998 -52.4000004 22.81 1.27 21.44 1.43 [  6.15630357e-11] 1.00462537715e-08 [ 0.98789247]\n",
      "9971 9972 7087 7088 20.6566729572 221.200004 -303.299993 218.799993 -300.099999 17.82 2.94 10.82 6.41 [  2.34871375e-11] 3.94064530578e-09 [ 0.98821997]\n",
      "10303 10305 7321 7323 16.7417276136 364.100009 -79.5999989 373.49999 -68.7000006 20.89 7.39 25.19 1.41 [  8.01847528e-11] 3.65490239207e-09 [ 0.95796643]\n",
      "11134 11137 7843 7845 34.7291988128 111.8 184.799999 111.900002 186.199993 17.51 1.66 17.01 1.33 [  1.81817894e-11] 1.7451248928e-08 [ 0.99792061]\n",
      "1000 511.889227867\n",
      "12706 12706 8785 8786 0.0 -146.400005 -145.300001 -146.400005 -145.300001 40.97 0.63 40.97 0.63 [ 0.] 5.28721430283e-08 [ 1.]\n",
      "13027 13027 8970 8971 3.5650994854 115.199998 -159.400001 129.299998 -169.300005 29.8 0.82 29.8 0.82 [  5.13877882e-11] 3.3907569166e-08 [ 0.99697811]\n",
      "13714 13716 9316 9318 16.7160164647 729.499996 -454.400003 713.999987 -455.70001 22.16 10.51 -41.3 32.53 [  6.99658219e-13] 9.95465845379e-11 [ 0.98613796]\n",
      "14101 14101 9671 9672 7.08464960684 -343.600005 -291.299999 -343.600005 -291.299999 106.16 16.51 106.16 16.51 [  3.17875326e-12] 2.01131102156e-09 [ 0.99684908]\n",
      "14589 14593 10007 10008 25.6851711513 -9.70000029 -174.099997 -14.3999998 -167.500004 48.29 6.07 31.43 2.52 [  2.22776997e-10] 2.18521068981e-10 [ 0.3290608]\n",
      "15220 15220 10342 10343 5.34578001753 436.300009 -304.699987 445.600003 -340.299994 69.51 3.37 69.51 3.37 [  5.32179992e-12] 9.18644368889e-09 [ 0.99884272]\n",
      "15330 15371 10575 10597 309.210356359 1338.40001 650.300026 1331.09999 646.799982 83.28 0.2 83.11 0.19 [  2.92395557e-12] 5.00102702866e-08 [ 0.99988308]\n",
      "15526 15527 10635 10636 253.001836043 348.399997 -67.1000034 348.89999 -65.8000037 28.27 1.08 28.15 0.62 [  3.00705301e-10] 3.97759837982e-09 [ 0.86865922]\n",
      "15771 15774 10832 10833 14.6821663461 239.500001 272.700012 244.200006 268.999994 51.33 4.27 51.95 1.16 [  6.23307417e-12] 1.19937043477e-08 [ 0.99896169]\n",
      "16563 16563 11174 11176 9.55103826039 67.0000017 -175.999999 67.400001 -176.400006 29.08 1.02 29.08 1.02 [  1.13278214e-11] 3.67183473129e-08 [ 0.99938337]\n",
      "16858 16860 11421 11423 31.2885060049 -74.500002 -247.500002 -72.9999989 -245.800003 22.66 4.73 21.15 1.45 [  1.05827748e-10] 8.72305830735e-09 [ 0.97631088]\n",
      "17405 17414 11688 11693 106.518124514 161.200002 -313.899994 160.400003 -318.599999 59.92 2.39 56.46 1.92 [  1.92486450e-10] 7.0623270858e-09 [ 0.94830705]\n",
      "17749 17750 11767 11770 18.5887222626 124.799997 247.299999 61.2999983 464.899987 57.68 3.06 42.45 36.1 [  2.46282468e-10] 6.04566071988e-11 [ 0.10932053]\n",
      "17666 17666 11791 11792 7.23521276383 594.099998 -1259.19998 596.400023 -1248.49999 45.65 2.63 45.65 2.63 [  1.55151350e-13] 1.53683577764e-08 [ 0.99997981]\n",
      "18512 18512 12236 12237 11.0919205122 -182.400003 -139.1 -181.899995 -141.900003 64.4 1.06 64.4 1.06 [  3.14113709e-11] 3.38108642592e-08 [ 0.99814538]\n",
      "19255 19255 12566 12567 1.94009457703 174.400002 -230.900005 174.400002 -230.900005 49.06 0.61 49.06 0.61 [  3.62358275e-12] 5.89437789655e-08 [ 0.99987706]\n",
      "19874 19874 12838 12839 0.0 126.800001 -203.600004 126.800001 -203.600004 15.89 2.12 15.89 2.12 [ 0.] 1.7821935387e-08 [ 1.]\n",
      "21756 21756 13768 13769 0.0 30.9999995 174.799994 30.9999995 174.799994 32.68 0.57 32.68 0.57 [ 0.] 5.84111059816e-08 [ 1.]\n",
      "23530 23532 14365 14371 32.7679437798 107.000001 313.4 102.499999 315.100014 30.95 0.97 31.09 0.78 [  6.71468793e-12] 4.38248614864e-08 [ 0.99969366]\n",
      "24035 24046 14572 14576 314.589077261 200.499997 -87.0999992 197.899997 -87.4999985 25.21 1.19 24.98 0.81 [  5.75649839e-10] 2.303801554e-09 [ 0.66678265]\n",
      "23923 23926 14573 14574 10.0712361767 -64.0999973 276.300013 -72.7000013 289.299995 18.46 0.65 18.69 0.49 [  2.40066466e-11] 2.35441930508e-08 [ 0.99796487]\n",
      "24819 24819 14867 14868 0.0 696.90001 127.100006 696.90001 127.100006 64.73 1.11 64.73 1.11 [ 0.] 3.07365263144e-08 [ 1.]\n",
      "25220 25278 14980 15000 707.225388168 251.899987 -3.29999998 250.9 -7.19999988 71.0 1.34 69.51 0.38 [  1.39343388e-09] 1.83900941573e-09 [ 0.39754826]\n",
      "2000 891.903029919\n",
      "26501 26501 15425 15426 5.10318872037 -128.5 -481.400013 -152.400002 -471.799999 39.22 0.75 39.22 0.75 [  7.04783628e-12] 3.3287019503e-08 [ 0.99957672]\n",
      "26779 26801 15439 15446 97.9723926375 3.50000011 -523.599982 3.19999992 -517.30001 81.45 0.54 80.4 1.69 [  2.40709040e-11] 2.42987800878e-08 [ 0.99802267]\n",
      "28764 28790 16039 16047 196.115017708 -82.4000016 247.099996 -72.8999972 269.499987 37.64 0.25 37.18 0.64 [  5.42806959e-10] 1.17128936606e-09 [ 0.51898075]\n",
      "31292 31293 16774 16775 22.2514874047 -328.900009 273.000002 -297.800004 285.400003 115.19 10.61 110.88 2.25 [  9.40978551e-12] 4.62457503037e-09 [ 0.99594702]\n",
      "34085 34087 17264 17265 12.6795715455 -88.7999982 -256.300002 -87.6000002 -257.999986 28.0 1.65 29.05 2.7 [  7.45272991e-12] 1.64986268464e-08 [ 0.99909738]\n",
      "34052 34065 17380 17382 184.951718365 -93.0000022 395.300001 -103.699997 391.99999 57.42 1.16 60.55 1.04 [  5.18104190e-11] 1.76034539607e-09 [ 0.94440841]\n",
      "34052 34069 17380 17383 203.384535703 -93.0000022 395.300001 -98.4999985 383.399993 57.42 1.16 47.99 9.89 [  6.84427298e-11] 9.61550774214e-10 [ 0.87538151]\n",
      "34065 34069 17382 17383 21.1578520036 -103.699997 391.99999 -98.4999985 383.399993 60.55 1.04 47.99 9.89 [  5.42832418e-12] 2.60875112213e-09 [ 0.99585562]\n",
      "34407 34426 17443 17446 171.961900656 -52.9999994 -206.799999 -55.399999 -211.700007 21.39 0.89 21.8 0.77 [  6.72062003e-10] 3.37115889157e-09 [ 0.71494308]\n",
      "36160 36165 17889 17890 17.6164927232 -309.700012 94.4000036 -304.199994 96.6999978 33.43 6.56 31.25 2.0 [  2.61632176e-11] 7.42125575574e-09 [ 0.99299848]\n",
      "36357 36366 17907 17908 756.140859478 159.700006 175.799996 157.199994 186.900005 56.63 0.93 55.41 0.24 [  1.76926988e-09] 1.34454159844e-09 [ 0.27534696]\n",
      "36627 36626 17998 17999 38.2229779408 -258.100003 -254.299998 -251.899987 -257.099986 83.46 4.07 84.26 3.45 [  6.83482942e-11] 1.03720458223e-08 [ 0.98699211]\n",
      "36637 36637 18020 18022 5.13575346913 -224.099994 -178.7 -219.300002 -183.200002 30.57 3.72 30.57 3.72 [  1.84565979e-11] 1.06462380189e-08 [ 0.99654473]\n",
      "37670 37671 18346 18347 11.8767047718 -175.099999 -294.800013 -169.599995 -305.599988 7.75 3.52 -8.85 5.69 [  7.19537134e-11] 7.04281485697e-12 [ 0.04665653]\n",
      "39826 39826 18979 18980 10.6203979575 -299.199998 -354.099989 -299.499989 -354.000002 60.09 1.94 60.09 1.94 [  2.95269833e-12] 1.79653074709e-08 [ 0.9996714]\n",
      "41181 41184 19428 19431 29.1775999625 -60.4999997 -177.300006 -63.1000027 -178.399995 25.23 5.1 26.49 1.18 [  6.55377301e-11] 9.80833892951e-09 [ 0.98681256]\n",
      "42173 42172 19851 19856 10.1088084693 -133.499995 -132.200003 -127.200007 -129.299998 38.11 0.85 39.8 0.94 [  6.99968757e-11] 1.7161024341e-08 [ 0.99190835]\n",
      "42488 42491 19988 19991 26.1060436488 177.599996 -298.400015 173.899993 -297.199994 27.54 0.95 35.65 3.48 [  4.35305153e-11] 1.17519165408e-09 [ 0.93102726]\n",
      "42748 42762 20087 20092 114.663181858 209.999993 -623.300016 223.700002 -616.100013 64.8 2.35 66.96 3.91 [  3.16377920e-11] 8.03022241715e-09 [ 0.99218192]\n",
      "42958 42958 20135 20136 4.60621784954 -102.899998 45.4000011 -126.200005 10.4999999 5.23 2.29 5.23 2.29 [  3.30303909e-11] 1.41129727719e-10 [ 0.68115923]\n",
      "43426 43426 20343 20344 3.87112917639 -143.099993 104.099996 -174.099997 114.200003 19.38 1.14 19.38 1.14 [  3.85117177e-11] 6.01731259763e-09 [ 0.98736147]\n",
      "43891 43891 20490 20491 4.59810354164 -59.9000007 -180.800006 -56.2000014 -180.899993 10.23 2.23 10.23 2.23 [  9.49598009e-12] 1.31472715926e-08 [ 0.99855753]\n",
      "44295 44295 20763 20764 5.25379306295 -124.200001 -313.499987 -110.600002 -320.100009 62.6 2.16 62.6 2.16 [  2.76109453e-11] 1.91008630348e-08 [ 0.99711727]\n",
      "44965 44968 21120 21121 22.5067573945 -125.200003 216.299996 -127.399996 219.799995 32.81 6.05 22.96 2.05 [  1.83576177e-11] 2.55128402317e-09 [ 0.98581327]\n",
      "45072 45072 21163 21168 9.00128851179 -186.800003 40.1000008 -188.899994 38.8999991 12.56 1.44 12.56 1.44 [  1.24805888e-11] 2.55007001726e-08 [ 0.99902211]\n",
      "45343 120005 21249 21251 17.4705883856 -1555.60005 -569.999993 -1560.79996 -660.600007 172.08 6.31 156.45 8.58 [  1.39001529e-12] 1.39550271879e-09 [ 0.99801183]\n",
      "3000 1249.50936985\n",
      "46634 46637 21930 21932 13.8905444216 -192.300007 -13.0000003 -196.999997 -12.5000002 33.74 8.01 52.99 13.11 [  4.52250896e-11] 1.66697896515e-09 [ 0.94853267]\n",
      "47040 47050 22121 22125 91.7884078032 -93.0999964 -175.400004 -91.3000032 -175.600007 12.17 2.91 17.15 1.58 [  3.53293960e-10] 6.29418332443e-10 [ 0.4711193]\n",
      "47620 47650 22340 22350 88.7653840421 -672.200024 -268.299997 -667.299986 -268.5 81.37 1.77 88.07 2.41 [  3.58950786e-12] 1.26987954614e-09 [ 0.99437848]\n",
      "48785 48786 23007 23008 30.5535806376 -232.199997 -6.89999992 -231.399998 -8.60000029 23.94 0.7 23.85 1.1 [  4.91370803e-11] 3.90229656385e-08 [ 0.99748796]\n",
      "50583 50583 24029 24030 4.57023672747 310.799986 -152.899995 306.400001 -160.799995 25.07 0.52 25.07 0.52 [  1.65719785e-11] 7.03057012656e-08 [ 0.9995288]\n",
      "50808 50808 24189 24190 8.79696509386 344.199985 -412.900001 344.099998 -404.000014 50.25 1.87 50.25 1.87 [  2.22560748e-12] 2.17679194009e-08 [ 0.99979556]\n",
      "52469 52498 25147 25160 288.039252143 -270.200014 -68.0000037 -268.79999 -61.900001 26.96 0.26 26.84 0.5 [  9.40569418e-10] 5.63276646154e-09 [ 0.74964566]\n",
      "53947 53953 26064 26065 18.7074757362 -17.6999997 -167.099997 -14.7000002 -161.799997 27.91 24.52 24.22 11.88 [  1.34837512e-10] 1.78736025145e-09 [ 0.86890112]\n",
      "54155 54155 26193 26194 11.4953792539 -178.599998 -102.899998 -178.000003 -104.099996 38.06 0.99 38.06 0.99 [  2.82449633e-11] 3.78702387439e-08 [ 0.99851055]\n",
      "54658 54658 26552 26553 2.63568955143 -633.899987 -443.800002 -633.899987 -443.800002 59.16 2.54 59.16 2.54 [  1.90493879e-13] 1.41614133307e-08 [ 0.9999731]\n",
      "54681 54692 26564 26576 134.822141945 -118.900001 -242.799997 -125.400007 -239.399999 20.65 0.79 21.38 0.58 [  6.88021999e-10] 3.11867062098e-09 [ 0.69385287]\n",
      "54952 54952 26719 26722 6.64758647267 -403.800011 112.099998 -401.69999 110.399999 68.28 0.65 68.28 0.65 [  7.87073429e-13] 5.32137512245e-08 [ 0.99997042]\n",
      "54963 54966 26767 26770 18.886506748 294.400007 -717.199981 319.299996 -708.000004 62.53 29.78 70.11 29.65 [  1.04837054e-11] 9.22422436148e-10 [ 0.97777439]\n",
      "55043 55044 26784 26786 12.3718463846 162.499994 48.3000018 161.699995 57.9000004 23.11 2.45 29.31 1.09 [  4.91656339e-11] 1.50383192642e-09 [ 0.93862594]\n",
      "55288 55288 26995 26997 9.44967300262 -215.200007 -154.799998 -222.100005 -153.799996 20.78 1.52 20.78 1.52 [  5.75905729e-11] 2.52627404573e-08 [ 0.99546136]\n",
      "55454 55454 27131 27132 4.52787539412 178.499997 -115.199998 181.700006 -117.5 75.97 1.25 75.97 1.25 [  1.74083102e-11] 2.80020691842e-08 [ 0.99875819]\n",
      "55846 55848 27398 27399 28.3116027476 -726.300001 180.999994 -728.299975 185.699999 56.35 0.75 55.69 1.46 [  2.06694231e-12] 3.13041089155e-08 [ 0.99986796]\n",
      "56242 56242 27656 27657 15.4865749104 -327.899992 -188.700005 -328.399986 -190.099999 42.87 1.22 42.87 1.22 [  9.42885738e-12] 2.96022757035e-08 [ 0.99936337]\n",
      "56289 56289 27678 27679 11.4525170281 -241.300002 82.0999965 -240.3 82.9000026 17.64 1.02 17.64 1.02 [  7.60624449e-12] 3.88701189853e-08 [ 0.99960879]\n",
      "56622 56622 27955 27956 6.11560993812 -182.2 -87.8000036 -175.400004 -91.0999998 21.28 0.96 21.28 0.96 [  2.87387356e-11] 4.02472735267e-08 [ 0.99857393]\n",
      "56809 56809 28086 28087 9.18944107427 -577.300012 1.50000001 -593.999982 15.1000004 43.01 0.73 43.01 0.73 [  7.02194416e-12] 4.52165025087e-08 [ 0.9996895]\n",
      "57019 57020 28242 28243 30.4625125538 -199.200004 -41.2000008 -200.200006 -37.5000015 13.34 2.03 9.5 1.49 [  6.69467206e-11] 1.97293137821e-09 [ 0.93644776]\n",
      "57473 57475 28542 28543 16.480322069 -495.200008 -144.199997 -491.299987 -141.900003 13.35 4.08 5.31 6.8 [  2.26504733e-12] 2.24084615357e-09 [ 0.99798248]\n",
      "57572 57572 28609 28610 8.25344224863 -265.300006 174.600005 -267.800003 175.300002 27.73 1.1 27.73 1.1 [  2.61548839e-12] 3.60262616411e-08 [ 0.99985482]\n",
      "58067 58073 28915 28923 73.3857150638 -449.600011 -15.6999994 -451.499999 -13.1000001 24.69 1.07 26.05 1.37 [  3.51357086e-11] 1.04240282385e-08 [ 0.99330385]\n",
      "58240 58241 29039 29041 18.8159242537 -173.999995 -5.29999984 -180.899993 -5.40000014 21.13 6.8 8.35 10.74 [  9.81085206e-11] 1.77848544396e-09 [ 0.90063463]\n",
      "4000 1520.47505283\n",
      "59176 59180 29698 29702 22.3287720851 -177.399993 -21.5000007 -173.199996 -26.2000002 20.38 1.64 7.81 5.72 [  8.20023042e-11] 8.02585356023e-10 [ 0.8303266]\n",
      "59431 59432 29901 29903 13.320600566 -170.300007 -136.199996 -164.199993 -124.799997 28.21 2.97 33.17 3.07 [  1.22432046e-10] 5.811860403e-09 [ 0.95957153]\n",
      "59743 59743 30106 30107 6.87096351747 -250.099987 -52.9000014 -240.799993 -69.3999976 28.42 0.96 28.42 0.96 [  1.09439886e-10] 2.4683217303e-08 [ 0.99121039]\n",
      "60831 60832 30820 30822 9.73212060548 -180.199996 -6.69999979 -178.200006 3.50000011 22.93 1.41 25.92 2.02 [  6.36767417e-11] 1.0129185877e-08 [ 0.98758319]\n",
      "61419 61419 31186 31187 2.69800565859 155.000001 -90.4999971 155.000001 -90.4999971 14.38 0.94 14.38 0.94 [  8.59069891e-12] 4.21977161672e-08 [ 0.999593]\n",
      "61493 61493 31242 31243 2.34605201467 -300.999999 -71.5999976 -300.999999 -71.5999976 11.8 1.15 11.8 1.15 [  3.86060194e-12] 3.4022551623e-08 [ 0.99977311]\n",
      "61687 61687 31380 31381 8.53104227219 313.199997 -108.000003 307.999998 -111.199997 24.13 2.0 24.13 2.0 [  2.89177515e-11] 2.02934869671e-08 [ 0.99715815]\n",
      "61941 61941 31564 31565 0.0 -616.699994 60.6999993 -616.699994 60.6999993 85.58 0.6 85.58 0.6 [ 0.] 5.34377874952e-08 [ 1.]\n",
      "62471 62472 31940 31941 12.030348422 -318.899989 147.300005 -314.700007 167.899996 59.66 20.74 49.06 3.81 [  5.41055707e-11] 2.31410257265e-09 [ 0.95532736]\n",
      "63121 63125 32336 32338 18.988869276 -203.899994 88.2999972 -233.400002 54.9999997 27.1 9.54 28.41 0.9 [  4.81095544e-10] 1.21602001835e-09 [ 0.55826546]\n",
      "63239 63239 32423 32427 81.9409321694 -231.600001 111.500002 -233.999997 111.400001 14.53 1.45 14.53 1.45 [  1.14127648e-10] 3.63096600727e-09 [ 0.94085457]\n",
      "63253 63253 32438 32441 16.1440211837 -263.700008 -176.400006 -268.599987 -149.399996 51.93 3.0 51.93 3.0 [  2.12821151e-10] 1.03559593321e-08 [ 0.96052142]\n",
      "64057 64059 32962 32964 39.0477571928 -261.400014 147.499993 -262.499988 145.400003 28.25 0.92 26.83 1.22 [  3.74008041e-11] 2.08008822149e-08 [ 0.99641681]\n",
      "64443 64444 33229 33232 31.3703601533 -244.299993 -271.899998 -245.499998 -272.799999 17.02 2.18 12.98 1.16 [  2.53055875e-11] 3.19229329104e-09 [ 0.98439326]\n",
      "64797 64797 33527 33528 7.24989631741 623.899996 -259.000003 631.200016 -260.800004 90.32 0.74 90.32 0.74 [  1.48139882e-12] 4.99446097975e-08 [ 0.99994068]\n",
      "65011 65012 33705 33706 17.6422098198 387.600005 -776.600003 380.400002 -783.500016 75.38 1.54 64.06 11.6 [  7.76832645e-12] 2.10114444529e-09 [ 0.9926599]\n",
      "65176 65176 33767 33768 5.20892688467 -236.499995 -47.6000011 -223.000005 -46.9999984 17.81 0.98 17.81 0.98 [  2.28691631e-11] 2.16332140746e-08 [ 0.9978902]\n",
      "65352 65355 33954 33956 26.2480621859 13.2999998 199.599996 4.80000023 201.299995 64.73 1.33 61.95 1.34 [  6.62780797e-11] 1.02695711351e-08 [ 0.98725682]\n",
      "65574 65602 34101 34119 319.405810725 -337.399989 -64.7 -335.900009 -63.1999969 33.08 1.06 33.98 0.8 [  4.18327606e-10] 2.75013262963e-09 [ 0.7667397]\n",
      "66121 66125 34349 34368 22.0127496162 -366.699994 -152.500004 -350.499988 -117.600001 28.42 0.5 55.78 10.02 [  5.57235658e-11] 2.16872183286e-11 [ 0.16289724]\n",
      "66077 66077 34412 34413 0.0 252.900004 -221.799999 252.900004 -221.799999 78.37 19.88 78.37 19.88 [ 0.] 1.15633101541e-09 [ 1.]\n",
      "66195 66195 34534 34535 4.22233212037 -183.300003 14.7000002 -180.399999 19.4000006 14.41 1.11 14.41 1.11 [  7.76705323e-12] 3.29717481851e-08 [ 0.99952909]\n",
      "66267 66267 34606 34609 14.2553433522 -437.999994 -20.3000009 -435.000002 -19.9999996 20.98 1.03 20.98 1.03 [  2.07893538e-12] 3.87520170729e-08 [ 0.99989272]\n",
      "67246 67291 35210 35241 488.518818838 -510.599971 -109.499998 -510.800004 -111.900002 31.58 0.44 32.49 1.6 [  1.48128044e-10] 1.39162947514e-09 [ 0.82448094]\n",
      "67408 67408 35298 35299 11.6264147077 -526.799977 -182.2 -526.600003 -184.900001 33.93 0.69 33.93 0.69 [  1.46544329e-12] 5.42800221841e-08 [ 0.99994601]\n",
      "69220 69224 36418 36421 57.460728284 29.6999998 -312.900007 37.3000018 -313.800007 20.75 0.93 21.0 1.64 [  1.69375125e-10] 9.21643293787e-09 [ 0.96454801]\n",
      "69328 69328 36504 36505 6.56860258403 85.1000026 -182.600006 88.2000029 -177.599996 13.31 1.83 13.31 1.83 [  4.13689480e-11] 1.81061173305e-08 [ 0.99545118]\n",
      "70529 70536 37306 37309 45.3176009505 794.499993 -1117.49995 795.19999 -1119.19999 61.11 1.41 62.31 1.77 [  5.06232150e-13] 1.99802079311e-08 [ 0.99994933]\n",
      "5000 1832.71820283\n",
      "71193 71193 37746 37747 2.97380247606 -192.300007 57.7000007 -192.300007 57.7000007 27.18 1.05 27.18 1.05 [  1.19089545e-11] 3.54308049918e-08 [ 0.99932821]\n",
      "71504 71505 37934 37935 26.2882144043 -286.39999 68.3000013 -288.300008 56.0999997 14.11 4.28 13.48 2.12 [  1.70497262e-10] 2.13446029228e-09 [ 0.86224975]\n",
      "71683 71681 37984 37985 15.4433650733 -3678.20001 481.79999 -3600.39997 952.099979 754.81 4.11 796.92 25.9 [  3.10434897e-12] 3.88389615561e-10 [ 0.98426578]\n",
      "71782 71782 38127 38134 7.63302968947 138.500005 -165.000007 145.099998 -166.4 18.03 0.69 18.03 0.69 [  3.01141860e-11] 5.468503456e-08 [ 0.99889984]\n",
      "71904 71914 38157 38160 135.095270572 -263.300002 -178.499997 -261.599988 -179.199994 39.66 1.91 46.34 2.17 [  2.02991915e-10] 5.32855783015e-10 [ 0.56756849]\n",
      "72634 72634 38552 38553 7.76149681279 -217.500001 54.6000004 -216.299996 57.7999987 33.97 0.89 33.97 0.89 [  2.08532560e-11] 4.33932450191e-08 [ 0.99903979]\n",
      "73182 73184 38871 38872 24.8882855482 986.999989 -1666.80002 1035.69996 -1734.9 168.77 21.54 171.22 0.94 [  3.02407248e-12] 1.84123355739e-09 [ 0.99672592]\n",
      "73674 73674 39139 39140 7.38232573468 156.100005 -131.099999 155.599996 -141.100004 22.71 1.49 22.71 1.49 [  5.72949717e-11] 2.28224161681e-08 [ 0.99500415]\n",
      "73695 73695 39209 39210 2.31051060535 -443.699986 9.89999995 -374.300003 39.4000001 79.95 1.56 79.95 1.56 [  1.57929282e-11] 9.51883800171e-09 [ 0.99669273]\n",
      "74245 74245 39451 39452 0.0 -59.9999987 -159.400001 -59.9999987 -159.400001 2.37 2.9 2.37 2.9 [ 0.] 3.57832288306e-09 [ 1.]\n",
      "74235 74234 39456 39457 300.69395665 -999.40002 -3541.89992 -998.899996 -3544.60001 34.65 1.28 35.14 1.48 [  1.96638317e-12] 2.62432436276e-09 [ 0.99850366]\n",
      "74550 74549 39615 39616 16.9290724623 -257.800013 -249.599993 -254.599988 -253.800005 17.0 6.05 23.08 4.39 [  2.23362353e-11] 5.04403472881e-09 [ 0.99122125]\n",
      "74368 74370 39620 39621 16.0554838176 -165.999994 96.9000012 -166.299999 98.2000008 13.24 4.75 14.18 2.94 [  1.64364396e-11] 8.10971986191e-09 [ 0.99596285]\n",
      "75011 75104 39929 39983 1580.96198967 -181.199998 141.200006 -178.299993 138.899997 23.69 1.21 22.97 0.56 [  2.24259322e-09] 5.80165114262e-11 [ 0.01276996]\n",
      "75718 75722 40292 40296 52.1710827349 76.3999969 -358.999997 80.4999992 -355.89999 48.58 1.33 48.8 0.89 [  8.12193781e-11] 3.27227377107e-08 [ 0.99506043]\n",
      "75809 75829 40576 40590 31.4410450227 -223.199993 107.799999 -217.999995 105.800003 45.77 0.37 46.48 0.49 [  1.59430445e-11] 4.7629829769e-08 [ 0.99933099]\n",
      "76375 76382 40672 40679 121.865424857 -447.49999 50.7000014 -455.199987 50.999999 44.69 0.58 44.83 0.6 [  8.22149055e-11] 3.1545764174e-08 [ 0.99481461]\n",
      "78102 78102 41600 41601 9.41849033325 -186.800003 80.0999999 -188.299999 75.4999965 12.78 1.61 12.78 1.61 [  2.42369794e-11] 2.05632259155e-08 [ 0.99764823]\n",
      "78139 78158 41622 41631 186.826620028 -239.800006 114.799999 -229.599997 115.000002 20.64 2.23 21.7 2.48 [  8.10493796e-10] 4.12870849465e-10 [ 0.20299881]\n",
      "78708 78708 41839 41840 10.2729522377 -295.700014 -137.3 -293.599993 -140.000001 22.68 1.26 22.68 1.26 [  1.55092274e-11] 3.28693295804e-08 [ 0.9990572]\n",
      "79492 79492 42272 42273 3.90279083485 183.400005 -418.70001 183.400005 -418.70001 42.4 1.12 42.4 1.12 [  1.10149476e-12] 3.12830446544e-08 [ 0.99992958]\n",
      "79551 79607 42306 42337 634.682377774 -263.000011 -82.9000026 -265.399992 -83.8999972 45.4 3.71 47.44 1.22 [  2.51695979e-09] 6.11165336235e-10 [ 0.10826504]\n",
      "79607 79607 42337 42338 6.97013428732 -265.399992 -83.8999972 -289.000005 -85.1000026 47.44 1.22 47.44 1.22 [  9.33170692e-11] 2.74643359694e-08 [ 0.99325036]\n",
      "79755 79762 42488 42489 64.4271198338 -493.800014 83.8000029 -477.400005 91.6000009 93.57 0.95 93.09 1.48 [  3.22319089e-11] 3.20720581352e-08 [ 0.99799406]\n",
      "80725 80725 42900 42901 1.78937023119 -339.899987 383.300006 -339.899987 383.300006 50.87 0.8 50.87 0.8 [  7.82652966e-14] 4.26576364899e-08 [ 0.99999633]\n",
      "80870 80868 42934 42937 11.1054524039 -166.500002 -178.200006 -164.6 -179.700002 19.13 7.15 26.83 5.5 [  3.55622424e-11] 4.22950549548e-09 [ 0.98346185]\n",
      "81841 81841 43361 43362 6.65348592522 -76.0999992 -177.599996 -68.400003 -176.699996 7.31 2.53 7.31 2.53 [  2.94239125e-11] 4.55478088043e-09 [ 0.98724479]\n",
      "81988 81991 43481 43483 163.044613203 -219.300002 -254.999995 -215.700001 -257.699996 23.06 1.7 21.8 0.61 [  2.95729015e-10] 2.21794958722e-09 [ 0.78947233]\n",
      "82809 82817 43797 43800 72.3349177099 -813.499987 -895.200014 -809.899986 -893.999994 148.92 4.0 161.41 5.64 [  9.55116491e-13] 1.39621751419e-09 [ 0.99863372]\n",
      "83101 83101 43896 43897 3.98026500877 267.100006 203.899994 272.899985 223.100007 52.32 1.49 52.32 1.49 [  7.83997756e-12] 2.56054158368e-08 [ 0.99938801]\n",
      "83006 83020 43929 43937 112.403206197 -139.1 262.499988 -153.899997 267.800003 56.18 0.51 54.63 0.61 [  1.81527883e-10] 6.41386385217e-09 [ 0.94642761]\n",
      "83591 83599 44127 44131 184.395617982 -915.600002 -1139.19997 -921.199977 -1128.20005 93.4 0.94 94.59 1.85 [  9.88348456e-12] 1.3339414865e-08 [ 0.99852035]\n",
      "83451 83454 44134 44135 12.1950379012 -354.799986 237.599999 -365.3 252.999991 41.59 1.11 42.52 1.67 [  9.14491213e-12] 1.97486287189e-08 [ 0.99907473]\n",
      "84140 84140 44362 44363 0.0 252.600014 -1571.79999 252.600014 -1571.79999 167.29 5.02 167.29 5.02 [ 0.] 6.16644180867e-09 [ 1.]\n",
      "84405 84405 44415 44416 0.0 -473.699987 -1143.90004 -473.699987 -1143.90004 168.54 0.54 168.54 0.54 [ 0.] 5.73153652555e-08 [ 1.]\n",
      "84405 84478 44415 44446 731.759386213 -473.699987 -1143.90004 -480.399996 -1123.29996 168.54 0.54 167.49 0.6 [  5.25473009e-11] 6.53100196124e-09 [ 0.98416319]\n",
      "84405 84478 44416 44446 731.759386213 -473.699987 -1143.90004 -480.399996 -1123.29996 168.54 0.54 167.49 0.6 [  5.24780621e-11] 5.95057648752e-09 [ 0.98266773]\n",
      "84720 84720 44524 44525 9.38228302784 1053.50006 143.999994 972.99999 137.799993 113.61 0.69 113.61 0.69 [  1.55751600e-12] 3.48472427081e-08 [ 0.99991062]\n",
      "6000 2202.56298804\n",
      "85373 85378 44814 44816 67.8744724742 -358.500004 73.8999993 -361.900002 72.0999986 14.04 1.13 14.57 0.87 [  5.68840928e-11] 4.60028226555e-09 [ 0.97586615]\n",
      "85575 85620 44960 44975 193.49564357 1.00000005 -180.600002 1.70000002 -185.100004 22.12 0.56 22.12 0.47 [  4.08711675e-10] 5.7142047148e-09 [ 0.87485152]\n",
      "86247 86247 45110 45111 6.22163327924 -17.7999996 -228.0 -14.1000003 -226.099998 12.82 1.83 12.82 1.83 [  1.84976304e-11] 1.86603731634e-08 [ 0.99802137]\n",
      "86036 86087 45144 45156 737.582441957 265.399992 -520.900011 258.599997 -514.199972 70.47 0.37 70.93 0.95 [  1.40126505e-10] 3.55597399025e-09 [ 0.92694567]\n",
      "86614 86620 45387 45388 30.0640445737 25.3999997 -267.800003 29.3000005 -277.200013 43.79 0.45 43.36 0.51 [  8.37948181e-11] 7.22965254617e-08 [ 0.99768727]\n",
      "86961 86963 45390 45392 21.0458730533 -73.1000006 -268.599987 -77.6000023 -270.099998 68.29 45.19 76.14 17.85 [  1.67793482e-10] 1.08795905581e-09 [ 0.76425984]\n",
      "88601 88601 45899 45900 2.95002516296 276.300013 -1091.79997 442.099988 -1253.00002 196.72 0.83 196.72 0.83 [  1.11481168e-12] 1.36607644545e-08 [ 0.99983681]\n",
      "91605 91605 46857 46858 9.58934649336 82.9999968 -837.199986 86.6999999 -837.499976 42.48 1.11 42.48 1.11 [  4.53042158e-13] 3.45893479324e-08 [ 0.99997381]\n",
      "91768 91772 46947 46948 12.8936520073 -1326.90001 1802.09994 -1393.20004 1845.70003 280.18 2.18 289.48 3.21 [  6.78590431e-13] 7.49961846211e-10 [ 0.9981936]\n",
      "92755 92756 47123 47124 10.5491399176 186.299995 -53.1000011 196.999997 -64.4999966 28.54 1.87 28.72 2.27 [  7.87584232e-11] 1.39677721798e-08 [ 0.98884859]\n",
      "93069 93069 47185 47186 3.08032606271 -2.89999996 -450.199991 30.9999995 -441.599995 81.4 1.95 81.4 1.95 [  8.25859767e-12] 1.83373430782e-08 [ 0.99910007]\n",
      "93873 93899 47424 47430 114.178183018 -473.699987 -350.300014 -479.299992 -333.400011 117.45 2.28 114.25 2.3 [  6.77509409e-11] 1.07271268058e-08 [ 0.98752587]\n",
      "94075 94076 47473 47474 15.9603989656 69.1 196.600005 51.6999997 186.100006 23.48 3.95 19.11 2.35 [  7.01800854e-11] 2.51635864123e-09 [ 0.94716785]\n",
      "94252 94252 47506 47507 4.51256039207 -221.499994 -94.8999971 -245.900005 -101.999998 18.92 1.09 18.92 1.09 [  7.22845185e-11] 8.47922663345e-09 [ 0.98323603]\n",
      "94336 94336 47541 47542 7.48241848425 -184.0 629.299998 -209.5 622.200012 40.9 0.58 40.9 0.58 [  4.14312617e-13] 4.33871369418e-08 [ 0.9999809]\n",
      "94590 94590 47573 47574 8.37835844732 352.200001 388.200015 367.500007 396.299988 28.12 3.37 28.12 3.37 [  2.28141185e-12] 7.80957966283e-09 [ 0.99941608]\n",
      "97096 97099 48107 48108 21.613222868 -20.6000004 -217.700005 -21.8000002 -220.500007 57.48 33.84 14.97 1.37 [  3.41041457e-11] 5.52130760369e-10 [ 0.89004676]\n",
      "96895 96901 48136 48138 39.5559614131 -147.799999 -158.700004 -131.999999 -163.000003 47.44 0.27 47.14 0.27 [  3.41459160e-10] 1.00240708109e-07 [ 0.99323332]\n",
      "97222 97295 48207 48226 791.801044843 18.8999996 -445.800006 23.2999995 -449.900001 47.34 0.82 47.1 0.26 [  6.26855923e-10] 2.49570494677e-09 [ 0.66562484]\n",
      "97292 97292 48223 48224 5.05492061089 464.899987 -392.500013 464.899987 -392.500013 73.46 1.79 73.46 1.79 [  5.95901539e-13] 1.90773482794e-08 [ 0.99993753]\n",
      "97940 97950 48402 48408 162.01295419 -3.00000003 -271.800011 -1.00000005 -269.800007 22.16 1.41 23.43 1.85 [  3.35121443e-10] 2.30619288048e-09 [ 0.77481695]\n",
      "99076 99076 48691 48692 7.09024972544 -159.899995 -86.8000016 -147.200003 -112.000003 12.77 1.61 12.77 1.61 [  1.06637351e-10] 2.70124178318e-09 [ 0.9268233]\n",
      "98967 98967 48749 48750 1.87778675452 202.800006 152.3 202.800006 152.3 14.65 1.17 14.65 1.17 [  1.80926989e-12] 2.69216046393e-08 [ 0.99986561]\n",
      "99550 99572 48864 48868 1021.05682119 195.899993 -197.300002 193.499997 -195.700005 42.36 2.83 36.1 0.41 [  2.21900318e-09] 4.87747561827e-11 [ 0.01087077]\n",
      "101082 101166 49503 49529 214.403255419 67.5000027 220.500007 68.3000013 219.999999 15.69 0.23 14.51 0.5 [  1.91915397e-11] 5.02635989771e-10 [ 0.92905411]\n",
      "102125 102128 49601 49606 16.7399207769 155.699998 -161.699995 164.800003 -172.000006 22.59 2.62 20.6 6.21 [  6.04500316e-11] 4.76773027856e-09 [ 0.97526913]\n",
      "101916 101932 49632 49639 214.053020526 322.2 21.1999994 317.799985 20.0999994 33.2 0.28 34.9 0.82 [  3.69076708e-10] 1.12418871199e-09 [ 0.60364242]\n",
      "102141 102141 49690 49691 3.48931150044 261.299998 -344.799995 286.199987 -377.200007 93.5 3.67 93.5 3.67 [  1.62622380e-11] 9.59915721899e-09 [ 0.99662318]\n",
      "102531 102532 49868 49870 9.09356334416 -1.3 -203.600004 -30.5000003 -198.400006 26.35 1.09 25.82 1.32 [  2.34525126e-10] 8.99762209545e-09 [ 0.95045247]\n",
      "7000 2455.26754403\n",
      "103502 103641 50263 50309 1213.47321674 230.800003 203.799993 231.099993 212.200001 22.78 2.09 24.42 0.56 [  1.50876174e-09] 6.62894163538e-11 [ 0.02149593]\n",
      "103569 103571 50272 50273 10.277988653 -101.999998 -151.999995 -115.599997 -143.900007 18.49 1.35 17.68 1.33 [  1.44673977e-10] 1.06800033892e-08 [ 0.97362215]\n",
      "103824 103824 50404 50405 4.8020142408 -66.9 -219.699994 -81.6999972 -219.600007 22.53 1.01 22.53 1.01 [  5.76097726e-11] 2.43139835091e-08 [ 0.99528353]\n",
      "104214 104217 50559 50560 30.8279998697 4155.09987 3258.89993 4117.09976 3128.00002 286.82 6.78 285.88 0.54 [  3.50669044e-12] 5.92656315426e-09 [ 0.99881802]\n",
      "105312 105312 51024 51025 1.58176105883 -568.300009 -353.700012 -541.100025 -335.599989 55.65 0.62 55.65 0.62 [  1.10177733e-12] 4.52017573299e-08 [ 0.99995125]\n",
      "106350 106353 51475 51476 56.0780372322 -288.399994 -124.1 -279.300004 -124.600001 29.06 3.11 37.17 1.05 [  2.27831577e-10] 8.84920443519e-10 [ 0.6601009]\n",
      "106694 106694 51675 51676 1.67102647946 -181.199998 -167.400002 -189.700007 -169.300005 47.78 2.51 47.78 2.51 [  1.46778149e-11] 1.48582580391e-08 [ 0.99802818]\n",
      "106923 106923 51771 51773 6.83169923475 137.099996 133.900002 137.099996 133.900002 8.55 4.54 8.55 4.54 [  1.29090169e-11] 4.01079522817e-09 [ 0.99360404]\n",
      "107310 107310 51972 51973 2.03373691275 277.399987 -251.100004 277.399987 -251.100004 44.97 0.43 44.97 0.43 [  2.40085131e-12] 8.71231361275e-08 [ 0.99994489]\n",
      "108917 108917 52851 52854 7.99761191465 201.700002 85.9000012 213.9 88.6000022 33.79 1.06 33.79 1.06 [  2.02318248e-11] 3.4781482517e-08 [ 0.99883798]\n",
      "109183 109183 52911 52912 3.6683946899 220.799997 75.1999989 224.399999 72.7000013 15.34 1.46 15.34 1.46 [  6.76183129e-12] 2.45158306956e-08 [ 0.99944867]\n",
      "110922 110922 53928 53929 3.96701296508 16.6999996 -340.299994 16.6999996 -340.299994 49.0 6.47 49.0 6.47 [  1.64023939e-11] 5.85432832454e-09 [ 0.99442771]\n",
      "110960 110960 53956 53957 0.0 191.300005 37.5000015 191.300005 37.5000015 35.5 1.26 35.5 1.26 [ 0.] 2.80853233615e-08 [ 1.]\n",
      "111566 111686 54244 54311 803.493027024 -212.899998 -185.399994 -211.600006 -189.799994 33.93 1.43 33.34 1.58 [  1.26604048e-09] 6.27203011053e-10 [ 0.19852695]\n",
      "111870 111870 54464 54465 3.35718431233 228.400007 -151.899993 227.599993 -164.6 26.9 1.18 26.9 1.18 [  2.74362731e-11] 2.78506652236e-08 [ 0.99803363]\n",
      "112379 112379 54776 54777 0.691336858883 325.899988 93.5999975 325.899988 93.5999975 23.33 2.26 23.33 2.26 [  3.40179526e-13] 1.66557620047e-08 [ 0.99995915]\n",
      "112559 112559 54867 54868 2.19852253996 -200.200006 -313.4 -200.200006 -313.4 31.22 0.92 31.22 0.92 [  2.80614856e-12] 4.18876939298e-08 [ 0.99986603]\n",
      "113191 113190 55240 55241 93.6833478746 -224.099994 57.9000004 -226.500005 55.5000007 20.97 0.84 22.45 0.47 [  1.24160757e-10] 3.61538442682e-09 [ 0.93572971]\n",
      "113280 113280 55326 55327 4.63762816147 215.200007 -180.800006 211.300001 -184.799999 29.28 1.3 29.28 1.3 [  1.48641204e-11] 3.0792496214e-08 [ 0.99903549]\n",
      "113386 113386 55388 55389 9.00457973431 165.5 -281.500012 162.0 -277.59999 16.29 0.99 16.29 0.99 [  1.79496035e-11] 3.8087181942e-08 [ 0.99905833]\n",
      "113602 113605 55532 55535 74.5364321922 191.200003 -344.900012 191.100001 -344.399989 48.45 3.56 49.62 3.2 [  6.53211352e-11] 9.66291957209e-09 [ 0.98666039]\n",
      "114420 114420 56040 56041 4.19753688262 232.199997 56.0000017 236.499995 52.0000011 22.03 0.68 22.03 0.68 [  6.67694338e-12] 5.90734190951e-08 [ 0.999774]\n",
      "114702 114703 56207 56208 25.0703214718 555.999994 -39.5000018 561.29998 -33.5000008 25.6 1.26 39.32 5.46 [  6.92391796e-12] 4.82106860605e-10 [ 0.97207843]\n",
      "114980 114986 56335 56336 69.9392814533 356.299996 -407.200009 358.900011 -412.699997 35.48 1.09 34.73 0.96 [  9.46119826e-12] 2.35215630076e-08 [ 0.99919618]\n",
      "115181 115181 56490 56491 15.1510543018 -208.399996 -132.9 -207.900003 -134.200007 18.13 2.36 18.13 2.36 [  1.83761815e-11] 1.67000013958e-08 [ 0.99780409]\n",
      "8000 2785.52849388\n",
      "115417 115417 56671 56672 5.86608286547 312.5 -11.9000003 314.900011 -10.9000001 26.75 0.62 26.75 0.62 [  5.56525216e-12] 6.0535855262e-08 [ 0.99981617]\n",
      "116132 116132 57135 57136 5.48351528331 543.200016 -44.5999987 602.599978 17.3000004 161.76 1.66 161.76 1.66 [  1.50075838e-11] 1.84421894635e-08 [ 0.99837512]\n",
      "116191 116215 57180 57183 334.167688702 351.999998 -216.100007 343.300015 -218.600005 5.16 34.71 65.98 1.96 [  4.27973210e-10] 5.01056847047e-11 [ 0.05530111]\n",
      "118020 118020 58475 58476 4.02276350616 -265.599996 -66.1000013 -286.900014 -59.9999987 19.24 1.37 19.24 1.37 [  3.58838696e-11] 8.22120148695e-09 [ 0.99134595]\n",
      "Elapsed time: 2868.05720687 seconds\n"
     ]
    }
   ],
   "source": [
    "# Run search for wide binaries\n",
    "p_out = P_posterior.match_binaries(t)"
   ]
  },
  {
   "cell_type": "code",
   "execution_count": 10,
   "metadata": {
    "collapsed": false
   },
   "outputs": [],
   "source": [
    "pickle.dump(p_out, open(\"../data/rNLTT/rNLTT_hipparchos.p\", \"wb\"))"
   ]
  },
  {
   "cell_type": "code",
   "execution_count": 231,
   "metadata": {
    "collapsed": true
   },
   "outputs": [],
   "source": [
    "p_out = pickle.load(open(\"../data/rNLTT/rNLTT_hipparchos.p\", \"rb\"))"
   ]
  },
  {
   "cell_type": "code",
   "execution_count": 11,
   "metadata": {
    "collapsed": false
   },
   "outputs": [
    {
     "name": "stdout",
     "output_type": "stream",
     "text": [
      "118\n"
     ]
    }
   ],
   "source": [
    "# Save only independent matches to p_ind\n",
    "idx = np.where(p_out['ID_1'] != p_out['ID_2'])\n",
    "p_tmp = p_out[idx]\n",
    "tmp_NLTT, idx_NLTT = np.unique(p_tmp['ID_1'], return_index=True)\n",
    "p_ind = p_tmp[idx_NLTT]\n",
    "\n",
    "print len(p_ind)"
   ]
  },
  {
   "cell_type": "markdown",
   "metadata": {},
   "source": [
    "### Now, let's look at the 118 independent matches"
   ]
  },
  {
   "cell_type": "code",
   "execution_count": 14,
   "metadata": {
    "collapsed": false
   },
   "outputs": [
    {
     "data": {
      "image/png": "[encoded data removed]",
      "text/plain": [
       "<matplotlib.figure.Figure at 0x1142ad690>"
      ]
     },
     "metadata": {},
     "output_type": "display_data"
    }
   ],
   "source": [
    "fig, ax = plt.subplots(2,2, figsize=(10,6))\n",
    "\n",
    "# P_posterior\n",
    "bins = np.linspace(0.0, 1.0, 30)\n",
    "ax[0,0].hist(p_ind['P_posterior'][p_ind['P_posterior']>0.5], histtype='step', bins=bins, color='k', label=r'$P\\ (C_2|\\vec{x}_i, \\vec{x}_j)\\ >\\ 50\\%$')\n",
    "ax[0,0].hist(p_ind['P_posterior'][p_ind['P_posterior']<0.5], histtype='step', bins=bins, color='r', label=r'$P\\ (C_2|\\vec{x}_i, \\vec{x}_j)\\ <\\ 50\\%$')\n",
    "ax[0,0].set_ylim(0,65)\n",
    "ax[0,0].set_xlabel(r'$P\\ (C_2|\\vec{x}_i, \\vec{x}_j)$', fontsize=12)\n",
    "ax[0,0].set_ylabel(r'$N$', fontsize=12)\n",
    "ax[0,0].legend(loc=2)\n",
    "\n",
    "# Theta vs. Delta Mu\n",
    "delta_mu_ra = p_ind['mu_ra_1'] - p_ind['mu_ra_2']\n",
    "delta_mu_dec = p_ind['mu_dec_1'] - p_ind['mu_dec_2']\n",
    "delta_mu = np.sqrt(delta_mu_ra**2 + delta_mu_dec**2)\n",
    "ax[0,1].scatter(p_ind['theta'][p_ind['P_posterior']>0.5]*3600.0, delta_mu[p_ind['P_posterior']>0.5], color='k', label=r'$P\\ (C_2|\\vec{x}_i, \\vec{x}_j)\\ >\\ 50\\%$')\n",
    "ax[0,1].scatter(p_ind['theta'][p_ind['P_posterior']<0.5]*3600.0, delta_mu[p_ind['P_posterior']<0.5], color='r', label=r'$P\\ (C_2|\\vec{x}_i, \\vec{x}_j)\\ <\\ 50\\%$')\n",
    "ax[0,1].set_xlim(5.0, 2000.0)\n",
    "ax[0,1].set_ylim(0.1, 5000.0)\n",
    "ax[0,1].set_xscale('log')\n",
    "ax[0,1].set_yscale('log')\n",
    "ax[0,1].legend()\n",
    "ax[0,1].set_xlabel(r'$\\theta\\ ({\\rm asec})$', fontsize=12)\n",
    "ax[0,1].set_ylabel(r'$\\Delta\\ \\mu\\ ({\\rm mas\\ yr}^{-1})$', fontsize=12)\n",
    "\n",
    "\n",
    "# Mu\n",
    "mu_1 = np.sqrt(p_ind['mu_ra_1']**2 + p_ind['mu_dec_1']**2)\n",
    "mu_2 = np.sqrt(p_ind['mu_ra_2']**2 + p_ind['mu_dec_2']**2)\n",
    "bins = 10**np.linspace(2.0, 4.0, 30)\n",
    "ax[1,0].hist(mu_1[p_ind['P_posterior']>0.5], histtype='step', bins=bins, color='k')\n",
    "ax[1,0].hist(mu_1[p_ind['P_posterior']<0.5], histtype='step', bins=bins, color='r')\n",
    "ax[1,0].set_xscale('log')\n",
    "ax[1,0].set_xlabel(r\"$\\mu\\ ({\\rm mas\\ yr}^{-1})$\", fontsize=12)\n",
    "ax[1,0].set_ylim(0.0, 15.0)\n",
    "ax[1,0].set_ylabel(r'$N$', fontsize=12)\n",
    "\n",
    "\n",
    "# Parallax\n",
    "bins = 10**np.linspace(0.5, 3.0, 30)\n",
    "ax[1,1].hist(p_ind['plx_1'][p_ind['P_posterior']>0.5], histtype='step', bins=bins, color='k')\n",
    "ax[1,1].hist(p_ind['plx_1'][p_ind['P_posterior']<0.5], histtype='step', bins=bins, color='r')\n",
    "ax[1,1].set_xscale('log')\n",
    "ax[1,1].set_xlim(10**0.5, 10**3.0)\n",
    "ax[1,1].set_ylim(0.0, 18.0)\n",
    "ax[1,1].set_xlabel(r\"$\\pi\\ ({\\rm mas})$\", fontsize=12)\n",
    "ax[1,1].set_ylabel(r'$N$', fontsize=12)\n",
    "\n",
    "plt.tight_layout()\n",
    "plt.savefig('../figures/rNLTT_hipparchos.pdf')\n",
    "#plt.show()"
   ]
  },
  {
   "cell_type": "markdown",
   "metadata": {},
   "source": [
    "### Calculate probabilities of Chaname & Gould pairs"
   ]
  },
  {
   "cell_type": "code",
   "execution_count": 25,
   "metadata": {
    "collapsed": false,
    "scrolled": true
   },
   "outputs": [
    {
     "name": "stdout",
     "output_type": "stream",
     "text": [
      "[8067] [8069] [ 0.08975509] [ 0.08487763]\n",
      "[9971] [9972] [ 0.98833554] [ 0.98847044]\n",
      "[10303] [10305] [ 0.95657227] [ 0.9575826]\n",
      "[11134] [11137] [ 0.99806555] [ 0.99787357]\n",
      "[14589] [14593] [ 0.38811832] [ 0.41504797]\n",
      "[15526] [15527] [ 0.86219516] [ 0.8638942]\n",
      "[16858] [16860] [ 0.97377171] [ 0.97502713]\n",
      "[17405] [17414] [ 0.95316146] [ 0.94905177]\n",
      "[24035] [24046] [ 0.68178681] [ 0.66540564]\n",
      "[26779] [26801] [ 0.99806491] [ 0.99796649]\n",
      "[34407] [34426] [ 0.71482433] [ 0.70299278]\n",
      "[36627] [36626] [ 0.98574534] [ 0.9860186]\n",
      "[37670] [37671] [ 0.04472707] [ 0.0477765]\n",
      "[41181] [41184] [ 0.98785352] [ 0.98533731]\n",
      "[45343] [120005] [ 0.99801232] [ 0.99795334]\n",
      "[47040] [47050] [ 0.48097389] [ 0.42812747]\n",
      "[47620] [47650] [ 0.99475614] [ 0.99533688]\n",
      "[48785] [48786] [ 0.9974934] [ 0.99740799]\n",
      "[52469] [52498] [ 0.74731539] [ 0.751156]\n",
      "[54681] [54692] [ 0.69186471] [ 0.69527721]\n",
      "[57019] [57020] [ 0.94016819] [ 0.93905012]\n",
      "[58067] [58073] [ 0.99374124] [ 0.9933323]\n",
      "[62471] [62472] [ 0.94720042] [ 0.95022771]\n",
      "[63121] [63125] [ 0.53515527] [ 0.54379676]\n",
      "[65011] [65012] [ 0.99359262] [ 0.99274703]\n",
      "[73182] [73184] [ 0.99668376] [ 0.9965676]\n",
      "[74235] [74234] [ 0.9985823] [ 0.99844713]\n",
      "[74432] [74434] [ 0.27560716] [ 0.30631276]\n",
      "[74368] [74370] [ 0.99559056] [ 0.99586538]\n",
      "[75809] [75829] [ 0.99932276] [ 0.99933564]\n",
      "[78139] [78158] [ 0.20116959] [ 0.19302472]\n",
      "[80870] [80868] [ 0.98382879] [ 0.98172014]\n",
      "[83451] [83454] [ 0.99909245] [ 0.99902523]\n",
      "[85373] [85378] [ 0.97485148] [ 0.97623958]\n",
      "[85575] [85620] [ 0.87535879] [ 0.87644173]\n",
      "[86961] [86963] [ 0.80872977] [ 0.79608384]\n",
      "[94075] [94076] [ 0.95145764] [ 0.94831781]\n",
      "[102531] [102532] [ 0.94912182] [ 0.94922391]\n",
      "[104214] [104217] [ 0.99903156] [ 0.99899054]\n",
      "[106350] [106353] [ 0.66526299] [ 0.5912895]\n",
      "[113602] [113605] [ 0.9853645] [ 0.98613586]\n",
      "[114702] [114703] [ 0.97134583] [ 0.97217588]\n",
      "[115470] [115473] [ 0.38694232] [ 0.41333747]\n",
      "[116191] [116215] [ 0.06236815] [ 0.09044699]\n"
     ]
    }
   ],
   "source": [
    "P_binary.generate_binary_set(num_sys=100000)\n",
    "\n",
    "#print CG_pairs_hip.dtype\n",
    "\n",
    "# Generate random alignment KDEs using first entry as a test position\n",
    "P_random.mu_kde = None\n",
    "P_random.pos_kde = None\n",
    "pos_density = P_random.get_sigma_pos(t['ra'][0], t['dec'][0], catalog=t, method='kde')\n",
    "pm_density = P_random.get_sigma_mu(t['mu_ra'][0], t['mu_dec'][0], catalog=t, method='kde')\n",
    "\n",
    "\n",
    "\n",
    "dtype = [('i_1','i4'),('i_2','i4'),('ID_1','i4'),('ID_2','i4'),('P_random','f8'),('P_binary','f8'), \\\n",
    "         ('P_posterior','f8'),('theta','f8'), ('mu_ra_1','f8'), ('mu_dec_1','f8'), ('mu_ra_2','f8'), \\\n",
    "         ('mu_dec_2','f8'), ('plx_1','f8'), ('plx_2','f8')]\n",
    "\n",
    "CG_pairs_hip_all = np.zeros(len(CG_pairs_hip), dtype=dtype)\n",
    "\n",
    "\n",
    "for i in np.arange(len(CG_pairs_hip)):\n",
    "    \n",
    "    id1 = np.where(CG_pairs_hip['NLTT-A'][i] == t['NLTT'])[0]\n",
    "    id2 = np.where(CG_pairs_hip['NLTT-B'][i] == t['NLTT'])[0]\n",
    "\n",
    "    star1 = t['ra'][id1], t['dec'][id1], t['mu_ra'][id1], t['mu_dec'][id1], t['mu_ra_err'][id1], t['mu_dec_err'][id1]\n",
    "    star2 = t['ra'][id2], t['dec'][id2], t['mu_ra'][id2], t['mu_dec'][id2], t['mu_ra_err'][id2], t['mu_dec_err'][id2]\n",
    "\n",
    "\n",
    "    prob_posterior, prob_random, prob_binary = P_posterior.calc_P_posterior(star1, star2, pos_density, pm_density, id1, id2, t)\n",
    "\n",
    "    theta = P_random.get_theta_proj_degree(t['ra'][id1], t['dec'][id1], t['ra'][id2], t['dec'][id2])\n",
    "    \n",
    "    prob_posterior1 = prob_posterior\n",
    "    \n",
    "    \n",
    "    # Check, by going backwards\n",
    "    star1 = t['ra'][id2], t['dec'][id2], t['mu_ra'][id2], t['mu_dec'][id2], t['mu_ra_err'][id2], t['mu_dec_err'][id2]\n",
    "    star2 = t['ra'][id1], t['dec'][id1], t['mu_ra'][id1], t['mu_dec'][id1], t['mu_ra_err'][id1], t['mu_dec_err'][id1]\n",
    "\n",
    "    prob_posterior, prob_random, prob_binary = P_posterior.calc_P_posterior(star1, star2, pos_density, pm_density, id1, id2, t)\n",
    "\n",
    "    prob_posterior2 = prob_posterior\n",
    "\n",
    "    \n",
    "    print t['ID'][id1], t['ID'][id2], prob_posterior1, prob_posterior2\n",
    "\n",
    "    \n",
    "    # Use first version\n",
    "    prob_posterior = prob_posterior1\n",
    "    \n",
    "    CG_pairs_hip_all[i] = id1, id2, t['ID'][id1], t['ID'][id2], prob_random, prob_binary, prob_posterior, theta, \\\n",
    "                   t['mu_ra'][id1], t['mu_dec'][id1], t['mu_ra'][id2], t['mu_dec'][id2], t['plx'][id1], \\\n",
    "                   t['plx'][id2]"
   ]
  },
  {
   "cell_type": "markdown",
   "metadata": {},
   "source": [
    "### Compare with Pairs in the Chaname & Gould (2004) catalog"
   ]
  },
  {
   "cell_type": "code",
   "execution_count": 121,
   "metadata": {
    "collapsed": false
   },
   "outputs": [
    {
     "name": "stdout",
     "output_type": "stream",
     "text": [
      "Matched Pairs: 36\n",
      "New Pairs: 63\n",
      "Rejected Pairs: 19\n"
     ]
    }
   ],
   "source": [
    "idx_match = np.array([], dtype='i8')\n",
    "idx_new = np.array([], dtype='i8')\n",
    "idx_bad = np.array([], dtype='i8')\n",
    "\n",
    "for i in np.arange(len(p_ind)):\n",
    "    \n",
    "    id1 = np.where(CG_pairs_hip['NLTT-A'] == t['NLTT'][p_ind['i_1'][i]])[0]\n",
    "    id2 = np.where(CG_pairs_hip['NLTT-B'] == t['NLTT'][p_ind['i_2'][i]])[0]\n",
    "    \n",
    "    if len(id1) != 0 and len(id2) != 0 and id1 == id2 and p_ind['P_posterior'][i]>0.5:\n",
    "#    if len(id1) != 0 and len(id2) != 0 and id1 == id2:\n",
    "        idx_match = np.append(idx_match, i)\n",
    "    elif p_ind['P_posterior'][i]>0.5:\n",
    "        idx_new = np.append(idx_new, i)\n",
    "    else:\n",
    "        idx_bad = np.append(idx_bad, i)\n",
    "        \n",
    "print \"Matched Pairs:\", len(idx_match)\n",
    "print \"New Pairs:\", len(idx_new)\n",
    "print \"Rejected Pairs:\", len(idx_bad)"
   ]
  },
  {
   "cell_type": "markdown",
   "metadata": {},
   "source": [
    "### Compare probabilities for matched pairs from both methods"
   ]
  },
  {
   "cell_type": "code",
   "execution_count": 31,
   "metadata": {
    "collapsed": false
   },
   "outputs": [
    {
     "name": "stdout",
     "output_type": "stream",
     "text": [
      "36\n",
      "44\n",
      "5738 5740 0.0897550949723 26.74 14.4261464016\n",
      "0.988335535453 [ 0.98821997]\n",
      "0.9565722661 [ 0.95796643]\n",
      "0.99806555073 [ 0.99792061]\n",
      "10007 10008 0.388118316543 16.86 6.57231313922\n",
      "0.862195158632 [ 0.86865922]\n",
      "0.973771705799 [ 0.97631088]\n",
      "0.95316146418 [ 0.94830705]\n",
      "0.68178681495 [ 0.66678265]\n",
      "0.998064905445 [ 0.99802267]\n",
      "0.714824327826 [ 0.71494308]\n",
      "0.985745338234 [ 0.98699211]\n",
      "18346 18347 0.0447270676248 16.6 6.69077723437\n",
      "0.987853522339 [ 0.98681256]\n",
      "0.998012315228 [ 0.99801183]\n",
      "22121 22125 0.480973889537 4.98 3.31126863906\n",
      "0.994756140149 [ 0.99437848]\n",
      "0.997493402517 [ 0.99748796]\n",
      "0.747315389556 [ 0.74964566]\n",
      "0.691864713979 [ 0.69385287]\n",
      "0.940168187536 [ 0.93644776]\n",
      "0.99374123509 [ 0.99330385]\n",
      "0.947200422778 [ 0.95532736]\n",
      "0.535155274028 [ 0.55826546]\n",
      "0.993592621176 [ 0.9926599]\n",
      "0.99668375867 [ 0.99672592]\n",
      "0.998582295528 [ 0.99850366]\n",
      "39601 39603 0.275607155012 15.22 3.69237051229\n",
      "0.995590561489 [ 0.99596285]\n",
      "0.999322756211 [ 0.99933099]\n",
      "41622 41631 0.201169593537 1.06 3.33516116552\n",
      "0.983828791516 [ 0.98346185]\n",
      "0.999092447752 [ 0.99907473]\n",
      "0.974851481653 [ 0.97586615]\n",
      "0.875358791397 [ 0.87485152]\n",
      "0.808729773929 [ 0.76425984]\n",
      "0.951457643007 [ 0.94716785]\n",
      "0.9491218152 [ 0.95045247]\n",
      "0.99903155724 [ 0.99881802]\n",
      "0.665262994773 [ 0.6601009]\n",
      "0.985364500014 [ 0.98666039]\n",
      "0.971345827217 [ 0.97207843]\n",
      "56707 56708 0.386942316274 8.68 2.47040482512\n",
      "57180 57183 0.0623681506292 60.82 34.765294476\n"
     ]
    }
   ],
   "source": [
    "print len(np.where(CG_pairs_hip_all['P_posterior']>0.5)[0])\n",
    "print len(CG_pairs_hip_all)\n",
    "\n",
    "for i in np.arange(len(CG_pairs_hip_all)):\n",
    "\n",
    "    # ID_1 and ID_2 are Hipparchos IDs\n",
    "    id1 = np.where(CG_pairs_hip_all['ID_1'][i] == p_ind['ID_1'][idx_match])[0]\n",
    "    id2 = np.where(CG_pairs_hip_all['ID_2'][i] == p_ind['ID_2'][idx_match])[0]\n",
    "\n",
    "    if len(id1) != 0 and len(id2) != 0 and id1 == id2:\n",
    " \n",
    "        print CG_pairs_hip_all['P_posterior'][i], p_ind['P_posterior'][idx_match][id1]\n",
    "\n",
    "    else:\n",
    "        \n",
    "        plx_err = np.sqrt(t['plx_err'][CG_pairs_hip_all['i_1'][i]]**2 + t['plx_err'][CG_pairs_hip_all['i_2'][i]]**2)\n",
    "        print t['NLTT'][CG_pairs_hip_all['i_1'][i]], t['NLTT'][CG_pairs_hip_all['i_2'][i]], CG_pairs_hip_all['P_posterior'][i], \\\n",
    "            np.abs(t['plx'][CG_pairs_hip_all['i_1'][i]]-t['plx'][CG_pairs_hip_all['i_2'][i]]), plx_err"
   ]
  },
  {
   "cell_type": "markdown",
   "metadata": {},
   "source": [
    "### Compare our matches with those from CG 04"
   ]
  },
  {
   "cell_type": "code",
   "execution_count": 46,
   "metadata": {
    "collapsed": false
   },
   "outputs": [
    {
     "data": {
      "image/png": "[encoded data removed]",
      "text/plain": [
       "<matplotlib.figure.Figure at 0x11503d8d0>"
      ]
     },
     "metadata": {},
     "output_type": "display_data"
    }
   ],
   "source": [
    "fig, ax = plt.subplots(2,2, figsize=(10,6))\n",
    "\n",
    "id1 = CG_pairs_hip_all['i_1']\n",
    "id2 = CG_pairs_hip_all['i_2']\n",
    "\n",
    "\n",
    "# P_posterior\n",
    "bins = np.linspace(0.0, 1.0, 30)\n",
    "ax[0,0].hist(CG_pairs_hip_all['P_posterior'], histtype='step', bins=bins, color='k', label='CG04 Pairs')\n",
    "#ax[0,0].hist(p_ind['P_posterior'][idx_match], histtype='step', bins=bins, color='k', label='CG04 Pairs')\n",
    "ax[0,0].hist(p_ind['P_posterior'][idx_new], histtype='step', bins=bins, color='r', label='New Pairs')\n",
    "ax[0,0].set_ylim(0,42)\n",
    "ax[0,0].set_yticks(np.linspace(0,40,5))\n",
    "ax[0,0].set_xlabel(r'$P\\ (C_2|\\vec{x}_i, \\vec{x}_j)$', fontsize=12)\n",
    "ax[0,0].set_ylabel(r'$N$', fontsize=12)\n",
    "ax[0,0].legend(loc=2)\n",
    "\n",
    "# Theta vs. Delta Mu\n",
    "delta_mu_ra = p_ind['mu_ra_1'] - p_ind['mu_ra_2']\n",
    "delta_mu_dec = p_ind['mu_dec_1'] - p_ind['mu_dec_2']\n",
    "delta_mu = np.sqrt(delta_mu_ra**2 + delta_mu_dec**2)\n",
    "#ax[0,1].scatter(p_ind['theta'][idx_match]*3600.0, delta_mu[idx_match], color='k', label='CG04 Pairs')\n",
    "ax[0,1].scatter(p_ind['theta'][idx_new]*3600.0, delta_mu[idx_new], color='r', label='New Pairs', s=5)\n",
    "delta_mu_ra = t['mu_ra'][id1] - t['mu_ra'][id2]\n",
    "delta_mu_dec = t['mu_dec'][id1] - t['mu_dec'][id2]\n",
    "delta_mu = np.sqrt(delta_mu_ra**2 + delta_mu_dec**2)\n",
    "ax[0,1].scatter(CG_pairs_hip_all['theta'][CG_pairs_hip_all['P_posterior']>0.5]*3600.0, \\\n",
    "                delta_mu[CG_pairs_hip_all['P_posterior']>0.5], color='k', label='Detected CG04 Pairs', s=5)\n",
    "ax[0,1].scatter(CG_pairs_hip_all['theta'][CG_pairs_hip_all['P_posterior']<0.5]*3600.0, \\\n",
    "                delta_mu[CG_pairs_hip_all['P_posterior']<0.5], edgecolor='k', facecolor='none', label='Rejected CG04 Pairs')\n",
    "ax[0,1].set_xlim(5.0, 2000.0)\n",
    "ax[0,1].set_ylim(0.1, 5000.0)\n",
    "ax[0,1].set_xscale('log')\n",
    "ax[0,1].set_yscale('log')\n",
    "ax[0,1].legend()\n",
    "ax[0,1].set_xlabel(r'$\\theta\\ ({\\rm asec})$', fontsize=12)\n",
    "ax[0,1].set_ylabel(r'$\\Delta\\ \\mu\\ ({\\rm mas\\ yr}^{-1})$', fontsize=12)\n",
    "\n",
    "\n",
    "# Mu\n",
    "mu_1 = np.sqrt(p_ind['mu_ra_1']**2 + p_ind['mu_dec_1']**2)\n",
    "mu_2 = np.sqrt(p_ind['mu_ra_2']**2 + p_ind['mu_dec_2']**2)\n",
    "bins = 10**np.linspace(2.0, 4.0, 30)\n",
    "ax[1,0].hist(mu_1[idx_match], histtype='step', bins=bins, color='k')\n",
    "ax[1,0].hist(mu_1[idx_new], histtype='step', bins=bins, color='r')\n",
    "ax[1,0].set_xscale('log')\n",
    "ax[1,0].set_xlabel(r\"$\\mu\\ ({\\rm mas\\ yr}^{-1})$\", fontsize=12)\n",
    "ax[1,0].set_ylim(0.0, 15.0)\n",
    "ax[1,0].set_ylabel(r'$N$', fontsize=12)\n",
    "\n",
    "\n",
    "# Parallax\n",
    "bins = 10**np.linspace(0.5, 3.0, 30)\n",
    "ax[1,1].hist(p_ind['plx_1'][idx_match], histtype='step', bins=bins, color='k')\n",
    "ax[1,1].hist(p_ind['plx_1'][idx_new], histtype='step', bins=bins, color='r')\n",
    "ax[1,1].set_xscale('log')\n",
    "ax[1,1].set_xlim(10**0.5, 10**3.0)\n",
    "ax[1,1].set_ylim(0.0, 14.0)\n",
    "ax[1,1].set_xlabel(r\"$\\pi\\ ({\\rm mas})$\", fontsize=12)\n",
    "ax[1,1].set_ylabel(r'$N$', fontsize=12)\n",
    "\n",
    "plt.tight_layout()\n",
    "plt.savefig('../figures/rNLTT_hipparchos_CG04_compare.pdf')\n",
    "#plt.show()\n"
   ]
  },
  {
   "cell_type": "markdown",
   "metadata": {},
   "source": [
    "### Let's look at the new pairs"
   ]
  },
  {
   "cell_type": "code",
   "execution_count": 53,
   "metadata": {
    "collapsed": false
   },
   "outputs": [
    {
     "data": {
      "image/png": "[encoded data removed]",
      "text/plain": [
       "<matplotlib.figure.Figure at 0x11ef1de10>"
      ]
     },
     "metadata": {},
     "output_type": "display_data"
    }
   ],
   "source": [
    "fig, ax = plt.subplots(1, 2, figsize=(10,4))\n",
    "\n",
    "ax[0].scatter(p_ind['theta'][idx_new], 1.0e3/p_ind['plx_1'][idx_new])\n",
    "\n",
    "mu_1 = np.sqrt(p_ind['mu_ra_1']**2 + p_ind['mu_dec_1']**2)\n",
    "ax[1].scatter(p_ind['theta'][idx_new], mu_1[idx_new])\n",
    "\n",
    "ax[0].set_xlim(0, 0.25)\n",
    "ax[0].set_ylim(0, 140)\n",
    "ax[0].set_xlabel(r'$\\theta\\ ({\\rm deg.})$', fontsize=12)\n",
    "ax[0].set_ylabel(r'${\\rm Dist}\\ ({\\rm pc})$', fontsize=12)\n",
    "\n",
    "ax[1].set_xlim(0, 0.25)\n",
    "ax[1].set_ylim(0, 4000)\n",
    "ax[1].set_xlabel(r'$\\theta\\ ({\\rm deg.})$', fontsize=12)\n",
    "ax[1].set_ylabel(r'$\\mu\\ ({\\rm mas\\ yr}^{-1})$', fontsize=12)\n",
    "\n",
    "plt.tight_layout()\n",
    "plt.show()"
   ]
  },
  {
   "cell_type": "code",
   "execution_count": 83,
   "metadata": {
    "collapsed": false
   },
   "outputs": [
    {
     "name": "stdout",
     "output_type": "stream",
     "text": [
      " 63 of 63 new pairs lack B band photometry\n"
     ]
    }
   ],
   "source": [
    "id1 = p_ind['i_1'][idx_new]\n",
    "id2 = p_ind['i_2'][idx_new]\n",
    "\n",
    "N_no_B_photo = 0\n",
    "for i in np.arange(len(id1)):\n",
    "    if t['B'][id1[i]] == 0.0 or t['B'][id2[i]] == 0.0:\n",
    "        N_no_B_photo = N_no_B_photo + 1\n",
    "\n",
    "print N_no_B_photo, \"of\", len(id1), \"new pairs lack B band photometry\""
   ]
  },
  {
   "cell_type": "markdown",
   "metadata": {},
   "source": [
    "### Now, an RPM diagram of the new pairs"
   ]
  },
  {
   "cell_type": "code",
   "execution_count": 151,
   "metadata": {
    "collapsed": false
   },
   "outputs": [
    {
     "name": "stderr",
     "output_type": "stream",
     "text": [
      "/Library/Python/2.7/site-packages/ipykernel/__main__.py:62: RuntimeWarning: divide by zero encountered in double_scalars\n"
     ]
    },
    {
     "data": {
      "image/png": "[encoded data removed]",
      "text/plain": [
       "<matplotlib.figure.Figure at 0x11aa19350>"
      ]
     },
     "metadata": {},
     "output_type": "display_data"
    }
   ],
   "source": [
    "from astropy import units as u\n",
    "from astropy.coordinates import SkyCoord\n",
    "\n",
    "fig = plt.figure(figsize=(5,5))\n",
    "\n",
    "\n",
    "for i in np.random.randint(len(t), size=2):\n",
    "\n",
    "    id3 = np.where(t['ID'][i] == hip['HIP'])[0]\n",
    "\n",
    "    BV = hip['B-V'][id3]\n",
    "\n",
    "    ra_1, dec_1 = t['ra'][i], t['dec'][i]\n",
    "    # Positions (Galactic)\n",
    "    c_1 = SkyCoord(ra=ra_1*u.degree, dec=dec_1*u.degree, frame='icrs')\n",
    "    b_1 = c_1.galactic.b.radian\n",
    "\n",
    "    mu_ra1, mu_dec1 = t['mu_ra'][i], t['mu_dec'][i]\n",
    "    mu_1 = np.sqrt(mu_ra1**2 + mu_dec1**2) / 1.0e3 # in asec/yr\n",
    "\n",
    "    eta_rpm_1 = t['V'][i] + 5.0 * np.log10(mu_1) - 1.47 * np.abs(np.sin(b_1)) - 2.73\n",
    "\n",
    "    if BV == 0.0: continue\n",
    "    \n",
    "    plt.scatter(BV, eta_rpm_1, marker='.', facecolors='none', edgecolors='k', alpha=0.1)\n",
    "\n",
    "\n",
    "\n",
    "id1 = p_ind['i_1'][idx_new]\n",
    "id2 = p_ind['i_2'][idx_new]\n",
    "\n",
    "# Identified pairs\n",
    "slope = np.zeros(len(id1))\n",
    "length = np.zeros(len(id1))\n",
    "for i in np.arange(len(id1)):\n",
    "    id3 = np.where(t['ID'][id1[i]] == hip['HIP'])[0]\n",
    "    id4 = np.where(t['ID'][id2[i]] == hip['HIP'])[0]\n",
    "    \n",
    "    BV_1 = hip['B-V'][id3][0]\n",
    "    BV_2 = hip['B-V'][id4][0]\n",
    "    BV_err_1 = hip['e_B-V'][id3][0]\n",
    "    BV_err_2 = hip['e_B-V'][id4][0]\n",
    "    \n",
    "    ra_1, dec_1 = t['ra'][id1[i]], t['dec'][id1[i]]\n",
    "    ra_2, dec_2 = t['ra'][id2[i]], t['dec'][id2[i]]\n",
    "    # Positions (Galactic)\n",
    "    c_1 = SkyCoord(ra=ra_1*u.degree, dec=dec_1*u.degree, frame='icrs')\n",
    "    c_2 = SkyCoord(ra=ra_2*u.degree, dec=dec_2*u.degree, frame='icrs')\n",
    "    b_1 = c_1.galactic.b.radian\n",
    "    b_2 = c_2.galactic.b.radian\n",
    "\n",
    "    mu_ra1, mu_dec1 = t['mu_ra'][id1[i]], t['mu_dec'][id1[i]]\n",
    "    mu_ra2, mu_dec2 = t['mu_ra'][id2[i]], t['mu_dec'][id2[i]]\n",
    "    mu_1 = np.sqrt(mu_ra1**2 + mu_dec1**2) / 1.0e3 # in asec/yr\n",
    "    mu_2 = np.sqrt(mu_ra2**2 + mu_dec2**2) / 1.0e3 # in asec/yr\n",
    "    \n",
    "    eta_rpm_1 = t['V'][id1[i]] + 5.0 * np.log10(mu_1) - 1.47 * np.abs(np.sin(b_1)) - 2.73\n",
    "    eta_rpm_2 = t['V'][id2[i]] + 5.0 * np.log10(mu_2) - 1.47 * np.abs(np.sin(b_2)) - 2.73\n",
    "    \n",
    "    if BV_1 == 0.0 or BV_2 == 0.0: continue\n",
    "        \n",
    "    slope[i] = (eta_rpm_2 - eta_rpm_1) / (BV_2 - BV_1)\n",
    "    length[i] = np.sqrt((eta_rpm_2 - eta_rpm_1)**2 + (BV_2 - BV_1)**2)\n",
    "        \n",
    "    if np.arctan(slope[i]) < 0.0 and length[i] > 0.25:\n",
    "#         print np.arctan(slope[i]) * 180./np.pi, length[i], t['V'][id1[i]], t['V'][id2[i]], t['NLTT'][id1[i]], t['NLTT'][id2[i]]\n",
    "        plt.plot([BV_1, BV_2], [eta_rpm_1, eta_rpm_2], color='r')\n",
    "        plt.scatter(BV_1, eta_rpm_1, marker='o', facecolors='none', edgecolors='r')\n",
    "        plt.scatter(BV_2, eta_rpm_2, marker='o', facecolors='none', edgecolors='r')\n",
    "    else:\n",
    "        plt.plot([BV_1, BV_2], [eta_rpm_1, eta_rpm_2], color='k')\n",
    "        plt.scatter(BV_1, eta_rpm_1, marker='o', facecolors='none', edgecolors='k')\n",
    "        plt.scatter(BV_2, eta_rpm_2, marker='o', facecolors='none', edgecolors='k')\n",
    "\n",
    "\n",
    "# for i in np.arange(len(slope)):\n",
    "#     if np.arctan(slope[i]) < 0.0 and length[i] > 0.25:\n",
    "#         print np.arctan(slope[i]) * 180./np.pi, length[i], BV_err_1[i], BV_err_2[i]\n",
    "    \n",
    "plt.xlim(-0.5, 2.0)\n",
    "plt.ylim(11.0, -4.0)\n",
    "\n",
    "plt.xlabel('B-V')\n",
    "plt.ylabel(r'V$_{\\rm RPM}$ - 1.47 |sin(b)| - 2.73')\n",
    "\n",
    "plt.tight_layout()\n",
    "plt.savefig('../figures/rNLTT_hipparchos_CG04_rpm.pdf')\n",
    "#plt.show()"
   ]
  },
  {
   "cell_type": "markdown",
   "metadata": {},
   "source": [
    "Systems with \"Bad\" RPMs\n",
    "\n",
    "\n",
    "\n",
    "Identified in rNLTT as a binary\n",
    "\n",
    "6664/6665 \n",
    "\n",
    "6986/6991 \n",
    "\n",
    "26064/26065\n",
    "\n",
    "29901/29903\n",
    "\n",
    "\n",
    "\n",
    "Unidentified in rNLTT as a binary\n",
    "\n",
    "49503/49529 "
   ]
  },
  {
   "cell_type": "markdown",
   "metadata": {},
   "source": [
    "### Now, let's look at the 8 rejected CG04 pairs"
   ]
  },
  {
   "cell_type": "code",
   "execution_count": 163,
   "metadata": {
    "collapsed": false
   },
   "outputs": [
    {
     "name": "stdout",
     "output_type": "stream",
     "text": [
      "Probabilities: 0.0897550949723 9.15502394676e-11 4.93532081427e-10\n",
      "Theta: 20.0028367678\n",
      "Parallax: 21.11 -5.63 3.44 14.01\n",
      "Proper Motions: 252.299994 275.900006 -3.59999994 24.2999997\n",
      "\n",
      "Probabilities: 0.388118316543 3.04538593575e-10 2.14602265735e-10\n",
      "Theta: 25.6851711513\n",
      "Parallax: 48.29 31.43 6.07 2.52\n",
      "Proper Motions: -9.70000029 -14.3999998 -174.099997 -167.500004\n",
      "\n",
      "Probabilities: 0.0447270676248 7.1846513157e-12 7.15978935544e-11\n",
      "Theta: 11.8767047718\n",
      "Parallax: 7.75 -8.85 3.52 5.69\n",
      "Proper Motions: -175.099999 -169.599995 -294.800013 -305.599988\n",
      "\n",
      "Probabilities: 0.480973889537 5.76777494779e-10 3.85216113165e-10\n",
      "Theta: 91.7884078032\n",
      "Parallax: 12.17 17.15 2.91 1.58\n",
      "Proper Motions: -93.0999964 -91.3000032 -175.400004 -175.600007\n",
      "\n",
      "Probabilities: 0.275607155012 3.29510555887e-12 3.73110908954e-12\n",
      "Theta: 23.3895471501\n",
      "Parallax: 36.71 21.49 1.44 3.4\n",
      "Proper Motions: -594.900012 -594.900012 296.299994 283.499986\n",
      "\n",
      "Probabilities: 0.201169593537 4.03992616753e-10 8.44482659936e-10\n",
      "Theta: 186.826620028\n",
      "Parallax: 20.64 21.7 2.23 2.48\n",
      "Proper Motions: -239.800006 -229.599997 114.799999 115.000002\n",
      "\n",
      "Probabilities: 0.386942316274 4.72309749977e-11 3.35181841789e-11\n",
      "Theta: 25.8037488296\n",
      "Parallax: 31.52 22.84 1.02 2.25\n",
      "Proper Motions: 180.999994 183.599994 -13.0000003 -10.2000004\n",
      "\n",
      "Probabilities: 0.0623681506292 7.74921893046e-11 3.89638451154e-10\n",
      "Theta: 334.167688702\n",
      "Parallax: 5.16 65.98 34.71 1.96\n",
      "Proper Motions: 351.999998 343.300015 -216.100007 -218.600005\n",
      "\n"
     ]
    }
   ],
   "source": [
    "# Parallaxes\n",
    "\n",
    "ids = np.where(CG_pairs_hip_all['P_posterior']<0.5)[0]\n",
    "for i in ids:\n",
    "    \n",
    "    id1 = CG_pairs_hip_all['i_1'][i]\n",
    "    id2 = CG_pairs_hip_all['i_2'][i]\n",
    "\n",
    "    print \"Probabilities:\", CG_pairs_hip_all['P_posterior'][i], CG_pairs_hip_all['P_binary'][i], CG_pairs_hip_all['P_random'][i]\n",
    "    print \"Theta:\", CG_pairs_hip_all[\"theta\"][i]*3600.0\n",
    "    print \"Parallax:\", CG_pairs_hip_all['plx_1'][i], CG_pairs_hip_all['plx_2'][i], t['plx_err'][id1], t['plx_err'][id2]\n",
    "    print \"Proper Motions:\", CG_pairs_hip_all['mu_ra_1'][i], CG_pairs_hip_all['mu_ra_2'][i], \\\n",
    "        CG_pairs_hip_all['mu_dec_1'][i], CG_pairs_hip_all['mu_dec_2'][i]\n",
    "    print \"\"\n",
    "         \n"
   ]
  },
  {
   "cell_type": "code",
   "execution_count": 176,
   "metadata": {
    "collapsed": false
   },
   "outputs": [
    {
     "data": {
      "image/png": "[encoded data removed]",
      "text/plain": [
       "<matplotlib.figure.Figure at 0x113554dd0>"
      ]
     },
     "metadata": {},
     "output_type": "display_data"
    }
   ],
   "source": [
    "def f_x(x):\n",
    "    return x**2 * np.exp(-0.6*x)\n",
    "\n",
    "\n",
    "x = np.linspace(0.0, 20.0, 10000)\n",
    "plt.plot(x, f_x(x))\n",
    "plt.show()"
   ]
  },
  {
   "cell_type": "code",
   "execution_count": null,
   "metadata": {
    "collapsed": true
   },
   "outputs": [],
   "source": []
  }
 ],
 "metadata": {
  "kernelspec": {
   "display_name": "Python 2",
   "language": "python",
   "name": "python2"
  },
  "language_info": {
   "codemirror_mode": {
    "name": "ipython",
    "version": 2
   },
   "file_extension": ".py",
   "mimetype": "text/x-python",
   "name": "python",
   "nbconvert_exporter": "python",
   "pygments_lexer": "ipython2",
   "version": "2.7.10"
  }
 },
 "nbformat": 4,
 "nbformat_minor": 0
}
