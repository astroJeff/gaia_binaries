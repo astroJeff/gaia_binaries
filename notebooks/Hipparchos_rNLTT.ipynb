{
 "cells": [
  {
   "cell_type": "markdown",
   "metadata": {},
   "source": [
    "# Test our algorithm on rNLTT stars with Hipparchos parallaxes"
   ]
  },
  {
   "cell_type": "code",
   "execution_count": 1,
   "metadata": {
    "collapsed": false
   },
   "outputs": [
    {
     "name": "stderr",
     "output_type": "stream",
     "text": [
      "/Library/Python/2.7/site-packages/IPython/kernel/__init__.py:13: ShimWarning: The `IPython.kernel` package has been deprecated. You should import from ipykernel or jupyter_client instead.\n",
      "  \"You should import from ipykernel or jupyter_client instead.\", ShimWarning)\n"
     ]
    }
   ],
   "source": [
    "import os\n",
    "import sys\n",
    "sys.path.append('../src')\n",
    "import P_binary\n",
    "import P_random\n",
    "import P_posterior\n",
    "import const as c\n",
    "import time\n",
    "import numpy as np\n",
    "import matplotlib.pyplot as plt\n",
    "from astropy.table import Table\n",
    "from astropy import units as u\n",
    "import pickle\n",
    "\n",
    "%matplotlib inline"
   ]
  },
  {
   "cell_type": "markdown",
   "metadata": {},
   "source": [
    "### First, read in data from catalogs"
   ]
  },
  {
   "cell_type": "code",
   "execution_count": 2,
   "metadata": {
    "collapsed": true
   },
   "outputs": [],
   "source": [
    "# Read in sample from Tycho-2 table\n",
    "filename = ('../data/rNLTT/catalog_tabs.dat')\n",
    "t_full = Table.read(filename, format='ascii', guess=True)\n",
    "\n",
    "# Change proper motion units from asec/yr to mas/yr\n",
    "t_full['mu_ra'] = 1.0e3*t_full['mu_ra']\n",
    "t_full['mu_dec'] = 1.0e3*t_full['mu_dec']\n",
    "t_full['mu_ra_err'] = 1.0e3*t_full['mu_ra_err']\n",
    "t_full['mu_dec_err'] = 1.0e3*t_full['mu_dec_err']\n",
    "\n",
    "# Select only stars with proper motion uncertainties greater than 1 mas/yr - remove junk\n",
    "ids_good = np.intersect1d(np.where(t_full['mu_ra_err'] >= 0.1), np.where(t_full['mu_dec_err'] >= 0.1))\n",
    "t = t_full[ids_good]"
   ]
  },
  {
   "cell_type": "code",
   "execution_count": 3,
   "metadata": {
    "collapsed": false
   },
   "outputs": [
    {
     "name": "stdout",
     "output_type": "stream",
     "text": [
      "['NLTT', 'ra', 'dec', 'mu_ra', 'mu_dec', 'mu_ra_err', 'mu_dec_err', 'HIP', 'V', 'B', 'R', 'J', 'H', 'K']\n"
     ]
    }
   ],
   "source": [
    "print t_full.colnames"
   ]
  },
  {
   "cell_type": "code",
   "execution_count": 4,
   "metadata": {
    "collapsed": false
   },
   "outputs": [],
   "source": [
    "# Read in sample from Tycho-2 table\n",
    "filename = ('../data/hipparchos/hip2.dat')\n",
    "readme = ('../data/hipparchos/Readme')\n",
    "hip = Table.read(filename, format='cds', guess=False, readme=readme)"
   ]
  },
  {
   "cell_type": "code",
   "execution_count": 5,
   "metadata": {
    "collapsed": false
   },
   "outputs": [
    {
     "name": "stdout",
     "output_type": "stream",
     "text": [
      "['HIP', 'Sn', 'So', 'Nc', 'RArad', 'DErad', 'Plx', 'pmRA', 'pmDE', 'e_RArad', 'e_DErad', 'e_Plx', 'e_pmRA', 'e_pmDE', 'Ntr', 'F2', 'F1', 'var', 'ic', 'Hpmag', 'e_Hpmag', 'sHp', 'VA', 'B-V', 'e_B-V', 'V-I']\n"
     ]
    }
   ],
   "source": [
    "print hip.colnames"
   ]
  },
  {
   "cell_type": "markdown",
   "metadata": {},
   "source": [
    "### Play with Hipparchos data"
   ]
  },
  {
   "cell_type": "code",
   "execution_count": 34,
   "metadata": {
    "collapsed": false
   },
   "outputs": [
    {
     "data": {
      "image/png": "[encoded data removed]",
      "text/plain": [
       "<matplotlib.figure.Figure at 0x128da73d0>"
      ]
     },
     "metadata": {},
     "output_type": "display_data"
    }
   ],
   "source": [
    "fig, ax = plt.subplots(1, 2, figsize=(12,4))\n",
    "\n",
    "ax[0].hist(hip['Plx'], histtype='step', color='k', bins=40, range=(-20, 50))\n",
    "ax[1].hist(hip['e_Plx'], histtype='step', color='k', bins=40, range=(0, 5))\n",
    "\n",
    "ax[0].set_xlabel('Parallax (mas)')\n",
    "ax[1].set_xlabel('Parallax Error (mas)')\n",
    "\n",
    "plt.show()"
   ]
  },
  {
   "cell_type": "code",
   "execution_count": 71,
   "metadata": {
    "collapsed": false
   },
   "outputs": [
    {
     "data": {
      "image/png": "[encoded data removed]",
      "text/plain": [
       "<matplotlib.figure.Figure at 0x1212dff10>"
      ]
     },
     "metadata": {},
     "output_type": "display_data"
    }
   ],
   "source": [
    "def get_integrand(x, y, gamma, sigma):\n",
    "    return np.power(x, -(gamma+1.0)) * np.exp(-0.5*((y-x)/sigma)**2)\n",
    "\n",
    "\n",
    "sigma, gamma, L, U = 2.0,  2.0,  3.0, 100.0 # 0.12\n",
    "\n",
    "x = np.linspace(-10.0, 50.0, 100)\n",
    "integral = np.zeros(len(x))\n",
    "coeff = 1.0/np.sqrt(2.0*np.pi)/sigma * gamma / (L**(-gamma) - U**(-gamma))\n",
    "for i in np.arange(len(x)):\n",
    "    args = x[i], gamma, sigma\n",
    "    sol = quad(get_integrand, L, U, args=args)\n",
    "    integral[i] = sol[0]\n",
    "    \n",
    "    # print i, x[i], integral[i]\n",
    "    \n",
    "plt.plot(x, coeff*integral, color='k')\n",
    "\n",
    "\n",
    "\n",
    "plt.hist(hip['Plx'], histtype='step', color='k', bins=40, range=(-20, 50), normed=True)\n",
    "\n",
    "plt.ylim(0.0, 0.1)\n",
    "plt.show()"
   ]
  },
  {
   "cell_type": "code",
   "execution_count": 26,
   "metadata": {
    "collapsed": true
   },
   "outputs": [],
   "source": [
    "from scipy.integrate import quad\n",
    "from scipy.optimize import minimize\n",
    "\n",
    "upper = 50.0"
   ]
  },
  {
   "cell_type": "code",
   "execution_count": 74,
   "metadata": {
    "collapsed": true
   },
   "outputs": [],
   "source": [
    "def ln_posterior_minimize(x, data):\n",
    "    N = len(data)\n",
    "\n",
    "    sigma, gamma, L = x\n",
    "\n",
    "    if L<0.0 or L > 5.0:\n",
    "        return np.inf\n",
    "    if sigma<0.01 or sigma>5.0:\n",
    "        return np.inf\n",
    "    if gamma<0.01 or gamma>10.0:\n",
    "        return np.inf\n",
    "\n",
    "    ll = ln_likelihood(x, data)\n",
    "\n",
    "    lp = -np.log(sigma)\n",
    "\n",
    "    return -(ll + lp)"
   ]
  },
  {
   "cell_type": "code",
   "execution_count": 76,
   "metadata": {
    "collapsed": true
   },
   "outputs": [],
   "source": [
    "def ln_likelihood(x, data):\n",
    "\n",
    "    sigma, gamma, L = x\n",
    "\n",
    "    N = len(data)\n",
    "\n",
    "\n",
    "    integral = np.zeros(N)\n",
    "\n",
    "    ran_indices = np.arange(N)\n",
    "#    ran_indices = np.random.randint(len(data), size=N)\n",
    "\n",
    "\n",
    "    for j in np.arange(N):\n",
    "        i = ran_indices[j]\n",
    "        args = data[i], gamma, sigma\n",
    "        sol = quad(get_integrand, max(L, data[i]-3.0*sigma), min(upper, data[i]+3.0*sigma), \\\n",
    "                   args=args, epsrel=1.0e-1, epsabs=1.0e-1)\n",
    "        integral[j] = sol[0]\n",
    "        \n",
    "        # For very small (or negative) integrals, set to a small, near-zero value\n",
    "        if integral[j] <=0.0 or np.isnan(integral[j]): integral[j]=1.0e-100\n",
    "\n",
    "        \n",
    "            \n",
    "    ln_likelihood = - N/2.0 * np.log(2.0*np.pi) \\\n",
    "                        - N * np.log(sigma) \\\n",
    "                        + N * np.log(gamma) \\\n",
    "                        - N * np.log(np.power(L, -gamma) - np.power(upper, -gamma)) \\\n",
    "                        + np.sum(np.log(integral))\n",
    "\n",
    "    print sigma, gamma, L, ln_likelihood\n",
    "                    \n",
    "    return ln_likelihood\n"
   ]
  },
  {
   "cell_type": "code",
   "execution_count": 72,
   "metadata": {
    "collapsed": true
   },
   "outputs": [],
   "source": [
    "def run_optimize(data, ndim=3):\n",
    "\n",
    "    # Initial Position\n",
    "    p0 = np.array([2.0, 2.0, 3.0])\n",
    "\n",
    "    res = minimize(ln_posterior_minimize, p0, args=data, method='Nelder-Mead')\n",
    "\n",
    "    return res"
   ]
  },
  {
   "cell_type": "code",
   "execution_count": 77,
   "metadata": {
    "collapsed": false
   },
   "outputs": [
    {
     "name": "stdout",
     "output_type": "stream",
     "text": [
      "2.0 2.0 3.0 -598798.996193\n",
      "2.1"
     ]
    },
    {
     "name": "stderr",
     "output_type": "stream",
     "text": [
      "/Library/Python/2.7/site-packages/ipykernel/__main__.py:2: RuntimeWarning: divide by zero encountered in power\n",
      "  from ipykernel import kernelapp as app\n",
      "/Library/Python/2.7/site-packages/ipykernel/__main__.py:2: RuntimeWarning: invalid value encountered in power\n",
      "  from ipykernel import kernelapp as app\n"
     ]
    },
    {
     "name": "stdout",
     "output_type": "stream",
     "text": [
      " 2.0 3.0 -586776.724229\n",
      "2.0 2.1 3.0 -645330.793479\n",
      "2.0 2.0 3.15 -605686.524295\n",
      "2.06666666667 1.9 3.1 -638492.239981\n",
      "2.05 1.95 3.075 -639970.104674\n",
      "2.05 2.0 3.0 -592269.394239\n",
      "2.05 2.0 3.075 -594825.727296\n",
      "2.05 2.05 3.0 -636005.848431\n",
      "2.08333333333 1.95 3.05 -633119.350372\n",
      "2.075 1.975 3.0375 -634005.065877\n",
      "2.075 2.0 3.0 -587049.519169\n",
      "2.075 2.0 3.0375 -589868.470839\n",
      "2.075 2.025 3.0 -631867.132797\n",
      "2.09166666667 1.975 3.025 -630401.480358\n",
      "2.0875 1.9875 3.01875 -630945.571951\n",
      "2.0875 2.0 3.0 -586430.754695\n",
      "2.0875 2.0 3.01875 -586565.181725\n",
      "2.0875 2.0125 3.0 -630538.364337\n",
      "2.09583333333 1.9875 3.0125 -629582.904546\n",
      "2.09375 1.99375 3.009375 -629662.597702\n",
      "2.0875 2.0 3.009375 -586545.842711\n",
      "2.09375 2.0 3.0 -585809.377155\n",
      "2.0875 2.00625 3.0 -630470.918883\n",
      "2.09166666667 1.99375 3.00625 -630100.382623\n",
      "2.090625 1.996875 3.0046875 -630140.849401\n",
      "2.090625 2.0 3.0 -586651.371553\n",
      "2.090625 2.0 3.0046875 -586113.121443\n",
      "2.090625 2.003125 3.0 -629987.397316\n",
      "2.09270833333 1.996875 3.003125 -629904.886556\n",
      "2.0921875 1.9984375 3.00234375 -629925.094827\n",
      "2.0921875 2.0 3.00234375 -587491.844341\n",
      "2.0921875 2.0 3.0 -585359.336667\n",
      "2.0921875 2.0015625 3.0 -629956.510768\n",
      "2.09322916667 1.9984375 3.0015625 -629915.929097\n",
      "2.09296875 1.99921875 3.001171875 -629926.009522\n",
      "2.09296875 2.0 3.0 -584998.852584\n",
      "2.0921875 2.0 3.001171875 -584991.618219\n",
      "2.0921875 2.00078125 3.0 -629948.215425\n",
      "2.09270833333 1.99921875 3.00078125 -629927.874658\n",
      "2.092578125 1.999609375 3.0005859375 -629932.943009\n",
      "2.092578125 2.0 3.0005859375 -585833.00035\n",
      "2.0921875 2.0 3.0005859375 -588041.950805\n",
      "2.0921875 2.000390625 3.0005859375 -629944.434516\n",
      "2.09244791667 1.999609375 3.0009765625 -629934.254987\n",
      "2.0923828125 1.9998046875 3.00087890625 -629936.795431\n",
      "2.0923828125 2.0 3.00087890625 -586419.586665\n",
      "2.0921875 2.0 3.00087890625 -584335.210799\n",
      "2.0921875 2.0001953125 3.00087890625 -629942.557442\n",
      "2.09231770833 1.9998046875 3.00107421875 -629937.464814\n",
      "2.09228515625 1.99990234375 3.00102539063 -629938.736827\n",
      "2.0921875 2.0 3.00102539062 -588017.845821\n",
      "2.09228515625 2.0 3.00087890625 -585217.807499\n",
      "2.0921875 2.00009765625 3.00087890625 -629941.524149\n",
      "2.09225260417 1.99990234375 3.0009765625 -629938.976886\n",
      "2.09223632812 1.99995117188 3.00095214844 -629939.613413\n",
      "2.09223632812 2.0 3.00087890625 -586650.118807\n",
      "2.0921875 2.0 3.00095214844 -586452.116317\n",
      "2.0921875 2.00004882813 3.00087890625 -629941.007576\n",
      "2.09222005208 1.99995117187 3.00092773437 -629939.733703\n",
      "2.09221191406 1.99997558594 3.00091552734 -629940.052099\n"
     ]
    },
    {
     "ename": "KeyboardInterrupt",
     "evalue": "",
     "output_type": "error",
     "traceback": [
      "\u001b[0;31m---------------------------------------------------------------------------\u001b[0m",
      "\u001b[0;31mKeyboardInterrupt\u001b[0m                         Traceback (most recent call last)",
      "\u001b[0;32m<ipython-input-77-471b58e23ba2>\u001b[0m in \u001b[0;36m<module>\u001b[0;34m()\u001b[0m\n\u001b[0;32m----> 1\u001b[0;31m \u001b[0mrun_optimize\u001b[0m\u001b[0;34m(\u001b[0m\u001b[0mhip\u001b[0m\u001b[0;34m[\u001b[0m\u001b[0;34m'Plx'\u001b[0m\u001b[0;34m]\u001b[0m\u001b[0;34m)\u001b[0m\u001b[0;34m\u001b[0m\u001b[0m\n\u001b[0m",
      "\u001b[0;32m<ipython-input-72-a030490f23b0>\u001b[0m in \u001b[0;36mrun_optimize\u001b[0;34m(data, ndim)\u001b[0m\n\u001b[1;32m      4\u001b[0m     \u001b[0mp0\u001b[0m \u001b[0;34m=\u001b[0m \u001b[0mnp\u001b[0m\u001b[0;34m.\u001b[0m\u001b[0marray\u001b[0m\u001b[0;34m(\u001b[0m\u001b[0;34m[\u001b[0m\u001b[0;36m2.0\u001b[0m\u001b[0;34m,\u001b[0m \u001b[0;36m2.0\u001b[0m\u001b[0;34m,\u001b[0m \u001b[0;36m3.0\u001b[0m\u001b[0;34m]\u001b[0m\u001b[0;34m)\u001b[0m\u001b[0;34m\u001b[0m\u001b[0m\n\u001b[1;32m      5\u001b[0m \u001b[0;34m\u001b[0m\u001b[0m\n\u001b[0;32m----> 6\u001b[0;31m     \u001b[0mres\u001b[0m \u001b[0;34m=\u001b[0m \u001b[0mminimize\u001b[0m\u001b[0;34m(\u001b[0m\u001b[0mln_posterior_minimize\u001b[0m\u001b[0;34m,\u001b[0m \u001b[0mp0\u001b[0m\u001b[0;34m,\u001b[0m \u001b[0margs\u001b[0m\u001b[0;34m=\u001b[0m\u001b[0mdata\u001b[0m\u001b[0;34m,\u001b[0m \u001b[0mmethod\u001b[0m\u001b[0;34m=\u001b[0m\u001b[0;34m'Nelder-Mead'\u001b[0m\u001b[0;34m)\u001b[0m\u001b[0;34m\u001b[0m\u001b[0m\n\u001b[0m\u001b[1;32m      7\u001b[0m \u001b[0;34m\u001b[0m\u001b[0m\n\u001b[1;32m      8\u001b[0m     \u001b[0;32mreturn\u001b[0m \u001b[0mres\u001b[0m\u001b[0;34m\u001b[0m\u001b[0m\n",
      "\u001b[0;32m/Library/Python/2.7/site-packages/scipy/optimize/_minimize.pyc\u001b[0m in \u001b[0;36mminimize\u001b[0;34m(fun, x0, args, method, jac, hess, hessp, bounds, constraints, tol, callback, options)\u001b[0m\n\u001b[1;32m    433\u001b[0m                       callback=callback, **options)\n\u001b[1;32m    434\u001b[0m     \u001b[0;32melif\u001b[0m \u001b[0mmeth\u001b[0m \u001b[0;34m==\u001b[0m \u001b[0;34m'nelder-mead'\u001b[0m\u001b[0;34m:\u001b[0m\u001b[0;34m\u001b[0m\u001b[0m\n\u001b[0;32m--> 435\u001b[0;31m         \u001b[0;32mreturn\u001b[0m \u001b[0m_minimize_neldermead\u001b[0m\u001b[0;34m(\u001b[0m\u001b[0mfun\u001b[0m\u001b[0;34m,\u001b[0m \u001b[0mx0\u001b[0m\u001b[0;34m,\u001b[0m \u001b[0margs\u001b[0m\u001b[0;34m,\u001b[0m \u001b[0mcallback\u001b[0m\u001b[0;34m,\u001b[0m \u001b[0;34m**\u001b[0m\u001b[0moptions\u001b[0m\u001b[0;34m)\u001b[0m\u001b[0;34m\u001b[0m\u001b[0m\n\u001b[0m\u001b[1;32m    436\u001b[0m     \u001b[0;32melif\u001b[0m \u001b[0mmeth\u001b[0m \u001b[0;34m==\u001b[0m \u001b[0;34m'powell'\u001b[0m\u001b[0;34m:\u001b[0m\u001b[0;34m\u001b[0m\u001b[0m\n\u001b[1;32m    437\u001b[0m         \u001b[0;32mreturn\u001b[0m \u001b[0m_minimize_powell\u001b[0m\u001b[0;34m(\u001b[0m\u001b[0mfun\u001b[0m\u001b[0;34m,\u001b[0m \u001b[0mx0\u001b[0m\u001b[0;34m,\u001b[0m \u001b[0margs\u001b[0m\u001b[0;34m,\u001b[0m \u001b[0mcallback\u001b[0m\u001b[0;34m,\u001b[0m \u001b[0;34m**\u001b[0m\u001b[0moptions\u001b[0m\u001b[0;34m)\u001b[0m\u001b[0;34m\u001b[0m\u001b[0m\n",
      "\u001b[0;32m/Library/Python/2.7/site-packages/scipy/optimize/optimize.pyc\u001b[0m in \u001b[0;36m_minimize_neldermead\u001b[0;34m(func, x0, args, callback, xtol, ftol, maxiter, maxfev, disp, return_all, **unknown_options)\u001b[0m\n\u001b[1;32m    507\u001b[0m                     \u001b[0;32mfor\u001b[0m \u001b[0mj\u001b[0m \u001b[0;32min\u001b[0m \u001b[0mone2np1\u001b[0m\u001b[0;34m:\u001b[0m\u001b[0;34m\u001b[0m\u001b[0m\n\u001b[1;32m    508\u001b[0m                         \u001b[0msim\u001b[0m\u001b[0;34m[\u001b[0m\u001b[0mj\u001b[0m\u001b[0;34m]\u001b[0m \u001b[0;34m=\u001b[0m \u001b[0msim\u001b[0m\u001b[0;34m[\u001b[0m\u001b[0;36m0\u001b[0m\u001b[0;34m]\u001b[0m \u001b[0;34m+\u001b[0m \u001b[0msigma\u001b[0m \u001b[0;34m*\u001b[0m \u001b[0;34m(\u001b[0m\u001b[0msim\u001b[0m\u001b[0;34m[\u001b[0m\u001b[0mj\u001b[0m\u001b[0;34m]\u001b[0m \u001b[0;34m-\u001b[0m \u001b[0msim\u001b[0m\u001b[0;34m[\u001b[0m\u001b[0;36m0\u001b[0m\u001b[0;34m]\u001b[0m\u001b[0;34m)\u001b[0m\u001b[0;34m\u001b[0m\u001b[0m\n\u001b[0;32m--> 509\u001b[0;31m                         \u001b[0mfsim\u001b[0m\u001b[0;34m[\u001b[0m\u001b[0mj\u001b[0m\u001b[0;34m]\u001b[0m \u001b[0;34m=\u001b[0m \u001b[0mfunc\u001b[0m\u001b[0;34m(\u001b[0m\u001b[0msim\u001b[0m\u001b[0;34m[\u001b[0m\u001b[0mj\u001b[0m\u001b[0;34m]\u001b[0m\u001b[0;34m)\u001b[0m\u001b[0;34m\u001b[0m\u001b[0m\n\u001b[0m\u001b[1;32m    510\u001b[0m \u001b[0;34m\u001b[0m\u001b[0m\n\u001b[1;32m    511\u001b[0m         \u001b[0mind\u001b[0m \u001b[0;34m=\u001b[0m \u001b[0mnumpy\u001b[0m\u001b[0;34m.\u001b[0m\u001b[0margsort\u001b[0m\u001b[0;34m(\u001b[0m\u001b[0mfsim\u001b[0m\u001b[0;34m)\u001b[0m\u001b[0;34m\u001b[0m\u001b[0m\n",
      "\u001b[0;32m/Library/Python/2.7/site-packages/scipy/optimize/optimize.pyc\u001b[0m in \u001b[0;36mfunction_wrapper\u001b[0;34m(*wrapper_args)\u001b[0m\n\u001b[1;32m    287\u001b[0m     \u001b[0;32mdef\u001b[0m \u001b[0mfunction_wrapper\u001b[0m\u001b[0;34m(\u001b[0m\u001b[0;34m*\u001b[0m\u001b[0mwrapper_args\u001b[0m\u001b[0;34m)\u001b[0m\u001b[0;34m:\u001b[0m\u001b[0;34m\u001b[0m\u001b[0m\n\u001b[1;32m    288\u001b[0m         \u001b[0mncalls\u001b[0m\u001b[0;34m[\u001b[0m\u001b[0;36m0\u001b[0m\u001b[0;34m]\u001b[0m \u001b[0;34m+=\u001b[0m \u001b[0;36m1\u001b[0m\u001b[0;34m\u001b[0m\u001b[0m\n\u001b[0;32m--> 289\u001b[0;31m         \u001b[0;32mreturn\u001b[0m \u001b[0mfunction\u001b[0m\u001b[0;34m(\u001b[0m\u001b[0;34m*\u001b[0m\u001b[0;34m(\u001b[0m\u001b[0mwrapper_args\u001b[0m \u001b[0;34m+\u001b[0m \u001b[0margs\u001b[0m\u001b[0;34m)\u001b[0m\u001b[0;34m)\u001b[0m\u001b[0;34m\u001b[0m\u001b[0m\n\u001b[0m\u001b[1;32m    290\u001b[0m \u001b[0;34m\u001b[0m\u001b[0m\n\u001b[1;32m    291\u001b[0m     \u001b[0;32mreturn\u001b[0m \u001b[0mncalls\u001b[0m\u001b[0;34m,\u001b[0m \u001b[0mfunction_wrapper\u001b[0m\u001b[0;34m\u001b[0m\u001b[0m\n",
      "\u001b[0;32m<ipython-input-74-53dc04a253d8>\u001b[0m in \u001b[0;36mln_posterior_minimize\u001b[0;34m(x, data)\u001b[0m\n\u001b[1;32m     11\u001b[0m         \u001b[0;32mreturn\u001b[0m \u001b[0mnp\u001b[0m\u001b[0;34m.\u001b[0m\u001b[0minf\u001b[0m\u001b[0;34m\u001b[0m\u001b[0m\n\u001b[1;32m     12\u001b[0m \u001b[0;34m\u001b[0m\u001b[0m\n\u001b[0;32m---> 13\u001b[0;31m     \u001b[0mll\u001b[0m \u001b[0;34m=\u001b[0m \u001b[0mln_likelihood\u001b[0m\u001b[0;34m(\u001b[0m\u001b[0mx\u001b[0m\u001b[0;34m,\u001b[0m \u001b[0mdata\u001b[0m\u001b[0;34m)\u001b[0m\u001b[0;34m\u001b[0m\u001b[0m\n\u001b[0m\u001b[1;32m     14\u001b[0m \u001b[0;34m\u001b[0m\u001b[0m\n\u001b[1;32m     15\u001b[0m     \u001b[0mlp\u001b[0m \u001b[0;34m=\u001b[0m \u001b[0;34m-\u001b[0m\u001b[0mnp\u001b[0m\u001b[0;34m.\u001b[0m\u001b[0mlog\u001b[0m\u001b[0;34m(\u001b[0m\u001b[0msigma\u001b[0m\u001b[0;34m)\u001b[0m\u001b[0;34m\u001b[0m\u001b[0m\n",
      "\u001b[0;32m<ipython-input-76-ba01733b52a0>\u001b[0m in \u001b[0;36mln_likelihood\u001b[0;34m(x, data)\u001b[0m\n\u001b[1;32m     15\u001b[0m         \u001b[0mi\u001b[0m \u001b[0;34m=\u001b[0m \u001b[0mran_indices\u001b[0m\u001b[0;34m[\u001b[0m\u001b[0mj\u001b[0m\u001b[0;34m]\u001b[0m\u001b[0;34m\u001b[0m\u001b[0m\n\u001b[1;32m     16\u001b[0m         \u001b[0margs\u001b[0m \u001b[0;34m=\u001b[0m \u001b[0mdata\u001b[0m\u001b[0;34m[\u001b[0m\u001b[0mi\u001b[0m\u001b[0;34m]\u001b[0m\u001b[0;34m,\u001b[0m \u001b[0mgamma\u001b[0m\u001b[0;34m,\u001b[0m \u001b[0msigma\u001b[0m\u001b[0;34m\u001b[0m\u001b[0m\n\u001b[0;32m---> 17\u001b[0;31m         \u001b[0msol\u001b[0m \u001b[0;34m=\u001b[0m \u001b[0mquad\u001b[0m\u001b[0;34m(\u001b[0m\u001b[0mget_integrand\u001b[0m\u001b[0;34m,\u001b[0m \u001b[0mmax\u001b[0m\u001b[0;34m(\u001b[0m\u001b[0mL\u001b[0m\u001b[0;34m,\u001b[0m \u001b[0mdata\u001b[0m\u001b[0;34m[\u001b[0m\u001b[0mi\u001b[0m\u001b[0;34m]\u001b[0m\u001b[0;34m-\u001b[0m\u001b[0;36m3.0\u001b[0m\u001b[0;34m*\u001b[0m\u001b[0msigma\u001b[0m\u001b[0;34m)\u001b[0m\u001b[0;34m,\u001b[0m \u001b[0mmin\u001b[0m\u001b[0;34m(\u001b[0m\u001b[0mupper\u001b[0m\u001b[0;34m,\u001b[0m \u001b[0mdata\u001b[0m\u001b[0;34m[\u001b[0m\u001b[0mi\u001b[0m\u001b[0;34m]\u001b[0m\u001b[0;34m+\u001b[0m\u001b[0;36m3.0\u001b[0m\u001b[0;34m*\u001b[0m\u001b[0msigma\u001b[0m\u001b[0;34m)\u001b[0m\u001b[0;34m,\u001b[0m                    \u001b[0margs\u001b[0m\u001b[0;34m=\u001b[0m\u001b[0margs\u001b[0m\u001b[0;34m,\u001b[0m \u001b[0mepsrel\u001b[0m\u001b[0;34m=\u001b[0m\u001b[0;36m1.0e-1\u001b[0m\u001b[0;34m,\u001b[0m \u001b[0mepsabs\u001b[0m\u001b[0;34m=\u001b[0m\u001b[0;36m1.0e-1\u001b[0m\u001b[0;34m)\u001b[0m\u001b[0;34m\u001b[0m\u001b[0m\n\u001b[0m\u001b[1;32m     18\u001b[0m         \u001b[0mintegral\u001b[0m\u001b[0;34m[\u001b[0m\u001b[0mj\u001b[0m\u001b[0;34m]\u001b[0m \u001b[0;34m=\u001b[0m \u001b[0msol\u001b[0m\u001b[0;34m[\u001b[0m\u001b[0;36m0\u001b[0m\u001b[0;34m]\u001b[0m\u001b[0;34m\u001b[0m\u001b[0m\n\u001b[1;32m     19\u001b[0m \u001b[0;34m\u001b[0m\u001b[0m\n",
      "\u001b[0;32m/Library/Python/2.7/site-packages/scipy/integrate/quadpack.pyc\u001b[0m in \u001b[0;36mquad\u001b[0;34m(func, a, b, args, full_output, epsabs, epsrel, limit, points, weight, wvar, wopts, maxp1, limlst)\u001b[0m\n\u001b[1;32m    314\u001b[0m     \u001b[0;32mif\u001b[0m \u001b[0;34m(\u001b[0m\u001b[0mweight\u001b[0m \u001b[0;32mis\u001b[0m \u001b[0mNone\u001b[0m\u001b[0;34m)\u001b[0m\u001b[0;34m:\u001b[0m\u001b[0;34m\u001b[0m\u001b[0m\n\u001b[1;32m    315\u001b[0m         retval = _quad(func, a, b, args, full_output, epsabs, epsrel, limit,\n\u001b[0;32m--> 316\u001b[0;31m                        points)\n\u001b[0m\u001b[1;32m    317\u001b[0m     \u001b[0;32melse\u001b[0m\u001b[0;34m:\u001b[0m\u001b[0;34m\u001b[0m\u001b[0m\n\u001b[1;32m    318\u001b[0m         retval = _quad_weight(func, a, b, args, full_output, epsabs, epsrel,\n",
      "\u001b[0;32m/Library/Python/2.7/site-packages/scipy/integrate/quadpack.pyc\u001b[0m in \u001b[0;36m_quad\u001b[0;34m(func, a, b, args, full_output, epsabs, epsrel, limit, points)\u001b[0m\n\u001b[1;32m    379\u001b[0m     \u001b[0;32mif\u001b[0m \u001b[0mpoints\u001b[0m \u001b[0;32mis\u001b[0m \u001b[0mNone\u001b[0m\u001b[0;34m:\u001b[0m\u001b[0;34m\u001b[0m\u001b[0m\n\u001b[1;32m    380\u001b[0m         \u001b[0;32mif\u001b[0m \u001b[0minfbounds\u001b[0m \u001b[0;34m==\u001b[0m \u001b[0;36m0\u001b[0m\u001b[0;34m:\u001b[0m\u001b[0;34m\u001b[0m\u001b[0m\n\u001b[0;32m--> 381\u001b[0;31m             \u001b[0;32mreturn\u001b[0m \u001b[0m_quadpack\u001b[0m\u001b[0;34m.\u001b[0m\u001b[0m_qagse\u001b[0m\u001b[0;34m(\u001b[0m\u001b[0mfunc\u001b[0m\u001b[0;34m,\u001b[0m\u001b[0ma\u001b[0m\u001b[0;34m,\u001b[0m\u001b[0mb\u001b[0m\u001b[0;34m,\u001b[0m\u001b[0margs\u001b[0m\u001b[0;34m,\u001b[0m\u001b[0mfull_output\u001b[0m\u001b[0;34m,\u001b[0m\u001b[0mepsabs\u001b[0m\u001b[0;34m,\u001b[0m\u001b[0mepsrel\u001b[0m\u001b[0;34m,\u001b[0m\u001b[0mlimit\u001b[0m\u001b[0;34m)\u001b[0m\u001b[0;34m\u001b[0m\u001b[0m\n\u001b[0m\u001b[1;32m    382\u001b[0m         \u001b[0;32melse\u001b[0m\u001b[0;34m:\u001b[0m\u001b[0;34m\u001b[0m\u001b[0m\n\u001b[1;32m    383\u001b[0m             \u001b[0;32mreturn\u001b[0m \u001b[0m_quadpack\u001b[0m\u001b[0;34m.\u001b[0m\u001b[0m_qagie\u001b[0m\u001b[0;34m(\u001b[0m\u001b[0mfunc\u001b[0m\u001b[0;34m,\u001b[0m\u001b[0mbound\u001b[0m\u001b[0;34m,\u001b[0m\u001b[0minfbounds\u001b[0m\u001b[0;34m,\u001b[0m\u001b[0margs\u001b[0m\u001b[0;34m,\u001b[0m\u001b[0mfull_output\u001b[0m\u001b[0;34m,\u001b[0m\u001b[0mepsabs\u001b[0m\u001b[0;34m,\u001b[0m\u001b[0mepsrel\u001b[0m\u001b[0;34m,\u001b[0m\u001b[0mlimit\u001b[0m\u001b[0;34m)\u001b[0m\u001b[0;34m\u001b[0m\u001b[0m\n",
      "\u001b[0;32m<ipython-input-71-d54e0030e1b4>\u001b[0m in \u001b[0;36mget_integrand\u001b[0;34m(x, y, gamma, sigma)\u001b[0m\n\u001b[1;32m      1\u001b[0m \u001b[0;32mdef\u001b[0m \u001b[0mget_integrand\u001b[0m\u001b[0;34m(\u001b[0m\u001b[0mx\u001b[0m\u001b[0;34m,\u001b[0m \u001b[0my\u001b[0m\u001b[0;34m,\u001b[0m \u001b[0mgamma\u001b[0m\u001b[0;34m,\u001b[0m \u001b[0msigma\u001b[0m\u001b[0;34m)\u001b[0m\u001b[0;34m:\u001b[0m\u001b[0;34m\u001b[0m\u001b[0m\n\u001b[0;32m----> 2\u001b[0;31m     \u001b[0;32mreturn\u001b[0m \u001b[0mnp\u001b[0m\u001b[0;34m.\u001b[0m\u001b[0mpower\u001b[0m\u001b[0;34m(\u001b[0m\u001b[0mx\u001b[0m\u001b[0;34m,\u001b[0m \u001b[0;34m-\u001b[0m\u001b[0;34m(\u001b[0m\u001b[0mgamma\u001b[0m\u001b[0;34m+\u001b[0m\u001b[0;36m1.0\u001b[0m\u001b[0;34m)\u001b[0m\u001b[0;34m)\u001b[0m \u001b[0;34m*\u001b[0m \u001b[0mnp\u001b[0m\u001b[0;34m.\u001b[0m\u001b[0mexp\u001b[0m\u001b[0;34m(\u001b[0m\u001b[0;34m-\u001b[0m\u001b[0;36m0.5\u001b[0m\u001b[0;34m*\u001b[0m\u001b[0;34m(\u001b[0m\u001b[0;34m(\u001b[0m\u001b[0my\u001b[0m\u001b[0;34m-\u001b[0m\u001b[0mx\u001b[0m\u001b[0;34m)\u001b[0m\u001b[0;34m/\u001b[0m\u001b[0msigma\u001b[0m\u001b[0;34m)\u001b[0m\u001b[0;34m**\u001b[0m\u001b[0;36m2\u001b[0m\u001b[0;34m)\u001b[0m\u001b[0;34m\u001b[0m\u001b[0m\n\u001b[0m\u001b[1;32m      3\u001b[0m \u001b[0;34m\u001b[0m\u001b[0m\n\u001b[1;32m      4\u001b[0m \u001b[0;34m\u001b[0m\u001b[0m\n\u001b[1;32m      5\u001b[0m \u001b[0msigma\u001b[0m\u001b[0;34m,\u001b[0m \u001b[0mgamma\u001b[0m\u001b[0;34m,\u001b[0m \u001b[0mL\u001b[0m\u001b[0;34m,\u001b[0m \u001b[0mU\u001b[0m \u001b[0;34m=\u001b[0m \u001b[0;36m2.0\u001b[0m\u001b[0;34m,\u001b[0m  \u001b[0;36m2.0\u001b[0m\u001b[0;34m,\u001b[0m  \u001b[0;36m3.0\u001b[0m\u001b[0;34m,\u001b[0m \u001b[0;36m100.0\u001b[0m \u001b[0;31m# 0.12\u001b[0m\u001b[0;34m\u001b[0m\u001b[0m\n",
      "\u001b[0;31mKeyboardInterrupt\u001b[0m: "
     ]
    }
   ],
   "source": [
    "run_optimize(hip['Plx'])"
   ]
  },
  {
   "cell_type": "code",
   "execution_count": null,
   "metadata": {
    "collapsed": true
   },
   "outputs": [],
   "source": []
  },
  {
   "cell_type": "markdown",
   "metadata": {},
   "source": [
    "### Now, let's select all rNLTT stars with Hipparchos numbers"
   ]
  },
  {
   "cell_type": "code",
   "execution_count": 14,
   "metadata": {
    "collapsed": false
   },
   "outputs": [],
   "source": [
    "t_hip_tmp = t_full[np.where(t_full['HIP']!=0)[0]]\n",
    "\n",
    "# Only non-repeating entries\n",
    "vals, indices = np.unique(t_hip['NLTT'], return_index=True)\n",
    "t_hip = t_hip_tmp[indices]\n",
    "\n",
    "\n",
    "dtype = [('ID','i8'),('NLTT','i8'),('ra','f8'),('dec','f8'),('mu_ra','f8'),('mu_dec','f8'), \\\n",
    "         ('mu_ra_err','f8'),('mu_dec_err','f8'),('B','f8'),('V','f8'), \\\n",
    "         ('plx','f8'),('plx_err','f8')]\n",
    "\n",
    "t = np.zeros(len(t_hip), dtype=dtype)\n",
    "t['ID'] = t_hip['HIP']\n",
    "t['NLTT'] = t_hip['NLTT']\n",
    "t['ra'] = t_hip['ra']\n",
    "t['dec'] = t_hip['dec']\n",
    "t['mu_ra'] = t_hip['mu_ra']\n",
    "t['mu_dec'] = t_hip['mu_dec']\n",
    "t['mu_ra_err'] = t_hip['mu_ra_err']\n",
    "t['mu_dec_err'] = t_hip['mu_dec_err']\n",
    "t['B'] = t_hip['B']\n",
    "t['V'] = t_hip['V']\n",
    "\n",
    "# Get parallaxes, by first finding indices matching two catalogs\n",
    "idx = np.zeros(len(t_hip), dtype='i8')\n",
    "for i in np.arange(len(t_hip)):\n",
    "    idx[i] =int(np.where(t_hip[i]['HIP'] == hip['HIP'])[0][0])\n",
    "    \n",
    "t['plx'] = hip['Plx'][idx]\n",
    "t['plx_err'] = hip['e_Plx'][idx]"
   ]
  },
  {
   "cell_type": "code",
   "execution_count": 15,
   "metadata": {
    "collapsed": false,
    "scrolled": false
   },
   "outputs": [
    {
     "name": "stdout",
     "output_type": "stream",
     "text": [
      "Generating binaries...\n",
      "We are testing 8288 stars...\n",
      "0 4.90805792809\n",
      "13 16 139 172 428 473 [  9.22422820e-12] 7.84924080997e-09 [ 0.99765516]\n",
      "13 17 139 173 428 473 [  8.42135507e-12] 7.97096200493e-09 [ 0.99789145]\n",
      "15 8285 157 58834 436 169 [  1.21995570e-08] 1.8327720457e-105 [  7.51163362e-98]\n",
      "16 17 172 173 473 473 [  4.85668404e-14] 2.10276743051e-08 [ 0.99999538]\n",
      "19 20 194 195 493 495 [  2.03282469e-09] 1.04624665316e-09 [ 0.204669]\n",
      "19 21 194 196 493 495 [  2.06391485e-09] 1.07173894167e-09 [ 0.20612074]\n",
      "20 21 195 196 495 495 [  2.44532842e-11] 2.90588475028e-08 [ 0.99831981]\n",
      "54 72 514 609 898 1022 [  2.28122850e-07] 1.40068284437e-270 [  3.07001873e-264]\n",
      "65 74 582 627 996 1055 [  8.34871362e-09] 6.8834189605e-15 [  4.12244115e-07]\n",
      "67 90 588 795 1000 1275 [  6.76496349e-08] 0.0 [ 0.]\n",
      "74 94 627 803 1055 1295 [  1.28112440e-06] 0.0 [ 0.]\n",
      "74 100 627 838 1055 1334 [  2.36223934e-07] 3.57683285466e-135 [  7.57085192e-129]\n",
      "76 105 639 867 1078 1389 [  2.78984963e-08] 1.04317729195e-103 [  1.86959412e-96]\n",
      "77 78 647 648 1082 1082 [  2.20432109e-12] 2.55941818887e-10 [ 0.98306651]\n",
      "80 81 663 664 1094 1094 [  1.80181785e-10] 9.16703840257e-10 [ 0.71781946]\n",
      "83 84 685 690 1119 1128 [  1.91928143e-07] 2.08042800987e-232 [  5.41980967e-226]\n",
      "97 108 823 883 1308 1398 [  1.01552269e-07] 1.91974555321e-45 [  9.45200718e-39]\n",
      "108 135 883 1120 1398 1723 [  1.90056997e-07] 1.74843583243e-81 [  4.59976707e-75]\n",
      "134 138 1112 1126 1696 1720 [  6.36264973e-09] 1.56063645926e-55 [  1.22640450e-47]\n",
      "143 177 1149 1353 1771 2039 [  9.04515830e-08] 1.47029575614e-86 [  8.12752916e-80]\n",
      "178 185 1365 1413 2064 2128 [  1.06294286e-07] 0.0 [ 0.]\n",
      "193 213 1541 1711 2273 2511 [  2.66874045e-08] 1.64368300474e-267 [  3.07951080e-260]\n",
      "195 200 1551 1594 2292 2350 [  2.36608423e-09] 8.40410357415e-11 [ 0.01744962]\n",
      "211 212 1707 1708 2552 2552 [  1.51206617e-13] 9.63507021105e-09 [ 0.99996861]\n",
      "222 223 1806 1807 2663 2663 [  6.46157047e-12] 3.3165730636e-08 [ 0.9996105]\n",
      "235 236 1939 1941 2828 2832 [  3.85652588e-08] 1.77846071929e-281 [  2.30578087e-274]\n",
      "237 238 1944 1945 2844 2844 [  1.32590120e-11] 1.15512675602e-08 [ 0.99770958]\n",
      "241 243 1965 1992 2848 2888 [  1.15369087e-10] 2.52782674542e-09 [ 0.91635572]\n",
      "281 285 2286 2303 3282 3292 [  1.33271660e-07] 7.56613279028e-232 [  2.83861279e-225]\n",
      "281 316 2286 2482 3282 3527 [  4.12703279e-08] 7.07520177887e-36 [  8.57177800e-29]\n",
      "289 290 2319 2321 3322 3322 [  7.19725593e-11] 6.49926372489e-09 [ 0.97833199]\n",
      "299 311 2380 2439 3419 3493 [  2.97344738e-07] 7.89640375234e-106 [  1.32781965e-99]\n",
      "318 330 2484 2565 3550 3633 [  3.17813769e-08] 1.06568981774e-39 [  1.67659479e-32]\n",
      "323 324 2529 2530 3588 3588 [  7.69164381e-11] 2.75085274438e-08 [ 0.99443891]\n",
      "331 337 2582 2662 3645 3757 [  3.94068974e-07] 9.24117080788e-78 [  1.17253215e-71]\n",
      "337 369 2662 2837 3757 3979 [  1.48142175e-07] 8.91070270799e-19 [  3.00748342e-12]\n",
      "360 361 2804 2805 3937 3937 [  1.49735448e-11] 8.16888127419e-09 [ 0.99634739]\n",
      "404 433 3095 3410 4454 4907 [  4.22807521e-09] 1.95277597321e-247 [  2.30929664e-239]\n",
      "423 430 3315 3382 4702 4815 [  7.26232260e-08] 1.3129023099e-132 [  9.03913515e-126]\n",
      "427 449 3357 3518 4750 4969 [  1.10872238e-07] 1.75675826321e-281 [  7.92244432e-275]\n",
      "438 457 3458 3566 4864 5018 [  2.21906511e-08] 7.66232631584e-35 [  1.72647623e-27]\n",
      "440 441 3462 3463 4927 4927 [  2.82753110e-13] 1.14168273105e-08 [ 0.99995047]\n",
      "451 470 3542 3654 5011 5191 [  1.53969277e-07] 0.0 [ 0.]\n",
      "457 473 3566 3674 5018 5178 [  2.20991481e-07] 4.06977643062e-236 [  9.20799394e-230]\n",
      "461 462 3597 3598 5110 5110 [  2.08246087e-11] 2.63609773887e-08 [ 0.99842254]\n",
      "461 472 3597 3666 5110 5215 [  1.20088269e-07] 6.1990263227e-39 [  2.58102910e-32]\n"
     ]
    },
    {
     "ename": "KeyboardInterrupt",
     "evalue": "",
     "output_type": "error",
     "traceback": [
      "\u001b[0;31m---------------------------------------------------------------------------\u001b[0m",
      "\u001b[0;31mKeyboardInterrupt\u001b[0m                         Traceback (most recent call last)",
      "\u001b[0;32m<ipython-input-15-fd08d8051377>\u001b[0m in \u001b[0;36m<module>\u001b[0;34m()\u001b[0m\n\u001b[1;32m      1\u001b[0m \u001b[0;31m# Run search for wide binaries\u001b[0m\u001b[0;34m\u001b[0m\u001b[0;34m\u001b[0m\u001b[0m\n\u001b[0;32m----> 2\u001b[0;31m \u001b[0mp_out\u001b[0m \u001b[0;34m=\u001b[0m \u001b[0mP_posterior\u001b[0m\u001b[0;34m.\u001b[0m\u001b[0mmatch_binaries\u001b[0m\u001b[0;34m(\u001b[0m\u001b[0mt\u001b[0m\u001b[0;34m)\u001b[0m\u001b[0;34m\u001b[0m\u001b[0m\n\u001b[0m",
      "\u001b[0;32m/Users/jeffandrews/Research/gaia_binaries/src/P_posterior.py\u001b[0m in \u001b[0;36mmatch_binaries\u001b[0;34m(t)\u001b[0m\n\u001b[1;32m    113\u001b[0m \u001b[0;34m\u001b[0m\u001b[0m\n\u001b[1;32m    114\u001b[0m             \u001b[0;31m# Calculate the posterior probability\u001b[0m\u001b[0;34m\u001b[0m\u001b[0;34m\u001b[0m\u001b[0m\n\u001b[0;32m--> 115\u001b[0;31m             \u001b[0mprob_posterior\u001b[0m\u001b[0;34m,\u001b[0m \u001b[0mprob_random\u001b[0m\u001b[0;34m,\u001b[0m \u001b[0mprob_binary\u001b[0m \u001b[0;34m=\u001b[0m \u001b[0mcalc_P_posterior\u001b[0m\u001b[0;34m(\u001b[0m\u001b[0mstar1\u001b[0m\u001b[0;34m,\u001b[0m \u001b[0mstar2\u001b[0m\u001b[0;34m,\u001b[0m \u001b[0mpos_density\u001b[0m\u001b[0;34m,\u001b[0m \u001b[0mpm_density\u001b[0m\u001b[0;34m,\u001b[0m \u001b[0mi\u001b[0m\u001b[0;34m,\u001b[0m \u001b[0mj\u001b[0m\u001b[0;34m,\u001b[0m \u001b[0mt\u001b[0m\u001b[0;34m)\u001b[0m\u001b[0;34m\u001b[0m\u001b[0m\n\u001b[0m\u001b[1;32m    116\u001b[0m \u001b[0;34m\u001b[0m\u001b[0m\n\u001b[1;32m    117\u001b[0m \u001b[0;34m\u001b[0m\u001b[0m\n",
      "\u001b[0;32m/Users/jeffandrews/Research/gaia_binaries/src/P_posterior.py\u001b[0m in \u001b[0;36mcalc_P_posterior\u001b[0;34m(star1, star2, pos_density, pm_density, id1, id2, t)\u001b[0m\n\u001b[1;32m    169\u001b[0m \u001b[0;34m\u001b[0m\u001b[0m\n\u001b[1;32m    170\u001b[0m     \u001b[0;31m# Find binary probabilities\u001b[0m\u001b[0;34m\u001b[0m\u001b[0;34m\u001b[0m\u001b[0m\n\u001b[0;32m--> 171\u001b[0;31m     \u001b[0mprob_tmp\u001b[0m \u001b[0;34m=\u001b[0m \u001b[0mP_binary\u001b[0m\u001b[0;34m.\u001b[0m\u001b[0mget_P_binary\u001b[0m\u001b[0;34m(\u001b[0m\u001b[0mproj_sep\u001b[0m\u001b[0;34m,\u001b[0m \u001b[0mdelta_v_trans\u001b[0m\u001b[0;34m)\u001b[0m\u001b[0;34m\u001b[0m\u001b[0m\n\u001b[0m\u001b[1;32m    172\u001b[0m \u001b[0;34m\u001b[0m\u001b[0m\n\u001b[1;32m    173\u001b[0m     \u001b[0;31m# Now, let's add probabilities for second star's parallax to match\u001b[0m\u001b[0;34m\u001b[0m\u001b[0;34m\u001b[0m\u001b[0m\n",
      "\u001b[0;32m/Users/jeffandrews/Research/gaia_binaries/src/P_binary.pyc\u001b[0m in \u001b[0;36mget_P_binary\u001b[0;34m(proj_sep, delta_v_trans, num_sys, method)\u001b[0m\n\u001b[1;32m    336\u001b[0m         \u001b[0;32mif\u001b[0m \u001b[0misinstance\u001b[0m\u001b[0;34m(\u001b[0m\u001b[0mdelta_v_trans\u001b[0m\u001b[0;34m,\u001b[0m \u001b[0mnp\u001b[0m\u001b[0;34m.\u001b[0m\u001b[0mndarray\u001b[0m\u001b[0;34m)\u001b[0m \u001b[0;32mand\u001b[0m \u001b[0misinstance\u001b[0m\u001b[0;34m(\u001b[0m\u001b[0mproj_sep\u001b[0m\u001b[0;34m,\u001b[0m \u001b[0mnp\u001b[0m\u001b[0;34m.\u001b[0m\u001b[0mndarray\u001b[0m\u001b[0;34m)\u001b[0m\u001b[0;34m:\u001b[0m\u001b[0;34m\u001b[0m\u001b[0m\n\u001b[1;32m    337\u001b[0m             \u001b[0mvalues\u001b[0m \u001b[0;34m=\u001b[0m \u001b[0mnp\u001b[0m\u001b[0;34m.\u001b[0m\u001b[0mvstack\u001b[0m\u001b[0;34m(\u001b[0m\u001b[0;34m[\u001b[0m\u001b[0mproj_sep\u001b[0m\u001b[0;34m,\u001b[0m \u001b[0mdelta_v_trans\u001b[0m\u001b[0;34m]\u001b[0m\u001b[0;34m)\u001b[0m\u001b[0;34m\u001b[0m\u001b[0m\n\u001b[0;32m--> 338\u001b[0;31m             \u001b[0mprob_binary\u001b[0m \u001b[0;34m=\u001b[0m \u001b[0mbinary_kde\u001b[0m\u001b[0;34m.\u001b[0m\u001b[0mevaluate\u001b[0m\u001b[0;34m(\u001b[0m\u001b[0mvalues\u001b[0m\u001b[0;34m)\u001b[0m\u001b[0;34m\u001b[0m\u001b[0m\n\u001b[0m\u001b[1;32m    339\u001b[0m         \u001b[0;32melif\u001b[0m \u001b[0misinstance\u001b[0m\u001b[0;34m(\u001b[0m\u001b[0mdelta_v_trans\u001b[0m\u001b[0;34m,\u001b[0m \u001b[0mnp\u001b[0m\u001b[0;34m.\u001b[0m\u001b[0mndarray\u001b[0m\u001b[0;34m)\u001b[0m\u001b[0;34m:\u001b[0m\u001b[0;34m\u001b[0m\u001b[0m\n\u001b[1;32m    340\u001b[0m             \u001b[0mvalues\u001b[0m \u001b[0;34m=\u001b[0m \u001b[0mnp\u001b[0m\u001b[0;34m.\u001b[0m\u001b[0mvstack\u001b[0m\u001b[0;34m(\u001b[0m\u001b[0;34m[\u001b[0m\u001b[0mproj_sep\u001b[0m\u001b[0;34m*\u001b[0m\u001b[0mnp\u001b[0m\u001b[0;34m.\u001b[0m\u001b[0mones\u001b[0m\u001b[0;34m(\u001b[0m\u001b[0mlen\u001b[0m\u001b[0;34m(\u001b[0m\u001b[0mdelta_v_trans\u001b[0m\u001b[0;34m)\u001b[0m\u001b[0;34m)\u001b[0m\u001b[0;34m,\u001b[0m \u001b[0mdelta_v_trans\u001b[0m\u001b[0;34m]\u001b[0m\u001b[0;34m)\u001b[0m\u001b[0;34m\u001b[0m\u001b[0m\n",
      "\u001b[0;32m/Library/Python/2.7/site-packages/scipy/stats/kde.pyc\u001b[0m in \u001b[0;36mevaluate\u001b[0;34m(self, points)\u001b[0m\n\u001b[1;32m    219\u001b[0m                 \u001b[0mtdiff\u001b[0m \u001b[0;34m=\u001b[0m \u001b[0mdot\u001b[0m\u001b[0;34m(\u001b[0m\u001b[0mself\u001b[0m\u001b[0;34m.\u001b[0m\u001b[0minv_cov\u001b[0m\u001b[0;34m,\u001b[0m \u001b[0mdiff\u001b[0m\u001b[0;34m)\u001b[0m\u001b[0;34m\u001b[0m\u001b[0m\n\u001b[1;32m    220\u001b[0m                 \u001b[0menergy\u001b[0m \u001b[0;34m=\u001b[0m \u001b[0msum\u001b[0m\u001b[0;34m(\u001b[0m\u001b[0mdiff\u001b[0m \u001b[0;34m*\u001b[0m \u001b[0mtdiff\u001b[0m\u001b[0;34m,\u001b[0m \u001b[0maxis\u001b[0m\u001b[0;34m=\u001b[0m\u001b[0;36m0\u001b[0m\u001b[0;34m)\u001b[0m \u001b[0;34m/\u001b[0m \u001b[0;36m2.0\u001b[0m\u001b[0;34m\u001b[0m\u001b[0m\n\u001b[0;32m--> 221\u001b[0;31m                 \u001b[0mresult\u001b[0m\u001b[0;34m[\u001b[0m\u001b[0mi\u001b[0m\u001b[0;34m]\u001b[0m \u001b[0;34m=\u001b[0m \u001b[0msum\u001b[0m\u001b[0;34m(\u001b[0m\u001b[0mexp\u001b[0m\u001b[0;34m(\u001b[0m\u001b[0;34m-\u001b[0m\u001b[0menergy\u001b[0m\u001b[0;34m)\u001b[0m\u001b[0;34m,\u001b[0m \u001b[0maxis\u001b[0m\u001b[0;34m=\u001b[0m\u001b[0;36m0\u001b[0m\u001b[0;34m)\u001b[0m\u001b[0;34m\u001b[0m\u001b[0m\n\u001b[0m\u001b[1;32m    222\u001b[0m \u001b[0;34m\u001b[0m\u001b[0m\n\u001b[1;32m    223\u001b[0m         \u001b[0mresult\u001b[0m \u001b[0;34m=\u001b[0m \u001b[0mresult\u001b[0m \u001b[0;34m/\u001b[0m \u001b[0mself\u001b[0m\u001b[0;34m.\u001b[0m\u001b[0m_norm_factor\u001b[0m\u001b[0;34m\u001b[0m\u001b[0m\n",
      "\u001b[0;31mKeyboardInterrupt\u001b[0m: "
     ]
    }
   ],
   "source": [
    "# Run search for wide binaries\n",
    "p_out = P_posterior.match_binaries(t)"
   ]
  },
  {
   "cell_type": "code",
   "execution_count": 31,
   "metadata": {
    "collapsed": false
   },
   "outputs": [
    {
     "name": "stdout",
     "output_type": "stream",
     "text": [
      "519\n"
     ]
    }
   ],
   "source": [
    "print t['']"
   ]
  },
  {
   "cell_type": "code",
   "execution_count": null,
   "metadata": {
    "collapsed": true
   },
   "outputs": [],
   "source": []
  }
 ],
 "metadata": {
  "kernelspec": {
   "display_name": "Python 2",
   "language": "python",
   "name": "python2"
  },
  "language_info": {
   "codemirror_mode": {
    "name": "ipython",
    "version": 2
   },
   "file_extension": ".py",
   "mimetype": "text/x-python",
   "name": "python",
   "nbconvert_exporter": "python",
   "pygments_lexer": "ipython2",
   "version": "2.7.10"
  }
 },
 "nbformat": 4,
 "nbformat_minor": 0
}
