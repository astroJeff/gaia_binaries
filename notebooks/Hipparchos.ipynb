{
 "cells": [
  {
   "cell_type": "markdown",
   "metadata": {},
   "source": [
    "# Set up search for binaries in Hipparchos"
   ]
  },
  {
   "cell_type": "code",
   "execution_count": 49,
   "metadata": {
    "collapsed": false
   },
   "outputs": [],
   "source": [
    "import os\n",
    "import sys\n",
    "sys.path.append('../src')\n",
    "import P_binary\n",
    "import P_random\n",
    "import P_posterior\n",
    "import const as c\n",
    "import time\n",
    "import numpy as np\n",
    "import matplotlib.pyplot as plt\n",
    "from astropy.table import Table\n",
    "from astropy import units as u\n",
    "import pickle\n",
    "\n",
    "%matplotlib inline"
   ]
  },
  {
   "cell_type": "markdown",
   "metadata": {},
   "source": [
    "### Read in catalog"
   ]
  },
  {
   "cell_type": "code",
   "execution_count": 50,
   "metadata": {
    "collapsed": false
   },
   "outputs": [
    {
     "name": "stdout",
     "output_type": "stream",
     "text": [
      "['HIP', 'Sn', 'So', 'Nc', 'RArad', 'DErad', 'Plx', 'pmRA', 'pmDE', 'e_RArad', 'e_DErad', 'e_Plx', 'e_pmRA', 'e_pmDE', 'Ntr', 'F2', 'F1', 'var', 'ic', 'Hpmag', 'e_Hpmag', 'sHp', 'VA', 'B-V', 'e_B-V', 'V-I']\n"
     ]
    }
   ],
   "source": [
    "# Read in sample from Tycho-2 table\n",
    "filename = ('../data/hipparchos/hip2.dat')\n",
    "readme = ('../data/hipparchos/ReadMe')\n",
    "hip_orig = Table.read(filename, format='cds', guess=False, readme=readme)\n",
    "\n",
    "print hip_orig.colnames"
   ]
  },
  {
   "cell_type": "code",
   "execution_count": 66,
   "metadata": {
    "collapsed": false
   },
   "outputs": [],
   "source": [
    "dtype = [('ID','i8'), ('ra','f8'), ('dec','f8'), ('mu_ra','f8'), ('mu_dec','f8'), \\\n",
    "         ('mu_ra_err','f8'), ('mu_dec_err','f8'), ('plx','f8'), ('plx_err','f8')]\n",
    "hip = np.zeros(len(hip_orig), dtype=dtype)\n",
    "\n",
    "hip['ID'] = hip_orig['HIP']\n",
    "hip['ra'] = hip_orig['RArad'] * c.rad_to_deg\n",
    "hip['dec'] = hip_orig['DErad'] * c.rad_to_deg\n",
    "hip['mu_ra'] = hip_orig['pmRA']\n",
    "hip['mu_dec'] = hip_orig['pmDE']\n",
    "hip['mu_ra_err'] = hip_orig['e_pmRA']\n",
    "hip['mu_dec_err'] = hip_orig['e_pmDE']\n",
    "hip['plx'] = hip_orig['Plx']\n",
    "hip['plx_err'] = hip_orig['e_Plx']\n",
    "\n",
    "hip = hip[hip['plx']>0.0]\n"
   ]
  },
  {
   "cell_type": "code",
   "execution_count": 52,
   "metadata": {
    "collapsed": false
   },
   "outputs": [
    {
     "data": {
      "image/png": "[encoded data removed]",
      "text/plain": [
       "<matplotlib.figure.Figure at 0x120fde650>"
      ]
     },
     "metadata": {},
     "output_type": "display_data"
    }
   ],
   "source": [
    "fig, ax = plt.subplots(1, 2, figsize=(12,4))\n",
    "\n",
    "ax[0].hist(hip['plx'], histtype='step', color='k', bins=40, range=(-20, 50))\n",
    "ax[1].hist(hip['plx_err'], histtype='step', color='k', bins=40, range=(0, 5))\n",
    "\n",
    "ax[0].set_xlabel('Parallax (mas)')\n",
    "ax[1].set_xlabel('Parallax Error (mas)')\n",
    "\n",
    "plt.show()"
   ]
  },
  {
   "cell_type": "markdown",
   "metadata": {},
   "source": [
    "### Let's try to nail down a distance prior for Hipparcos"
   ]
  },
  {
   "cell_type": "code",
   "execution_count": 53,
   "metadata": {
    "collapsed": true
   },
   "outputs": [],
   "source": [
    "from scipy.integrate import quad\n",
    "from scipy.optimize import minimize\n",
    "\n",
    "upper = 10000.0"
   ]
  },
  {
   "cell_type": "code",
   "execution_count": 77,
   "metadata": {
    "collapsed": false
   },
   "outputs": [
    {
     "data": {
      "image/png": "[encoded data removed]",
      "text/plain": [
       "<matplotlib.figure.Figure at 0x121ad6c90>"
      ]
     },
     "metadata": {},
     "output_type": "display_data"
    }
   ],
   "source": [
    "def get_integrand(x, y, gamma, sigma):\n",
    "    return np.power(x, -(gamma+1.0)) * np.exp(-0.5*((y-x)/sigma)**2)\n",
    "\n",
    "\n",
    "sigma = 1.5\n",
    "#gamma, L, U = 1.5,  3.0, 100.0 # 0.12\n",
    "gamma, L, U = 0.5,  0.698, 100.0 # 0.12\n",
    "\n",
    "x = np.linspace(-10.0, 50.0, 200)\n",
    "integral = np.zeros(len(x))\n",
    "coeff = 1.0/np.sqrt(2.0*np.pi)/sigma * gamma / (L**(-gamma) - U**(-gamma))\n",
    "for i in np.arange(len(x)):\n",
    "    args = x[i], gamma, 1.0\n",
    "    sol = quad(get_integrand, L, U, args=args)\n",
    "    integral[i] = sol[0]\n",
    "    \n",
    "    # print i, x[i], integral[i]\n",
    "    \n",
    "plt.plot(x, coeff*integral, color='k')\n",
    "\n",
    "\n",
    "\n",
    "plt.hist(hip['plx'], histtype='step', color='k', bins=40, range=(-20, 50), normed=True)\n",
    "\n",
    "plt.ylim(0.0, 0.15)\n",
    "plt.show()"
   ]
  },
  {
   "cell_type": "code",
   "execution_count": 83,
   "metadata": {
    "collapsed": true
   },
   "outputs": [],
   "source": [
    "def ln_posterior_minimize(x, data, sigma):\n",
    "    N = len(data)\n",
    "    \n",
    "    gamma, L = x\n",
    "\n",
    "    if L<0.0 or L > 5.0:\n",
    "        return np.inf\n",
    "    if gamma<0.01 or gamma>10.0:\n",
    "        return np.inf\n",
    "\n",
    "    ll = ln_likelihood(x, data, sigma)\n",
    "\n",
    "    return -ll\n",
    "\n",
    "\n",
    "\n",
    "def ln_likelihood(x, data, sigma):\n",
    "\n",
    "    gamma, L = x\n",
    "\n",
    "    N = len(data)\n",
    "\n",
    "\n",
    "    integral = np.zeros(N)\n",
    "\n",
    "    ran_indices = np.arange(N)\n",
    "#    ran_indices = np.random.randint(len(data), size=N)\n",
    "\n",
    "\n",
    "    for j in np.arange(N):\n",
    "        i = ran_indices[j]\n",
    "        args = data[i], gamma, sigma[i]\n",
    "        \n",
    "        # If integration range is negative\n",
    "        if max(L, data[i]-3.0*sigma[i]) > min(upper, data[i]+3.0*sigma[i]): \n",
    "            print \"Inf:\", i, data[i], sigma[i], L, data[i]-3.0*sigma[i], upper, data[i]+3.0*sigma[i]\n",
    "            return -np.inf\n",
    "\n",
    "        sol = quad(get_integrand, max(L, data[i]-3.0*sigma[i]), min(upper, data[i]+3.0*sigma[i]), \\\n",
    "                   args=args, epsrel=1.0e-1, epsabs=1.0e-1)\n",
    "        integral[j] = sol[0]\n",
    "        \n",
    "        # For very small (or negative) integrals, set to a small, near-zero value\n",
    "        if integral[j] <=0.0 or np.isnan(integral[j]): integral[j]=1.0e-100\n",
    "\n",
    "        \n",
    "            \n",
    "    ln_likelihood = - N/2.0 * np.log(2.0*np.pi) \\\n",
    "                        + N * np.log(gamma) \\\n",
    "                        - N * np.log(np.power(L, -gamma) - np.power(upper, -gamma)) \\\n",
    "                        + np.sum(np.log(integral))\n",
    "\n",
    "    print gamma, L, ln_likelihood\n",
    "                    \n",
    "    return ln_likelihood\n",
    "\n",
    "\n",
    "\n",
    "\n",
    "\n",
    "def ln_posterior_minimize_2(x, data, sigma):\n",
    "    N = len(data)\n",
    "    \n",
    "    alpha, beta = x\n",
    "\n",
    "    if alpha < 0.0 and beta < 0.0: return np.inf\n",
    "\n",
    "    ll = ln_likelihood_2(x, data, sigma)\n",
    "\n",
    "    return -ll\n",
    "\n",
    "\n",
    "\n",
    "\n",
    "def get_integrand_2(x, y, alpha, beta, sigma):\n",
    "    return x**alpha * np.exp(-beta*x - 0.5*((y-x)/sigma)**2)\n",
    "\n",
    "\n",
    "def ln_likelihood_2(x, data, sigma):\n",
    "\n",
    "    alpha, beta = x\n",
    "\n",
    "    N = len(data)\n",
    "\n",
    "    integral = np.zeros(N)\n",
    "\n",
    "    ran_indices = np.arange(N)\n",
    "\n",
    "    for j in np.arange(N):\n",
    "        i = ran_indices[j]\n",
    "        args = data[i], alpha, beta, sigma[i]\n",
    "        \n",
    "        sol = quad(get_integrand_2, data[i]-3.0*sigma[i], min(upper, data[i]+3.0*sigma[i]), \\\n",
    "                   args=args, epsrel=1.0e-1, epsabs=1.0e-1)\n",
    "        integral[j] = sol[0]\n",
    "        \n",
    "        # For very small (or negative) integrals, set to a small, near-zero value\n",
    "        if integral[j] <=0.0 or np.isnan(integral[j]): integral[j]=1.0e-100\n",
    "\n",
    "        \n",
    "            \n",
    "    ln_likelihood = np.sum(np.log(integral))\n",
    "\n",
    "    print alpha, beta, ln_likelihood\n",
    "                    \n",
    "    return ln_likelihood\n"
   ]
  },
  {
   "cell_type": "code",
   "execution_count": 84,
   "metadata": {
    "collapsed": false
   },
   "outputs": [],
   "source": [
    "def run_optimize(plx, sigma, ndim=3):\n",
    "\n",
    "    # Initial Position\n",
    "    p0 = np.array([2.0, 0.6])\n",
    "\n",
    "    args = plx, sigma\n",
    "#     res = minimize(ln_posterior_minimize, p0, args=args, method='Nelder-Mead')\n",
    "    res = minimize(ln_posterior_minimize_2, p0, args=args, method='Nelder-Mead')\n",
    "    \n",
    "    return res"
   ]
  },
  {
   "cell_type": "code",
   "execution_count": 85,
   "metadata": {
    "collapsed": false
   },
   "outputs": [
    {
     "name": "stdout",
     "output_type": "stream",
     "text": [
      "2.0 0.6 -43866.4441587\n",
      "-43866.4441587\n"
     ]
    }
   ],
   "source": [
    "x = 2.0,  0.6\n",
    "print ln_likelihood_2(x, hip['plx'], hip['plx_err'])"
   ]
  },
  {
   "cell_type": "code",
   "execution_count": 86,
   "metadata": {
    "collapsed": false
   },
   "outputs": [
    {
     "name": "stdout",
     "output_type": "stream",
     "text": [
      "2.0 0.6 -43866.4441587\n",
      "2.1 0.6 -7292657.49872\n",
      "2.0 0.63 -67851.9285709\n",
      "1.9 0.63 -7346766.73862\n",
      "2.05 0.6075 -7306212.60187\n",
      "2.0 0.615 -55875.4471957\n",
      "2.05 0.6 -7300526.55218\n",
      "1.95 0.615 -7327598.19612\n",
      "2.025 0.60375 -7307301.414\n",
      "2.0 0.6075 -49875.0261334\n",
      "2.025 0.6 -7304458.89146\n",
      "1.975 0.6075 -7317998.96226\n",
      "2.0125 0.601875 -7307845.64719\n",
      "2.0 0.60375 -46871.757174\n",
      "2.0125 0.6 -7306424.51172\n",
      "1.9875 0.60375 -7313195.60844\n",
      "2.00625 0.6009375 -7308117.72045\n",
      "2.0 0.601875 -45369.3564131\n",
      "2.00625 0.6 -7307407.1842\n",
      "1.99375 0.601875 -7310792.99778\n",
      "2.003125 0.60046875 -7308253.74624\n",
      "2.0 0.6009375 -44617.9642526\n",
      "2.003125 0.6 -7307898.48598\n",
      "1.996875 0.6009375 -7309591.45906\n",
      "2.0015625 0.600234375 -7308321.75641\n",
      "2.0 0.60046875 -44242.220201\n",
      "2.0015625 0.6 -7308144.12826\n",
      "1.9984375 0.60046875 -7308990.63137\n",
      "2.00078125 0.6001171875 -7308355.76083\n",
      "2.0 0.600234375 -44054.3361792\n",
      "2.00078125 0.6 -7308266.94724\n"
     ]
    },
    {
     "name": "stderr",
     "output_type": "stream",
     "text": [
      "/Library/Python/2.7/site-packages/ipykernel/__main__.py:72: RuntimeWarning: invalid value encountered in double_scalars\n"
     ]
    },
    {
     "ename": "KeyboardInterrupt",
     "evalue": "",
     "output_type": "error",
     "traceback": [
      "\u001b[0;31m---------------------------------------------------------------------------\u001b[0m",
      "\u001b[0;31mKeyboardInterrupt\u001b[0m                         Traceback (most recent call last)",
      "\u001b[0;32m<ipython-input-86-68462679db91>\u001b[0m in \u001b[0;36m<module>\u001b[0;34m()\u001b[0m\n\u001b[0;32m----> 1\u001b[0;31m \u001b[0mrun_optimize\u001b[0m\u001b[0;34m(\u001b[0m\u001b[0mhip\u001b[0m\u001b[0;34m[\u001b[0m\u001b[0;34m'plx'\u001b[0m\u001b[0;34m]\u001b[0m\u001b[0;34m,\u001b[0m \u001b[0mhip\u001b[0m\u001b[0;34m[\u001b[0m\u001b[0;34m'plx_err'\u001b[0m\u001b[0;34m]\u001b[0m\u001b[0;34m)\u001b[0m\u001b[0;34m\u001b[0m\u001b[0m\n\u001b[0m",
      "\u001b[0;32m<ipython-input-84-f7c6c8707f26>\u001b[0m in \u001b[0;36mrun_optimize\u001b[0;34m(plx, sigma, ndim)\u001b[0m\n\u001b[1;32m      6\u001b[0m     \u001b[0margs\u001b[0m \u001b[0;34m=\u001b[0m \u001b[0mplx\u001b[0m\u001b[0;34m,\u001b[0m \u001b[0msigma\u001b[0m\u001b[0;34m\u001b[0m\u001b[0m\n\u001b[1;32m      7\u001b[0m \u001b[0;31m#     res = minimize(ln_posterior_minimize, p0, args=args, method='Nelder-Mead')\u001b[0m\u001b[0;34m\u001b[0m\u001b[0;34m\u001b[0m\u001b[0m\n\u001b[0;32m----> 8\u001b[0;31m     \u001b[0mres\u001b[0m \u001b[0;34m=\u001b[0m \u001b[0mminimize\u001b[0m\u001b[0;34m(\u001b[0m\u001b[0mln_posterior_minimize_2\u001b[0m\u001b[0;34m,\u001b[0m \u001b[0mp0\u001b[0m\u001b[0;34m,\u001b[0m \u001b[0margs\u001b[0m\u001b[0;34m=\u001b[0m\u001b[0margs\u001b[0m\u001b[0;34m,\u001b[0m \u001b[0mmethod\u001b[0m\u001b[0;34m=\u001b[0m\u001b[0;34m'Nelder-Mead'\u001b[0m\u001b[0;34m)\u001b[0m\u001b[0;34m\u001b[0m\u001b[0m\n\u001b[0m\u001b[1;32m      9\u001b[0m \u001b[0;34m\u001b[0m\u001b[0m\n\u001b[1;32m     10\u001b[0m     \u001b[0;32mreturn\u001b[0m \u001b[0mres\u001b[0m\u001b[0;34m\u001b[0m\u001b[0m\n",
      "\u001b[0;32m/Library/Python/2.7/site-packages/scipy/optimize/_minimize.pyc\u001b[0m in \u001b[0;36mminimize\u001b[0;34m(fun, x0, args, method, jac, hess, hessp, bounds, constraints, tol, callback, options)\u001b[0m\n\u001b[1;32m    433\u001b[0m                       callback=callback, **options)\n\u001b[1;32m    434\u001b[0m     \u001b[0;32melif\u001b[0m \u001b[0mmeth\u001b[0m \u001b[0;34m==\u001b[0m \u001b[0;34m'nelder-mead'\u001b[0m\u001b[0;34m:\u001b[0m\u001b[0;34m\u001b[0m\u001b[0m\n\u001b[0;32m--> 435\u001b[0;31m         \u001b[0;32mreturn\u001b[0m \u001b[0m_minimize_neldermead\u001b[0m\u001b[0;34m(\u001b[0m\u001b[0mfun\u001b[0m\u001b[0;34m,\u001b[0m \u001b[0mx0\u001b[0m\u001b[0;34m,\u001b[0m \u001b[0margs\u001b[0m\u001b[0;34m,\u001b[0m \u001b[0mcallback\u001b[0m\u001b[0;34m,\u001b[0m \u001b[0;34m**\u001b[0m\u001b[0moptions\u001b[0m\u001b[0;34m)\u001b[0m\u001b[0;34m\u001b[0m\u001b[0m\n\u001b[0m\u001b[1;32m    436\u001b[0m     \u001b[0;32melif\u001b[0m \u001b[0mmeth\u001b[0m \u001b[0;34m==\u001b[0m \u001b[0;34m'powell'\u001b[0m\u001b[0;34m:\u001b[0m\u001b[0;34m\u001b[0m\u001b[0m\n\u001b[1;32m    437\u001b[0m         \u001b[0;32mreturn\u001b[0m \u001b[0m_minimize_powell\u001b[0m\u001b[0;34m(\u001b[0m\u001b[0mfun\u001b[0m\u001b[0;34m,\u001b[0m \u001b[0mx0\u001b[0m\u001b[0;34m,\u001b[0m \u001b[0margs\u001b[0m\u001b[0;34m,\u001b[0m \u001b[0mcallback\u001b[0m\u001b[0;34m,\u001b[0m \u001b[0;34m**\u001b[0m\u001b[0moptions\u001b[0m\u001b[0;34m)\u001b[0m\u001b[0;34m\u001b[0m\u001b[0m\n",
      "\u001b[0;32m/Library/Python/2.7/site-packages/scipy/optimize/optimize.pyc\u001b[0m in \u001b[0;36m_minimize_neldermead\u001b[0;34m(func, x0, args, callback, xtol, ftol, maxiter, maxfev, disp, return_all, **unknown_options)\u001b[0m\n\u001b[1;32m    465\u001b[0m         \u001b[0mxbar\u001b[0m \u001b[0;34m=\u001b[0m \u001b[0mnumpy\u001b[0m\u001b[0;34m.\u001b[0m\u001b[0madd\u001b[0m\u001b[0;34m.\u001b[0m\u001b[0mreduce\u001b[0m\u001b[0;34m(\u001b[0m\u001b[0msim\u001b[0m\u001b[0;34m[\u001b[0m\u001b[0;34m:\u001b[0m\u001b[0;34m-\u001b[0m\u001b[0;36m1\u001b[0m\u001b[0;34m]\u001b[0m\u001b[0;34m,\u001b[0m \u001b[0;36m0\u001b[0m\u001b[0;34m)\u001b[0m \u001b[0;34m/\u001b[0m \u001b[0mN\u001b[0m\u001b[0;34m\u001b[0m\u001b[0m\n\u001b[1;32m    466\u001b[0m         \u001b[0mxr\u001b[0m \u001b[0;34m=\u001b[0m \u001b[0;34m(\u001b[0m\u001b[0;36m1\u001b[0m \u001b[0;34m+\u001b[0m \u001b[0mrho\u001b[0m\u001b[0;34m)\u001b[0m \u001b[0;34m*\u001b[0m \u001b[0mxbar\u001b[0m \u001b[0;34m-\u001b[0m \u001b[0mrho\u001b[0m \u001b[0;34m*\u001b[0m \u001b[0msim\u001b[0m\u001b[0;34m[\u001b[0m\u001b[0;34m-\u001b[0m\u001b[0;36m1\u001b[0m\u001b[0;34m]\u001b[0m\u001b[0;34m\u001b[0m\u001b[0m\n\u001b[0;32m--> 467\u001b[0;31m         \u001b[0mfxr\u001b[0m \u001b[0;34m=\u001b[0m \u001b[0mfunc\u001b[0m\u001b[0;34m(\u001b[0m\u001b[0mxr\u001b[0m\u001b[0;34m)\u001b[0m\u001b[0;34m\u001b[0m\u001b[0m\n\u001b[0m\u001b[1;32m    468\u001b[0m         \u001b[0mdoshrink\u001b[0m \u001b[0;34m=\u001b[0m \u001b[0;36m0\u001b[0m\u001b[0;34m\u001b[0m\u001b[0m\n\u001b[1;32m    469\u001b[0m \u001b[0;34m\u001b[0m\u001b[0m\n",
      "\u001b[0;32m/Library/Python/2.7/site-packages/scipy/optimize/optimize.pyc\u001b[0m in \u001b[0;36mfunction_wrapper\u001b[0;34m(*wrapper_args)\u001b[0m\n\u001b[1;32m    287\u001b[0m     \u001b[0;32mdef\u001b[0m \u001b[0mfunction_wrapper\u001b[0m\u001b[0;34m(\u001b[0m\u001b[0;34m*\u001b[0m\u001b[0mwrapper_args\u001b[0m\u001b[0;34m)\u001b[0m\u001b[0;34m:\u001b[0m\u001b[0;34m\u001b[0m\u001b[0m\n\u001b[1;32m    288\u001b[0m         \u001b[0mncalls\u001b[0m\u001b[0;34m[\u001b[0m\u001b[0;36m0\u001b[0m\u001b[0;34m]\u001b[0m \u001b[0;34m+=\u001b[0m \u001b[0;36m1\u001b[0m\u001b[0;34m\u001b[0m\u001b[0m\n\u001b[0;32m--> 289\u001b[0;31m         \u001b[0;32mreturn\u001b[0m \u001b[0mfunction\u001b[0m\u001b[0;34m(\u001b[0m\u001b[0;34m*\u001b[0m\u001b[0;34m(\u001b[0m\u001b[0mwrapper_args\u001b[0m \u001b[0;34m+\u001b[0m \u001b[0margs\u001b[0m\u001b[0;34m)\u001b[0m\u001b[0;34m)\u001b[0m\u001b[0;34m\u001b[0m\u001b[0m\n\u001b[0m\u001b[1;32m    290\u001b[0m \u001b[0;34m\u001b[0m\u001b[0m\n\u001b[1;32m    291\u001b[0m     \u001b[0;32mreturn\u001b[0m \u001b[0mncalls\u001b[0m\u001b[0;34m,\u001b[0m \u001b[0mfunction_wrapper\u001b[0m\u001b[0;34m\u001b[0m\u001b[0m\n",
      "\u001b[0;32m<ipython-input-83-abc8660f0340>\u001b[0m in \u001b[0;36mln_posterior_minimize_2\u001b[0;34m(x, data, sigma)\u001b[0m\n\u001b[1;32m     62\u001b[0m     \u001b[0;32mif\u001b[0m \u001b[0malpha\u001b[0m \u001b[0;34m<\u001b[0m \u001b[0;36m0.0\u001b[0m \u001b[0;32mand\u001b[0m \u001b[0mbeta\u001b[0m \u001b[0;34m<\u001b[0m \u001b[0;36m0.0\u001b[0m\u001b[0;34m:\u001b[0m \u001b[0;32mreturn\u001b[0m \u001b[0mnp\u001b[0m\u001b[0;34m.\u001b[0m\u001b[0minf\u001b[0m\u001b[0;34m\u001b[0m\u001b[0m\n\u001b[1;32m     63\u001b[0m \u001b[0;34m\u001b[0m\u001b[0m\n\u001b[0;32m---> 64\u001b[0;31m     \u001b[0mll\u001b[0m \u001b[0;34m=\u001b[0m \u001b[0mln_likelihood_2\u001b[0m\u001b[0;34m(\u001b[0m\u001b[0mx\u001b[0m\u001b[0;34m,\u001b[0m \u001b[0mdata\u001b[0m\u001b[0;34m,\u001b[0m \u001b[0msigma\u001b[0m\u001b[0;34m)\u001b[0m\u001b[0;34m\u001b[0m\u001b[0m\n\u001b[0m\u001b[1;32m     65\u001b[0m \u001b[0;34m\u001b[0m\u001b[0m\n\u001b[1;32m     66\u001b[0m     \u001b[0;32mreturn\u001b[0m \u001b[0;34m-\u001b[0m\u001b[0mll\u001b[0m\u001b[0;34m\u001b[0m\u001b[0m\n",
      "\u001b[0;32m<ipython-input-83-abc8660f0340>\u001b[0m in \u001b[0;36mln_likelihood_2\u001b[0;34m(x, data, sigma)\u001b[0m\n\u001b[1;32m     87\u001b[0m         \u001b[0margs\u001b[0m \u001b[0;34m=\u001b[0m \u001b[0mdata\u001b[0m\u001b[0;34m[\u001b[0m\u001b[0mi\u001b[0m\u001b[0;34m]\u001b[0m\u001b[0;34m,\u001b[0m \u001b[0malpha\u001b[0m\u001b[0;34m,\u001b[0m \u001b[0mbeta\u001b[0m\u001b[0;34m,\u001b[0m \u001b[0msigma\u001b[0m\u001b[0;34m[\u001b[0m\u001b[0mi\u001b[0m\u001b[0;34m]\u001b[0m\u001b[0;34m\u001b[0m\u001b[0m\n\u001b[1;32m     88\u001b[0m \u001b[0;34m\u001b[0m\u001b[0m\n\u001b[0;32m---> 89\u001b[0;31m         \u001b[0msol\u001b[0m \u001b[0;34m=\u001b[0m \u001b[0mquad\u001b[0m\u001b[0;34m(\u001b[0m\u001b[0mget_integrand_2\u001b[0m\u001b[0;34m,\u001b[0m \u001b[0mdata\u001b[0m\u001b[0;34m[\u001b[0m\u001b[0mi\u001b[0m\u001b[0;34m]\u001b[0m\u001b[0;34m-\u001b[0m\u001b[0;36m3.0\u001b[0m\u001b[0;34m*\u001b[0m\u001b[0msigma\u001b[0m\u001b[0;34m[\u001b[0m\u001b[0mi\u001b[0m\u001b[0;34m]\u001b[0m\u001b[0;34m,\u001b[0m \u001b[0mmin\u001b[0m\u001b[0;34m(\u001b[0m\u001b[0mupper\u001b[0m\u001b[0;34m,\u001b[0m \u001b[0mdata\u001b[0m\u001b[0;34m[\u001b[0m\u001b[0mi\u001b[0m\u001b[0;34m]\u001b[0m\u001b[0;34m+\u001b[0m\u001b[0;36m3.0\u001b[0m\u001b[0;34m*\u001b[0m\u001b[0msigma\u001b[0m\u001b[0;34m[\u001b[0m\u001b[0mi\u001b[0m\u001b[0;34m]\u001b[0m\u001b[0;34m)\u001b[0m\u001b[0;34m,\u001b[0m                    \u001b[0margs\u001b[0m\u001b[0;34m=\u001b[0m\u001b[0margs\u001b[0m\u001b[0;34m,\u001b[0m \u001b[0mepsrel\u001b[0m\u001b[0;34m=\u001b[0m\u001b[0;36m1.0e-1\u001b[0m\u001b[0;34m,\u001b[0m \u001b[0mepsabs\u001b[0m\u001b[0;34m=\u001b[0m\u001b[0;36m1.0e-1\u001b[0m\u001b[0;34m)\u001b[0m\u001b[0;34m\u001b[0m\u001b[0m\n\u001b[0m\u001b[1;32m     90\u001b[0m         \u001b[0mintegral\u001b[0m\u001b[0;34m[\u001b[0m\u001b[0mj\u001b[0m\u001b[0;34m]\u001b[0m \u001b[0;34m=\u001b[0m \u001b[0msol\u001b[0m\u001b[0;34m[\u001b[0m\u001b[0;36m0\u001b[0m\u001b[0;34m]\u001b[0m\u001b[0;34m\u001b[0m\u001b[0m\n\u001b[1;32m     91\u001b[0m \u001b[0;34m\u001b[0m\u001b[0m\n",
      "\u001b[0;32m/Library/Python/2.7/site-packages/scipy/integrate/quadpack.pyc\u001b[0m in \u001b[0;36mquad\u001b[0;34m(func, a, b, args, full_output, epsabs, epsrel, limit, points, weight, wvar, wopts, maxp1, limlst)\u001b[0m\n\u001b[1;32m    314\u001b[0m     \u001b[0;32mif\u001b[0m \u001b[0;34m(\u001b[0m\u001b[0mweight\u001b[0m \u001b[0;32mis\u001b[0m \u001b[0mNone\u001b[0m\u001b[0;34m)\u001b[0m\u001b[0;34m:\u001b[0m\u001b[0;34m\u001b[0m\u001b[0m\n\u001b[1;32m    315\u001b[0m         retval = _quad(func, a, b, args, full_output, epsabs, epsrel, limit,\n\u001b[0;32m--> 316\u001b[0;31m                        points)\n\u001b[0m\u001b[1;32m    317\u001b[0m     \u001b[0;32melse\u001b[0m\u001b[0;34m:\u001b[0m\u001b[0;34m\u001b[0m\u001b[0m\n\u001b[1;32m    318\u001b[0m         retval = _quad_weight(func, a, b, args, full_output, epsabs, epsrel,\n",
      "\u001b[0;32m/Library/Python/2.7/site-packages/scipy/integrate/quadpack.pyc\u001b[0m in \u001b[0;36m_quad\u001b[0;34m(func, a, b, args, full_output, epsabs, epsrel, limit, points)\u001b[0m\n\u001b[1;32m    379\u001b[0m     \u001b[0;32mif\u001b[0m \u001b[0mpoints\u001b[0m \u001b[0;32mis\u001b[0m \u001b[0mNone\u001b[0m\u001b[0;34m:\u001b[0m\u001b[0;34m\u001b[0m\u001b[0m\n\u001b[1;32m    380\u001b[0m         \u001b[0;32mif\u001b[0m \u001b[0minfbounds\u001b[0m \u001b[0;34m==\u001b[0m \u001b[0;36m0\u001b[0m\u001b[0;34m:\u001b[0m\u001b[0;34m\u001b[0m\u001b[0m\n\u001b[0;32m--> 381\u001b[0;31m             \u001b[0;32mreturn\u001b[0m \u001b[0m_quadpack\u001b[0m\u001b[0;34m.\u001b[0m\u001b[0m_qagse\u001b[0m\u001b[0;34m(\u001b[0m\u001b[0mfunc\u001b[0m\u001b[0;34m,\u001b[0m\u001b[0ma\u001b[0m\u001b[0;34m,\u001b[0m\u001b[0mb\u001b[0m\u001b[0;34m,\u001b[0m\u001b[0margs\u001b[0m\u001b[0;34m,\u001b[0m\u001b[0mfull_output\u001b[0m\u001b[0;34m,\u001b[0m\u001b[0mepsabs\u001b[0m\u001b[0;34m,\u001b[0m\u001b[0mepsrel\u001b[0m\u001b[0;34m,\u001b[0m\u001b[0mlimit\u001b[0m\u001b[0;34m)\u001b[0m\u001b[0;34m\u001b[0m\u001b[0m\n\u001b[0m\u001b[1;32m    382\u001b[0m         \u001b[0;32melse\u001b[0m\u001b[0;34m:\u001b[0m\u001b[0;34m\u001b[0m\u001b[0m\n\u001b[1;32m    383\u001b[0m             \u001b[0;32mreturn\u001b[0m \u001b[0m_quadpack\u001b[0m\u001b[0;34m.\u001b[0m\u001b[0m_qagie\u001b[0m\u001b[0;34m(\u001b[0m\u001b[0mfunc\u001b[0m\u001b[0;34m,\u001b[0m\u001b[0mbound\u001b[0m\u001b[0;34m,\u001b[0m\u001b[0minfbounds\u001b[0m\u001b[0;34m,\u001b[0m\u001b[0margs\u001b[0m\u001b[0;34m,\u001b[0m\u001b[0mfull_output\u001b[0m\u001b[0;34m,\u001b[0m\u001b[0mepsabs\u001b[0m\u001b[0;34m,\u001b[0m\u001b[0mepsrel\u001b[0m\u001b[0;34m,\u001b[0m\u001b[0mlimit\u001b[0m\u001b[0;34m)\u001b[0m\u001b[0;34m\u001b[0m\u001b[0m\n",
      "\u001b[0;32m<ipython-input-83-abc8660f0340>\u001b[0m in \u001b[0;36mget_integrand_2\u001b[0;34m(x, y, alpha, beta, sigma)\u001b[0m\n\u001b[1;32m     70\u001b[0m \u001b[0;34m\u001b[0m\u001b[0m\n\u001b[1;32m     71\u001b[0m \u001b[0;32mdef\u001b[0m \u001b[0mget_integrand_2\u001b[0m\u001b[0;34m(\u001b[0m\u001b[0mx\u001b[0m\u001b[0;34m,\u001b[0m \u001b[0my\u001b[0m\u001b[0;34m,\u001b[0m \u001b[0malpha\u001b[0m\u001b[0;34m,\u001b[0m \u001b[0mbeta\u001b[0m\u001b[0;34m,\u001b[0m \u001b[0msigma\u001b[0m\u001b[0;34m)\u001b[0m\u001b[0;34m:\u001b[0m\u001b[0;34m\u001b[0m\u001b[0m\n\u001b[0;32m---> 72\u001b[0;31m     \u001b[0;32mreturn\u001b[0m \u001b[0mx\u001b[0m\u001b[0;34m**\u001b[0m\u001b[0malpha\u001b[0m \u001b[0;34m*\u001b[0m \u001b[0mnp\u001b[0m\u001b[0;34m.\u001b[0m\u001b[0mexp\u001b[0m\u001b[0;34m(\u001b[0m\u001b[0;34m-\u001b[0m\u001b[0mbeta\u001b[0m\u001b[0;34m*\u001b[0m\u001b[0mx\u001b[0m \u001b[0;34m-\u001b[0m \u001b[0;36m0.5\u001b[0m\u001b[0;34m*\u001b[0m\u001b[0;34m(\u001b[0m\u001b[0;34m(\u001b[0m\u001b[0my\u001b[0m\u001b[0;34m-\u001b[0m\u001b[0mx\u001b[0m\u001b[0;34m)\u001b[0m\u001b[0;34m/\u001b[0m\u001b[0msigma\u001b[0m\u001b[0;34m)\u001b[0m\u001b[0;34m**\u001b[0m\u001b[0;36m2\u001b[0m\u001b[0;34m)\u001b[0m\u001b[0;34m\u001b[0m\u001b[0m\n\u001b[0m\u001b[1;32m     73\u001b[0m \u001b[0;34m\u001b[0m\u001b[0m\n\u001b[1;32m     74\u001b[0m \u001b[0;34m\u001b[0m\u001b[0m\n",
      "\u001b[0;31mKeyboardInterrupt\u001b[0m: "
     ]
    }
   ],
   "source": [
    "run_optimize(hip['plx'], hip['plx_err'])"
   ]
  },
  {
   "cell_type": "code",
   "execution_count": null,
   "metadata": {
    "collapsed": true
   },
   "outputs": [],
   "source": []
  },
  {
   "cell_type": "code",
   "execution_count": null,
   "metadata": {
    "collapsed": true
   },
   "outputs": [],
   "source": []
  },
  {
   "cell_type": "code",
   "execution_count": null,
   "metadata": {
    "collapsed": true
   },
   "outputs": [],
   "source": []
  },
  {
   "cell_type": "code",
   "execution_count": null,
   "metadata": {
    "collapsed": true
   },
   "outputs": [],
   "source": []
  },
  {
   "cell_type": "code",
   "execution_count": 14,
   "metadata": {
    "collapsed": false
   },
   "outputs": [
    {
     "name": "stdout",
     "output_type": "stream",
     "text": [
      "[('i_1', '<i4'), ('i_2', '<i4'), ('ID_1', '<i4'), ('ID_2', '<i4'), ('P_random', '<f8'), ('P_binary', '<f8'), ('P_posterior', '<f8'), ('theta', '<f8'), ('mu_ra_1', '<f8'), ('mu_dec_1', '<f8'), ('mu_ra_2', '<f8'), ('mu_dec_2', '<f8'), ('plx_1', '<f8'), ('plx_2', '<f8')]\n"
     ]
    }
   ],
   "source": [
    "hip_match = pickle.load(open('../data/hipparchos/hipparchos.p', 'rb'))\n",
    "print hip_match.dtype"
   ]
  },
  {
   "cell_type": "code",
   "execution_count": 30,
   "metadata": {
    "collapsed": false
   },
   "outputs": [
    {
     "name": "stdout",
     "output_type": "stream",
     "text": [
      "185 190 -44.25 -114.37 -48.74 -117.9 77.399380805 87.489063867\n",
      "   6.81838867893e-11 1.36978624434e-09 0.909459609073\n",
      "1196 1197 99.42 -23.62 101.87 -25.08 77.7604976672 90.0090009001\n",
      "   1.33098754214e-11 1.78683178729e-08 0.998512442379\n",
      "1887 1891 38.88 1.97 41.46 -1.83 71.8907260963 84.6023688663\n",
      "   8.59118320544e-10 4.65995969203e-09 0.730607753141\n",
      "2292 2350 -112.15 -221.15 -105.63 -223.46 56.7214974475 49.9251123315\n",
      "   2.41072594474e-10 4.96942508758e-11 0.0934384461824\n",
      "2487 2578 93.97 -46.32 86.66 -50.33 51.652892562 45.5580865604\n",
      "   1.32869062446e-09 1.75878683552e-10 0.0620764376525\n",
      "2778 2779 -4.56 -2.75 -5.24 1.33 92.5925925926 109.289617486\n",
      "   7.37639943965e-09 2.03423721057e-09 0.121179057439\n",
      "3337 3340 -70.5 -157.83 -66.91 -165.1 54.4069640914 32.9055610398\n",
      "   2.32412839786e-11 1.69817990454e-09 0.973357271856\n",
      "4084 4088 4.87 -70.79 8.65 -86.59 63.2911392405 57.1102227299\n",
      "   2.64093577895e-10 2.52708554307e-09 0.827122745545\n",
      "5131 5132 44.49 -14.82 52.88 -11.88 84.3170320405 85.910652921\n",
      "   1.36283536608e-09 6.97881508308e-09 0.719132905746\n",
      "5476 5480 -71.96 -20.2 -75.23 -18.05 70.8717221828 79.2393026941\n",
      "   1.69052557407e-10 5.18297652999e-09 0.93876107318\n",
      "5737 5743 145.0 -55.69 181.78 -40.34 53.3049040512 93.984962406\n",
      "   1.40783461163e-10 3.43099941973e-10 0.549252668232\n",
      "6262 6264 87.37 48.77 133.5 71.45 74.5156482861 96.2463907603\n",
      "   2.60200176984e-10 1.34613666888e-10 0.205512649504\n",
      "6668 6675 154.5 -48.83 154.93 -50.96 64.1025641026 60.5326876513\n",
      "   2.08047506235e-11 1.07571269301e-08 0.996146817592\n",
      "6758 6761 -28.38 -76.68 -17.15 -67.93 69.4927032662 81.8330605565\n",
      "   6.18795518507e-10 8.4246047061e-10 0.405019042808\n",
      "6772 6804 295.13 75.26 293.42 75.64 60.350030175 61.804697157\n",
      "   1.99753148361e-11 5.56990857587e-10 0.933074462866\n",
      "6847 6849 36.98 8.23 44.76 8.22 56.0852495794 57.3065902579\n",
      "   9.34343954611e-10 6.9992745956e-09 0.789276521162\n",
      "7376 7384 49.34 60.19 49.15 59.14 97.7517106549 125.470514429\n",
      "   1.22104826562e-10 7.90145275023e-10 0.763901494082\n",
      "7673 7674 -9.88 -47.77 -8.77 -51.97 89.5255147717 73.8552437223\n",
      "   2.75812358546e-10 1.00770102864e-08 0.948100135444\n",
      "8678 8679 24.0 -7.34 19.43 -3.59 68.1198910082 97.7517106549\n",
      "   4.83341880467e-09 2.01034508213e-09 0.172160112182\n",
      "9971 9972 225.45 -301.81 238.73 -314.68 56.1167227834 92.4214417745\n",
      "   3.99723737052e-12 1.1301829802e-09 0.992976073541\n",
      "10653 10660 71.65 -23.45 73.09 -19.37 72.202166065 95.4198473282\n",
      "   4.33825117258e-10 7.08313098188e-10 0.449447701916\n",
      "11134 11137 108.99 184.41 109.95 185.76 57.1102227299 58.7889476778\n",
      "   2.33932681887e-12 1.68712424779e-08 0.999722761584\n",
      "11323 11324 30.27 37.48 22.04 30.92 79.0513833992 52.7704485488\n",
      "   5.59091374183e-10 1.85406728502e-09 0.623792502041\n",
      "11736 11737 -66.92 -25.08 -43.29 -22.74 71.2758374911 49.9251123315\n",
      "   8.05311977888e-10 1.39472690222e-09 0.464081223166\n",
      "12326 12361 72.33 48.56 73.12 49.65 60.4594921403 58.858151854\n",
      "   1.15212550324e-10 2.85381693312e-09 0.925289553114\n",
      "12342 12345 26.53 -11.9 18.06 -16.03 72.0980533526 128.865979381\n",
      "   3.98744647023e-09 5.22281394529e-10 0.0614653029276\n",
      "12635 12638 75.73 -111.45 79.2 -107.49 50.4286434695 45.4545454545\n",
      "   2.59492891479e-11 1.23910739466e-08 0.995829085197\n",
      "14307 14313 88.59 72.28 85.23 72.22 53.4759358289 54.2888165038\n",
      "   1.79312514305e-11 3.81824013718e-08 0.999061639666\n",
      "14316 14317 -18.04 -3.95 -25.24 12.87 74.5156482861 96.3391136802\n",
      "   1.3159579339e-08 1.00802685758e-09 0.0368873280518\n",
      "14807 14809 54.86 -134.25 54.04 -126.09 52.4658971668 53.7056928034\n",
      "   6.35445835011e-11 7.75613451022e-09 0.983878528353\n",
      "16078 16080 0.99 77.08 -4.26 80.16 88.1057268722 87.7963125549\n",
      "   3.12378591244e-11 1.06135012522e-08 0.994148009271\n",
      "16410 16411 26.18 -26.27 43.14 -25.7 63.0119722747 97.4658869396\n",
      "   2.8367146443e-09 1.15040135278e-09 0.168585859357\n",
      "16723 16739 7.5 -34.1 7.81 -35.65 59.7728631201 71.530758226\n",
      "   1.71424402279e-08 6.03268916391e-10 0.0172915138019\n",
      "16942 16959 26.22 44.48 25.62 43.08 76.2776506484 74.1289844329\n",
      "   1.17585048728e-10 1.55330610369e-08 0.985085828876\n",
      "17486 17515 -11.06 -96.71 -8.74 -97.44 54.5553737043 52.3286237572\n",
      "   5.82368481357e-11 1.00503623454e-08 0.988543761718\n",
      "18496 18497 7.95 20.4 5.87 7.62 80.2568218299 54.914881933\n",
      "   3.08106396058e-09 1.84431431763e-09 0.230353790438\n",
      "18888 18958 -60.73 -84.72 -67.56 -85.73 62.9326620516 69.0131124914\n",
      "   2.24143383052e-09 9.19831347873e-11 0.0201062589563\n",
      "20074 20109 49.01 72.71 45.76 72.29 74.3494423792 72.0461095101\n",
      "   2.07652180485e-10 1.95384216658e-09 0.824702965334\n",
      "20563 20648 110.57 -35.23 107.6 -34.54 51.7866390471 45.5373406193\n",
      "   2.92404951058e-09 7.16136518659e-11 0.0120974878041\n",
      "20610 20612 -49.72 -13.54 -50.76 -13.28 71.2758374911 59.880239521\n",
      "   8.23199375349e-11 1.11218907588e-08 0.985412711806\n",
      "20637 20669 -127.62 -50.23 -128.71 -56.47 64.308681672 62.4219725343\n",
      "   1.99889383889e-10 7.88678177129e-10 0.663615270633\n",
      "20869 20875 25.44 130.35 25.14 118.15 84.1042893188 104.60251046\n",
      "   6.4181399573e-12 3.49731091626e-09 0.996343093552\n",
      "20904 20907 22.67 -23.55 17.54 -23.06 51.5995872033 41.135335253\n",
      "   1.95196305308e-09 5.9341907075e-09 0.603183599046\n",
      "21375 21377 40.65 -3.64 25.42 -12.8 62.5 197.628458498\n",
      "   2.4752247316e-09 1.83031753612e-10 0.035654509266\n",
      "21534 21537 14.87 12.92 16.42 11.44 66.1375661376 66.9344042838\n",
      "   6.54012535944e-09 8.29348920757e-09 0.388022369324\n",
      "21702 21704 11.72 21.25 12.32 21.43 90.9090909091 87.1080139373\n",
      "   1.35291895772e-09 8.76860907187e-09 0.764185766997\n",
      "21744 21745 29.49 -6.54 24.81 -1.2 92.5925925926 175.131348511\n",
      "   2.34222023901e-09 1.76978626327e-09 0.274205777735\n",
      "22604 22611 73.53 6.86 75.05 8.59 57.5705238918 59.3471810089\n",
      "   3.36176141625e-10 6.7634696307e-09 0.909579291835\n",
      "23692 23694 7.45 -89.54 14.67 -94.26 59.880239521 50.4795557799\n",
      "   5.21538766111e-10 1.04609473892e-09 0.500722105768\n",
      "23807 23810 54.12 -56.7 59.6 -54.55 76.8639508071 93.984962406\n",
      "   4.10196240973e-10 2.87369232891e-09 0.77791725855\n",
      "23923 23926 -77.32 283.3 -76.8 283.58 54.1711809317 53.5045478866\n",
      "   1.19048735014e-13 6.20870404098e-08 0.999996165117\n",
      "23977 23980 -5.86 -22.84 -5.1 -21.91 86.7302688638 118.906064209\n",
      "   2.68704082246e-09 2.2320682626e-09 0.293455728554\n",
      "24005 24016 64.84 1.67 59.11 -6.04 53.3617929562 52.9661016949\n",
      "   1.53851950497e-09 4.52262187213e-09 0.59510837948\n",
      "24019 24020 55.5 -58.91 57.27 -59.04 52.6038926881 73.9098300074\n",
      "   9.00763999888e-11 5.93124930066e-09 0.970521854558\n",
      "24711 24712 72.88 22.6 71.91 20.88 65.1890482399 69.8812019567\n",
      "   4.08078620704e-11 2.4824990563e-08 0.99672312947\n",
      "24913 24917 -7.82 16.16 -5.94 16.11 96.8992248062 112.233445567\n",
      "   1.18207412167e-08 5.78518285312e-10 0.0238859730861\n",
      "24919 24920 1.87 -66.51 -4.59 -61.11 97.8473581213 144.09221902\n",
      "   1.00123942335e-09 1.85271053476e-10 0.0846856642349\n",
      "25434 25436 27.09 -3.24 19.33 10.04 67.7506775068 71.4796283059\n",
      "   4.14036896865e-09 3.76618267998e-09 0.31262617225\n",
      "25763 25764 12.21 -30.93 16.56 -25.47 98.4251968504 169.779286927\n",
      "   2.38175915166e-09 7.43187472628e-10 0.134960446929\n",
      "25805 25811 -24.77 24.02 -28.17 28.6 97.5609756098 87.4125874126\n",
      "   4.41311062447e-10 1.23813538741e-08 0.933457198282\n",
      "26531 26533 -5.98 -18.52 -1.89 -15.89 88.3392226148 91.9963201472\n",
      "   4.68315852145e-09 7.56281932843e-09 0.446733912619\n",
      "26775 26776 -135.3 6.52 -138.58 14.14 68.2593856655 85.6898029135\n",
      "   8.70572321473e-11 2.21394576612e-09 0.927089584225\n",
      "28348 120002 25.36 -87.58 24.92 -87.99 87.1839581517 78.8022064618\n",
      "   1.90170450408e-11 2.75695557578e-08 0.998622332109\n",
      "29439 29444 26.03 148.29 20.6 160.03 70.1754385965 51.652892562\n",
      "   7.86081465644e-12 1.70599622922e-09 0.990868637835\n",
      "29723 29725 -74.71 5.54 -63.46 6.98 82.0344544709 53.7634408602\n",
      "   2.57801606396e-10 1.65477437761e-09 0.762436170059\n",
      "30469 30471 -17.8 -4.21 -16.83 -3.34 89.5255147717 94.5179584121\n",
      "   4.54028092486e-09 8.10709934092e-09 0.471681356236\n",
      "31316 31323 -9.45 -35.87 -11.67 -36.81 87.9507475814 85.9845227859\n",
      "   2.59188804555e-09 7.33920383871e-09 0.586058899706\n",
      "31560 31564 -2.3 6.38 -10.09 13.06 60.8642726719 107.52688172\n",
      "   1.70278193088e-08 5.30765521697e-10 0.0153460741267\n",
      "32144 32145 -53.08 100.21 -53.92 99.39 54.3183052689 60.5693519079\n",
      "   8.99470855847e-12 1.01253367253e-08 0.998226477502\n",
      "33299 33303 -27.6 -73.53 -25.03 -71.43 91.2408759124 76.3941940413\n",
      "   1.61155337992e-10 6.38623492983e-09 0.951955208338\n",
      "36890 36917 -64.0 -14.79 -65.93 -19.73 73.046018992 67.9347826087\n",
      "   1.04552835343e-08 2.28794320459e-10 0.0108231424899\n",
      "39226 39228 -29.11 -13.76 -18.65 -25.47 81.103000811 36.1402240694\n",
      "   5.04562324748e-09 4.77914142759e-10 0.0452177953521\n",
      "39452 39457 -71.89 146.94 -73.73 147.59 71.2758374911 73.3137829912\n",
      "   9.22084777034e-12 6.62995313043e-09 0.997226143148\n",
      "40925 40927 -15.13 -63.8 -21.7 -68.63 90.0090009001 67.842605156\n",
      "   8.4950794302e-10 1.00146024862e-09 0.370845805954\n",
      "41088 41090 15.72 -17.83 21.98 -24.88 53.050397878 41.5282392027\n",
      "   5.61966066957e-09 4.36360595531e-09 0.279665851988\n",
      "41880 41881 -133.29 82.4 -132.43 84.94 70.5716302047 75.7002271007\n",
      "   1.67068582133e-11 5.77314896791e-09 0.994245525581\n",
      "42637 42794 -28.89 27.21 -30.46 27.92 94.9667616334 92.8505106778\n",
      "   1.62644331084e-09 1.05588272574e-09 0.245054362534\n",
      "42680 42683 -25.92 -5.12 -30.34 -3.69 82.7814569536 107.18113612\n",
      "   2.83890938706e-09 1.5709371369e-09 0.216718172909\n",
      "43100 43103 -22.74 -46.36 -21.58 -45.69 85.5431993157 101.52284264\n",
      "   6.60041387933e-10 3.97572950981e-09 0.750730821892\n",
      "44814 44817 -48.34 27.09 -56.91 24.53 82.1692686935 59.6658711217\n",
      "   2.48329791438e-10 4.30469561412e-09 0.896558458498\n",
      "45802 45811 -13.41 -29.84 -12.48 -27.37 62.7746390458 68.2128240109\n",
      "   1.27518294113e-08 7.96234369751e-10 0.0302751940446\n",
      "45937 45952 18.68 120.93 23.18 113.21 68.7757909216 67.0241286863\n",
      "   3.37179712132e-10 2.10933464415e-10 0.238264044717\n",
      "46298 46299 30.24 26.97 33.62 25.79 50.2765208648 54.7345374932\n",
      "   1.30561197956e-10 1.64218546549e-08 0.984347973679\n",
      "47017 47115 -34.65 45.26 -34.36 43.3 81.4332247557 79.8722044728\n",
      "   1.3374220845e-09 8.20838984177e-10 0.234815041355\n",
      "47040 47050 -95.12 -177.72 -90.28 -178.64 82.1692686935 58.3090379009\n",
      "   5.57649450224e-11 5.11915171337e-10 0.821107107982\n",
      "47053 47054 -1.15 12.54 -17.11 8.72 85.1788756388 84.4594594595\n",
      "   1.70318332891e-08 9.25137270233e-10 0.0264409516324\n",
      "50325 50327 22.94 -17.19 22.24 -20.34 55.8035714286 50.0500500501\n",
      "   8.290206103e-09 1.15380324022e-09 0.0650608561579\n",
      "50618 50620 -28.59 -18.87 -14.76 -18.6 53.7634408602 183.823529412\n",
      "   2.58043508059e-09 7.61554252643e-11 0.0145417325173\n",
      "51166 51177 -83.75 -86.1 -91.24 -92.42 70.5218617772 76.4525993884\n",
      "   2.66296960306e-10 4.22421263009e-10 0.442318897389\n",
      "51608 51611 -57.68 -45.83 -56.99 -46.58 66.889632107 66.401062417\n",
      "   8.17145136779e-11 2.09224313097e-08 0.992249354556\n",
      "52058 52061 -8.87 -13.9 -12.5 -12.65 98.231827112 130.208333333\n",
      "   3.61744688407e-09 6.06854052606e-09 0.456163453125\n",
      "52792 52793 -115.22 -42.23 -118.8 -45.36 83.1946755408 71.4285714286\n",
      "   5.22496598475e-11 6.32057874696e-09 0.983735712063\n",
      "53622 53623 -34.55 -11.35 -42.26 -13.08 75.0750750751 107.64262648\n",
      "   1.63692423771e-09 2.86900021082e-09 0.467047188911\n",
      "53640 53641 -146.0 -52.59 -146.7 -50.74 53.7345513165 48.7567040468\n",
      "   6.80852910404e-12 1.61484629597e-08 0.999157468705\n",
      "53934 53937 -18.12 -31.35 -9.91 -30.96 60.9013398295 79.0513833992\n",
      "   1.70132884642e-09 5.18859538738e-09 0.603939301861\n",
      "55266 55316 -58.8 -65.33 -58.6 -65.4 58.8235294118 58.651026393\n",
      "   3.18247385539e-10 1.72452223951e-09 0.730414999882\n",
      "55997 55998 13.38 -5.7 14.89 4.21 88.9679715302 91.4913083257\n",
      "   9.83042792039e-09 1.38442045248e-09 0.0657829544831\n",
      "56469 56472 44.38 -10.49 15.71 5.27 68.1198910082 65.0195058518\n",
      "   2.25880490707e-09 4.13876906662e-10 0.0839253819574\n",
      "56854 56855 -78.29 15.78 -75.82 16.46 83.4724540902 81.4332247557\n",
      "   4.2867417585e-11 1.95358083067e-08 0.995630576324\n",
      "57019 57020 -198.63 -39.76 -201.98 -37.3 74.9625187406 105.263157895\n",
      "   1.01328211692e-11 1.93033321538e-09 0.98961055357\n",
      "57090 57091 21.14 -62.14 24.01 -60.75 65.1041666667 46.468401487\n",
      "   2.41006025166e-10 4.04876799368e-09 0.893613893049\n",
      "57473 57475 -494.74 -149.83 -493.09 -140.89 74.9063670412 188.323917137\n",
      "   9.49328411178e-13 1.11306978761e-09 0.998297120576\n",
      "57483 57487 -37.03 -33.41 -36.51 -32.02 92.5925925926 160.256410256\n",
      "   2.70625807576e-10 2.72059672449e-09 0.834065977693\n",
      "57856 57858 -2.2 -53.12 -9.62 -50.05 98.9119683482 96.5250965251\n",
      "   1.36194117432e-09 3.80488201579e-09 0.582787462283\n",
      "58722 58751 32.22 -17.8 33.97 -19.16 55.1267916207 59.2417061611\n",
      "   1.01652773691e-08 9.48889181162e-10 0.0445918222654\n",
      "58813 58815 99.86 17.7 114.35 34.41 54.5256270447 55.4016620499\n",
      "   2.69786261753e-10 1.39531617601e-09 0.721135110437\n",
      "59716 59721 -37.85 -9.89 -54.2 -20.29 96.5250965251 132.275132275\n",
      "   7.76621637004e-09 3.48375389515e-10 0.021936880458\n",
      "59737 59739 -2.49 -10.59 -1.24 -8.13 97.9431929481 170.357751278\n",
      "   6.87709795263e-09 1.16580757479e-09 0.0781372186911\n",
      "59865 59913 -144.94 7.15 -146.2 7.64 71.7360114778 63.73486297\n",
      "   1.34400141263e-10 4.41373571295e-10 0.621500733828\n",
      "59983 59984 -12.06 17.62 -11.14 19.57 83.6820083682 52.6870389884\n",
      "   2.50836125086e-09 3.38374715318e-09 0.402804520722\n",
      "60236 60237 -15.68 -23.73 -17.54 -23.77 67.2494956288 82.9875518672\n",
      "   1.43845402654e-09 8.08046311426e-09 0.737445413764\n",
      "60352 60353 -142.07 -50.23 -165.55 -52.38 58.0046403712 29.9222022741\n",
      "   1.06195272206e-10 1.02474457797e-09 0.828320657486\n",
      "60749 60750 118.13 -93.23 133.08 -93.71 63.051702396 337.837837838\n",
      "   7.02866771877e-11 6.28599248909e-10 0.817240819843\n",
      "60891 60904 -20.28 -16.43 -21.94 -15.46 68.3994528044 72.8862973761\n",
      "   9.33074886153e-09 1.63845893812e-09 0.0807124352759\n",
      "61125 61127 -53.98 1.46 -47.13 -9.32 74.1839762611 87.6424189308\n",
      "   9.54520475592e-10 1.45433625121e-09 0.432403552648\n",
      "61268 61275 -51.27 -3.36 -60.03 -12.44 86.8809730669 176.991150442\n",
      "   1.26214101656e-09 1.04210798333e-10 0.0396465978853\n",
      "61632 61633 34.5 -51.86 39.25 -56.49 53.3333333333 45.4752160073\n",
      "   2.55120117133e-10 4.84963459955e-09 0.904803703428\n",
      "63403 63409 23.39 -11.89 21.57 -7.79 67.7966101695 129.701686122\n",
      "   2.36961018312e-09 3.29418382574e-09 0.410060759675\n",
      "63605 63607 -121.94 20.93 -121.88 18.7 95.6937799043 99.7008973081\n",
      "   2.64926151334e-11 4.62307683121e-09 0.988668835107\n",
      "64443 64444 -240.75 -272.83 -251.06 -268.78 58.7544065805 77.0416024653\n",
      "   5.53248311949e-12 8.51366539351e-10 0.98717003476\n",
      "64451 64454 -60.01 30.11 -58.9 29.82 82.5082508251 90.4159132007\n",
      "   1.01961102415e-10 7.66039866256e-09 0.974069953621\n",
      "64779 64789 -110.77 29.37 -109.74 25.14 85.3970964987 97.9431929481\n",
      "   3.49085555752e-10 2.41083145153e-10 0.25667506263\n",
      "65603 65613 -68.5 34.62 -69.32 34.1 71.5819613457 68.7285223368\n",
      "   3.40047398151e-11 1.08016467276e-08 0.99374318025\n",
      "65728 65756 -78.67 34.76 -77.84 33.37 71.3775874375 73.4214390602\n",
      "   1.42771273911e-10 3.92224242698e-09 0.932139463035\n",
      "65779 65785 -127.62 11.33 -125.64 13.37 86.0585197935 78.2472613459\n",
      "   2.5603057451e-11 1.36276673894e-08 0.996256554687\n",
      "66739 66742 -68.27 -9.41 -68.54 -8.34 79.3650793651 78.5545954438\n",
      "   2.01470583809e-10 7.52618289776e-09 0.949182133575\n",
      "67475 67476 -20.94 -0.7 -24.43 -1.13 96.7117988395 83.5421888053\n",
      "   1.88759237774e-09 1.44951897308e-08 0.793371243797\n",
      "67639 67645 -114.55 -27.15 -114.46 -27.42 75.2445447705 75.6429652042\n",
      "   1.69798659073e-11 3.00375526158e-08 0.998870700901\n",
      "68830 68833 41.85 -45.01 37.91 -43.74 80.6451612903 78.1860828772\n",
      "   3.90845645269e-10 1.30849242327e-08 0.943627824019\n",
      "70847 70858 87.05 68.81 80.78 70.19 95.6937799043 64.7668393782\n",
      "   9.58521837655e-12 1.80374375499e-09 0.989483631846\n",
      "71504 71505 -297.59 64.7 -285.92 58.18 70.8717221828 74.1839762611\n",
      "   6.87560265949e-12 1.93189062021e-09 0.992932303809\n",
      "71726 71737 93.76 -44.87 93.67 -44.62 53.5045478866 51.2820512821\n",
      "   2.86871236353e-10 1.80626801778e-09 0.758932796725\n",
      "72028 72029 40.75 -30.87 40.94 -31.46 97.2762645914 82.1692686935\n",
      "   6.32733808763e-11 1.5135771553e-08 0.991708549177\n",
      "72399 72400 -142.3 -10.87 -132.79 -18.46 55.3709856035 42.2654268808\n",
      "   4.03691340301e-11 4.1871709406e-09 0.981082477599\n",
      "72476 72477 -43.86 -44.75 -41.92 -54.41 73.0994152047 149.700598802\n",
      "   9.29636258878e-10 3.46320345732e-10 0.157019163176\n",
      "72684 72685 -57.87 -71.06 -50.5 -72.68 97.4658869396 44.1111601235\n",
      "   2.68970028976e-10 3.48677933873e-10 0.39326737906\n",
      "72778 72781 2.28 -9.51 9.53 -14.57 52.0833333333 89.2060660125\n",
      "   1.71275706385e-08 1.21128232775e-09 0.0341529312696\n",
      "73641 73642 -72.67 -17.5 -62.05 -23.25 78.431372549 80.5801772764\n",
      "   3.69232661498e-10 3.37260944442e-09 0.820371711834\n",
      "74278 74281 -78.4 12.35 -84.79 22.35 73.0994152047 78.125\n",
      "   2.66881761312e-10 2.22152119222e-09 0.806276454935\n",
      "74368 74370 -165.87 88.71 -165.27 91.64 75.5287009063 70.5218617772\n",
      "   4.05016968601e-12 6.27128902203e-09 0.99871001161\n",
      "74376 74380 -96.5 -49.86 -98.59 -51.89 55.1876379691 77.7604976672\n",
      "   8.52318353085e-11 3.99463287458e-09 0.959073296677\n",
      "74439 74442 7.83 -131.82 8.65 -130.5 69.0607734807 79.8084596967\n",
      "   2.3948225211e-11 8.31293908372e-09 0.994271332066\n",
      "75568 75570 -68.05 -25.93 -30.74 0.73 69.1562932227 -128.36970475\n",
      "   2.2719739818e-09 5.70019922118e-11 0.0123891789216\n",
      "75840 75845 -87.52 -44.05 -81.83 -45.55 84.6740050804 279.329608939\n",
      "   1.16583056659e-10 1.23132943343e-09 0.840787420736\n",
      "76028 76033 -69.24 -34.3 -70.95 -32.77 75.7575757576 87.1080139373\n",
      "   5.24313805403e-11 1.81242919355e-08 0.994247524758\n",
      "76051 76052 -38.31 0.71 -37.21 0.52 81.103000811 187.265917603\n",
      "   3.22751700153e-09 2.61055819247e-10 0.0388702096241\n",
      "77245 77252 -102.47 59.69 -102.65 57.29 73.7463126844 80.1924619086\n",
      "   1.85773407903e-11 1.60156620076e-08 0.997685472755\n",
      "77330 77331 -37.15 -41.7 -44.04 -30.17 81.1688311688 85.2514919011\n",
      "   7.78234361566e-10 2.75468056933e-09 0.638966638002\n",
      "77503 77504 -48.25 1.67 -47.54 4.28 92.5069380204 200.400801603\n",
      "   7.95322682608e-10 5.74563929955e-10 0.265361843419\n",
      "78385 78386 17.73 -22.25 22.75 -24.35 54.3773790103 118.063754427\n",
      "   1.00516279709e-08 2.67443310622e-10 0.0131288232823\n",
      "78822 78849 50.05 5.77 53.11 6.58 77.1604938272 87.3362445415\n",
      "   3.78384020671e-09 5.22434041798e-10 0.0645768418592\n",
      "79016 79017 -33.26 24.72 -32.16 25.54 98.814229249 98.5221674877\n",
      "   3.26860124873e-10 1.53385886878e-08 0.959122835089\n",
      "79996 79997 -6.02 -29.84 -19.43 -16.63 67.842605156 86.8055555556\n",
      "   1.26582500812e-08 5.54007150717e-10 0.0214146226053\n",
      "80926 80933 36.56 70.59 40.15 71.61 77.8210116732 70.5218617772\n",
      "   9.67147702642e-11 3.66865564129e-09 0.949915775696\n",
      "81634 81641 1.15 -9.94 1.88 -11.46 93.1098696462 90.0090009001\n",
      "   8.23826594236e-09 9.4686251699e-09 0.364947691392\n",
      "82058 82060 -33.99 -40.07 -34.7 -40.39 89.6860986547 59.9161174356\n",
      "   3.68244039476e-10 4.16731390483e-09 0.849812842895\n",
      "82796 82797 -7.3 31.44 -4.57 23.94 81.4332247557 478.468899522\n",
      "   1.26860656397e-09 6.43493613566e-10 0.202311519376\n",
      "84054 84070 -11.47 31.13 -11.34 29.58 82.304526749 77.399380805\n",
      "   3.25458359747e-09 1.95987302405e-09 0.231416190427\n",
      "84625 84626 -57.47 -8.1 -56.5 -9.39 98.231827112 90.4159132007\n",
      "   1.011707746e-10 2.97753073842e-08 0.993250252892\n",
      "85373 85378 -358.7 73.87 -361.78 73.1 71.2250712251 68.6341798216\n",
      "   3.17953552126e-12 5.63817067297e-09 0.998873409951\n",
      "85940 85944 -16.37 -57.27 -12.99 -59.34 84.1042893188 93.1098696462\n",
      "   3.69723347557e-09 5.5546578032e-10 0.06987050068\n",
      "87201 87202 -11.98 -32.51 -3.02 -33.67 79.554494829 86.5051903114\n",
      "   3.58992169105e-09 3.34126280916e-09 0.317577139554\n",
      "88127 88136 47.06 120.37 41.35 127.7 72.6216412491 63.5324015248\n",
      "   3.92293846419e-12 2.96110235321e-09 0.997357354753\n",
      "88999 89003 -27.53 61.89 -26.92 60.17 78.9889415482 80.0\n",
      "   2.45419950775e-11 2.99231300665e-08 0.998362350207\n",
      "89270 89275 -3.77 113.65 -4.07 110.64 82.4402308326 78.8643533123\n",
      "   2.68241077898e-11 6.28841253918e-09 0.991540885896\n",
      "90026 90028 78.08 2.74 81.37 1.58 90.8265213442 96.2463907603\n",
      "   1.27420865515e-10 1.08186840373e-08 0.976986396532\n",
      "93083 93084 40.1 -67.11 37.31 -20.66 53.3049040512 49.0436488475\n",
      "   1.28071186927e-09 5.66341298934e-10 0.181069003633\n",
      "93479 93500 -15.7 -106.05 -14.34 -104.27 75.0750750751 100.502512563\n",
      "   6.96405935903e-10 2.03307918598e-10 0.127376353467\n",
      "93881 93885 15.35 30.44 15.64 32.37 85.9845227859 95.1474785918\n",
      "   2.23712325811e-10 2.9066148051e-08 0.984840037628\n",
      "95649 95652 6.41 -15.1 1.93 -0.11 52.3834468308 39.1236306729\n",
      "   1.49923570546e-08 1.49007285561e-09 0.0473417932034\n",
      "95704 95712 0.43 -40.11 1.6 -56.08 74.5156482861 185.528756957\n",
      "   1.44828767308e-09 1.49117941305e-10 0.048960261993\n",
      "95724 95726 1.54 -25.8 7.71 -24.14 90.7441016334 82.850041425\n",
      "   2.63563813111e-09 7.76111075925e-09 0.595524883236\n",
      "96666 96667 29.67 26.09 25.44 24.56 88.8888888889 73.9644970414\n",
      "   2.60985683462e-10 8.68849885015e-09 0.943328477849\n",
      "96976 96979 25.99 53.06 24.12 53.52 51.2295081967 66.4451827243\n",
      "   2.74718283989e-10 2.21976390123e-09 0.801590179517\n",
      "97016 97022 26.4 -56.31 19.36 -56.74 72.202166065 69.3962526024\n",
      "   2.12181729763e-09 1.73202131602e-09 0.289846226378\n",
      "99727 99729 -125.15 -57.73 -133.23 -60.5 61.4250614251 61.1246943765\n",
      "   1.12930740751e-10 6.64586584294e-09 0.967131774758\n",
      "100937 100941 93.13 -125.05 95.73 -121.53 87.0322019147 98.6193293886\n",
      "   2.97528719945e-11 3.92649602555e-09 0.985071320228\n",
      "101549 101551 -4.49 5.59 0.62 8.01 51.2295081967 59.7371565114\n",
      "   3.91943272733e-09 1.16479561367e-08 0.597735042736\n",
      "102131 102132 49.91 -32.28 48.68 -34.2 92.4214417745 103.412616339\n",
      "   1.34919964619e-10 2.37162657047e-08 0.988750156722\n",
      "102465 102467 30.12 -81.21 40.47 -79.08 75.8725341426 80.1282051282\n",
      "   1.51835869127e-10 2.47261582815e-09 0.890619494202\n",
      "102505 102507 -1.95 -20.12 -0.43 -20.2 72.939460248 54.6149645003\n",
      "   4.02414290022e-09 5.94497058574e-09 0.424845398503\n",
      "103107 103139 42.05 -29.88 44.89 -26.82 71.6845878136 66.5778961385\n",
      "   8.74397471703e-09 4.01463400715e-10 0.0224413961723\n",
      "103569 103571 -115.75 -151.7 -116.44 -152.18 54.0832882639 56.5610859729\n",
      "   3.05590303821e-12 2.72361744389e-08 0.999775650031\n",
      "103814 103819 72.92 -113.72 71.36 -111.25 82.2368421053 82.1692686935\n",
      "   4.97287276994e-11 7.21939802932e-09 0.986410791195\n",
      "104180 104182 6.07 -34.59 -5.32 -35.11 65.3594771242 77.519379845\n",
      "   4.91357029024e-09 2.00214378136e-09 0.169253161909\n",
      "104767 104772 26.3 -4.66 26.3 -3.45 95.6022944551 107.066381156\n",
      "   7.94181141831e-09 1.03405768142e-09 0.0611228992244\n",
      "105743 105747 34.55 10.63 21.55 4.45 86.7302688638 136.054421769\n",
      "   4.33937313482e-09 2.18213582297e-10 0.0245267581206\n",
      "106524 106530 15.85 4.38 15.81 4.82 75.6429652042 106.157112527\n",
      "   3.2970371279e-09 3.68619455728e-09 0.358569860798\n",
      "106632 106633 -145.11 51.12 -148.51 51.09 60.6796116505 65.2315720809\n",
      "   7.0260604161e-12 1.17472523767e-08 0.998805224298\n",
      "106705 106714 79.68 -16.91 89.61 -11.72 70.7213578501 62.4219725343\n",
      "   1.14648380053e-09 2.42237162606e-10 0.0955493481546\n",
      "108828 108834 25.43 15.28 26.15 8.47 58.3771161705 168.35016835\n",
      "   1.74117915621e-09 8.67050628388e-11 0.0242935060889\n",
      "109115 109118 24.5 -7.45 33.16 2.89 88.809946714 84.3170320405\n",
      "   3.81114305529e-09 2.84316753591e-09 0.271671695461\n",
      "109566 109568 -3.96 -25.58 -8.29 -25.89 86.8809730669 90.0090009001\n",
      "   2.39813702375e-09 4.34244666396e-09 0.475170081356\n",
      "109587 109588 -54.28 -7.8 -42.93 -8.64 55.9284116331 54.5553737043\n",
      "   1.01307281706e-09 3.51363229622e-09 0.634255080329\n",
      "110170 110171 55.93 45.57 55.75 44.97 67.7506775068 73.5294117647\n",
      "   4.00927058918e-11 2.30845388264e-08 0.996538468969\n",
      "110419 110433 10.42 25.55 10.18 26.63 86.2068965517 73.9644970414\n",
      "   2.89582853271e-09 1.05209938414e-09 0.153731271984\n",
      "110974 110976 18.45 1.05 21.17 -0.76 99.0099009901 123.915737299\n",
      "   4.13690972447e-09 2.40642265203e-09 0.225315365446\n",
      "111433 111434 20.16 2.21 24.02 2.48 89.1265597148 81.6993464052\n",
      "   1.80257799294e-09 1.33861243226e-08 0.787823170448\n",
      "111570 111575 88.36 45.61 90.5 47.39 84.4594594595 85.2514919011\n",
      "   1.5496733878e-11 1.47654334921e-08 0.997905341077\n",
      "111594 111643 46.0 -72.64 44.56 -70.07 68.306010929 65.8327847268\n",
      "   1.11955732494e-09 1.55990203897e-09 0.410606787684\n",
      "112330 112337 55.37 -2.32 50.46 -2.01 98.5221674877 96.8992248062\n",
      "   2.24706812145e-09 6.76121607274e-10 0.130771351617\n",
      "112449 112450 52.0 13.27 52.4 12.98 78.3699059561 79.4912559618\n",
      "   3.97000974676e-11 4.15087091095e-08 0.998090795752\n",
      "112946 112970 80.42 58.96 77.8 63.09 59.9161174356 58.9970501475\n",
      "   4.98820829611e-11 1.56064516503e-08 0.993648109316\n",
      "113374 113381 -3.41 7.81 -6.72 5.65 74.2390497402 81.2347684809\n",
      "   1.23721850548e-08 2.82007170056e-09 0.102308318811\n",
      "114953 114955 9.19 3.88 2.88 0.97 88.6524822695 134.952766532\n",
      "   6.80841732617e-09 1.04105778996e-09 0.0710237023543\n",
      "116016 116017 74.31 -26.02 72.76 -19.15 96.3391136802 68.073519401\n",
      "   2.58870908331e-10 1.24432861646e-09 0.706174164818\n",
      "116263 116270 38.86 7.67 40.7 10.24 85.1063829787 100.0\n",
      "   1.29244459149e-09 1.06406889145e-09 0.291608966106\n",
      "116602 116699 70.71 -12.66 73.85 -19.8 61.387354205 61.6903146206\n",
      "   7.0961754716e-09 1.694350532e-10 0.0117976311054\n"
     ]
    }
   ],
   "source": [
    "for i in np.arange(len(hip_match)):\n",
    "    \n",
    "    dist1 = 1.0e3/hip_match['plx_1'][i]\n",
    "    dist2 = 1.0e3/hip_match['plx_2'][i]\n",
    "    if dist1 > 50.0 and dist1 < 100.0:\n",
    "        print hip_match['ID_1'][i], hip_match['ID_2'][i], hip_match['mu_ra_1'][i], hip_match['mu_dec_1'][i], \\\n",
    "            hip_match['mu_ra_2'][i], hip_match['mu_dec_2'][i], dist1, dist2\n",
    "        print \"  \", hip_match['P_random'][i],hip_match['P_binary'][i], hip_match['P_posterior'][i]"
   ]
  },
  {
   "cell_type": "code",
   "execution_count": 87,
   "metadata": {
    "collapsed": false
   },
   "outputs": [
    {
     "data": {
      "text/plain": [
       "5011.872336272725"
      ]
     },
     "execution_count": 87,
     "metadata": {},
     "output_type": "execute_result"
    }
   ],
   "source": [
    "10**(18.50/5.)"
   ]
  },
  {
   "cell_type": "code",
   "execution_count": 27,
   "metadata": {
    "collapsed": false
   },
   "outputs": [
    {
     "name": "stdout",
     "output_type": "stream",
     "text": [
      "[ (113368, 344.4117729897181, -29.621836802964395, 328.95, -164.67, 0.5, 0.35, 129.81, 0.47)]\n",
      "[ (113283, 344.0992774136673, -31.56517888935032, 331.11, -158.98, 0.65, 0.48, 131.42, 0.62)]\n"
     ]
    }
   ],
   "source": [
    "#print hip_orig[hip_orig['HIP'] == 113368]\n",
    "#print hip_orig[hip_orig['HIP'] == 113283]\n",
    "\n",
    "print hip[hip['ID'] == 113368]\n",
    "print hip[hip['ID'] == 113283]"
   ]
  },
  {
   "cell_type": "code",
   "execution_count": 48,
   "metadata": {
    "collapsed": false
   },
   "outputs": [
    {
     "name": "stdout",
     "output_type": "stream",
     "text": [
      "[  4.12149172e-09]\n"
     ]
    }
   ],
   "source": [
    "Rsun_in_pc = c.pc_to_cm/c.Rsun_to_cm\n",
    "\n",
    "print P_binary.get_P_binary(0.1*Rsun_in_pc, 1.0)"
   ]
  },
  {
   "cell_type": "code",
   "execution_count": null,
   "metadata": {
    "collapsed": true
   },
   "outputs": [],
   "source": []
  }
 ],
 "metadata": {
  "kernelspec": {
   "display_name": "Python 2",
   "language": "python",
   "name": "python2"
  },
  "language_info": {
   "codemirror_mode": {
    "name": "ipython",
    "version": 2
   },
   "file_extension": ".py",
   "mimetype": "text/x-python",
   "name": "python",
   "nbconvert_exporter": "python",
   "pygments_lexer": "ipython2",
   "version": "2.7.12"
  }
 },
 "nbformat": 4,
 "nbformat_minor": 0
}
