{
 "cells": [
  {
   "cell_type": "code",
   "execution_count": 13,
   "metadata": {
    "collapsed": true
   },
   "outputs": [],
   "source": [
    "import numpy as np\n",
    "import scipy.optimize as so\n",
    "import matplotlib.pyplot as plt\n",
    "import sys\n",
    "sys.path.append('../src')\n",
    "import parallax\n",
    "\n",
    "%matplotlib inline"
   ]
  },
  {
   "cell_type": "code",
   "execution_count": 73,
   "metadata": {
    "collapsed": true
   },
   "outputs": [],
   "source": [
    "def prior_r(r, L):\n",
    "    return 1.0 / (2.0 * L**3) * r**2 * np.exp(-r/L)\n",
    "    \n",
    "def prior_r_CDF(r, L, x):\n",
    "    prior_r_CDF = -np.exp(-r/L) * (2.*L**2 + 2.*L*r + r**2) / (2.*L**2) - x + 1.0\n",
    "    \n",
    "    if isinstance(r, np.ndarray):\n",
    "        prior_r_CDF[r<0.0] = -x\n",
    "    else:\n",
    "        if r < 0: prior_r_CDF = -x\n",
    "        \n",
    "    return prior_r_CDF\n",
    "    \n",
    "def prior_pi(pi, L):\n",
    "#    return 2.0 * L**3 * pi**2 * np.exp(1.0/(pi*L))\n",
    "    return 1.0/(2.0 * L**3 * pi**4) * np.exp(-1.0/(pi*L))"
   ]
  },
  {
   "cell_type": "code",
   "execution_count": 74,
   "metadata": {
    "collapsed": false
   },
   "outputs": [
    {
     "name": "stderr",
     "output_type": "stream",
     "text": [
      "/Library/Python/2.7/site-packages/ipykernel/__main__.py:16: RuntimeWarning: divide by zero encountered in divide\n",
      "/Library/Python/2.7/site-packages/ipykernel/__main__.py:16: RuntimeWarning: invalid value encountered in multiply\n"
     ]
    },
    {
     "data": {
      "image/png": "[encoded data removed]",
      "text/plain": [
       "<matplotlib.figure.Figure at 0x10b4ea110>"
      ]
     },
     "metadata": {},
     "output_type": "display_data"
    }
   ],
   "source": [
    "# Generate a bunch of r's using inverse sampling,\n",
    "# then convert samples too parallax.\n",
    "# Distribution of parallaxes should provide parallax prior\n",
    "\n",
    "L = 1.35 # Exponential scale height from paper\n",
    "\n",
    "\n",
    "fig, ax = plt.subplots(1, 2, figsize=(8,4))\n",
    "\n",
    "\n",
    "\n",
    "# Randomly drawn from prior distribution\n",
    "ran_x = np.zeros(10000)\n",
    "ran_y = np.random.uniform(size=len(ran_x))\n",
    "for i, y in zip(np.arange(len(ran_y)), ran_y):\n",
    "    args = L, y\n",
    "    sol = so.root(prior_r_CDF, [1.5], args=args)\n",
    "    if sol.success is False: print args, sol\n",
    "    ran_x[i] = sol.x[0]\n",
    "\n",
    "ax[0].hist(ran_x, bins=50, histtype='step', normed=True)\n",
    "\n",
    "# Analytic prior\n",
    "ran_r = np.linspace(0, 20, 1000)\n",
    "ran_prior_r = prior_r(ran_r, L)\n",
    "ax[0].plot(ran_r, ran_prior_r, color='r')\n",
    "\n",
    "ax[0].set_xlabel('Distance (kpc)')\n",
    "\n",
    "\n",
    "\n",
    "\n",
    "# Now, move to parallax space. \n",
    "# We do this by taking random draws in r, and converting to parallax.\n",
    "# We then plot distribution and compare to analytic estimate\n",
    "\n",
    "# Random draws\n",
    "ran_pi = 1.0 / ran_x\n",
    "ax[1].hist(ran_pi, bins=100, histtype='step', normed=True, range=(0, 2.0))\n",
    "\n",
    "# Analytic prior\n",
    "ran_pi = np.linspace(0, 20, 1000)\n",
    "ran_prior_pi = prior_pi(ran_pi, L)\n",
    "ax[1].plot(ran_pi, ran_prior_pi, color='r')\n",
    "\n",
    "\n",
    "ax[1].set_xlim(0.0, 2.0)\n",
    "ax[1].set_xlabel('Parallax (mas)')\n",
    "\n",
    "    \n",
    "# ran_prior_r_CDF = prior_r_CDF(ran_r, L, 0.0)\n",
    "# plt.plot(ran_r, ran_prior_r_CDF, color='r')\n",
    "\n",
    "plt.show()"
   ]
  },
  {
   "cell_type": "code",
   "execution_count": null,
   "metadata": {
    "collapsed": true
   },
   "outputs": [],
   "source": []
  }
 ],
 "metadata": {
  "kernelspec": {
   "display_name": "Python 2",
   "language": "python",
   "name": "python2"
  },
  "language_info": {
   "codemirror_mode": {
    "name": "ipython",
    "version": 2
   },
   "file_extension": ".py",
   "mimetype": "text/x-python",
   "name": "python",
   "nbconvert_exporter": "python",
   "pygments_lexer": "ipython2",
   "version": "2.7.10"
  }
 },
 "nbformat": 4,
 "nbformat_minor": 0
}
