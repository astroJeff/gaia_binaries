{
 "cells": [
  {
   "cell_type": "code",
   "execution_count": 1,
   "metadata": {
    "collapsed": false
   },
   "outputs": [],
   "source": [
    "import numpy as np\n",
    "import matplotlib.pyplot as plt\n",
    "from scipy.integrate import quad\n",
    "from scipy.stats import gaussian_kde\n",
    "from scipy.optimize import minimize\n",
    "from sklearn.neighbors import KernelDensity\n",
    "import emcee\n",
    "\n",
    "import sys\n",
    "sys.path.append('../src')\n",
    "import const as c\n",
    "\n",
    "%matplotlib inline"
   ]
  },
  {
   "cell_type": "markdown",
   "metadata": {},
   "source": [
    "### First, load the catalogs"
   ]
  },
  {
   "cell_type": "code",
   "execution_count": 2,
   "metadata": {
    "collapsed": false
   },
   "outputs": [],
   "source": [
    "dtype = [('P_posterior','f8'), ('theta','f8'),\n",
    "         ('source_id_1','<i8'), ('TYC_id_1','S11'), ('hip_id_1','<i8'),\n",
    "         ('ra_1','f8'), ('dec_1','f8'),\n",
    "         ('mu_ra_1','f8'), ('mu_dec_1','f8'), ('mu_ra_err_1','f8'), ('mu_dec_err_1','f8'),\n",
    "         ('plx_1','f8'), ('plx_err_1','f8'),\n",
    "         ('gaia_g_flux_1','<f8'), ('gaia_g_flux_err_1','<f8'), ('gaia_g_mag_1','<f8'),\n",
    "         ('TMASS_id_1','<i8'), ('TMASS_angle_dist_1','<f8'),\n",
    "#         ('TMASS_n_neighbours_1','<i8'), ('TMASS_n_mates_1','<i8'), ('TMASS_ph_qual_1','S11'),\n",
    "         ('TMASS_ra_1','<f8'), ('TMASS_dec_1','<f8'),\n",
    "         ('TMASS_j_mag_1','<f8'), ('TMASS_j_mag_err_1','<f8'),\n",
    "         ('TMASS_h_mag_1','<f8'), ('TMASS_h_mag_err_1','<f8'),\n",
    "         ('TMASS_ks_mag_1','<f8'), ('TMASS_ks_mag_err_1','<f8'),\n",
    "         ('TYC_Vt_1','<f8'), ('TYC_Vt_err_1','<f8'),\n",
    "         ('TYC_Bt_1','<f8'), ('TYC_Bt_err_1','<f8'),\n",
    "         ('gaia_delta_Q_1','<f8'), ('gaia_noise_1','<f8'),\n",
    "         #\n",
    "         ('source_id_2','<i8'), ('TYC_id_2','S11'), ('hip_id_2','<i8'),\n",
    "         ('ra_2','f8'), ('dec_2','f8'),\n",
    "         ('mu_ra_2','f8'), ('mu_dec_2','f8'), ('mu_ra_err_2','f8'), ('mu_dec_err_2','f8'),\n",
    "         ('plx_2','f8'), ('plx_err_2','f8'),\n",
    "         ('gaia_g_flux_2','<f8'), ('gaia_g_flux_err_2','<f8'), ('gaia_g_mag_2','<f8'),\n",
    "         ('TMASS_id_2','<i8'), ('TMASS_angle_dist_2','<f8'),\n",
    "#         ('TMASS_n_neighbours_2','<i8'), ('TMASS_n_mates_2','<i8'), ('TMASS_ph_qual_2','S11'),\n",
    "         ('TMASS_ra_2','<f8'), ('TMASS_dec_2','<f8'),\n",
    "         ('TMASS_j_mag_2','<f8'), ('TMASS_j_mag_err_2','<f8'),\n",
    "         ('TMASS_h_mag_2','<f8'), ('TMASS_h_mag_err_2','<f8'),\n",
    "         ('TMASS_ks_mag_2','<f8'), ('TMASS_ks_mag_err_2','<f8'),\n",
    "         ('TYC_Vt_2','<f8'), ('TYC_Vt_err_2','<f8'),\n",
    "         ('TYC_Bt_2','<f8'), ('TYC_Bt_err_2','<f8'),\n",
    "         ('gaia_delta_Q_2','<f8'), ('gaia_noise_2','<f8')\n",
    "        ]\n",
    "\n",
    "folder = '../data/TGAS/'\n",
    "\n",
    "TGAS_power_law = np.genfromtxt(folder+'gaia_wide_binaries_TGAS_plx_exponential_a_power_law_cleaned.txt', dtype=dtype, names=True)\n",
    "TGAS_log_flat = np.genfromtxt(folder+'gaia_wide_binaries_TGAS_plx_exponential_cleaned.txt', dtype=dtype, names=True)\n",
    "\n",
    "TGAS_power_law_good = TGAS_power_law[TGAS_power_law['P_posterior'] > 0.99]\n",
    "TGAS_log_flat_good = TGAS_log_flat[TGAS_log_flat['P_posterior'] > 0.99]"
   ]
  },
  {
   "cell_type": "markdown",
   "metadata": {},
   "source": [
    "### Now, let's calculate the distance KDEs"
   ]
  },
  {
   "cell_type": "code",
   "execution_count": 3,
   "metadata": {
    "collapsed": false
   },
   "outputs": [],
   "source": [
    "#### LOG FLAT ####\n",
    "# Calculate distance from average parallaxes, weighted by uncertainties\n",
    "dist_log_flat = np.zeros(len(TGAS_log_flat))\n",
    "for i in np.arange(len(TGAS_log_flat)):\n",
    "    vals = [TGAS_log_flat['plx_1'][i],TGAS_log_flat['plx_2'][i]]\n",
    "    weights = [1.0/TGAS_log_flat['plx_err_1'][i]**2,1.0/TGAS_log_flat['plx_err_2'][i]**2]\n",
    "    dist_log_flat[i] = 1.0e3/np.average(vals, weights=weights)\n",
    "    \n",
    "# Calculate the physical separation in AU\n",
    "s_log_flat = (TGAS_log_flat['theta']*np.pi/180.0/3600.0) * dist_log_flat * (c.pc_to_cm/c.AU_to_cm)\n",
    "\n",
    "# Calculate the primary's proper motion\n",
    "mu_1_log_flat = np.sqrt(TGAS_log_flat['mu_ra_1']**2 + TGAS_log_flat['mu_dec_1']**2)\n",
    "delta_mu_log_flat = np.sqrt((TGAS_log_flat['mu_ra_1']-TGAS_log_flat['mu_ra_2'])**2 + (TGAS_log_flat['mu_dec_1']-TGAS_log_flat['mu_dec_2'])**2)\n",
    "\n",
    "# values for \"good\" pairs only\n",
    "dist_log_flat_good = dist_log_flat[TGAS_log_flat['P_posterior'] > 0.99]\n",
    "s_log_flat_good = s_log_flat[TGAS_log_flat['P_posterior'] > 0.99]\n",
    "\n",
    "\n",
    "\n",
    "#### POWER LAW ####\n",
    "# Calculate distance from average parallaxes, weighted by uncertainties\n",
    "dist_power_law = np.zeros(len(TGAS_power_law))\n",
    "for i in np.arange(len(TGAS_power_law)):\n",
    "    vals = [TGAS_power_law['plx_1'][i],TGAS_power_law['plx_2'][i]]\n",
    "    weights = [1.0/TGAS_power_law['plx_err_1'][i]**2,1.0/TGAS_power_law['plx_err_2'][i]**2]\n",
    "    dist_power_law[i] = 1.0e3/np.average(vals, weights=weights)\n",
    "    \n",
    "# Calculate the physical separation in AU\n",
    "s_power_law = (TGAS_power_law['theta']*np.pi/180.0/3600.0) * dist_power_law * (c.pc_to_cm/c.AU_to_cm)\n",
    "\n",
    "# Calculate the primary's proper motion\n",
    "mu_1_power_law = np.sqrt(TGAS_power_law['mu_ra_1']**2 + TGAS_power_law['mu_dec_1']**2)\n",
    "delta_mu_power_law = np.sqrt((TGAS_power_law['mu_ra_1']-TGAS_power_law['mu_ra_2'])**2 + (TGAS_power_law['mu_dec_1']-TGAS_power_law['mu_dec_2'])**2)\n",
    "\n",
    "# values for \"good\" pairs only\n",
    "dist_power_law_good = dist_power_law[TGAS_power_law['P_posterior'] > 0.99]\n",
    "s_power_law_good = s_power_law[TGAS_power_law['P_posterior'] > 0.99]"
   ]
  },
  {
   "cell_type": "code",
   "execution_count": null,
   "metadata": {
    "collapsed": false
   },
   "outputs": [],
   "source": []
  },
  {
   "cell_type": "code",
   "execution_count": 4,
   "metadata": {
    "collapsed": false,
    "scrolled": true
   },
   "outputs": [
    {
     "data": {
      "image/png": "[encoded data removed]",
      "text/plain": [
       "<matplotlib.figure.Figure at 0x7f8ab6661b90>"
      ]
     },
     "metadata": {},
     "output_type": "display_data"
    }
   ],
   "source": [
    "fig, ax = plt.subplots(2, 1, figsize=(6, 5.5))\n",
    "\n",
    "idx = reduce(np.intersect1d, \n",
    "             [np.where(dist_log_flat_good < 500.0)[0],\n",
    "              np.where(s_log_flat_good < 5.0e4)[0],\n",
    "              np.where(s_log_flat_good > 5.0e3)[0]])\n",
    "\n",
    "\n",
    "dist_log_flat_100_kde = None\n",
    "kwargs = {'kernel':'epanechnikov'}\n",
    "dist_log_flat_100_kde = KernelDensity(bandwidth=10.0, **kwargs)\n",
    "dist_log_flat_100_kde.fit( dist_log_flat_good[idx][dist_log_flat_good[idx]<100.0][:, np.newaxis] )\n",
    "\n",
    "# dist_log_flat_100_kde = gaussian_kde(dist_log_flat_good[idx][dist_log_flat_good[idx]<100.0], bw_method=0.3)\n",
    "dist_log_flat_200_kde = gaussian_kde(dist_log_flat_good[idx][dist_log_flat_good[idx]<200.0], bw_method=0.2)\n",
    "dist_log_flat_500_kde = gaussian_kde(dist_log_flat_good[idx][dist_log_flat_good[idx]<500.0], bw_method=0.1)\n",
    "\n",
    "idx_100_500 = np.intersect1d(np.where(dist_log_flat_good[idx]>100.0)[0], np.where(dist_log_flat_good[idx]<500.0)[0])\n",
    "dist_log_flat_100_500_kde = KernelDensity(bandwidth=10.0, **kwargs)\n",
    "dist_log_flat_100_500_kde.fit( dist_log_flat_good[idx][idx_100_500][:, np.newaxis] )\n",
    "# dist_log_flat_100_500_kde = gaussian_kde(dist_log_flat_good[idx][idx_100_500], bw_method=0.1)\n",
    "\n",
    "\n",
    "tmp_dist = np.linspace(0.0, 550.0, 500)\n",
    "ax[0].hist(dist_log_flat_good[idx][dist_log_flat_good[idx]<100.0], histtype='step', color='k', bins=30, normed=True, range=(0,500))\n",
    "tmp_prob_log_flat_100 = np.exp(dist_log_flat_100_kde.score_samples(tmp_dist[:, np.newaxis]))\n",
    "#tmp_prob_log_flat_100 = dist_log_flat_100_kde(tmp_dist)\n",
    "\n",
    "# ax[0].hist(dist_log_flat_good[idx][dist_log_flat_good[idx]<200.0], histtype='step', color='k', bins=30, normed=True, range=(0,500))\n",
    "tmp_prob_log_flat_200 = dist_log_flat_200_kde(tmp_dist)\n",
    "# ax[0].hist(dist_log_flat_good[idx][dist_log_flat_good[idx]<500.0], histtype='step', color='k', bins=30, normed=True, range=(0,500))\n",
    "tmp_prob_log_flat_500 = dist_log_flat_500_kde(tmp_dist)\n",
    "ax[0].hist(dist_log_flat_good[idx][idx_100_500], histtype='step', color='k', bins=30, normed=True, range=(0,500))\n",
    "tmp_prob_log_flat_100_500 = np.exp(dist_log_flat_100_500_kde.score_samples(tmp_dist[:, np.newaxis]))\n",
    "# tmp_prob_log_flat_100_500 = dist_log_flat_100_500_kde(tmp_dist)\n",
    "\n",
    "\n",
    "\n",
    "\n",
    "idx = reduce(np.intersect1d, \n",
    "             [np.where(dist_power_law_good < 500.0)[0],\n",
    "              np.where(s_power_law_good < 5.0e4)[0],\n",
    "              np.where(s_power_law_good > 5.0e3)[0]])\n",
    "\n",
    "dist_power_law_100_kde = gaussian_kde(dist_power_law_good[idx][dist_power_law_good[idx]<100.0], bw_method=0.3)\n",
    "dist_power_law_200_kde = gaussian_kde(dist_power_law_good[idx][dist_power_law_good[idx]<200.0], bw_method=0.2)\n",
    "dist_power_law_500_kde = gaussian_kde(dist_power_law_good[idx][dist_power_law_good[idx]<500.0], bw_method=0.1)\n",
    "\n",
    "idx_100_500 = np.intersect1d(np.where(dist_power_law_good[idx]>100.0)[0], np.where(dist_power_law_good[idx]<500.0)[0])\n",
    "dist_power_law_100_500_kde = gaussian_kde(dist_power_law_good[idx][idx_100_500], bw_method=0.1)\n",
    "\n",
    "ax[1].hist(dist_power_law_good[idx][dist_power_law_good[idx]<100.0], histtype='step', color='k', bins=30, normed=True, range=(0,500))\n",
    "tmp_prob_power_law_100 = dist_power_law_100_kde(tmp_dist) + dist_power_law_100_kde(1.0*100.0 - tmp_dist)\n",
    "# ax[1].hist(dist_power_law_good[idx][dist_power_law_good[idx]<200.0], histtype='step', color='k', bins=30, normed=True, range=(0,500))\n",
    "tmp_prob_power_law_200 = dist_power_law_200_kde(tmp_dist) + dist_power_law_200_kde(1.0*100.0 - tmp_dist)\n",
    "# ax[1].hist(dist_power_law_good[idx][dist_power_law_good[idx]<500.0], histtype='step', color='k', bins=30, normed=True, range=(0,500))\n",
    "tmp_prob_power_law_500 = dist_power_law_500_kde(tmp_dist) + dist_power_law_500_kde(1.0*100.0 - tmp_dist)\n",
    "ax[1].hist(dist_power_law_good[idx][idx_100_500], histtype='step', color='k', bins=30, normed=True, range=(0,500))\n",
    "tmp_prob_power_law_100_500 = dist_power_law_100_500_kde(tmp_dist) + dist_power_law_100_kde(1.0*100.0 - tmp_dist)\n",
    "\n",
    "\n",
    "\n",
    "ax[0].plot(tmp_dist, tmp_prob_log_flat_100, color='k')\n",
    "# ax[0].plot(tmp_dist, tmp_prob_log_flat_200, color='k')\n",
    "# ax[0].plot(tmp_dist, tmp_prob_log_flat_500, color='k')\n",
    "ax[0].plot(tmp_dist, tmp_prob_log_flat_100_500, color='k')\n",
    "ax[1].plot(tmp_dist, tmp_prob_power_law_100, color='k')\n",
    "# ax[1].plot(tmp_dist, tmp_prob_power_law_200, color='k')\n",
    "# ax[1].plot(tmp_dist, tmp_prob_power_law_500, color='k')\n",
    "ax[1].plot(tmp_dist, tmp_prob_power_law_100_500, color='k')\n",
    "\n",
    "\n",
    "ax[0].set_xticklabels([])\n",
    "ax[0].set_yticklabels([])\n",
    "ax[1].set_yticklabels([])\n",
    "\n",
    "ax[0].set_xlim(0,550.0)\n",
    "ax[1].set_xlim(0,550.0)\n",
    "\n",
    "ax[1].set_xlabel('Distance (pc)')\n",
    "ax[0].set_ylabel('Normalized Probability')\n",
    "ax[1].set_ylabel('Normalized Probability')\n",
    "\n",
    "plt.tight_layout()\n",
    "plt.subplots_adjust(hspace=0)\n",
    "\n",
    "plt.show()"
   ]
  },
  {
   "cell_type": "code",
   "execution_count": 6,
   "metadata": {
    "collapsed": false
   },
   "outputs": [
    {
     "data": {
      "text/plain": [
       "array([-5.76691902])"
      ]
     },
     "execution_count": 6,
     "metadata": {},
     "output_type": "execute_result"
    }
   ],
   "source": [
    "dist_log_flat_100_500_kde.score_samples(150.0)"
   ]
  },
  {
   "cell_type": "markdown",
   "metadata": {},
   "source": [
    "### Now, let's calculate all the functions needed for our model"
   ]
  },
  {
   "cell_type": "code",
   "execution_count": 9,
   "metadata": {
    "collapsed": true
   },
   "outputs": [],
   "source": [
    "def calc_integrand(dist, theta, dist_kde, alpha_1, alpha_2, s_crit):\n",
    "    \"\"\"\n",
    "    This function is to calculate the integrand for the integral over distance\n",
    "    \n",
    "    Parameters\n",
    "    ----------\n",
    "    dist : float\n",
    "        Distance (pc)\n",
    "    theta : float\n",
    "        Angular separation (arcsec)\n",
    "    dist_kde : scipy gaussian_kde\n",
    "        KDE based on the distance distribution observed\n",
    "    alpha_1, alpha_2 : float\n",
    "        Power law indices for s distribution\n",
    "    s_crit : float\n",
    "        Critical s defining the break in the power law\n",
    "        \n",
    "    Returns\n",
    "    -------\n",
    "    integrand : float\n",
    "        Integrand of the equation\n",
    "    \n",
    "    \"\"\"\n",
    "    \n",
    "    # Get the separation in Rsun\n",
    "    s = (theta / 3600.0 * np.pi/180.0) * (dist * c.pc_to_cm / c.AU_to_cm)\n",
    "        \n",
    "    # Get probability from our broken power law model\n",
    "    P_s = get_P_s(s, alpha_1, alpha_2, s_crit)\n",
    "\n",
    "#     Projected separation is above 3.0e5 AU\n",
    "#     P_s[np.where(s > 3.0e5)] = 0.0\n",
    "    \n",
    "    # Get the distance probability\n",
    "    P_dist = dist_kde.evaluate((dist))\n",
    "\n",
    "    # Calculate integrand\n",
    "    integrand = P_s * dist * P_dist# * norm\n",
    "\n",
    "    return integrand\n",
    "\n",
    "\n",
    "\n",
    "def calc_integral(theta, dist_min, dist_max, dist_kde, alpha_1, alpha_2, s_crit):\n",
    "    \"\"\"\n",
    "    Calculate the integral over distance of all binaries that \n",
    "    could match the observed angular separation, theta.\n",
    "    \n",
    "    Parameters\n",
    "    ----------\n",
    "    theta : float\n",
    "        Angular separation (asec)\n",
    "    dist_min, dist_max : float\n",
    "        Min, max distance of integration\n",
    "    dist_kde : scipy gaussian_kde\n",
    "        KDE to represent distance distribution of a sample\n",
    "    alpha_1, alpha_2 : float\n",
    "        Power law indices for s distribution\n",
    "    s_crit : float\n",
    "        Critical s defining the break in the power law\n",
    "\n",
    "\n",
    "\n",
    "    Returns\n",
    "    -------\n",
    "    P_theta : float\n",
    "        Value of integration\n",
    "    \"\"\"\n",
    "    \n",
    "    args = theta, dist_kde, alpha_1, alpha_2, s_crit\n",
    "        \n",
    "    val = quad(calc_integrand, dist_min, dist_max, args=args, epsrel=1.0e-4)\n",
    "    \n",
    "    return val[0]\n",
    "\n",
    "\n",
    "def calc_theta_norm(theta_min, theta_max, dist_min, dist_max, dist_kde, alpha_1, alpha_2, s_crit):\n",
    "    \"\"\" Calculate the normalization constant, Z, for the integral\n",
    "    \n",
    "    Parameters\n",
    "    ----------\n",
    "    theta_min, theta_max : float\n",
    "        Minimum and maximum angles for calculating the integrals\n",
    "    dist_min, dist_max : float\n",
    "        Minimum and maximum distances of the sample\n",
    "    dist_kde : scipy gaussian_kde\n",
    "        KDE to represent distance distribution of a sample\n",
    "    alpha_1, alpha_2 : float\n",
    "        Power law indices for s distribution\n",
    "    s_crit : float\n",
    "        Critical s defining the break in the power law\n",
    "\n",
    "\n",
    "    Returns\n",
    "    -------\n",
    "    Z : float\n",
    "        Normalization constant for the integral\n",
    "    \"\"\"\n",
    "    \n",
    "    args = dist_min, dist_max, dist_kde, alpha_1, alpha_2, s_crit\n",
    "    \n",
    "    norm = quad(calc_integral, theta_min, theta_max, args=args)\n",
    "    \n",
    "    return norm[0]\n",
    "    \n",
    "    \n",
    "def get_P_s(s, alpha_1, alpha_2, s_crit):\n",
    "    \"\"\" Calculate the non-normalized distribution \n",
    "    probability from a 2-component, broken power law\n",
    "    \n",
    "    Parameters\n",
    "    ----------\n",
    "    s : float\n",
    "        Projected physical separation of the binary\n",
    "    alpha_1, alpha_2 : float\n",
    "        Power law indices for s distribution\n",
    "    s_crit : float\n",
    "        Critical s defining the break in the power law\n",
    "        \n",
    "    Returns\n",
    "    -------\n",
    "    P_s : float\n",
    "        Probability of s    \n",
    "    \"\"\"\n",
    "    \n",
    "    if isinstance(s, np.ndarray):\n",
    "        P_s = s**alpha_1\n",
    "        P_s[s>s_crit] = s_crit**(alpha_1-alpha_2) * s[s>s_crit]**alpha_2\n",
    "    else:\n",
    "        if s < s_crit:\n",
    "            P_s = s**alpha_1\n",
    "        else:\n",
    "            P_s = s_crit**(alpha_1-alpha_2) * s**alpha_2\n",
    "\n",
    "    return P_s\n",
    "    \n",
    "    \n",
    "def get_neg_log_likelihood(p, dist_kde_region_1, dist_kde_region_2, \\\n",
    "                           theta_region_1, theta_region_2):\n",
    "    \"\"\" Calculate the likelihood function for a set of parameters and data\n",
    "    \n",
    "    Parameters\n",
    "    ----------\n",
    "    alpha_1, alpha_2 : float\n",
    "        Power law indices for s distribution\n",
    "    s_crit : float\n",
    "        Critical s defining the break in the power law\n",
    "    dist_kde_region_1, dist_kde_region_2 : scipy gaussian_kde\n",
    "        KDEs to represent distance distribution of samples within Region 1 and 2\n",
    "    theta_region_1, theta_region_2 : float\n",
    "        Distribution of angular separations within Region 1 and 2\n",
    "        \n",
    "    Returns\n",
    "    -------\n",
    "    neg_ln_likelihood : float\n",
    "        Negative of the log likelihood of the two data sets\n",
    "    \"\"\"\n",
    "\n",
    "    alpha_1, alpha_2, s_crit = p\n",
    "    \n",
    "    # Region 1\n",
    "    theta_min_region_1, theta_max_region_1 = 10.0, 600.0\n",
    "    dist_min_region_1, dist_max_region_1 = 0.0, 100.0\n",
    "    Z_const_1 = calc_theta_norm(theta_min_region_1, theta_max_region_1, \\\n",
    "                                dist_min_region_1, dist_max_region_1, \\\n",
    "                                dist_kde_region_1, alpha_1, alpha_2, s_crit)\n",
    "    \n",
    "    num_region_1 = len(theta_region_1)\n",
    "    likelihood_1 = np.zeros(num_region_1)\n",
    "    \n",
    "    for i in np.arange(num_region_1):\n",
    "        likelihood_1[i] = calc_integral(theta_region_1[i], dist_min_region_1, \\\n",
    "                                        dist_max_region_1, dist_kde_region_1, \\\n",
    "                                        alpha_1, alpha_2, s_crit)\n",
    "\n",
    "        \n",
    "        \n",
    "        \n",
    "    # Region 2\n",
    "    theta_min_region_2, theta_max_region_2 = 10.0, 100.0\n",
    "    dist_min_region_2, dist_max_region_2 = 100.0, 500.0\n",
    "    Z_const_2 = calc_theta_norm(theta_min_region_2, theta_max_region_2, \\\n",
    "                                dist_min_region_2, dist_max_region_2, \\\n",
    "                                dist_kde_region_2, alpha_1, alpha_2, s_crit)\n",
    "    \n",
    "    num_region_2 = len(theta_region_2)\n",
    "    likelihood_2 = np.zeros(num_region_2)\n",
    "    \n",
    "    for i in np.arange(num_region_2):\n",
    "        likelihood_2[i] = calc_integral(theta_region_2[i], dist_min_region_2, \\\n",
    "                                        dist_max_region_2, dist_kde_region_2, \\\n",
    "                                        alpha_1, alpha_2, s_crit)\n",
    "\n",
    "        \n",
    "        \n",
    "    neg_ll = -1.0 * (np.sum(np.log(likelihood_1)) + np.sum(np.log(likelihood_2)) + \\\n",
    "               - num_region_1 * np.log(Z_const_1) - num_region_2 * np.log(Z_const_2))\n",
    "    \n",
    "    print alpha_1, alpha_2, s_crit, neg_ll\n",
    "    \n",
    "\n",
    "    # Combine likelihoods\n",
    "    return neg_ll\n",
    "\n",
    "        "
   ]
  },
  {
   "cell_type": "markdown",
   "metadata": {},
   "source": [
    "### Define the two regions for both samples"
   ]
  },
  {
   "cell_type": "code",
   "execution_count": 37,
   "metadata": {
    "collapsed": true
   },
   "outputs": [],
   "source": [
    "# Log flat sample\n",
    "idx_log_flat_region_1 = reduce(np.intersect1d,\n",
    "                               [np.where(dist_log_flat_good<100.0)[0],\n",
    "                                np.where(TGAS_log_flat_good['theta'] > 10.0)[0],\n",
    "                                np.where(TGAS_log_flat_good['theta'] < 600.0)[0]\n",
    "                               ])\n",
    "idx_log_flat_region_2 = reduce(np.intersect1d,\n",
    "                               [np.where(dist_log_flat_good<500.0)[0], \n",
    "                                np.where(dist_log_flat_good>100.0)[0],\n",
    "                                np.where(TGAS_log_flat_good['theta'] > 10.0)[0],\n",
    "                                np.where(TGAS_log_flat_good['theta'] < 100.0)[0]\n",
    "                               ])\n",
    "\n",
    "theta_log_flat_region_1 = TGAS_log_flat_good['theta'][idx_log_flat_region_1]\n",
    "theta_log_flat_region_2 = TGAS_log_flat_good['theta'][idx_log_flat_region_2]\n",
    "\n",
    "\n",
    "# Power law sample\n",
    "idx_power_law_region_1 = reduce(np.intersect1d,\n",
    "                                [np.where(dist_power_law_good<100.0)[0],\n",
    "                                 np.where(TGAS_power_law_good['theta'] > 10.0)[0],\n",
    "                                 np.where(TGAS_power_law_good['theta'] < 600.0)[0]\n",
    "                                ])\n",
    "idx_power_law_region_2 = reduce(np.intersect1d,\n",
    "                               [np.where(dist_power_law_good<500.0)[0], \n",
    "                                np.where(dist_power_law_good>100.0)[0],\n",
    "                                np.where(TGAS_power_law_good['theta'] > 10.0)[0],\n",
    "                                np.where(TGAS_power_law_good['theta'] < 100.0)[0]\n",
    "                               ])\n",
    "\n",
    "theta_power_law_region_1 = TGAS_power_law_good['theta'][idx_power_law_region_1]\n",
    "theta_power_law_region_2 = TGAS_power_law_good['theta'][idx_power_law_region_2]"
   ]
  },
  {
   "cell_type": "code",
   "execution_count": 73,
   "metadata": {
    "collapsed": false
   },
   "outputs": [
    {
     "name": "stdout",
     "output_type": "stream",
     "text": [
      "[  8.64146164e-25   7.28711780e-21   2.18424189e-17   2.33752094e-14\n",
      "   7.86462223e-12   9.84335363e-10   4.61997260e-08   8.30638470e-07]\n",
      "0.000149450576225\n",
      "1.12132295649\n",
      "-11393.9016103\n"
     ]
    }
   ],
   "source": [
    "# Starting values\n",
    "alpha_1 = -1.0\n",
    "alpha_2 = -1.6\n",
    "s_crit = 2.0e3\n",
    "\n",
    "\n",
    "dist = np.arange(10, 90, 10)\n",
    "theta = 50.0\n",
    "print calc_integrand(dist, theta, dist_power_law_100_500_kde, alpha_1, alpha_2, s_crit)\n",
    "\n",
    "print calc_integral(theta, 0.0, 100.0, dist_power_law_100_500_kde, alpha_1, alpha_2, s_crit)\n",
    "print calc_theta_norm(10.0, 100.0, 100, 500, dist_power_law_100_500_kde, alpha_1, alpha_2, s_crit)\n",
    "\n",
    "print get_likelihood(alpha_1, alpha_2, s_crit, dist_power_law_100_kde, dist_power_law_500_kde, \\\n",
    "                     theta_power_law_region_1, theta_power_law_region_2)"
   ]
  },
  {
   "cell_type": "code",
   "execution_count": 87,
   "metadata": {
    "collapsed": false
   },
   "outputs": [
    {
     "name": "stdout",
     "output_type": "stream",
     "text": [
      "-1.0 -1.6 2000.0 11393.9016103\n",
      "-0.99999999 -1.6 2000.0 11393.90161\n",
      "-1.0 -1.59999999 2000.0 11393.9016068\n",
      "-1.0 -1.6 2000.00000001 11393.9016103\n",
      "-1e-05 -1e-05 2000.02437446 12550.52968\n",
      "-9.99e-06 -1e-05 2000.02437446 12550.5296809\n",
      "-1e-05 -9.99e-06 2000.02437446 12550.5296971\n",
      "-1e-05 -1e-05 2000.02437447 12550.52968\n",
      "-0.837489215955 -1.33998177045 2000.00396115 11341.2780004\n",
      "-0.837489205955 -1.33998177045 2000.00396115 11341.2780005\n",
      "-0.837489215955 -1.33998176045 2000.00396115 11341.278\n",
      "-0.837489215955 -1.33998177045 2000.00396116 11341.2780004\n",
      "-0.836865507963 -1.31109566509 2000.00428086 11340.6086036\n",
      "-0.836865497963 -1.31109566509 2000.00428086 11340.6086038\n",
      "-0.836865507963 -1.31109565509 2000.00428086 11340.6086036\n",
      "-0.836865507963 -1.31109566509 2000.00428087 11340.6086036\n",
      "-0.854581048466 -1.30512580187 2000.00422558 11340.3543233\n",
      "-0.854581038466 -1.30512580187 2000.00422558 11340.3543234\n",
      "-0.854581048466 -1.30512579187 2000.00422558 11340.3543233\n",
      "-0.854581048466 -1.30512580187 2000.00422559 11340.3543233\n",
      "-1.065575769 -1.2685470349 2000.00319907 11338.5556112\n",
      "-1.065575759 -1.2685470349 2000.00319907 11338.5556112\n",
      "-1.065575769 -1.2685470249 2000.00319907 11338.5556114\n",
      "-1.065575769 -1.2685470349 2000.00319908 11338.5556112\n",
      "-1.19274940438 -1.26540145935 2000.00236584 11337.9878153\n",
      "-1.19274939438 -1.26540145935 2000.00236584 11337.9878154\n",
      "-1.19274940438 -1.26540144935 2000.00236584 11337.9878155\n",
      "-1.19274940438 -1.26540145935 2000.00236585 11337.9878153\n",
      "-1.21498974847 -1.27331773895 2000.00212642 11337.9010777\n",
      "-1.21498973847 -1.27331773895 2000.00212642 11337.9010777\n",
      "-1.21498974847 -1.27331772895 2000.00212642 11337.9010777\n",
      "-1.21498974847 -1.27331773895 2000.00212643 11337.9010777\n",
      "-1.21010116624 -1.2753800789 2000.0021372 11337.898651\n",
      "-1.21010115624 -1.2753800789 2000.0021372 11337.898651\n",
      "-1.21010116624 -1.2753800689 2000.0021372 11337.898651\n",
      "-1.21010116624 -1.2753800789 2000.00213721 11337.898651\n",
      "-1.20962659249 -1.27546708087 2000.00214007 11337.8986252\n",
      "-1.20962658249 -1.27546708087 2000.00214007 11337.8986252\n",
      "-1.20962659249 -1.27546707087 2000.00214007 11337.8986252\n",
      "-1.20962659249 -1.27546708087 2000.00214008 11337.8986252\n",
      "-1.20961445096 -1.27546773318 2000.00214341 11337.8986252\n",
      "-1.20961444096 -1.27546773318 2000.00214341 11337.8986252\n",
      "-1.20961445096 -1.27546772318 2000.00214341 11337.8986252\n",
      "-1.20961445096 -1.27546773318 2000.00214342 11337.8986252\n",
      "      fun: 11337.898625211727\n",
      " hess_inv: <3x3 LbfgsInvHessProduct with dtype=float64>\n",
      "      jac: array([ 0.0001819,  0.0001819, -0.0007276])\n",
      "  message: 'CONVERGENCE: REL_REDUCTION_OF_F_<=_FACTR*EPSMCH'\n",
      "     nfev: 44\n",
      "      nit: 9\n",
      "   status: 0\n",
      "  success: True\n",
      "        x: array([ -1.20961445e+00,  -1.27546773e+00,   2.00000214e+03])\n"
     ]
    },
    {
     "name": "stderr",
     "output_type": "stream",
     "text": [
      "/Library/Python/2.7/site-packages/scipy/integrate/quadpack.py:357: IntegrationWarning: The maximum number of subdivisions (50) has been achieved.\n",
      "  If increasing the limit yields no improvement it is advised to analyze \n",
      "  the integrand in order to determine the difficulties.  If the position of a \n",
      "  local difficulty can be determined (singularity, discontinuity) one will \n",
      "  probably gain from splitting up the interval and calling the integrator \n",
      "  on the subranges.  Perhaps a special-purpose integrator should be used.\n",
      "  warnings.warn(msg, IntegrationWarning)\n"
     ]
    }
   ],
   "source": [
    "# Starting values\n",
    "alpha_1 = -1.0\n",
    "alpha_2 = -1.6\n",
    "s_crit = 2.0e3\n",
    "\n",
    "x0 = np.array([alpha_1, alpha_2, s_crit])\n",
    "args = dist_power_law_100_kde, dist_power_law_500_kde, theta_power_law_region_1, theta_power_law_region_2\n",
    "\n",
    "bounds = ([-3.0, -1.0e-5], [-3.0, -1.0e-5], [1.0, 1.0e5])\n",
    "print minimize(get_neg_log_likelihood, x0, args=args, method='L-BFGS-B', bounds=bounds)"
   ]
  },
  {
   "cell_type": "code",
   "execution_count": 88,
   "metadata": {
    "collapsed": false
   },
   "outputs": [
    {
     "name": "stdout",
     "output_type": "stream",
     "text": [
      "-1.0 -1.6 4000.0 11349.8233715\n",
      "-0.99999999 -1.6 4000.0 11349.8233711\n",
      "-1.0 -1.59999999 4000.0 11349.8233701\n",
      "-1.0 -1.6 4000.00000001 11349.8233715\n",
      "-1e-05 -1e-05 4000.00945874 12550.52968\n",
      "-9.99e-06 -1e-05 4000.00945874 12550.529683\n",
      "-1e-05 -9.99e-06 4000.00945874 12550.529695\n",
      "-1e-05 -1e-05 4000.00945875 12550.52968\n",
      "-0.907408726564 -1.45185340695 4000.00087581 11335.6508783\n",
      "-0.907408716564 -1.45185340695 4000.00087581 11335.6508784\n",
      "-0.907408726564 -1.45185339695 4000.00087581 11335.650878\n",
      "-0.907408726564 -1.45185340695 4000.00087582 11335.6508783\n",
      "-0.920128955756 -1.42048180313 4000.00097305 11334.9595329\n",
      "-0.920128945756 -1.42048180313 4000.00097305 11334.959533\n",
      "-0.920128955756 -1.42048179313 4000.00097305 11334.9595328\n",
      "-0.920128955756 -1.42048180313 4000.00097306 11334.9595329\n",
      "-0.965560577234 -1.38962900757 4000.00099264 11334.3235558\n",
      "-0.965560567234 -1.38962900757 4000.00099264 11334.3235559\n",
      "-0.965560577234 -1.38962899757 4000.00099264 11334.3235559\n",
      "-0.965560577234 -1.38962900757 4000.00099265 11334.3235558\n",
      "-1.03171315174 -1.36997602049 4000.00091022 11333.9149846\n",
      "-1.03171314174 -1.36997602049 4000.00091022 11333.9149846\n",
      "-1.03171315174 -1.36997601049 4000.00091022 11333.9149846\n",
      "-1.03171315174 -1.36997602049 4000.00091023 11333.9149846\n",
      "-1.04373304033 -1.3727020512 4000.00098771 11333.8896913\n",
      "-1.04373303033 -1.3727020512 4000.00098771 11333.8896913\n",
      "-1.04373304033 -1.3727020412 4000.00098771 11333.8896913\n",
      "-1.04373304033 -1.3727020512 4000.00098772 11333.8896913\n",
      "-1.04335609774 -1.37291516665 4000.0009922 11333.8896687\n",
      "-1.04335608774 -1.37291516665 4000.0009922 11333.8896687\n",
      "-1.04335609774 -1.37291515665 4000.0009922 11333.8896687\n",
      "-1.04335609774 -1.37291516665 4000.00099221 11333.8896687\n",
      "      fun: 11333.889668683309\n",
      " hess_inv: <3x3 LbfgsInvHessProduct with dtype=float64>\n",
      "      jac: array([-0.00109139,  0.00909495, -0.00272848])\n",
      "  message: 'CONVERGENCE: REL_REDUCTION_OF_F_<=_FACTR*EPSMCH'\n",
      "     nfev: 32\n",
      "      nit: 6\n",
      "   status: 0\n",
      "  success: True\n",
      "        x: array([ -1.04335610e+00,  -1.37291517e+00,   4.00000099e+03])\n"
     ]
    }
   ],
   "source": [
    "# Starting values\n",
    "alpha_1 = -1.0\n",
    "alpha_2 = -1.6\n",
    "s_crit = 4.0e3\n",
    "\n",
    "x0 = np.array([alpha_1, alpha_2, s_crit])\n",
    "args = dist_power_law_100_kde, dist_power_law_500_kde, theta_power_law_region_1, theta_power_law_region_2\n",
    "\n",
    "bounds = ([-3.0, -1.0e-5], [-3.0, -1.0e-5], [1.0, 1.0e5])\n",
    "print minimize(get_neg_log_likelihood, x0, args=args, method='L-BFGS-B', bounds=bounds)"
   ]
  },
  {
   "cell_type": "code",
   "execution_count": null,
   "metadata": {
    "collapsed": true
   },
   "outputs": [],
   "source": []
  },
  {
   "cell_type": "code",
   "execution_count": null,
   "metadata": {
    "collapsed": true
   },
   "outputs": [],
   "source": []
  },
  {
   "cell_type": "code",
   "execution_count": null,
   "metadata": {
    "collapsed": true
   },
   "outputs": [],
   "source": []
  },
  {
   "cell_type": "code",
   "execution_count": 3,
   "metadata": {
    "collapsed": true
   },
   "outputs": [],
   "source": [
    "model_s = np.load('../data/TGAS/model_s_dist_log_flat.npy')"
   ]
  },
  {
   "cell_type": "code",
   "execution_count": 5,
   "metadata": {
    "collapsed": false
   },
   "outputs": [
    {
     "name": "stdout",
     "output_type": "stream",
     "text": [
      "(2000, 3)\n"
     ]
    }
   ],
   "source": [
    "print model_s.shape\n"
   ]
  },
  {
   "cell_type": "code",
   "execution_count": 14,
   "metadata": {
    "collapsed": false
   },
   "outputs": [
    {
     "data": {
      "image/png": "[encoded data removed]",
      "text/plain": [
       "<matplotlib.figure.Figure at 0x111022a50>"
      ]
     },
     "metadata": {},
     "output_type": "display_data"
    }
   ],
   "source": [
    "s_all = 10**np.linspace(1,5.2, 100)\n",
    "\n",
    "p_s = np.zeros(len(s_all))\n",
    "\n",
    "for i in np.random.randint(len(model_s), size=10):\n",
    "    p = model_s[i]\n",
    "\n",
    "    for i, s in zip(np.arange(len(s_all)), s_all):\n",
    "        p_s[i] = get_P_s(s, p[0], p[1], p[2]) * s_all[i]\n",
    "    \n",
    "    plt.plot(s_all, p_s, alpha=0.5)\n",
    "\n",
    "    \n",
    "    \n",
    "    \n",
    "plt.yscale('log')\n",
    "plt.xscale('log')\n",
    "plt.show()"
   ]
  },
  {
   "cell_type": "code",
   "execution_count": 13,
   "metadata": {
    "collapsed": false
   },
   "outputs": [
    {
     "name": "stdout",
     "output_type": "stream",
     "text": [
      "[ -1.11401924e+00  -1.97201940e+00   1.15121535e+04]\n"
     ]
    }
   ],
   "source": []
  },
  {
   "cell_type": "code",
   "execution_count": null,
   "metadata": {
    "collapsed": true
   },
   "outputs": [],
   "source": []
  }
 ],
 "metadata": {
  "kernelspec": {
   "display_name": "Python 2",
   "language": "python",
   "name": "python2"
  },
  "language_info": {
   "codemirror_mode": {
    "name": "ipython",
    "version": 2
   },
   "file_extension": ".py",
   "mimetype": "text/x-python",
   "name": "python",
   "nbconvert_exporter": "python",
   "pygments_lexer": "ipython2",
   "version": "2.7.12"
  }
 },
 "nbformat": 4,
 "nbformat_minor": 0
}
