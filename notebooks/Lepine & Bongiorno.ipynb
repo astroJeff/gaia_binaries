{
 "cells": [
  {
   "cell_type": "markdown",
   "metadata": {},
   "source": [
    "# Test our method on the Lepin & Bongiorno proper motion catalog"
   ]
  },
  {
   "cell_type": "code",
   "execution_count": 2,
   "metadata": {
    "collapsed": false
   },
   "outputs": [],
   "source": [
    "import os\n",
    "import sys\n",
    "import time\n",
    "import glob\n",
    "import numpy as np\n",
    "import matplotlib.pyplot as plt\n",
    "from astropy.table import Table\n",
    "import corner\n",
    "\n",
    "\n",
    "%matplotlib inline"
   ]
  },
  {
   "cell_type": "code",
   "execution_count": 4,
   "metadata": {
    "collapsed": false
   },
   "outputs": [],
   "source": [
    "# Read in sample from Tycho-2 table\n",
    "\n",
    "filename = ('../data/LB07/slepine.LSPM_CATALOG.cat')\n",
    "t = Table.read(filename, format='cds', guess=False)\n",
    "#t = Table.read(filename, format='ascii.fixed_width', guess=False, delimiter=' ')"
   ]
  },
  {
   "cell_type": "code",
   "execution_count": 5,
   "metadata": {
    "collapsed": false
   },
   "outputs": [
    {
     "name": "stdout",
     "output_type": "stream",
     "text": [
      "['LSPM', 'LHS', 'NLTT', 'HIPP', 'TYCHO2', 'ASCC2.5', 'UCAC2', 'ORIGNAME', '2MASS', 'USNO-B1', 'RA', 'DE', 'rPM', 'rPMRA', 'rPMDE', 'PM', 'PMRA', 'PMDE', 'AFLAG', 'B', 'V', 'B_J', 'R_F', 'I_N', 'J', 'H', 'K_s', 'V_e', 'V-J_e']\n"
     ]
    }
   ],
   "source": [
    "print t.colnames"
   ]
  },
  {
   "cell_type": "code",
   "execution_count": null,
   "metadata": {
    "collapsed": false
   },
   "outputs": [],
   "source": []
  },
  {
   "cell_type": "code",
   "execution_count": 8,
   "metadata": {
    "collapsed": false
   },
   "outputs": [],
   "source": [
    "# Read in Hipparcos catalog for cross-matching\n",
    "\n",
    "filename = ('../data/hipparchos/hip2.dat')\n",
    "readme = ('../data/hipparchos/ReadMe')\n",
    "hip = Table.read(filename, format='cds', guess=False, readme=readme)"
   ]
  },
  {
   "cell_type": "code",
   "execution_count": 9,
   "metadata": {
    "collapsed": false
   },
   "outputs": [
    {
     "name": "stdout",
     "output_type": "stream",
     "text": [
      "['HIP', 'Sn', 'So', 'Nc', 'RArad', 'DErad', 'Plx', 'pmRA', 'pmDE', 'e_RArad', 'e_DErad', 'e_Plx', 'e_pmRA', 'e_pmDE', 'Ntr', 'F2', 'F1', 'var', 'ic', 'Hpmag', 'e_Hpmag', 'sHp', 'VA', 'B-V', 'e_B-V', 'V-I']\n"
     ]
    }
   ],
   "source": [
    "print hip.colnames"
   ]
  },
  {
   "cell_type": "code",
   "execution_count": null,
   "metadata": {
    "collapsed": false
   },
   "outputs": [],
   "source": []
  },
  {
   "cell_type": "code",
   "execution_count": 27,
   "metadata": {
    "collapsed": false
   },
   "outputs": [
    {
     "name": "stdout",
     "output_type": "stream",
     "text": [
      "    RA    \n",
      "   deg    \n",
      "----------\n",
      "        --\n",
      "  0.075275\n",
      "  0.129708\n",
      "  0.168501\n",
      "  0.018693\n",
      "  0.211799\n",
      "  0.219538\n",
      "   0.21118\n",
      "  0.015681\n",
      "  0.022462\n",
      "       ...\n",
      "359.874725\n",
      "359.869141\n",
      "359.956299\n",
      "  359.9505\n",
      "359.810455\n",
      "359.768982\n",
      "359.946198\n",
      "359.943542\n",
      "359.778229\n",
      "359.867126\n",
      "Length = 61976 rows\n"
     ]
    }
   ],
   "source": [
    "# Read in sample from LB07 table\n",
    "dtype = [('ID','<i8'),('hip','<i8'),('ra','<f8'),('dec','<f8'),('mu_ra','<f8'),('mu_dec','<f8'), \\\n",
    "     ('mu_ra_err','<f8'),('mu_dec_err','<f8'),('plx','<f8'),('plx_err','<f8')]\n",
    "\n",
    "t_tmp = t[np.where(t['HIPP']!= '______')]\n",
    "vals, indices = np.unique(t_tmp['HIPP'], return_index=True)\n",
    "t_hip = t_tmp[indices]\n",
    "\n",
    "\n",
    "\n",
    "LB07 = np.zeros(len(t_hip), dtype=dtype)\n",
    "\n",
    "LB07['ID'] = LB07_hip['LSPM']\n",
    "LB07['hip'] = LB07_hip['HIPP']\n",
    "LB07['ra'] = LB07_hip['RA']\n",
    "LB07['dec'] = LB07_hip['DEC']\n",
    "LB07['mu_ra'] = LB07_hip['']\n",
    "LB07['mu_ra_err'] = LB07_hip['pmra_error']\n",
    "LB07['mu_dec'] = LB07_hip['pmdec']\n",
    "LB07['mu_dec_err'] = LB07_hip['pmdec_error']\n",
    "LB07['plx'] = LB07_hip['parallax']\n",
    "LB07['plx_err'] = LB07_hip['parallax_error']\n",
    "\n",
    "LB07_full = np.append(LB07_full, LB07)"
   ]
  },
  {
   "cell_type": "code",
   "execution_count": null,
   "metadata": {
    "collapsed": true
   },
   "outputs": [],
   "source": []
  }
 ],
 "metadata": {
  "kernelspec": {
   "display_name": "Python 2",
   "language": "python",
   "name": "python2"
  },
  "language_info": {
   "codemirror_mode": {
    "name": "ipython",
    "version": 2
   },
   "file_extension": ".py",
   "mimetype": "text/x-python",
   "name": "python",
   "nbconvert_exporter": "python",
   "pygments_lexer": "ipython2",
   "version": "2.7.10"
  }
 },
 "nbformat": 4,
 "nbformat_minor": 0
}
