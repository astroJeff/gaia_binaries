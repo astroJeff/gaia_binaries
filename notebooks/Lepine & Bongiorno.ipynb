{
 "cells": [
  {
   "cell_type": "markdown",
   "metadata": {},
   "source": [
    "# Test our method on the Lepin & Bongiorno proper motion catalog"
   ]
  },
  {
   "cell_type": "code",
   "execution_count": 1,
   "metadata": {
    "collapsed": false
   },
   "outputs": [
    {
     "name": "stderr",
     "output_type": "stream",
     "text": [
      "/Library/Python/2.7/site-packages/IPython/kernel/__init__.py:13: ShimWarning: The `IPython.kernel` package has been deprecated. You should import from ipykernel or jupyter_client instead.\n",
      "  \"You should import from ipykernel or jupyter_client instead.\", ShimWarning)\n"
     ]
    }
   ],
   "source": [
    "import os\n",
    "import time\n",
    "import glob\n",
    "import numpy as np\n",
    "import matplotlib.pyplot as plt\n",
    "from astropy.table import Table\n",
    "import corner\n",
    "\n",
    "%matplotlib inline"
   ]
  },
  {
   "cell_type": "code",
   "execution_count": 26,
   "metadata": {
    "collapsed": false
   },
   "outputs": [],
   "source": [
    "# Read in sample from Tycho-2 table\n",
    "\n",
    "filename = ('../data/LB07/slepine.LSPM_CATALOG.cat')\n",
    "t = Table.read(filename, format='cds', guess=False)\n",
    "#t = Table.read(filename, format='ascii.fixed_width', guess=False, delimiter=' ')"
   ]
  },
  {
   "cell_type": "code",
   "execution_count": 27,
   "metadata": {
    "collapsed": false
   },
   "outputs": [
    {
     "name": "stdout",
     "output_type": "stream",
     "text": [
      "    RA    \n",
      "   deg    \n",
      "----------\n",
      "        --\n",
      "  0.075275\n",
      "  0.129708\n",
      "  0.168501\n",
      "  0.018693\n",
      "  0.211799\n",
      "  0.219538\n",
      "   0.21118\n",
      "  0.015681\n",
      "  0.022462\n",
      "       ...\n",
      "359.874725\n",
      "359.869141\n",
      "359.956299\n",
      "  359.9505\n",
      "359.810455\n",
      "359.768982\n",
      "359.946198\n",
      "359.943542\n",
      "359.778229\n",
      "359.867126\n",
      "Length = 61976 rows\n"
     ]
    }
   ],
   "source": []
  },
  {
   "cell_type": "code",
   "execution_count": null,
   "metadata": {
    "collapsed": true
   },
   "outputs": [],
   "source": []
  }
 ],
 "metadata": {
  "kernelspec": {
   "display_name": "Python 2",
   "language": "python",
   "name": "python2"
  },
  "language_info": {
   "codemirror_mode": {
    "name": "ipython",
    "version": 2
   },
   "file_extension": ".py",
   "mimetype": "text/x-python",
   "name": "python",
   "nbconvert_exporter": "python",
   "pygments_lexer": "ipython2",
   "version": "2.7.10"
  }
 },
 "nbformat": 4,
 "nbformat_minor": 0
}
